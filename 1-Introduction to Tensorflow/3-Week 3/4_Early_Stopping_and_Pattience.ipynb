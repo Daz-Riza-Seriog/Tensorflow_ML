{
  "cells": [
    {
      "cell_type": "markdown",
      "metadata": {
        "id": "view-in-github",
        "colab_type": "text"
      },
      "source": [
        "<a href=\"https://colab.research.google.com/github/Daz-Riza-Seriog/Tensorflow_ML/blob/main/1-Introduction%20to%20Tensorflow/3-Week%203/4_Early_Stopping_and_Pattience.ipynb\" target=\"_parent\"><img src=\"https://colab.research.google.com/assets/colab-badge.svg\" alt=\"Open In Colab\"/></a>"
      ]
    },
    {
      "cell_type": "markdown",
      "metadata": {
        "id": "76BwesOakQ4Y"
      },
      "source": [
        "**MODEL REGULARISATION**"
      ]
    },
    {
      "cell_type": "markdown",
      "metadata": {
        "id": "z-feOYozkW8c"
      },
      "source": [
        "Import Libraries"
      ]
    },
    {
      "cell_type": "code",
      "execution_count": null,
      "metadata": {
        "colab": {
          "base_uri": "https://localhost:8080/"
        },
        "id": "z-DBcmFykICe",
        "outputId": "4f8a8a9a-0308-4b9d-865f-cb1804421f29"
      },
      "outputs": [
        {
          "output_type": "stream",
          "name": "stdout",
          "text": [
            "2.9.2\n"
          ]
        }
      ],
      "source": [
        "import tensorflow as tf\n",
        "print(tf.__version__)"
      ]
    },
    {
      "cell_type": "markdown",
      "metadata": {
        "id": "2m9iLvxcrtvi"
      },
      "source": [
        "Load the Data - Diabetes"
      ]
    },
    {
      "cell_type": "code",
      "execution_count": null,
      "metadata": {
        "colab": {
          "base_uri": "https://localhost:8080/"
        },
        "id": "6vk4HG7mr16f",
        "outputId": "b9f27049-4dde-4daa-ea46-32c053a10e40"
      },
      "outputs": [
        {
          "output_type": "stream",
          "name": "stdout",
          "text": [
            ".. _diabetes_dataset:\n",
            "\n",
            "Diabetes dataset\n",
            "----------------\n",
            "\n",
            "Ten baseline variables, age, sex, body mass index, average blood\n",
            "pressure, and six blood serum measurements were obtained for each of n =\n",
            "442 diabetes patients, as well as the response of interest, a\n",
            "quantitative measure of disease progression one year after baseline.\n",
            "\n",
            "**Data Set Characteristics:**\n",
            "\n",
            "  :Number of Instances: 442\n",
            "\n",
            "  :Number of Attributes: First 10 columns are numeric predictive values\n",
            "\n",
            "  :Target: Column 11 is a quantitative measure of disease progression one year after baseline\n",
            "\n",
            "  :Attribute Information:\n",
            "      - age     age in years\n",
            "      - sex\n",
            "      - bmi     body mass index\n",
            "      - bp      average blood pressure\n",
            "      - s1      tc, total serum cholesterol\n",
            "      - s2      ldl, low-density lipoproteins\n",
            "      - s3      hdl, high-density lipoproteins\n",
            "      - s4      tch, total cholesterol / HDL\n",
            "      - s5      ltg, possibly log of serum triglycerides level\n",
            "      - s6      glu, blood sugar level\n",
            "\n",
            "Note: Each of these 10 feature variables have been mean centered and scaled by the standard deviation times `n_samples` (i.e. the sum of squares of each column totals 1).\n",
            "\n",
            "Source URL:\n",
            "https://www4.stat.ncsu.edu/~boos/var.select/diabetes.html\n",
            "\n",
            "For more information see:\n",
            "Bradley Efron, Trevor Hastie, Iain Johnstone and Robert Tibshirani (2004) \"Least Angle Regression,\" Annals of Statistics (with discussion), 407-499.\n",
            "(https://web.stanford.edu/~hastie/Papers/LARS/LeastAngle_2002.pdf)\n"
          ]
        }
      ],
      "source": [
        "from sklearn.datasets import load_diabetes\n",
        "\n",
        "diabetes_dataset = load_diabetes()\n",
        "print(diabetes_dataset[\"DESCR\"])"
      ]
    },
    {
      "cell_type": "markdown",
      "metadata": {
        "id": "TXZWXdcZs1Pn"
      },
      "source": [
        "look the Keys of the dataset"
      ]
    },
    {
      "cell_type": "code",
      "execution_count": null,
      "metadata": {
        "colab": {
          "base_uri": "https://localhost:8080/"
        },
        "id": "ZwjX-UKTs5E4",
        "outputId": "ced9eef3-3104-4d2d-8ebd-f453ff62d36f"
      },
      "outputs": [
        {
          "output_type": "stream",
          "name": "stdout",
          "text": [
            "dict_keys(['data', 'target', 'frame', 'DESCR', 'feature_names', 'data_filename', 'target_filename', 'data_module'])\n"
          ]
        }
      ],
      "source": [
        "print(diabetes_dataset.keys())"
      ]
    },
    {
      "cell_type": "markdown",
      "metadata": {
        "id": "9Kx5j971tHZS"
      },
      "source": [
        "Now we will load the data and the target"
      ]
    },
    {
      "cell_type": "code",
      "execution_count": null,
      "metadata": {
        "id": "pHm5iPIxtesK"
      },
      "outputs": [],
      "source": [
        "data = diabetes_dataset[\"data\"]\n",
        "target = diabetes_dataset[\"target\"]"
      ]
    },
    {
      "cell_type": "markdown",
      "metadata": {
        "id": "0WzLplNZtwMM"
      },
      "source": [
        "Look up the target array and see if is neccesarry normalize"
      ]
    },
    {
      "cell_type": "code",
      "execution_count": null,
      "metadata": {
        "colab": {
          "base_uri": "https://localhost:8080/"
        },
        "id": "RNbbVNV3t28k",
        "outputId": "fd586b39-64a9-45ad-9a7e-56d78178ed71"
      },
      "outputs": [
        {
          "output_type": "stream",
          "name": "stdout",
          "text": [
            "[151.  75. 141. 206. 135.  97. 138.  63. 110. 310. 101.  69. 179. 185.\n",
            " 118. 171. 166. 144.  97. 168.  68.  49.  68. 245. 184. 202. 137.  85.\n",
            " 131. 283. 129.  59. 341.  87.  65. 102. 265. 276. 252.  90. 100.  55.\n",
            "  61.  92. 259.  53. 190. 142.  75. 142. 155. 225.  59. 104. 182. 128.\n",
            "  52.  37. 170. 170.  61. 144.  52. 128.  71. 163. 150.  97. 160. 178.\n",
            "  48. 270. 202. 111.  85.  42. 170. 200. 252. 113. 143.  51.  52. 210.\n",
            "  65. 141.  55. 134.  42. 111.  98. 164.  48.  96.  90. 162. 150. 279.\n",
            "  92.  83. 128. 102. 302. 198.  95.  53. 134. 144. 232.  81. 104.  59.\n",
            " 246. 297. 258. 229. 275. 281. 179. 200. 200. 173. 180.  84. 121. 161.\n",
            "  99. 109. 115. 268. 274. 158. 107.  83. 103. 272.  85. 280. 336. 281.\n",
            " 118. 317. 235.  60. 174. 259. 178. 128.  96. 126. 288.  88. 292.  71.\n",
            " 197. 186.  25.  84.  96. 195.  53. 217. 172. 131. 214.  59.  70. 220.\n",
            " 268. 152.  47.  74. 295. 101. 151. 127. 237. 225.  81. 151. 107.  64.\n",
            " 138. 185. 265. 101. 137. 143. 141.  79. 292. 178.  91. 116.  86. 122.\n",
            "  72. 129. 142.  90. 158.  39. 196. 222. 277.  99. 196. 202. 155.  77.\n",
            " 191.  70.  73.  49.  65. 263. 248. 296. 214. 185.  78.  93. 252. 150.\n",
            "  77. 208.  77. 108. 160.  53. 220. 154. 259.  90. 246. 124.  67.  72.\n",
            " 257. 262. 275. 177.  71.  47. 187. 125.  78.  51. 258. 215. 303. 243.\n",
            "  91. 150. 310. 153. 346.  63.  89.  50.  39. 103. 308. 116. 145.  74.\n",
            "  45. 115. 264.  87. 202. 127. 182. 241.  66.  94. 283.  64. 102. 200.\n",
            " 265.  94. 230. 181. 156. 233.  60. 219.  80.  68. 332. 248.  84. 200.\n",
            "  55.  85.  89.  31. 129.  83. 275.  65. 198. 236. 253. 124.  44. 172.\n",
            " 114. 142. 109. 180. 144. 163. 147.  97. 220. 190. 109. 191. 122. 230.\n",
            " 242. 248. 249. 192. 131. 237.  78. 135. 244. 199. 270. 164.  72.  96.\n",
            " 306.  91. 214.  95. 216. 263. 178. 113. 200. 139. 139.  88. 148.  88.\n",
            " 243.  71.  77. 109. 272.  60.  54. 221.  90. 311. 281. 182. 321.  58.\n",
            " 262. 206. 233. 242. 123. 167.  63. 197.  71. 168. 140. 217. 121. 235.\n",
            " 245.  40.  52. 104. 132.  88.  69. 219.  72. 201. 110.  51. 277.  63.\n",
            " 118.  69. 273. 258.  43. 198. 242. 232. 175.  93. 168. 275. 293. 281.\n",
            "  72. 140. 189. 181. 209. 136. 261. 113. 131. 174. 257.  55.  84.  42.\n",
            " 146. 212. 233.  91. 111. 152. 120.  67. 310.  94. 183.  66. 173.  72.\n",
            "  49.  64.  48. 178. 104. 132. 220.  57.]\n"
          ]
        }
      ],
      "source": [
        "print(target)"
      ]
    },
    {
      "cell_type": "markdown",
      "metadata": {
        "id": "d_VJv_n5t6nK"
      },
      "source": [
        "Normalize the target"
      ]
    },
    {
      "cell_type": "code",
      "execution_count": null,
      "metadata": {
        "colab": {
          "base_uri": "https://localhost:8080/"
        },
        "id": "Nr9lD8uIt8gs",
        "outputId": "41e4a9f3-4503-4162-a67d-49c2a26d1353"
      },
      "outputs": [
        {
          "output_type": "stream",
          "name": "stdout",
          "text": [
            "[-1.47194752e-02 -1.00165882e+00 -1.44579915e-01  6.99512942e-01\n",
            " -2.22496178e-01 -7.15965848e-01 -1.83538046e-01 -1.15749134e+00\n",
            " -5.47147277e-01  2.05006151e+00 -6.64021672e-01 -1.07957508e+00\n",
            "  3.48889755e-01  4.26806019e-01 -4.43258925e-01  2.45001404e-01\n",
            "  1.80071184e-01 -1.05621783e-01 -7.15965848e-01  2.06043272e-01\n",
            " -1.09256112e+00 -1.33929596e+00 -1.09256112e+00  1.20596866e+00\n",
            "  4.13819975e-01  6.47568766e-01 -1.96524090e-01 -8.71798376e-01\n",
            " -2.74440354e-01  1.69943833e+00 -3.00412442e-01 -1.20943552e+00\n",
            "  2.45262887e+00 -8.45826288e-01 -1.13151925e+00 -6.51035629e-01\n",
            "  1.46568953e+00  1.60853602e+00  1.29687096e+00 -8.06868156e-01\n",
            " -6.77007716e-01 -1.26137969e+00 -1.18346343e+00 -7.80896068e-01\n",
            "  1.38777327e+00 -1.28735178e+00  4.91736239e-01 -1.31593871e-01\n",
            " -1.00165882e+00 -1.31593871e-01  3.72247006e-02  9.46247777e-01\n",
            " -1.20943552e+00 -6.25063541e-01  3.87847887e-01 -3.13398486e-01\n",
            " -1.30033783e+00 -1.49512849e+00  2.32015360e-01  2.32015360e-01\n",
            " -1.18346343e+00 -1.05621783e-01 -1.30033783e+00 -3.13398486e-01\n",
            " -1.05360299e+00  1.41113052e-01 -2.77055191e-02 -7.15965848e-01\n",
            "  1.02154920e-01  3.35903711e-01 -1.35228200e+00  1.53061975e+00\n",
            "  6.47568766e-01 -5.34161233e-01 -8.71798376e-01 -1.43019827e+00\n",
            "  2.32015360e-01  6.21596678e-01  1.29687096e+00 -5.08189145e-01\n",
            " -1.18607827e-01 -1.31332387e+00 -1.30033783e+00  7.51457118e-01\n",
            " -1.13151925e+00 -1.44579915e-01 -1.26137969e+00 -2.35482222e-01\n",
            " -1.43019827e+00 -5.34161233e-01 -7.02979804e-01  1.54099096e-01\n",
            " -1.35228200e+00 -7.28951892e-01 -8.06868156e-01  1.28127008e-01\n",
            " -2.77055191e-02  1.64749415e+00 -7.80896068e-01 -8.97770464e-01\n",
            " -3.13398486e-01 -6.51035629e-01  1.94617316e+00  5.95624590e-01\n",
            " -7.41937936e-01 -1.28735178e+00 -2.35482222e-01 -1.05621783e-01\n",
            "  1.03715008e+00 -9.23742551e-01 -6.25063541e-01 -1.20943552e+00\n",
            "  1.21895470e+00  1.88124294e+00  1.37478723e+00  9.98191953e-01\n",
            "  1.59554997e+00  1.67346624e+00  3.48889755e-01  6.21596678e-01\n",
            "  6.21596678e-01  2.70973492e-01  3.61875799e-01 -8.84784420e-01\n",
            " -4.04300794e-01  1.15140964e-01 -6.89993760e-01 -5.60133321e-01\n",
            " -4.82217057e-01  1.50464767e+00  1.58256393e+00  7.61828325e-02\n",
            " -5.86105409e-01 -8.97770464e-01 -6.38049585e-01  1.55659184e+00\n",
            " -8.71798376e-01  1.66048019e+00  2.38769865e+00  1.67346624e+00\n",
            " -4.43258925e-01  2.14096382e+00  1.07610822e+00 -1.19644947e+00\n",
            "  2.83959536e-01  1.38777327e+00  3.35903711e-01 -3.13398486e-01\n",
            " -7.28951892e-01 -3.39370574e-01  1.76436855e+00 -8.32840244e-01\n",
            "  1.81631272e+00 -1.05360299e+00  5.82638546e-01  4.39792063e-01\n",
            " -1.65096101e+00 -8.84784420e-01 -7.28951892e-01  5.56666458e-01\n",
            " -1.28735178e+00  8.42359425e-01  2.57987448e-01 -2.74440354e-01\n",
            "  8.03401293e-01 -1.20943552e+00 -1.06658903e+00  8.81317557e-01\n",
            "  1.50464767e+00 -1.73343121e-03 -1.36526805e+00 -1.01464486e+00\n",
            "  1.85527085e+00 -6.64021672e-01 -1.47194752e-02 -3.26384530e-01\n",
            "  1.10208030e+00  9.46247777e-01 -9.23742551e-01 -1.47194752e-02\n",
            " -5.86105409e-01 -1.14450530e+00 -1.83538046e-01  4.26806019e-01\n",
            "  1.46568953e+00 -6.64021672e-01 -1.96524090e-01 -1.18607827e-01\n",
            " -1.44579915e-01 -9.49714639e-01  1.81631272e+00  3.35903711e-01\n",
            " -7.93882112e-01 -4.69231013e-01 -8.58812332e-01 -3.91314750e-01\n",
            " -1.04061695e+00 -3.00412442e-01 -1.31593871e-01 -8.06868156e-01\n",
            "  7.61828325e-02 -1.46915640e+00  5.69652502e-01  9.07289645e-01\n",
            "  1.62152206e+00 -6.89993760e-01  5.69652502e-01  6.47568766e-01\n",
            "  3.72247006e-02 -9.75686727e-01  5.04722283e-01 -1.06658903e+00\n",
            " -1.02763090e+00 -1.33929596e+00 -1.13151925e+00  1.43971745e+00\n",
            "  1.24492679e+00  1.86825690e+00  8.03401293e-01  4.26806019e-01\n",
            " -9.62700683e-01 -7.67910024e-01  1.29687096e+00 -2.77055191e-02\n",
            " -9.75686727e-01  7.25485030e-01 -9.75686727e-01 -5.73119365e-01\n",
            "  1.02154920e-01 -1.28735178e+00  8.81317557e-01  2.42386567e-02\n",
            "  1.38777327e+00 -8.06868156e-01  1.21895470e+00 -3.65342662e-01\n",
            " -1.10554717e+00 -1.04061695e+00  1.36180118e+00  1.42673140e+00\n",
            "  1.59554997e+00  3.22917667e-01 -1.05360299e+00 -1.36526805e+00\n",
            "  4.52778107e-01 -3.52356618e-01 -9.62700683e-01 -1.31332387e+00\n",
            "  1.37478723e+00  8.16387337e-01  1.95915920e+00  1.17999657e+00\n",
            " -7.93882112e-01 -2.77055191e-02  2.05006151e+00  1.12526127e-02\n",
            "  2.51755909e+00 -1.15749134e+00 -8.19854200e-01 -1.32630991e+00\n",
            " -1.46915640e+00 -6.38049585e-01  2.02408942e+00 -4.69231013e-01\n",
            " -9.26357388e-02 -1.01464486e+00 -1.39124013e+00 -4.82217057e-01\n",
            "  1.45270349e+00 -8.45826288e-01  6.47568766e-01 -3.26384530e-01\n",
            "  3.87847887e-01  1.15402448e+00 -1.11853321e+00 -7.54923980e-01\n",
            "  1.69943833e+00 -1.14450530e+00 -6.51035629e-01  6.21596678e-01\n",
            "  1.46568953e+00 -7.54923980e-01  1.01117800e+00  3.74861843e-01\n",
            "  5.02107446e-02  1.05013613e+00 -1.19644947e+00  8.68331513e-01\n",
            " -9.36728595e-01 -1.09256112e+00  2.33575448e+00  1.24492679e+00\n",
            " -8.84784420e-01  6.21596678e-01 -1.26137969e+00 -8.71798376e-01\n",
            " -8.19854200e-01 -1.57304475e+00 -3.00412442e-01 -8.97770464e-01\n",
            "  1.59554997e+00 -1.13151925e+00  5.95624590e-01  1.08909426e+00\n",
            "  1.30985701e+00 -3.65342662e-01 -1.40422618e+00  2.57987448e-01\n",
            " -4.95203101e-01 -1.31593871e-01 -5.60133321e-01  3.61875799e-01\n",
            " -1.05621783e-01  1.41113052e-01 -6.66636509e-02 -7.15965848e-01\n",
            "  8.81317557e-01  4.91736239e-01 -5.60133321e-01  5.04722283e-01\n",
            " -3.91314750e-01  1.01117800e+00  1.16701052e+00  1.24492679e+00\n",
            "  1.25791283e+00  5.17708327e-01 -2.74440354e-01  1.10208030e+00\n",
            " -9.62700683e-01 -2.22496178e-01  1.19298261e+00  6.08610634e-01\n",
            "  1.53061975e+00  1.54099096e-01 -1.04061695e+00 -7.28951892e-01\n",
            "  1.99811734e+00 -7.93882112e-01  8.03401293e-01 -7.41937936e-01\n",
            "  8.29373381e-01  1.43971745e+00  3.35903711e-01 -5.08189145e-01\n",
            "  6.21596678e-01 -1.70552003e-01 -1.70552003e-01 -8.32840244e-01\n",
            " -5.36776070e-02 -8.32840244e-01  1.17999657e+00 -1.05360299e+00\n",
            " -9.75686727e-01 -5.60133321e-01  1.55659184e+00 -1.19644947e+00\n",
            " -1.27436574e+00  8.94303601e-01 -8.06868156e-01  2.06304756e+00\n",
            "  1.67346624e+00  3.87847887e-01  2.19290800e+00 -1.22242156e+00\n",
            "  1.42673140e+00  6.99512942e-01  1.05013613e+00  1.16701052e+00\n",
            " -3.78328706e-01  1.93057228e-01 -1.15749134e+00  5.82638546e-01\n",
            " -1.05360299e+00  2.06043272e-01 -1.57565959e-01  8.42359425e-01\n",
            " -4.04300794e-01  1.07610822e+00  1.20596866e+00 -1.45617035e+00\n",
            " -1.30033783e+00 -6.25063541e-01 -2.61454310e-01 -8.32840244e-01\n",
            " -1.07957508e+00  8.68331513e-01 -1.04061695e+00  6.34582722e-01\n",
            " -5.47147277e-01 -1.31332387e+00  1.62152206e+00 -1.15749134e+00\n",
            " -4.43258925e-01 -1.07957508e+00  1.56957789e+00  1.37478723e+00\n",
            " -1.41721222e+00  5.95624590e-01  1.16701052e+00  1.03715008e+00\n",
            "  2.96945580e-01 -7.67910024e-01  2.06043272e-01  1.59554997e+00\n",
            "  1.82929877e+00  1.67346624e+00 -1.04061695e+00 -1.57565959e-01\n",
            "  4.78750195e-01  3.74861843e-01  7.38471074e-01 -2.09510134e-01\n",
            "  1.41374536e+00 -5.08189145e-01 -2.74440354e-01  2.83959536e-01\n",
            "  1.36180118e+00 -1.26137969e+00 -8.84784420e-01 -1.43019827e+00\n",
            " -7.96496949e-02  7.77429206e-01  1.05013613e+00 -7.93882112e-01\n",
            " -5.34161233e-01 -1.73343121e-03 -4.17286837e-01 -1.10554717e+00\n",
            "  2.05006151e+00 -7.54923980e-01  4.00833931e-01 -1.11853321e+00\n",
            "  2.70973492e-01 -1.04061695e+00 -1.33929596e+00 -1.14450530e+00\n",
            " -1.35228200e+00  3.35903711e-01 -6.25063541e-01 -2.61454310e-01\n",
            "  8.81317557e-01 -1.23540761e+00]\n"
          ]
        }
      ],
      "source": [
        "target = (target-target.mean())/target.std()\n",
        "print(target)"
      ]
    },
    {
      "cell_type": "markdown",
      "metadata": {
        "id": "IFTyZO8Luulr"
      },
      "source": [
        "Split train and test sets using sklearn package"
      ]
    },
    {
      "cell_type": "code",
      "execution_count": null,
      "metadata": {
        "colab": {
          "base_uri": "https://localhost:8080/"
        },
        "id": "9Kwj4ionuydd",
        "outputId": "0f25185e-4cfc-40cd-9fe0-5481b3c6213a"
      },
      "outputs": [
        {
          "output_type": "stream",
          "name": "stdout",
          "text": [
            "(397, 10)\n",
            "(45, 10)\n",
            "(397,)\n",
            "(45,)\n"
          ]
        }
      ],
      "source": [
        "from sklearn.model_selection import train_test_split\n",
        "\n",
        "train_data, test_data,train_targets, test_targets = train_test_split(data, target,test_size=0.1)\n",
        "\n",
        "# look the shape of the train and test\n",
        "print(train_data.shape)\n",
        "print(test_data.shape)\n",
        "print(train_targets.shape)\n",
        "print(test_targets.shape)"
      ]
    },
    {
      "cell_type": "markdown",
      "source": [
        "**EARLY STOPPIN/PATTIENCE**"
      ],
      "metadata": {
        "id": "yqttQzjzo9zS"
      }
    },
    {
      "cell_type": "markdown",
      "source": [
        "Create a unregularized model"
      ],
      "metadata": {
        "id": "iHSMD3GJr_JM"
      }
    },
    {
      "cell_type": "code",
      "source": [
        "# Create the model\n",
        "\n",
        "def get_model():\n",
        "  Sequential = tf.keras.models.Sequential\n",
        "  Dense = tf.keras.layers.Dense\n",
        "\n",
        "  model = Sequential([\n",
        "      Dense(128,activation=\"relu\", input_shape=(train_data.shape[1],)),\n",
        "      Dense(128,activation=\"relu\"),\n",
        "      Dense(128,activation=\"relu\"),\n",
        "      Dense(128,activation=\"relu\"),\n",
        "      Dense(128,activation=\"relu\"),\n",
        "      Dense(128,activation=\"relu\"),\n",
        "      Dense(1)\n",
        "  ])\n",
        "  return model\n",
        "\n",
        "model=get_model()"
      ],
      "metadata": {
        "id": "j6DgPYJEE4YI"
      },
      "execution_count": null,
      "outputs": []
    },
    {
      "cell_type": "markdown",
      "source": [
        "Create Regularized Model"
      ],
      "metadata": {
        "id": "7ArhCX_FE9jv"
      }
    },
    {
      "cell_type": "code",
      "source": [
        "def get_regularised_model(wd,rate):\n",
        "  Sequential = tf.keras.models.Sequential\n",
        "  Dense = tf.keras.layers.Dense\n",
        "  Dropout = tf.keras.layers.Dropout\n",
        "  regularizers = tf.keras.regularizers\n",
        "  model = Sequential([\n",
        "      Dense(128, kernel_regularizer=regularizers.l2(wd), activation=\"relu\", input_shape=(train_data.shape[1],)),\n",
        "      Dropout(rate),\n",
        "      Dense(128, kernel_regularizer=regularizers.l2(wd),activation=\"relu\"),\n",
        "      Dropout(rate),\n",
        "      Dense(128, kernel_regularizer=regularizers.l2(wd),activation=\"relu\"),\n",
        "      Dropout(rate),\n",
        "      Dense(128, kernel_regularizer=regularizers.l2(wd),activation=\"relu\"),\n",
        "      Dropout(rate),\n",
        "      Dense(128, kernel_regularizer=regularizers.l2(wd),activation=\"relu\"),\n",
        "      Dropout(rate),\n",
        "      Dense(128, kernel_regularizer=regularizers.l2(wd),activation=\"relu\"),\n",
        "      Dropout(rate),\n",
        "      Dense(1)\n",
        "  ])\n",
        "\n",
        "  return model"
      ],
      "metadata": {
        "id": "V0Js732CFCdv"
      },
      "execution_count": null,
      "outputs": []
    },
    {
      "cell_type": "markdown",
      "source": [
        "Example training Callback"
      ],
      "metadata": {
        "id": "S5c1F0UkpDz8"
      }
    },
    {
      "cell_type": "code",
      "source": [
        "Callback = tf.keras.callbacks.Callback\n",
        "\n",
        "class TrainingCallback(Callback):\n",
        "\n",
        "  def on_train_begin(self, logs=None):\n",
        "    print(\"Starting training....\")\n",
        "  \n",
        "  def on_epoch_begin(self, epoch, logs=None):\n",
        "    print(f\"Starting epoch {epoch}\")\n",
        "\n",
        "  def on_train_batch_begin(self, batch, logs=None):\n",
        "    print(f\"Training: Starting batch {batch}\")\n",
        "\n",
        "  def on_train_batch_end(self, batch, logs=None):\n",
        "    print(f\"Training: Finished batch {batch}\")\n",
        "\n",
        "  def on_epoch_end(self, epoch, logs=None):\n",
        "    print(f\"Finished epoch {epoch}\")\n",
        "\n",
        "  def on_train_end(self, logs=None):\n",
        "    print(\"Finished training!\")\n"
      ],
      "metadata": {
        "id": "_pNxEzgRpGgV"
      },
      "execution_count": null,
      "outputs": []
    },
    {
      "cell_type": "markdown",
      "source": [
        "You could use to test instead of train"
      ],
      "metadata": {
        "id": "5XtfgziTtfZw"
      }
    },
    {
      "cell_type": "code",
      "source": [
        "Callback = tf.keras.callbacks.Callback\n",
        "\n",
        "class TestingCallback(Callback):\n",
        "\n",
        "  def on_test_begin(self, logs=None):\n",
        "    print(\"Starting testing....\")\n",
        "  \n",
        "  def on_test_batch_begin(self, batch, logs=None):\n",
        "    print(f\"Testing: Starting batch {batch}\")\n",
        "\n",
        "  def on_test_batch_end(self, batch, logs=None):\n",
        "    print(f\"Testing: Finished batch {batch}\")\n",
        "\n",
        "  def on_test_end(self, logs=None):\n",
        "    print(\"Finished testing!\")"
      ],
      "metadata": {
        "id": "2nQMemULtqSR"
      },
      "execution_count": null,
      "outputs": []
    },
    {
      "cell_type": "markdown",
      "source": [
        "You could create a callback in Predict instead of the above"
      ],
      "metadata": {
        "id": "oHIoWqyputYA"
      }
    },
    {
      "cell_type": "code",
      "source": [
        "Callback = tf.keras.callbacks.Callback\n",
        "\n",
        "class PredictionCallback(Callback):\n",
        "\n",
        "  def on_predict_begin(self, logs=None):\n",
        "    print(\"Starting prediction....\")\n",
        "  \n",
        "  def on_predict_batch_begin(self, batch, logs=None):\n",
        "    print(f\"Prediction: Starting batch {batch}\")\n",
        "\n",
        "  def on_predic_batch_end(self, batch, logs=None):\n",
        "    print(f\"Prediction: Finished batch {batch}\")\n",
        "\n",
        "  def on_predict_end(self, logs=None):\n",
        "    print(\"Finished prediction!\")"
      ],
      "metadata": {
        "id": "MyKXS4beu0Dz"
      },
      "execution_count": null,
      "outputs": []
    },
    {
      "cell_type": "markdown",
      "source": [
        "Compile model unregularized"
      ],
      "metadata": {
        "id": "sTulejx5rkst"
      }
    },
    {
      "cell_type": "code",
      "source": [
        "unregularized_model = get_model()"
      ],
      "metadata": {
        "id": "ry-nMTWfrmTc"
      },
      "execution_count": null,
      "outputs": []
    },
    {
      "cell_type": "markdown",
      "source": [
        "Compile the model"
      ],
      "metadata": {
        "id": "RR1-95sKsTfv"
      }
    },
    {
      "cell_type": "code",
      "source": [
        "unregularized_model.compile(optimizer=\"adam\", loss=\"mse\")"
      ],
      "metadata": {
        "id": "HQXFuVPAsVbd"
      },
      "execution_count": null,
      "outputs": []
    },
    {
      "cell_type": "markdown",
      "source": [
        "Train the model with the Callback for Unregularized"
      ],
      "metadata": {
        "id": "QYaPpyd-soBP"
      }
    },
    {
      "cell_type": "code",
      "source": [
        "unreg_history = unregularized_model.fit(train_data,train_targets, epochs=100,validation_split=0.15, batch_size=64, callbacks=[tf.keras.callbacks.EarlyStopping(patience=10)])"
      ],
      "metadata": {
        "colab": {
          "base_uri": "https://localhost:8080/"
        },
        "id": "tV4eZdIFsyEM",
        "outputId": "0bed448f-35b1-44b3-8f9d-b98481a7bdf9"
      },
      "execution_count": null,
      "outputs": [
        {
          "output_type": "stream",
          "name": "stdout",
          "text": [
            "Epoch 1/100\n",
            "6/6 [==============================] - 0s 18ms/step - loss: 0.5784 - val_loss: 0.5832\n",
            "Epoch 2/100\n",
            "6/6 [==============================] - 0s 10ms/step - loss: 0.5342 - val_loss: 0.4790\n",
            "Epoch 3/100\n",
            "6/6 [==============================] - 0s 10ms/step - loss: 0.4987 - val_loss: 0.4950\n",
            "Epoch 4/100\n",
            "6/6 [==============================] - 0s 9ms/step - loss: 0.4837 - val_loss: 0.4718\n",
            "Epoch 5/100\n",
            "6/6 [==============================] - 0s 13ms/step - loss: 0.4557 - val_loss: 0.4804\n",
            "Epoch 6/100\n",
            "6/6 [==============================] - 0s 10ms/step - loss: 0.4432 - val_loss: 0.4726\n",
            "Epoch 7/100\n",
            "6/6 [==============================] - 0s 9ms/step - loss: 0.4639 - val_loss: 0.4653\n",
            "Epoch 8/100\n",
            "6/6 [==============================] - 0s 12ms/step - loss: 0.4352 - val_loss: 0.4557\n",
            "Epoch 9/100\n",
            "6/6 [==============================] - 0s 9ms/step - loss: 0.4257 - val_loss: 0.4567\n",
            "Epoch 10/100\n",
            "6/6 [==============================] - 0s 12ms/step - loss: 0.4127 - val_loss: 0.4626\n",
            "Epoch 11/100\n",
            "6/6 [==============================] - 0s 15ms/step - loss: 0.4466 - val_loss: 0.4757\n",
            "Epoch 12/100\n",
            "6/6 [==============================] - 0s 12ms/step - loss: 0.4039 - val_loss: 0.4579\n",
            "Epoch 13/100\n",
            "6/6 [==============================] - 0s 13ms/step - loss: 0.4029 - val_loss: 0.4561\n",
            "Epoch 14/100\n",
            "6/6 [==============================] - 0s 10ms/step - loss: 0.3862 - val_loss: 0.4545\n",
            "Epoch 15/100\n",
            "6/6 [==============================] - 0s 10ms/step - loss: 0.3810 - val_loss: 0.5148\n",
            "Epoch 16/100\n",
            "6/6 [==============================] - 0s 12ms/step - loss: 0.4097 - val_loss: 0.4553\n",
            "Epoch 17/100\n",
            "6/6 [==============================] - 0s 13ms/step - loss: 0.3890 - val_loss: 0.4599\n",
            "Epoch 18/100\n",
            "6/6 [==============================] - 0s 12ms/step - loss: 0.3908 - val_loss: 0.4901\n",
            "Epoch 19/100\n",
            "6/6 [==============================] - 0s 12ms/step - loss: 0.3865 - val_loss: 0.4904\n",
            "Epoch 20/100\n",
            "6/6 [==============================] - 0s 12ms/step - loss: 0.3989 - val_loss: 0.5653\n",
            "Epoch 21/100\n",
            "6/6 [==============================] - 0s 11ms/step - loss: 0.4063 - val_loss: 0.5826\n",
            "Epoch 22/100\n",
            "6/6 [==============================] - 0s 13ms/step - loss: 0.4651 - val_loss: 0.5367\n",
            "Epoch 23/100\n",
            "6/6 [==============================] - 0s 16ms/step - loss: 0.4156 - val_loss: 0.4788\n",
            "Epoch 24/100\n",
            "6/6 [==============================] - 0s 14ms/step - loss: 0.3829 - val_loss: 0.5000\n"
          ]
        }
      ]
    },
    {
      "cell_type": "markdown",
      "source": [
        "You can evaluate for Unregularized\n",
        "\n",
        "\n"
      ],
      "metadata": {
        "id": "qoA311Q_uVcI"
      }
    },
    {
      "cell_type": "code",
      "source": [
        "unregularized_model.evaluate(test_data,test_targets)"
      ],
      "metadata": {
        "colab": {
          "base_uri": "https://localhost:8080/"
        },
        "id": "O4IcRpJ8uYcX",
        "outputId": "c234306f-2d7d-4321-d16c-2d4ef1052a43"
      },
      "execution_count": null,
      "outputs": [
        {
          "output_type": "stream",
          "name": "stdout",
          "text": [
            "2/2 [==============================] - 0s 6ms/step - loss: 0.5665\n"
          ]
        },
        {
          "output_type": "execute_result",
          "data": {
            "text/plain": [
              "0.5665018558502197"
            ]
          },
          "metadata": {},
          "execution_count": 40
        }
      ]
    },
    {
      "cell_type": "markdown",
      "source": [
        "Compile model Regularized"
      ],
      "metadata": {
        "id": "mMdGDNYyFeoC"
      }
    },
    {
      "cell_type": "code",
      "source": [
        "regularised_model = get_regularised_model(1e-8,0.2)\n",
        "regularised_model.compile(optimizer=\"adam\",loss=\"mse\")\n",
        "reg_history = regularised_model.fit(train_data,train_targets,epochs=100,validation_split=0.15,batch_size=64,callbacks=[tf.keras.callbacks.EarlyStopping(patience=10)])"
      ],
      "metadata": {
        "colab": {
          "base_uri": "https://localhost:8080/"
        },
        "id": "JJ63oPjMFl-I",
        "outputId": "48ac3805-cafc-4f80-a984-74118ac3f34e"
      },
      "execution_count": null,
      "outputs": [
        {
          "output_type": "stream",
          "name": "stdout",
          "text": [
            "Epoch 1/100\n",
            "6/6 [==============================] - 2s 96ms/step - loss: 0.9695 - val_loss: 0.9867\n",
            "Epoch 2/100\n",
            "6/6 [==============================] - 0s 26ms/step - loss: 0.9396 - val_loss: 0.9092\n",
            "Epoch 3/100\n",
            "6/6 [==============================] - 0s 20ms/step - loss: 0.8494 - val_loss: 0.7413\n",
            "Epoch 4/100\n",
            "6/6 [==============================] - 0s 25ms/step - loss: 0.6686 - val_loss: 0.6290\n",
            "Epoch 5/100\n",
            "6/6 [==============================] - 0s 19ms/step - loss: 0.6253 - val_loss: 0.5876\n",
            "Epoch 6/100\n",
            "6/6 [==============================] - 0s 27ms/step - loss: 0.6258 - val_loss: 0.5324\n",
            "Epoch 7/100\n",
            "6/6 [==============================] - 0s 26ms/step - loss: 0.5819 - val_loss: 0.5348\n",
            "Epoch 8/100\n",
            "6/6 [==============================] - 0s 26ms/step - loss: 0.5503 - val_loss: 0.5351\n",
            "Epoch 9/100\n",
            "6/6 [==============================] - 0s 27ms/step - loss: 0.5252 - val_loss: 0.5399\n",
            "Epoch 10/100\n",
            "6/6 [==============================] - 0s 21ms/step - loss: 0.5464 - val_loss: 0.5251\n",
            "Epoch 11/100\n",
            "6/6 [==============================] - 0s 25ms/step - loss: 0.5593 - val_loss: 0.5148\n",
            "Epoch 12/100\n",
            "6/6 [==============================] - 0s 26ms/step - loss: 0.5407 - val_loss: 0.5194\n",
            "Epoch 13/100\n",
            "6/6 [==============================] - 0s 28ms/step - loss: 0.5276 - val_loss: 0.5099\n",
            "Epoch 14/100\n",
            "6/6 [==============================] - 0s 26ms/step - loss: 0.5099 - val_loss: 0.5141\n",
            "Epoch 15/100\n",
            "6/6 [==============================] - 0s 25ms/step - loss: 0.5076 - val_loss: 0.5096\n",
            "Epoch 16/100\n",
            "6/6 [==============================] - 0s 26ms/step - loss: 0.5099 - val_loss: 0.5024\n",
            "Epoch 17/100\n",
            "6/6 [==============================] - 0s 17ms/step - loss: 0.4875 - val_loss: 0.5092\n",
            "Epoch 18/100\n",
            "6/6 [==============================] - 0s 18ms/step - loss: 0.4793 - val_loss: 0.4996\n",
            "Epoch 19/100\n",
            "6/6 [==============================] - 0s 21ms/step - loss: 0.4824 - val_loss: 0.5029\n",
            "Epoch 20/100\n",
            "6/6 [==============================] - 0s 23ms/step - loss: 0.4778 - val_loss: 0.5068\n",
            "Epoch 21/100\n",
            "6/6 [==============================] - 0s 15ms/step - loss: 0.4669 - val_loss: 0.4958\n",
            "Epoch 22/100\n",
            "6/6 [==============================] - 0s 15ms/step - loss: 0.4617 - val_loss: 0.4860\n",
            "Epoch 23/100\n",
            "6/6 [==============================] - 0s 15ms/step - loss: 0.4660 - val_loss: 0.4789\n",
            "Epoch 24/100\n",
            "6/6 [==============================] - 0s 18ms/step - loss: 0.4435 - val_loss: 0.4863\n",
            "Epoch 25/100\n",
            "6/6 [==============================] - 0s 15ms/step - loss: 0.4823 - val_loss: 0.4686\n",
            "Epoch 26/100\n",
            "6/6 [==============================] - 0s 15ms/step - loss: 0.4491 - val_loss: 0.4815\n",
            "Epoch 27/100\n",
            "6/6 [==============================] - 0s 21ms/step - loss: 0.4843 - val_loss: 0.4938\n",
            "Epoch 28/100\n",
            "6/6 [==============================] - 0s 19ms/step - loss: 0.4660 - val_loss: 0.4799\n",
            "Epoch 29/100\n",
            "6/6 [==============================] - 0s 24ms/step - loss: 0.4585 - val_loss: 0.4997\n",
            "Epoch 30/100\n",
            "6/6 [==============================] - 0s 27ms/step - loss: 0.4248 - val_loss: 0.4786\n",
            "Epoch 31/100\n",
            "6/6 [==============================] - 0s 25ms/step - loss: 0.4415 - val_loss: 0.4921\n",
            "Epoch 32/100\n",
            "6/6 [==============================] - 0s 21ms/step - loss: 0.4287 - val_loss: 0.4628\n",
            "Epoch 33/100\n",
            "6/6 [==============================] - 0s 22ms/step - loss: 0.4265 - val_loss: 0.4602\n",
            "Epoch 34/100\n",
            "6/6 [==============================] - 0s 26ms/step - loss: 0.4474 - val_loss: 0.4774\n",
            "Epoch 35/100\n",
            "6/6 [==============================] - 0s 19ms/step - loss: 0.4270 - val_loss: 0.4846\n",
            "Epoch 36/100\n",
            "6/6 [==============================] - 0s 16ms/step - loss: 0.4191 - val_loss: 0.4948\n",
            "Epoch 37/100\n",
            "6/6 [==============================] - 0s 16ms/step - loss: 0.4170 - val_loss: 0.4992\n",
            "Epoch 38/100\n",
            "6/6 [==============================] - 0s 19ms/step - loss: 0.4427 - val_loss: 0.4630\n",
            "Epoch 39/100\n",
            "6/6 [==============================] - 0s 20ms/step - loss: 0.4354 - val_loss: 0.4800\n",
            "Epoch 40/100\n",
            "6/6 [==============================] - 0s 13ms/step - loss: 0.4295 - val_loss: 0.4926\n",
            "Epoch 41/100\n",
            "6/6 [==============================] - 0s 10ms/step - loss: 0.4082 - val_loss: 0.4928\n",
            "Epoch 42/100\n",
            "6/6 [==============================] - 0s 11ms/step - loss: 0.4048 - val_loss: 0.4890\n",
            "Epoch 43/100\n",
            "6/6 [==============================] - 0s 12ms/step - loss: 0.4070 - val_loss: 0.4796\n"
          ]
        }
      ]
    },
    {
      "cell_type": "markdown",
      "source": [
        "Evaluate for Regularised Model"
      ],
      "metadata": {
        "id": "PgE75b5gGwqU"
      }
    },
    {
      "cell_type": "code",
      "source": [
        "regularised_model.evaluate(test_data,test_targets)"
      ],
      "metadata": {
        "colab": {
          "base_uri": "https://localhost:8080/"
        },
        "id": "E2yjNQZ0G0Eu",
        "outputId": "29dbc175-5476-443a-8fff-9e61934280e4"
      },
      "execution_count": null,
      "outputs": [
        {
          "output_type": "stream",
          "name": "stdout",
          "text": [
            "2/2 [==============================] - 0s 9ms/step - loss: 0.5748\n"
          ]
        },
        {
          "output_type": "execute_result",
          "data": {
            "text/plain": [
              "0.5747761130332947"
            ]
          },
          "metadata": {},
          "execution_count": 42
        }
      ]
    },
    {
      "cell_type": "markdown",
      "source": [
        "PLOT "
      ],
      "metadata": {
        "id": "gZjTsN_Do6Jj"
      }
    },
    {
      "cell_type": "code",
      "source": [
        "import matplotlib.pyplot as plt\n",
        "import seaborn as sns\n",
        "sns.set()"
      ],
      "metadata": {
        "id": "mTCglzGXnGPW"
      },
      "execution_count": null,
      "outputs": []
    },
    {
      "cell_type": "code",
      "source": [
        "# Plot the training and validation loss\n",
        "\n",
        "fig = plt.figure(figsize=(12, 5))\n",
        "\n",
        "fig.add_subplot(121)\n",
        "\n",
        "plt.plot(unreg_history.history['loss'])\n",
        "plt.plot(unreg_history.history['val_loss'])\n",
        "plt.title('Unregularised model: loss vs. epochs')\n",
        "plt.ylabel('Loss')\n",
        "plt.xlabel('Epoch')\n",
        "plt.legend(['Training', 'Validation'], loc='upper right')\n",
        "\n",
        "fig.add_subplot(122)\n",
        "\n",
        "plt.plot(reg_history.history['loss'])\n",
        "plt.plot(reg_history.history['val_loss'])\n",
        "plt.title('Regularised model: loss vs. epochs')\n",
        "plt.ylabel('Loss')\n",
        "plt.xlabel('Epoch')\n",
        "plt.legend(['Training', 'Validation'], loc='upper right')\n",
        "\n",
        "plt.show()"
      ],
      "metadata": {
        "colab": {
          "base_uri": "https://localhost:8080/",
          "height": 355
        },
        "id": "SOEkrTCPnIsg",
        "outputId": "57acf2f8-366f-456b-8ada-32a8d46f20d0"
      },
      "execution_count": null,
      "outputs": [
        {
          "output_type": "display_data",
          "data": {
            "text/plain": [
              "<Figure size 864x360 with 2 Axes>"
            ],
            "image/png": "[encoded data removed]"
          },
          "metadata": {}
        }
      ]
    },
    {
      "cell_type": "markdown",
      "source": [
        "**Analysis**\n",
        "\n",
        "We note that the overfitting is not correct yet, but it´s less than the no-regularised model."
      ],
      "metadata": {
        "id": "AEC1yCy5nPgT"
      }
    }
  ],
  "metadata": {
    "colab": {
      "provenance": [],
      "authorship_tag": "ABX9TyNqy57K9hB5T8G8HqiqE9Hk",
      "include_colab_link": true
    },
    "kernelspec": {
      "display_name": "Python 3",
      "name": "python3"
    },
    "language_info": {
      "name": "python"
    }
  },
  "nbformat": 4,
  "nbformat_minor": 0
}