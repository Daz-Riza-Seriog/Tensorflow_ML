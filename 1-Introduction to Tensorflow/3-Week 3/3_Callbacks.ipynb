{
  "cells": [
    {
      "cell_type": "markdown",
      "metadata": {
        "id": "view-in-github",
        "colab_type": "text"
      },
      "source": [
        "<a href=\"https://colab.research.google.com/github/Daz-Riza-Seriog/Tensorflow_ML/blob/main/1-Introduction%20to%20Tensorflow/3-Week%203/3_Callbacks.ipynb\" target=\"_parent\"><img src=\"https://colab.research.google.com/assets/colab-badge.svg\" alt=\"Open In Colab\"/></a>"
      ]
    },
    {
      "cell_type": "markdown",
      "metadata": {
        "id": "76BwesOakQ4Y"
      },
      "source": [
        "**MODEL REGULARISATION**"
      ]
    },
    {
      "cell_type": "markdown",
      "metadata": {
        "id": "z-feOYozkW8c"
      },
      "source": [
        "Import Libraries"
      ]
    },
    {
      "cell_type": "code",
      "execution_count": 1,
      "metadata": {
        "colab": {
          "base_uri": "https://localhost:8080/"
        },
        "id": "z-DBcmFykICe",
        "outputId": "c5cbcd25-fb01-4654-ec22-24640517fd49"
      },
      "outputs": [
        {
          "output_type": "stream",
          "name": "stdout",
          "text": [
            "2.9.2\n"
          ]
        }
      ],
      "source": [
        "import tensorflow as tf\n",
        "print(tf.__version__)"
      ]
    },
    {
      "cell_type": "markdown",
      "metadata": {
        "id": "2m9iLvxcrtvi"
      },
      "source": [
        "Load the Data - Diabetes"
      ]
    },
    {
      "cell_type": "code",
      "execution_count": 2,
      "metadata": {
        "colab": {
          "base_uri": "https://localhost:8080/"
        },
        "id": "6vk4HG7mr16f",
        "outputId": "d7cef21a-7e58-49b4-c154-65586d41cd29"
      },
      "outputs": [
        {
          "output_type": "stream",
          "name": "stdout",
          "text": [
            ".. _diabetes_dataset:\n",
            "\n",
            "Diabetes dataset\n",
            "----------------\n",
            "\n",
            "Ten baseline variables, age, sex, body mass index, average blood\n",
            "pressure, and six blood serum measurements were obtained for each of n =\n",
            "442 diabetes patients, as well as the response of interest, a\n",
            "quantitative measure of disease progression one year after baseline.\n",
            "\n",
            "**Data Set Characteristics:**\n",
            "\n",
            "  :Number of Instances: 442\n",
            "\n",
            "  :Number of Attributes: First 10 columns are numeric predictive values\n",
            "\n",
            "  :Target: Column 11 is a quantitative measure of disease progression one year after baseline\n",
            "\n",
            "  :Attribute Information:\n",
            "      - age     age in years\n",
            "      - sex\n",
            "      - bmi     body mass index\n",
            "      - bp      average blood pressure\n",
            "      - s1      tc, total serum cholesterol\n",
            "      - s2      ldl, low-density lipoproteins\n",
            "      - s3      hdl, high-density lipoproteins\n",
            "      - s4      tch, total cholesterol / HDL\n",
            "      - s5      ltg, possibly log of serum triglycerides level\n",
            "      - s6      glu, blood sugar level\n",
            "\n",
            "Note: Each of these 10 feature variables have been mean centered and scaled by the standard deviation times `n_samples` (i.e. the sum of squares of each column totals 1).\n",
            "\n",
            "Source URL:\n",
            "https://www4.stat.ncsu.edu/~boos/var.select/diabetes.html\n",
            "\n",
            "For more information see:\n",
            "Bradley Efron, Trevor Hastie, Iain Johnstone and Robert Tibshirani (2004) \"Least Angle Regression,\" Annals of Statistics (with discussion), 407-499.\n",
            "(https://web.stanford.edu/~hastie/Papers/LARS/LeastAngle_2002.pdf)\n"
          ]
        }
      ],
      "source": [
        "from sklearn.datasets import load_diabetes\n",
        "\n",
        "diabetes_dataset = load_diabetes()\n",
        "print(diabetes_dataset[\"DESCR\"])"
      ]
    },
    {
      "cell_type": "markdown",
      "metadata": {
        "id": "TXZWXdcZs1Pn"
      },
      "source": [
        "look the Keys of the dataset"
      ]
    },
    {
      "cell_type": "code",
      "execution_count": 3,
      "metadata": {
        "colab": {
          "base_uri": "https://localhost:8080/"
        },
        "id": "ZwjX-UKTs5E4",
        "outputId": "c343c6de-dbce-4fdf-bc7d-c4790955ed5a"
      },
      "outputs": [
        {
          "output_type": "stream",
          "name": "stdout",
          "text": [
            "dict_keys(['data', 'target', 'frame', 'DESCR', 'feature_names', 'data_filename', 'target_filename', 'data_module'])\n"
          ]
        }
      ],
      "source": [
        "print(diabetes_dataset.keys())"
      ]
    },
    {
      "cell_type": "markdown",
      "metadata": {
        "id": "9Kx5j971tHZS"
      },
      "source": [
        "Now we will load the data and the target"
      ]
    },
    {
      "cell_type": "code",
      "execution_count": 4,
      "metadata": {
        "id": "pHm5iPIxtesK"
      },
      "outputs": [],
      "source": [
        "data = diabetes_dataset[\"data\"]\n",
        "target = diabetes_dataset[\"target\"]"
      ]
    },
    {
      "cell_type": "markdown",
      "metadata": {
        "id": "0WzLplNZtwMM"
      },
      "source": [
        "Look up the target array and see if is neccesarry normalize"
      ]
    },
    {
      "cell_type": "code",
      "execution_count": 5,
      "metadata": {
        "colab": {
          "base_uri": "https://localhost:8080/"
        },
        "id": "RNbbVNV3t28k",
        "outputId": "1c6266f5-4846-487e-d2a9-447730edd105"
      },
      "outputs": [
        {
          "output_type": "stream",
          "name": "stdout",
          "text": [
            "[151.  75. 141. 206. 135.  97. 138.  63. 110. 310. 101.  69. 179. 185.\n",
            " 118. 171. 166. 144.  97. 168.  68.  49.  68. 245. 184. 202. 137.  85.\n",
            " 131. 283. 129.  59. 341.  87.  65. 102. 265. 276. 252.  90. 100.  55.\n",
            "  61.  92. 259.  53. 190. 142.  75. 142. 155. 225.  59. 104. 182. 128.\n",
            "  52.  37. 170. 170.  61. 144.  52. 128.  71. 163. 150.  97. 160. 178.\n",
            "  48. 270. 202. 111.  85.  42. 170. 200. 252. 113. 143.  51.  52. 210.\n",
            "  65. 141.  55. 134.  42. 111.  98. 164.  48.  96.  90. 162. 150. 279.\n",
            "  92.  83. 128. 102. 302. 198.  95.  53. 134. 144. 232.  81. 104.  59.\n",
            " 246. 297. 258. 229. 275. 281. 179. 200. 200. 173. 180.  84. 121. 161.\n",
            "  99. 109. 115. 268. 274. 158. 107.  83. 103. 272.  85. 280. 336. 281.\n",
            " 118. 317. 235.  60. 174. 259. 178. 128.  96. 126. 288.  88. 292.  71.\n",
            " 197. 186.  25.  84.  96. 195.  53. 217. 172. 131. 214.  59.  70. 220.\n",
            " 268. 152.  47.  74. 295. 101. 151. 127. 237. 225.  81. 151. 107.  64.\n",
            " 138. 185. 265. 101. 137. 143. 141.  79. 292. 178.  91. 116.  86. 122.\n",
            "  72. 129. 142.  90. 158.  39. 196. 222. 277.  99. 196. 202. 155.  77.\n",
            " 191.  70.  73.  49.  65. 263. 248. 296. 214. 185.  78.  93. 252. 150.\n",
            "  77. 208.  77. 108. 160.  53. 220. 154. 259.  90. 246. 124.  67.  72.\n",
            " 257. 262. 275. 177.  71.  47. 187. 125.  78.  51. 258. 215. 303. 243.\n",
            "  91. 150. 310. 153. 346.  63.  89.  50.  39. 103. 308. 116. 145.  74.\n",
            "  45. 115. 264.  87. 202. 127. 182. 241.  66.  94. 283.  64. 102. 200.\n",
            " 265.  94. 230. 181. 156. 233.  60. 219.  80.  68. 332. 248.  84. 200.\n",
            "  55.  85.  89.  31. 129.  83. 275.  65. 198. 236. 253. 124.  44. 172.\n",
            " 114. 142. 109. 180. 144. 163. 147.  97. 220. 190. 109. 191. 122. 230.\n",
            " 242. 248. 249. 192. 131. 237.  78. 135. 244. 199. 270. 164.  72.  96.\n",
            " 306.  91. 214.  95. 216. 263. 178. 113. 200. 139. 139.  88. 148.  88.\n",
            " 243.  71.  77. 109. 272.  60.  54. 221.  90. 311. 281. 182. 321.  58.\n",
            " 262. 206. 233. 242. 123. 167.  63. 197.  71. 168. 140. 217. 121. 235.\n",
            " 245.  40.  52. 104. 132.  88.  69. 219.  72. 201. 110.  51. 277.  63.\n",
            " 118.  69. 273. 258.  43. 198. 242. 232. 175.  93. 168. 275. 293. 281.\n",
            "  72. 140. 189. 181. 209. 136. 261. 113. 131. 174. 257.  55.  84.  42.\n",
            " 146. 212. 233.  91. 111. 152. 120.  67. 310.  94. 183.  66. 173.  72.\n",
            "  49.  64.  48. 178. 104. 132. 220.  57.]\n"
          ]
        }
      ],
      "source": [
        "print(target)"
      ]
    },
    {
      "cell_type": "markdown",
      "metadata": {
        "id": "d_VJv_n5t6nK"
      },
      "source": [
        "Normalize the target"
      ]
    },
    {
      "cell_type": "code",
      "execution_count": 6,
      "metadata": {
        "colab": {
          "base_uri": "https://localhost:8080/"
        },
        "id": "Nr9lD8uIt8gs",
        "outputId": "7e5b5ea6-857b-43f6-9c40-1e80fa5271a9"
      },
      "outputs": [
        {
          "output_type": "stream",
          "name": "stdout",
          "text": [
            "[-1.47194752e-02 -1.00165882e+00 -1.44579915e-01  6.99512942e-01\n",
            " -2.22496178e-01 -7.15965848e-01 -1.83538046e-01 -1.15749134e+00\n",
            " -5.47147277e-01  2.05006151e+00 -6.64021672e-01 -1.07957508e+00\n",
            "  3.48889755e-01  4.26806019e-01 -4.43258925e-01  2.45001404e-01\n",
            "  1.80071184e-01 -1.05621783e-01 -7.15965848e-01  2.06043272e-01\n",
            " -1.09256112e+00 -1.33929596e+00 -1.09256112e+00  1.20596866e+00\n",
            "  4.13819975e-01  6.47568766e-01 -1.96524090e-01 -8.71798376e-01\n",
            " -2.74440354e-01  1.69943833e+00 -3.00412442e-01 -1.20943552e+00\n",
            "  2.45262887e+00 -8.45826288e-01 -1.13151925e+00 -6.51035629e-01\n",
            "  1.46568953e+00  1.60853602e+00  1.29687096e+00 -8.06868156e-01\n",
            " -6.77007716e-01 -1.26137969e+00 -1.18346343e+00 -7.80896068e-01\n",
            "  1.38777327e+00 -1.28735178e+00  4.91736239e-01 -1.31593871e-01\n",
            " -1.00165882e+00 -1.31593871e-01  3.72247006e-02  9.46247777e-01\n",
            " -1.20943552e+00 -6.25063541e-01  3.87847887e-01 -3.13398486e-01\n",
            " -1.30033783e+00 -1.49512849e+00  2.32015360e-01  2.32015360e-01\n",
            " -1.18346343e+00 -1.05621783e-01 -1.30033783e+00 -3.13398486e-01\n",
            " -1.05360299e+00  1.41113052e-01 -2.77055191e-02 -7.15965848e-01\n",
            "  1.02154920e-01  3.35903711e-01 -1.35228200e+00  1.53061975e+00\n",
            "  6.47568766e-01 -5.34161233e-01 -8.71798376e-01 -1.43019827e+00\n",
            "  2.32015360e-01  6.21596678e-01  1.29687096e+00 -5.08189145e-01\n",
            " -1.18607827e-01 -1.31332387e+00 -1.30033783e+00  7.51457118e-01\n",
            " -1.13151925e+00 -1.44579915e-01 -1.26137969e+00 -2.35482222e-01\n",
            " -1.43019827e+00 -5.34161233e-01 -7.02979804e-01  1.54099096e-01\n",
            " -1.35228200e+00 -7.28951892e-01 -8.06868156e-01  1.28127008e-01\n",
            " -2.77055191e-02  1.64749415e+00 -7.80896068e-01 -8.97770464e-01\n",
            " -3.13398486e-01 -6.51035629e-01  1.94617316e+00  5.95624590e-01\n",
            " -7.41937936e-01 -1.28735178e+00 -2.35482222e-01 -1.05621783e-01\n",
            "  1.03715008e+00 -9.23742551e-01 -6.25063541e-01 -1.20943552e+00\n",
            "  1.21895470e+00  1.88124294e+00  1.37478723e+00  9.98191953e-01\n",
            "  1.59554997e+00  1.67346624e+00  3.48889755e-01  6.21596678e-01\n",
            "  6.21596678e-01  2.70973492e-01  3.61875799e-01 -8.84784420e-01\n",
            " -4.04300794e-01  1.15140964e-01 -6.89993760e-01 -5.60133321e-01\n",
            " -4.82217057e-01  1.50464767e+00  1.58256393e+00  7.61828325e-02\n",
            " -5.86105409e-01 -8.97770464e-01 -6.38049585e-01  1.55659184e+00\n",
            " -8.71798376e-01  1.66048019e+00  2.38769865e+00  1.67346624e+00\n",
            " -4.43258925e-01  2.14096382e+00  1.07610822e+00 -1.19644947e+00\n",
            "  2.83959536e-01  1.38777327e+00  3.35903711e-01 -3.13398486e-01\n",
            " -7.28951892e-01 -3.39370574e-01  1.76436855e+00 -8.32840244e-01\n",
            "  1.81631272e+00 -1.05360299e+00  5.82638546e-01  4.39792063e-01\n",
            " -1.65096101e+00 -8.84784420e-01 -7.28951892e-01  5.56666458e-01\n",
            " -1.28735178e+00  8.42359425e-01  2.57987448e-01 -2.74440354e-01\n",
            "  8.03401293e-01 -1.20943552e+00 -1.06658903e+00  8.81317557e-01\n",
            "  1.50464767e+00 -1.73343121e-03 -1.36526805e+00 -1.01464486e+00\n",
            "  1.85527085e+00 -6.64021672e-01 -1.47194752e-02 -3.26384530e-01\n",
            "  1.10208030e+00  9.46247777e-01 -9.23742551e-01 -1.47194752e-02\n",
            " -5.86105409e-01 -1.14450530e+00 -1.83538046e-01  4.26806019e-01\n",
            "  1.46568953e+00 -6.64021672e-01 -1.96524090e-01 -1.18607827e-01\n",
            " -1.44579915e-01 -9.49714639e-01  1.81631272e+00  3.35903711e-01\n",
            " -7.93882112e-01 -4.69231013e-01 -8.58812332e-01 -3.91314750e-01\n",
            " -1.04061695e+00 -3.00412442e-01 -1.31593871e-01 -8.06868156e-01\n",
            "  7.61828325e-02 -1.46915640e+00  5.69652502e-01  9.07289645e-01\n",
            "  1.62152206e+00 -6.89993760e-01  5.69652502e-01  6.47568766e-01\n",
            "  3.72247006e-02 -9.75686727e-01  5.04722283e-01 -1.06658903e+00\n",
            " -1.02763090e+00 -1.33929596e+00 -1.13151925e+00  1.43971745e+00\n",
            "  1.24492679e+00  1.86825690e+00  8.03401293e-01  4.26806019e-01\n",
            " -9.62700683e-01 -7.67910024e-01  1.29687096e+00 -2.77055191e-02\n",
            " -9.75686727e-01  7.25485030e-01 -9.75686727e-01 -5.73119365e-01\n",
            "  1.02154920e-01 -1.28735178e+00  8.81317557e-01  2.42386567e-02\n",
            "  1.38777327e+00 -8.06868156e-01  1.21895470e+00 -3.65342662e-01\n",
            " -1.10554717e+00 -1.04061695e+00  1.36180118e+00  1.42673140e+00\n",
            "  1.59554997e+00  3.22917667e-01 -1.05360299e+00 -1.36526805e+00\n",
            "  4.52778107e-01 -3.52356618e-01 -9.62700683e-01 -1.31332387e+00\n",
            "  1.37478723e+00  8.16387337e-01  1.95915920e+00  1.17999657e+00\n",
            " -7.93882112e-01 -2.77055191e-02  2.05006151e+00  1.12526127e-02\n",
            "  2.51755909e+00 -1.15749134e+00 -8.19854200e-01 -1.32630991e+00\n",
            " -1.46915640e+00 -6.38049585e-01  2.02408942e+00 -4.69231013e-01\n",
            " -9.26357388e-02 -1.01464486e+00 -1.39124013e+00 -4.82217057e-01\n",
            "  1.45270349e+00 -8.45826288e-01  6.47568766e-01 -3.26384530e-01\n",
            "  3.87847887e-01  1.15402448e+00 -1.11853321e+00 -7.54923980e-01\n",
            "  1.69943833e+00 -1.14450530e+00 -6.51035629e-01  6.21596678e-01\n",
            "  1.46568953e+00 -7.54923980e-01  1.01117800e+00  3.74861843e-01\n",
            "  5.02107446e-02  1.05013613e+00 -1.19644947e+00  8.68331513e-01\n",
            " -9.36728595e-01 -1.09256112e+00  2.33575448e+00  1.24492679e+00\n",
            " -8.84784420e-01  6.21596678e-01 -1.26137969e+00 -8.71798376e-01\n",
            " -8.19854200e-01 -1.57304475e+00 -3.00412442e-01 -8.97770464e-01\n",
            "  1.59554997e+00 -1.13151925e+00  5.95624590e-01  1.08909426e+00\n",
            "  1.30985701e+00 -3.65342662e-01 -1.40422618e+00  2.57987448e-01\n",
            " -4.95203101e-01 -1.31593871e-01 -5.60133321e-01  3.61875799e-01\n",
            " -1.05621783e-01  1.41113052e-01 -6.66636509e-02 -7.15965848e-01\n",
            "  8.81317557e-01  4.91736239e-01 -5.60133321e-01  5.04722283e-01\n",
            " -3.91314750e-01  1.01117800e+00  1.16701052e+00  1.24492679e+00\n",
            "  1.25791283e+00  5.17708327e-01 -2.74440354e-01  1.10208030e+00\n",
            " -9.62700683e-01 -2.22496178e-01  1.19298261e+00  6.08610634e-01\n",
            "  1.53061975e+00  1.54099096e-01 -1.04061695e+00 -7.28951892e-01\n",
            "  1.99811734e+00 -7.93882112e-01  8.03401293e-01 -7.41937936e-01\n",
            "  8.29373381e-01  1.43971745e+00  3.35903711e-01 -5.08189145e-01\n",
            "  6.21596678e-01 -1.70552003e-01 -1.70552003e-01 -8.32840244e-01\n",
            " -5.36776070e-02 -8.32840244e-01  1.17999657e+00 -1.05360299e+00\n",
            " -9.75686727e-01 -5.60133321e-01  1.55659184e+00 -1.19644947e+00\n",
            " -1.27436574e+00  8.94303601e-01 -8.06868156e-01  2.06304756e+00\n",
            "  1.67346624e+00  3.87847887e-01  2.19290800e+00 -1.22242156e+00\n",
            "  1.42673140e+00  6.99512942e-01  1.05013613e+00  1.16701052e+00\n",
            " -3.78328706e-01  1.93057228e-01 -1.15749134e+00  5.82638546e-01\n",
            " -1.05360299e+00  2.06043272e-01 -1.57565959e-01  8.42359425e-01\n",
            " -4.04300794e-01  1.07610822e+00  1.20596866e+00 -1.45617035e+00\n",
            " -1.30033783e+00 -6.25063541e-01 -2.61454310e-01 -8.32840244e-01\n",
            " -1.07957508e+00  8.68331513e-01 -1.04061695e+00  6.34582722e-01\n",
            " -5.47147277e-01 -1.31332387e+00  1.62152206e+00 -1.15749134e+00\n",
            " -4.43258925e-01 -1.07957508e+00  1.56957789e+00  1.37478723e+00\n",
            " -1.41721222e+00  5.95624590e-01  1.16701052e+00  1.03715008e+00\n",
            "  2.96945580e-01 -7.67910024e-01  2.06043272e-01  1.59554997e+00\n",
            "  1.82929877e+00  1.67346624e+00 -1.04061695e+00 -1.57565959e-01\n",
            "  4.78750195e-01  3.74861843e-01  7.38471074e-01 -2.09510134e-01\n",
            "  1.41374536e+00 -5.08189145e-01 -2.74440354e-01  2.83959536e-01\n",
            "  1.36180118e+00 -1.26137969e+00 -8.84784420e-01 -1.43019827e+00\n",
            " -7.96496949e-02  7.77429206e-01  1.05013613e+00 -7.93882112e-01\n",
            " -5.34161233e-01 -1.73343121e-03 -4.17286837e-01 -1.10554717e+00\n",
            "  2.05006151e+00 -7.54923980e-01  4.00833931e-01 -1.11853321e+00\n",
            "  2.70973492e-01 -1.04061695e+00 -1.33929596e+00 -1.14450530e+00\n",
            " -1.35228200e+00  3.35903711e-01 -6.25063541e-01 -2.61454310e-01\n",
            "  8.81317557e-01 -1.23540761e+00]\n"
          ]
        }
      ],
      "source": [
        "target = (target-target.mean())/target.std()\n",
        "print(target)"
      ]
    },
    {
      "cell_type": "markdown",
      "metadata": {
        "id": "IFTyZO8Luulr"
      },
      "source": [
        "Split train and test sets using sklearn package"
      ]
    },
    {
      "cell_type": "code",
      "execution_count": 7,
      "metadata": {
        "colab": {
          "base_uri": "https://localhost:8080/"
        },
        "id": "9Kwj4ionuydd",
        "outputId": "24a06b55-ded2-43ce-8603-2f7ba6926410"
      },
      "outputs": [
        {
          "output_type": "stream",
          "name": "stdout",
          "text": [
            "(397, 10)\n",
            "(45, 10)\n",
            "(397,)\n",
            "(45,)\n"
          ]
        }
      ],
      "source": [
        "from sklearn.model_selection import train_test_split\n",
        "\n",
        "train_data, test_data,train_targets, test_targets = train_test_split(data, target,test_size=0.1)\n",
        "\n",
        "# look the shape of the train and test\n",
        "print(train_data.shape)\n",
        "print(test_data.shape)\n",
        "print(train_targets.shape)\n",
        "print(test_targets.shape)"
      ]
    },
    {
      "cell_type": "markdown",
      "source": [
        "**INTRODUCTION TO CALLBACKS**"
      ],
      "metadata": {
        "id": "yqttQzjzo9zS"
      }
    },
    {
      "cell_type": "markdown",
      "source": [
        "Create a regularisation with weight decay and Dropout"
      ],
      "metadata": {
        "id": "iHSMD3GJr_JM"
      }
    },
    {
      "cell_type": "code",
      "source": [
        "def get_regularised_model(wd,rate):\n",
        "  Sequential = tf.keras.models.Sequential\n",
        "  Dense = tf.keras.layers.Dense\n",
        "  Dropout = tf.keras.layers.Dropout\n",
        "  regularizers = tf.keras.regularizers\n",
        "  model = Sequential([\n",
        "      Dense(128, kernel_regularizer=regularizers.l2(wd), activation=\"relu\", input_shape=(train_data.shape[1],)),\n",
        "      Dropout(rate),\n",
        "      Dense(128, kernel_regularizer=regularizers.l2(wd),activation=\"relu\"),\n",
        "      Dropout(rate),\n",
        "      Dense(128, kernel_regularizer=regularizers.l2(wd),activation=\"relu\"),\n",
        "      Dropout(rate),\n",
        "      Dense(128, kernel_regularizer=regularizers.l2(wd),activation=\"relu\"),\n",
        "      Dropout(rate),\n",
        "      Dense(128, kernel_regularizer=regularizers.l2(wd),activation=\"relu\"),\n",
        "      Dropout(rate),\n",
        "      Dense(128, kernel_regularizer=regularizers.l2(wd),activation=\"relu\"),\n",
        "      Dropout(rate),\n",
        "      Dense(1)\n",
        "  ])\n",
        "\n",
        "  return model"
      ],
      "metadata": {
        "id": "GgZyUW5Ar_8y"
      },
      "execution_count": 11,
      "outputs": []
    },
    {
      "cell_type": "markdown",
      "source": [
        "Example training Callback"
      ],
      "metadata": {
        "id": "S5c1F0UkpDz8"
      }
    },
    {
      "cell_type": "code",
      "source": [
        "Callback = tf.keras.callbacks.Callback\n",
        "\n",
        "class TrainingCallback(Callback):\n",
        "\n",
        "  def on_train_begin(self, logs=None):\n",
        "    print(\"Starting training....\")\n",
        "  \n",
        "  def on_epoch_begin(self, epoch, logs=None):\n",
        "    print(f\"Starting epoch {epoch}\")\n",
        "\n",
        "  def on_train_batch_begin(self, batch, logs=None):\n",
        "    print(f\"Training: Starting batch {batch}\")\n",
        "\n",
        "  def on_train_batch_end(self, batch, logs=None):\n",
        "    print(f\"Training: Finished batch {batch}\")\n",
        "\n",
        "  def on_epoch_end(self, epoch, logs=None):\n",
        "    print(f\"Finished epoch {epoch}\")\n",
        "\n",
        "  def on_train_end(self, logs=None):\n",
        "    print(\"Finished training!\")\n"
      ],
      "metadata": {
        "id": "_pNxEzgRpGgV"
      },
      "execution_count": 10,
      "outputs": []
    },
    {
      "cell_type": "markdown",
      "source": [
        "You could use to test instead of train"
      ],
      "metadata": {
        "id": "5XtfgziTtfZw"
      }
    },
    {
      "cell_type": "code",
      "source": [
        "Callback = tf.keras.callbacks.Callback\n",
        "\n",
        "class TestingCallback(Callback):\n",
        "\n",
        "  def on_test_begin(self, logs=None):\n",
        "    print(\"Starting testing....\")\n",
        "  \n",
        "  def on_test_batch_begin(self, batch, logs=None):\n",
        "    print(f\"Testing: Starting batch {batch}\")\n",
        "\n",
        "  def on_test_batch_end(self, batch, logs=None):\n",
        "    print(f\"Testing: Finished batch {batch}\")\n",
        "\n",
        "  def on_test_end(self, logs=None):\n",
        "    print(\"Finished testing!\")"
      ],
      "metadata": {
        "id": "2nQMemULtqSR"
      },
      "execution_count": 16,
      "outputs": []
    },
    {
      "cell_type": "markdown",
      "source": [
        "You could create a callback in Predict instead of the above"
      ],
      "metadata": {
        "id": "oHIoWqyputYA"
      }
    },
    {
      "cell_type": "code",
      "source": [
        "Callback = tf.keras.callbacks.Callback\n",
        "\n",
        "class PredictionCallback(Callback):\n",
        "\n",
        "  def on_predict_begin(self, logs=None):\n",
        "    print(\"Starting prediction....\")\n",
        "  \n",
        "  def on_predict_batch_begin(self, batch, logs=None):\n",
        "    print(f\"Prediction: Starting batch {batch}\")\n",
        "\n",
        "  def on_predic_batch_end(self, batch, logs=None):\n",
        "    print(f\"Prediction: Finished batch {batch}\")\n",
        "\n",
        "  def on_predict_end(self, logs=None):\n",
        "    print(\"Finished prediction!\")"
      ],
      "metadata": {
        "id": "MyKXS4beu0Dz"
      },
      "execution_count": 18,
      "outputs": []
    },
    {
      "cell_type": "markdown",
      "source": [],
      "metadata": {
        "id": "5ftejCp-tfWS"
      }
    },
    {
      "cell_type": "markdown",
      "source": [
        "Rebuild the model with the dw decay weight and dropout rate rate"
      ],
      "metadata": {
        "id": "sTulejx5rkst"
      }
    },
    {
      "cell_type": "code",
      "source": [
        "model = get_regularised_model(1e-5,0.3)"
      ],
      "metadata": {
        "id": "ry-nMTWfrmTc"
      },
      "execution_count": 12,
      "outputs": []
    },
    {
      "cell_type": "markdown",
      "source": [
        "Compile the model"
      ],
      "metadata": {
        "id": "RR1-95sKsTfv"
      }
    },
    {
      "cell_type": "code",
      "source": [
        "model.compile(optimizer=\"adam\", loss=\"mse\")"
      ],
      "metadata": {
        "id": "HQXFuVPAsVbd"
      },
      "execution_count": 14,
      "outputs": []
    },
    {
      "cell_type": "markdown",
      "source": [
        "Train the model with the Callback"
      ],
      "metadata": {
        "id": "QYaPpyd-soBP"
      }
    },
    {
      "cell_type": "code",
      "source": [
        "model.fit(train_data,train_targets, epochs=3, batch_size=128, callbacks=[TrainingCallback()])"
      ],
      "metadata": {
        "colab": {
          "base_uri": "https://localhost:8080/"
        },
        "id": "tV4eZdIFsyEM",
        "outputId": "ec33e562-7a3e-43a5-a27d-b597dd9b0e38"
      },
      "execution_count": 15,
      "outputs": [
        {
          "output_type": "stream",
          "name": "stdout",
          "text": [
            "Starting training....\n",
            "Starting epoch 0\n",
            "Epoch 1/3\n",
            "Training: Starting batch 0\n",
            "Training: Finished batch 0\n",
            "1/4 [======>.......................] - ETA: 3s - loss: 0.9931Training: Starting batch 1\n",
            "Training: Finished batch 1\n",
            "Training: Starting batch 2\n",
            "Training: Finished batch 2\n",
            "Training: Starting batch 3\n",
            "Training: Finished batch 3\n",
            "Finished epoch 0\n",
            "4/4 [==============================] - 1s 9ms/step - loss: 0.9861\n",
            "Starting epoch 1\n",
            "Epoch 2/3\n",
            "Training: Starting batch 0\n",
            "Training: Finished batch 0\n",
            "1/4 [======>.......................] - ETA: 0s - loss: 0.8475Training: Starting batch 1\n",
            "Training: Finished batch 1\n",
            "Training: Starting batch 2\n",
            "Training: Finished batch 2\n",
            "Training: Starting batch 3\n",
            "Training: Finished batch 3\n",
            "Finished epoch 1\n",
            "4/4 [==============================] - 0s 9ms/step - loss: 0.9782\n",
            "Starting epoch 2\n",
            "Epoch 3/3\n",
            "Training: Starting batch 0\n",
            "Training: Finished batch 0\n",
            "1/4 [======>.......................] - ETA: 0s - loss: 0.8946Training: Starting batch 1\n",
            "Training: Finished batch 1\n",
            "Training: Starting batch 2\n",
            "Training: Finished batch 2\n",
            "Training: Starting batch 3\n",
            "Training: Finished batch 3\n",
            "Finished epoch 2\n",
            "4/4 [==============================] - 0s 7ms/step - loss: 0.9591\n",
            "Finished training!\n"
          ]
        },
        {
          "output_type": "execute_result",
          "data": {
            "text/plain": [
              "<keras.callbacks.History at 0x7f83cf308970>"
            ]
          },
          "metadata": {},
          "execution_count": 15
        }
      ]
    },
    {
      "cell_type": "markdown",
      "source": [
        "You can evaluate with a Callbacks"
      ],
      "metadata": {
        "id": "qoA311Q_uVcI"
      }
    },
    {
      "cell_type": "code",
      "source": [
        "model.evaluate(test_data,test_targets,callbacks=[TestingCallback()])"
      ],
      "metadata": {
        "colab": {
          "base_uri": "https://localhost:8080/"
        },
        "id": "O4IcRpJ8uYcX",
        "outputId": "f3980ed6-3e23-4fd9-acf8-9352a749d156"
      },
      "execution_count": 17,
      "outputs": [
        {
          "output_type": "stream",
          "name": "stdout",
          "text": [
            "Starting testing....\n",
            "Testing: Starting batch 0\n",
            "Testing: Finished batch 0\n",
            "1/2 [==============>...............] - ETA: 0s - loss: 1.2027Testing: Starting batch 1\n",
            "Testing: Finished batch 1\n",
            "Finished testing!\n",
            "2/2 [==============================] - 0s 9ms/step - loss: 1.1073\n"
          ]
        },
        {
          "output_type": "execute_result",
          "data": {
            "text/plain": [
              "1.1072698831558228"
            ]
          },
          "metadata": {},
          "execution_count": 17
        }
      ]
    },
    {
      "cell_type": "markdown",
      "source": [
        "Make prediction with the Callback"
      ],
      "metadata": {
        "id": "pXdVnxwOwxY7"
      }
    },
    {
      "cell_type": "code",
      "source": [
        "model.predict(test_data, callbacks=[PredictionCallback()])"
      ],
      "metadata": {
        "colab": {
          "base_uri": "https://localhost:8080/"
        },
        "id": "oZS88YQSw0pR",
        "outputId": "c6626cbd-52ae-4f8e-cbde-5762c791b73c"
      },
      "execution_count": 19,
      "outputs": [
        {
          "output_type": "stream",
          "name": "stdout",
          "text": [
            "Starting prediction....\n",
            "Prediction: Starting batch 0\n",
            "1/2 [==============>...............] - ETA: 0sPrediction: Starting batch 1\n",
            "Finished prediction!\n",
            "2/2 [==============================] - 0s 8ms/step\n"
          ]
        },
        {
          "output_type": "execute_result",
          "data": {
            "text/plain": [
              "array([[ 0.01745544],\n",
              "       [-0.03035781],\n",
              "       [ 0.14667411],\n",
              "       [ 0.02494779],\n",
              "       [-0.02253216],\n",
              "       [ 0.04488185],\n",
              "       [ 0.068035  ],\n",
              "       [ 0.03381426],\n",
              "       [ 0.03435029],\n",
              "       [ 0.00199743],\n",
              "       [-0.01410899],\n",
              "       [ 0.04740192],\n",
              "       [ 0.07686902],\n",
              "       [-0.0303348 ],\n",
              "       [ 0.08232178],\n",
              "       [ 0.04002849],\n",
              "       [ 0.04047794],\n",
              "       [-0.03109516],\n",
              "       [ 0.11178611],\n",
              "       [-0.02661839],\n",
              "       [ 0.07919888],\n",
              "       [ 0.05310574],\n",
              "       [-0.02528402],\n",
              "       [ 0.07543404],\n",
              "       [-0.02382502],\n",
              "       [ 0.09921256],\n",
              "       [ 0.03271949],\n",
              "       [-0.00736413],\n",
              "       [-0.01602827],\n",
              "       [-0.00926644],\n",
              "       [-0.02512121],\n",
              "       [ 0.07183389],\n",
              "       [ 0.03164518],\n",
              "       [-0.00989757],\n",
              "       [ 0.01518012],\n",
              "       [ 0.06412941],\n",
              "       [-0.02040743],\n",
              "       [ 0.02036356],\n",
              "       [ 0.11840141],\n",
              "       [ 0.10862108],\n",
              "       [ 0.01871417],\n",
              "       [-0.01183578],\n",
              "       [ 0.10702024],\n",
              "       [ 0.07645875],\n",
              "       [ 0.07024168]], dtype=float32)"
            ]
          },
          "metadata": {},
          "execution_count": 19
        }
      ]
    },
    {
      "cell_type": "markdown",
      "source": [
        "PLOT "
      ],
      "metadata": {
        "id": "gZjTsN_Do6Jj"
      }
    },
    {
      "cell_type": "code",
      "source": [
        "import matplotlib.pyplot as plt\n",
        "import seaborn as sns\n",
        "sns.set()"
      ],
      "metadata": {
        "id": "mTCglzGXnGPW"
      },
      "execution_count": 8,
      "outputs": []
    },
    {
      "cell_type": "code",
      "source": [
        "plt.plot(history.history[\"loss\"])\n",
        "plt.plot(history.history[\"val_loss\"])\n",
        "plt.title(\"Loss vs. Epochs\")\n",
        "plt.ylabel(\"Loss\")\n",
        "plt.xlabel(\"Epochs\")\n",
        "plt.legend([\"Training\",\"Validation\"],loc=\"best\")\n",
        "plt.show()"
      ],
      "metadata": {
        "colab": {
          "base_uri": "https://localhost:8080/",
          "height": 236
        },
        "id": "SOEkrTCPnIsg",
        "outputId": "f3415992-678c-4e62-820f-7bd3457b0533"
      },
      "execution_count": 9,
      "outputs": [
        {
          "output_type": "error",
          "ename": "NameError",
          "evalue": "ignored",
          "traceback": [
            "\u001b[0;31m---------------------------------------------------------------------------\u001b[0m",
            "\u001b[0;31mNameError\u001b[0m                                 Traceback (most recent call last)",
            "\u001b[0;32m<ipython-input-9-21eb1a39c5fa>\u001b[0m in \u001b[0;36m<module>\u001b[0;34m\u001b[0m\n\u001b[0;32m----> 1\u001b[0;31m \u001b[0mplt\u001b[0m\u001b[0;34m.\u001b[0m\u001b[0mplot\u001b[0m\u001b[0;34m(\u001b[0m\u001b[0mhistory\u001b[0m\u001b[0;34m.\u001b[0m\u001b[0mhistory\u001b[0m\u001b[0;34m[\u001b[0m\u001b[0;34m\"loss\"\u001b[0m\u001b[0;34m]\u001b[0m\u001b[0;34m)\u001b[0m\u001b[0;34m\u001b[0m\u001b[0;34m\u001b[0m\u001b[0m\n\u001b[0m\u001b[1;32m      2\u001b[0m \u001b[0mplt\u001b[0m\u001b[0;34m.\u001b[0m\u001b[0mplot\u001b[0m\u001b[0;34m(\u001b[0m\u001b[0mhistory\u001b[0m\u001b[0;34m.\u001b[0m\u001b[0mhistory\u001b[0m\u001b[0;34m[\u001b[0m\u001b[0;34m\"val_loss\"\u001b[0m\u001b[0;34m]\u001b[0m\u001b[0;34m)\u001b[0m\u001b[0;34m\u001b[0m\u001b[0;34m\u001b[0m\u001b[0m\n\u001b[1;32m      3\u001b[0m \u001b[0mplt\u001b[0m\u001b[0;34m.\u001b[0m\u001b[0mtitle\u001b[0m\u001b[0;34m(\u001b[0m\u001b[0;34m\"Loss vs. Epochs\"\u001b[0m\u001b[0;34m)\u001b[0m\u001b[0;34m\u001b[0m\u001b[0;34m\u001b[0m\u001b[0m\n\u001b[1;32m      4\u001b[0m \u001b[0mplt\u001b[0m\u001b[0;34m.\u001b[0m\u001b[0mylabel\u001b[0m\u001b[0;34m(\u001b[0m\u001b[0;34m\"Loss\"\u001b[0m\u001b[0;34m)\u001b[0m\u001b[0;34m\u001b[0m\u001b[0;34m\u001b[0m\u001b[0m\n\u001b[1;32m      5\u001b[0m \u001b[0mplt\u001b[0m\u001b[0;34m.\u001b[0m\u001b[0mxlabel\u001b[0m\u001b[0;34m(\u001b[0m\u001b[0;34m\"Epochs\"\u001b[0m\u001b[0;34m)\u001b[0m\u001b[0;34m\u001b[0m\u001b[0;34m\u001b[0m\u001b[0m\n",
            "\u001b[0;31mNameError\u001b[0m: name 'history' is not defined"
          ]
        }
      ]
    },
    {
      "cell_type": "markdown",
      "source": [
        "**Analysis**\n",
        "\n",
        "We note that the overfitting is not correct yet, but it´s less than the no-regularised model."
      ],
      "metadata": {
        "id": "AEC1yCy5nPgT"
      }
    }
  ],
  "metadata": {
    "colab": {
      "provenance": [],
      "authorship_tag": "ABX9TyOb1C7M1KJwSfn7oy9nLFxK",
      "include_colab_link": true
    },
    "kernelspec": {
      "display_name": "Python 3",
      "name": "python3"
    },
    "language_info": {
      "name": "python"
    }
  },
  "nbformat": 4,
  "nbformat_minor": 0
}