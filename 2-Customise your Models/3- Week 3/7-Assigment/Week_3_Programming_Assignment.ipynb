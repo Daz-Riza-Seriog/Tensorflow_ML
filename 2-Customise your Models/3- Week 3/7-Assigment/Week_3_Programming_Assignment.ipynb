{
  "nbformat": 4,
  "nbformat_minor": 0,
  "metadata": {
    "coursera": {
      "course_slug": "tensor-flow-2-2",
      "graded_item_id": "4eYSM",
      "launcher_item_id": "HEV6h"
    },
    "kernelspec": {
      "display_name": "Python 3",
      "language": "python",
      "name": "python3"
    },
    "language_info": {
      "codemirror_mode": {
        "name": "ipython",
        "version": 3
      },
      "file_extension": ".py",
      "mimetype": "text/x-python",
      "name": "python",
      "nbconvert_exporter": "python",
      "pygments_lexer": "ipython3",
      "version": "3.7.1"
    },
    "colab": {
      "provenance": [],
      "gpuType": "T4",
      "include_colab_link": true
    },
    "accelerator": "GPU",
    "gpuClass": "standard"
  },
  "cells": [
    {
      "cell_type": "markdown",
      "metadata": {
        "id": "view-in-github",
        "colab_type": "text"
      },
      "source": [
        "<a href=\"https://colab.research.google.com/github/Daz-Riza-Seriog/Tensorflow_ML/blob/main/2-Customise%20your%20Models/3-%20Week%203/7-Assigment/Week_3_Programming_Assignment.ipynb\" target=\"_parent\"><img src=\"https://colab.research.google.com/assets/colab-badge.svg\" alt=\"Open In Colab\"/></a>"
      ]
    },
    {
      "cell_type": "markdown",
      "metadata": {
        "id": "wJQu9UWtRfRx"
      },
      "source": [
        "# Programming Assignment"
      ]
    },
    {
      "cell_type": "markdown",
      "metadata": {
        "id": "pFRRArflRfR1"
      },
      "source": [
        "## Language model for the Shakespeare dataset"
      ]
    },
    {
      "cell_type": "markdown",
      "metadata": {
        "id": "iPU9O33bRfR3"
      },
      "source": [
        "### Instructions\n",
        "\n",
        "In this notebook, you will use the text preprocessing tools and RNN models to build a character-level language model. You will then train your model on the works of Shakespeare, and use the network to generate your own text.\n",
        "\n",
        "Some code cells are provided you in the notebook. You should avoid editing provided code, and make sure to execute the cells in order to avoid unexpected errors. Some cells begin with the line:\n",
        "\n",
        "`#### GRADED CELL ####`\n",
        "\n",
        "Don't move or edit this first line - this is what the automatic grader looks for to recognise graded cells. These cells require you to write your own code to complete them, and are automatically graded when you submit the notebook. Don't edit the function name or signature provided in these cells, otherwise the automatic grader might not function properly. Inside these graded cells, you can use any functions or classes that are imported below, but make sure you don't use any variables that are outside the scope of the function.\n",
        "\n",
        "### How to submit\n",
        "\n",
        "Complete all the tasks you are asked for in the worksheet. When you have finished and are happy with your code, press the **Submit Assignment** button at the top of this notebook.\n",
        "\n",
        "### Let's get started!\n",
        "\n",
        "We'll start running some imports, and loading the dataset. Do not edit the existing imports in the following cell. If you would like to make further Tensorflow imports, you should add them here."
      ]
    },
    {
      "cell_type": "code",
      "metadata": {
        "id": "2j_QtDXtRfR4"
      },
      "source": [
        "#### PACKAGE IMPORTS ####\n",
        "\n",
        "# Run this cell first to import all required packages. Do not make any imports elsewhere in the notebook\n",
        "\n",
        "import tensorflow as tf\n",
        "import numpy as np\n",
        "import json\n",
        "import matplotlib.pyplot as plt\n",
        "%matplotlib inline\n",
        "\n",
        "# If you would like to make further imports from tensorflow, add them here\n",
        "\n"
      ],
      "execution_count": null,
      "outputs": []
    },
    {
      "cell_type": "markdown",
      "metadata": {
        "id": "r3wpZrx7RfR-"
      },
      "source": [
        "#### The Shakespeare dataset\n",
        "\n",
        "In this assignment, you will use a subset of the [Shakespeare dataset](http://shakespeare.mit.edu). It consists of a single text file with several excerpts concatenated together. The data is in raw text form, and so far has not yet had any preprocessing.\n",
        "\n",
        "Your goal is to construct an unsupervised character-level sequence model that can generate text according to a distribution learned from the dataset."
      ]
    },
    {
      "cell_type": "markdown",
      "metadata": {
        "id": "2XZu3DSPRkE4"
      },
      "source": [
        "#### Import the data\n",
        "\n",
        "The dataset required for this project can be downloaded from the following link:\n",
        "\n",
        "https://drive.google.com/open?id=1pQI1ryDnuMKl5FtgBI9k9vXQ65S8xLv2\n",
        "\n",
        "You should store this file in Drive for use in this Colab notebook."
      ]
    },
    {
      "cell_type": "code",
      "source": [
        "# Install the PyDrive wrapper & import libraries.\n",
        "import numpy as np\n",
        "from pydrive.auth import GoogleAuth\n",
        "from pydrive.drive import GoogleDrive\n",
        "from google.colab import auth\n",
        "from oauth2client.client import GoogleCredentials\n",
        "\n",
        "#Authenticate and create the PyDrive client.\n",
        "auth.authenticate_user()\n",
        "gauth = GoogleAuth()\n",
        "gauth.credentials = GoogleCredentials.get_application_default()\n",
        "drive = GoogleDrive(gauth)"
      ],
      "metadata": {
        "id": "cWvkObfp5gZJ"
      },
      "execution_count": null,
      "outputs": []
    },
    {
      "cell_type": "code",
      "source": [
        "urls = [\"1pQI1ryDnuMKl5FtgBI9k9vXQ65S8xLv2\"]\n",
        "output = [\"Shakespeare.txt\"]\n",
        "\n",
        "for i in np.arange(len(urls)):\n",
        "  file_id = urls[i]\n",
        "  downloaded = drive.CreateFile({'id':file_id})\n",
        "  downloaded.GetContentFile(output[i])"
      ],
      "metadata": {
        "id": "AlX8QT9B59td"
      },
      "execution_count": null,
      "outputs": []
    },
    {
      "cell_type": "markdown",
      "metadata": {
        "id": "ppOL7TDHRfSA"
      },
      "source": [
        "#### Load and inspect the dataset"
      ]
    },
    {
      "cell_type": "code",
      "metadata": {
        "id": "XXwzWcB-RfSD"
      },
      "source": [
        "# Load the text file into a string\n",
        "\n",
        "with open('/content/Shakespeare.txt', 'r', encoding='utf-8') as file:\n",
        "    text = file.read()"
      ],
      "execution_count": null,
      "outputs": []
    },
    {
      "cell_type": "code",
      "metadata": {
        "id": "YzHw4wbCRfSH"
      },
      "source": [
        "# Create a list of chunks of text\n",
        "\n",
        "text_chunks = text.split('.')"
      ],
      "execution_count": null,
      "outputs": []
    },
    {
      "cell_type": "markdown",
      "metadata": {
        "id": "pik73Zq2RfSO"
      },
      "source": [
        "To give you a feel for what the text looks like, we will print a few chunks from the list."
      ]
    },
    {
      "cell_type": "code",
      "metadata": {
        "id": "CMZj2MIYRfSP",
        "colab": {
          "base_uri": "https://localhost:8080/"
        },
        "outputId": "7300782c-8158-4f36-a229-206190f1eac7"
      },
      "source": [
        "# Display some randomly selected text samples\n",
        "\n",
        "num_samples = 5\n",
        "inx = np.random.choice(len(text_chunks), num_samples, replace=False)\n",
        "for chunk in np.array(text_chunks)[inx]:\n",
        "    print(chunk)"
      ],
      "execution_count": null,
      "outputs": [
        {
          "output_type": "stream",
          "name": "stdout",
          "text": [
            "\n",
            "\n",
            "Third Servingman:\n",
            "Where dwellest thou?\n",
            "\n",
            "CORIOLANUS:\n",
            "Under the canopy\n",
            "\n",
            "\n",
            "ROMEO:\n",
            "Why, then is my pump well flowered\n",
            "\n",
            "\n",
            "BAPTISTA:\n",
            "Was ever gentleman thus grieved as I?\n",
            "But who comes here?\n",
            "\n",
            "GREMIO:\n",
            "Good morrow, neighbour Baptista\n",
            "\n",
            "\n",
            "BRUTUS:\n",
            "You speak o' the people,\n",
            "As if you were a god to punish, not\n",
            "A man of their infirmity\n",
            "\n",
            "She is too fair, too wise, wisely too fair,\n",
            "To merit bliss by making me despair:\n",
            "She hath forsworn to love, and in that vow\n",
            "Do I live dead that live to tell it now\n"
          ]
        }
      ]
    },
    {
      "cell_type": "markdown",
      "metadata": {
        "id": "QSxfAsFARfSX"
      },
      "source": [
        "#### Create a character-level tokenizer"
      ]
    },
    {
      "cell_type": "markdown",
      "metadata": {
        "id": "SBukx3SDRfSY"
      },
      "source": [
        "You should now write a function that returns a `Tokenizer` object. The function takes a list of strings as an argument, and should create a `Tokenizer` according to the following specification:\n",
        "\n",
        "* The number of tokens should be unlimited (there should be as many as required by the dataset).\n",
        "* Tokens should be created at the character level (not at the word level, which is the default behaviour).\n",
        "* No characters should be filtered out or ignored.\n",
        "* The original capitalization should be retained (do not convert the text to lower case)\n",
        "\n",
        "The `Tokenizer` should be fit to the `list_of_strings` argument and returned by the function.\n",
        "\n",
        "**Hint:** you may need to refer to the [documentation](https://www.tensorflow.org/api_docs/python/tf/keras/preprocessing/text/Tokenizer) for the `Tokenizer`."
      ]
    },
    {
      "cell_type": "code",
      "metadata": {
        "id": "Q8s2aR4oRfSb"
      },
      "source": [
        "#### GRADED CELL ####\n",
        "\n",
        "# Complete the following function.\n",
        "# Make sure not to change the function name or arguments.\n",
        "\n",
        "def create_character_tokenizer(list_of_strings):\n",
        "    \"\"\"\n",
        "    This function takes a list of strings as its argument. It should create\n",
        "    and return a Tokenizer according to the above specifications.\n",
        "    \"\"\"\n",
        "    tokenizer = tf.keras.preprocessing.text.Tokenizer(num_words=None,\n",
        "                                                      char_level=False,\n",
        "                                                      document_count=0)\n",
        "    tokenizer.fit_on_texts(list_of_strings)\n",
        "\n",
        "    return tokenizer\n",
        ""
      ],
      "execution_count": null,
      "outputs": []
    },
    {
      "cell_type": "code",
      "metadata": {
        "id": "aKZpIcn_RfSf"
      },
      "source": [
        "# Get the tokenizer\n",
        "\n",
        "tokenizer = create_character_tokenizer(text_chunks)"
      ],
      "execution_count": null,
      "outputs": []
    },
    {
      "cell_type": "markdown",
      "metadata": {
        "id": "gWObVg6DRfSi"
      },
      "source": [
        "#### Tokenize the text\n",
        "\n",
        "You should now write a function to use the tokenizer to map each string in `text_chunks` to its corresponding encoded sequence. The following function takes a fitted `Tokenizer` object in the first argument (as returned by `create_character_tokenizer`) and a list of strings in the second argument. The function should return a list of lists, where each sublist is a sequence of integer tokens encoding the text sequences according to the mapping stored in the tokenizer.\n",
        "\n",
        "**Hint:** you may need to refer to the [documentation](https://www.tensorflow.org/api_docs/python/tf/keras/preprocessing/text/Tokenizer) for the `Tokenizer`."
      ]
    },
    {
      "cell_type": "code",
      "metadata": {
        "id": "lkKDCvV1RfSj"
      },
      "source": [
        "#### GRADED CELL ####\n",
        "\n",
        "# Complete the following function.\n",
        "# Make sure not to change the function name or arguments.\n",
        "\n",
        "def strings_to_sequences(tokenizer, list_of_strings):\n",
        "    \"\"\"\n",
        "    This function takes a tokenizer object and a list of strings as its arguments.\n",
        "    It should use the tokenizer to map the text chunks to sequences of tokens and\n",
        "    then return this list of encoded sequences.\n",
        "    \"\"\"\n",
        "\n",
        "    sentence_seq = tokenizer.texts_to_sequences(list_of_strings)\n",
        "\n",
        "    return sentence_seq\n",
        ""
      ],
      "execution_count": null,
      "outputs": []
    },
    {
      "cell_type": "code",
      "metadata": {
        "id": "hhYb2mSlRfSo"
      },
      "source": [
        "# Encode the text chunks into tokens\n",
        "\n",
        "seq_chunks = strings_to_sequences(tokenizer, text_chunks)"
      ],
      "execution_count": null,
      "outputs": []
    },
    {
      "cell_type": "markdown",
      "metadata": {
        "id": "iRCN70xkRfSt"
      },
      "source": [
        "#### Pad the encoded sequences and store them in a numpy array"
      ]
    },
    {
      "cell_type": "markdown",
      "metadata": {
        "id": "3ucADRYoRfSu"
      },
      "source": [
        "Since not all of the text chunks are the same length, you will need to pad them in order to train on batches. You should now complete the following function, which takes the list of lists of tokens, and creates a single numpy array with the token sequences in the rows, according to the following specification:\n",
        "\n",
        "* The longest allowed sequence should be 500 tokens. Any sequence that is longer should be shortened by truncating the beginning of the sequence.\n",
        "* Use zeros for padding the sequences. The zero padding should be placed before the sequences as required.\n",
        "\n",
        "The function should then return the resulting numpy array.\n",
        "\n",
        "**Hint:** you may want to refer to the [documentation](https://www.tensorflow.org/api_docs/python/tf/keras/preprocessing/sequence/pad_sequences) for the `pad_sequences` function."
      ]
    },
    {
      "cell_type": "code",
      "metadata": {
        "id": "zLf-9KxWRfSw"
      },
      "source": [
        "#### GRADED CELL ####\n",
        "\n",
        "# Complete the following function.\n",
        "# Make sure not to change the function name or arguments.\n",
        "\n",
        "def make_padded_dataset(sequence_chunks):\n",
        "    \"\"\"\n",
        "    This function takes a list of lists of tokenized sequences, and transforms\n",
        "    them into a 2D numpy array, padding the sequences as necessary according to\n",
        "    the above specification. The function should then return the numpy array.\n",
        "    \"\"\"\n",
        "    padded_sequences = tf.keras.preprocessing.sequence.pad_sequences(sequence_chunks,\n",
        "                                                                     maxlen=500,\n",
        "                                                                     padding='pre',\n",
        "                                                                     truncating='pre',\n",
        "                                                                     value=0)\n",
        "    return padded_sequences\n",
        "\n",
        ""
      ],
      "execution_count": null,
      "outputs": []
    },
    {
      "cell_type": "code",
      "metadata": {
        "id": "IKB26MgJRfS0"
      },
      "source": [
        "# Pad the token sequence chunks and get the numpy array\n",
        "\n",
        "padded_sequences = make_padded_dataset(seq_chunks)"
      ],
      "execution_count": null,
      "outputs": []
    },
    {
      "cell_type": "markdown",
      "metadata": {
        "id": "U-4W2iICRfS3"
      },
      "source": [
        "#### Create model inputs and targets\n",
        "\n",
        "Now you are ready to build your RNN model. The model will receive a sequence of characters and predict the next character in the sequence. At training time, the model can be passed an input sequence, with the target sequence is shifted by one.\n",
        "\n",
        "For example, the expression `To be or not to be` appears in Shakespeare's play 'Hamlet'. Given input `To be or not to b`, the correct prediction is `o be or not to be`. Notice that the prediction is the same length as the input!\n",
        "\n",
        "![sequence_prediction_example](data/rnn_example.png)\n",
        "\n",
        "You should now write the following function to create an input and target array from the current `padded_sequences` array. The function has a single argument that is a 2D numpy array of shape `(num_examples, max_seq_len)`. It should fulfil the following specification:\n",
        "\n",
        "* The function should return an input array and an output array, both of size `(num_examples, max_seq_len - 1)`.\n",
        "* The input array should contain the first `max_seq_len - 1` tokens of each sequence.\n",
        "* The output array should contain the last `max_seq_len - 1` tokens of each sequence.\n",
        "\n",
        "The function should then return the tuple `(input_array, output_array)`. Note that it is possible to complete this function using numpy indexing alone!"
      ]
    },
    {
      "cell_type": "code",
      "metadata": {
        "id": "pzLY5mT3RfS5"
      },
      "source": [
        "#### GRADED CELL ####\n",
        "\n",
        "# Complete the following function.\n",
        "# Make sure not to change the function name or arguments.\n",
        "\n",
        "def create_inputs_and_targets(array_of_sequences):\n",
        "    \"\"\"\n",
        "    This function takes a 2D numpy array of token sequences, and returns a tuple of two\n",
        "    elements: the first element is the input array and the second element is the output\n",
        "    array, which are defined according to the above specification.\n",
        "    \"\"\"\n",
        "    input_sequence = array_of_sequences[:,:-1]\n",
        "    output_sequence = array_of_sequences[:,1:]\n",
        "\n",
        "    return (input_sequence, output_sequence)\n"
      ],
      "execution_count": null,
      "outputs": []
    },
    {
      "cell_type": "code",
      "metadata": {
        "id": "MzHXg9HcRfTB"
      },
      "source": [
        "# Create the input and output arrays\n",
        "\n",
        "input_seq, target_seq = create_inputs_and_targets(padded_sequences)"
      ],
      "execution_count": null,
      "outputs": []
    },
    {
      "cell_type": "markdown",
      "metadata": {
        "id": "YFTEK7hnRfTJ"
      },
      "source": [
        "#### Preprocess sequence array for stateful RNN\n",
        "\n",
        "We will build our RNN language model to be stateful, so that the internal state of the RNN will be maintained across batches. For this to be effective, we need to make sure that each element of every batch follows on from the corresponding element of the preceding batch (you may want to look back at the \"Stateful RNNs\" reading notebook earlier in the week).\n",
        "\n",
        "The following code processes the input and output sequence arrays so that they are ready to be split into batches for training a stateful RNN, by re-ordering the sequence examples (the rows) according to a specified batch size."
      ]
    },
    {
      "cell_type": "code",
      "metadata": {
        "id": "S4gsVamxRfTK"
      },
      "source": [
        "# Fix the batch size for training\n",
        "\n",
        "batch_size = 32"
      ],
      "execution_count": null,
      "outputs": []
    },
    {
      "cell_type": "code",
      "metadata": {
        "id": "cJu9VgWFRfTP"
      },
      "source": [
        "# Prepare input and output arrays for training the stateful RNN\n",
        "\n",
        "num_examples = input_seq.shape[0]\n",
        "\n",
        "num_processed_examples = num_examples - (num_examples % batch_size)\n",
        "\n",
        "input_seq = input_seq[:num_processed_examples]\n",
        "target_seq = target_seq[:num_processed_examples]\n",
        "\n",
        "steps = int(num_processed_examples / 32)  # steps per epoch\n",
        "\n",
        "inx = np.empty((0,), dtype=np.int32)\n",
        "for i in range(steps):\n",
        "    inx = np.concatenate((inx, i + np.arange(0, num_processed_examples, steps)))\n",
        "\n",
        "\n",
        "input_seq_stateful = input_seq[inx]\n",
        "target_seq_stateful = target_seq[inx]"
      ],
      "execution_count": null,
      "outputs": []
    },
    {
      "cell_type": "markdown",
      "metadata": {
        "id": "Rm8gNoNJRfTT"
      },
      "source": [
        "#### Split the data into training and validation sets\n",
        "\n",
        "We will set aside approximately 20% of the data for validation."
      ]
    },
    {
      "cell_type": "code",
      "metadata": {
        "id": "iiLWfyemRfTU"
      },
      "source": [
        "# Create the training and validation splits\n",
        "\n",
        "num_train_examples = int(batch_size * ((0.8 * num_processed_examples) // batch_size))\n",
        "\n",
        "input_train = input_seq_stateful[:num_train_examples]\n",
        "target_train = target_seq_stateful[:num_train_examples]\n",
        "\n",
        "input_valid = input_seq_stateful[num_train_examples:]\n",
        "target_valid = target_seq_stateful[num_train_examples:]"
      ],
      "execution_count": null,
      "outputs": []
    },
    {
      "cell_type": "markdown",
      "metadata": {
        "id": "FQ_mAEoPRfTX"
      },
      "source": [
        "#### Create training and validation Dataset objects\n",
        "\n",
        "You should now write a function to take the training and validation input and target arrays, and create training and validation `tf.data.Dataset` objects. The function takes an input array and target array in the first two arguments, and the batch size in the third argument. Your function should do the following:\n",
        "\n",
        "* Create a `Dataset` using the `from_tensor_slices` static method, passing in a tuple of the input and output numpy arrays.\n",
        "* Batch the `Dataset` using the `batch_size` argument, setting `drop_remainder` to `True`.\n",
        "\n",
        "The function should then return the `Dataset` object."
      ]
    },
    {
      "cell_type": "code",
      "metadata": {
        "id": "_DJAjEHKRfTY"
      },
      "source": [
        "#### GRADED CELL ####\n",
        "\n",
        "# Complete the following function.\n",
        "# Make sure not to change the function name or arguments.\n",
        "\n",
        "def make_Dataset(input_array, target_array, batch_size):\n",
        "    \"\"\"\n",
        "    This function takes two 2D numpy arrays in the first two arguments, and an integer\n",
        "    batch_size in the third argument. It should create and return a Dataset object\n",
        "    using the two numpy arrays and batch size according to the above specification.\n",
        "    \"\"\"\n",
        "    Dataset = tf.data.Dataset.from_tensor_slices((input_array,target_array))\n",
        "    Dataset_object = Dataset.batch(batch_size,drop_remainder=True)\n",
        "\n",
        "    return Dataset_object\n",
        "\n",
        ""
      ],
      "execution_count": null,
      "outputs": []
    },
    {
      "cell_type": "code",
      "metadata": {
        "id": "rzqK_qVARfTc"
      },
      "source": [
        "# Create the training and validation Datasets\n",
        "\n",
        "train_data = make_Dataset(input_train, target_train, batch_size)\n",
        "valid_data = make_Dataset(input_valid, target_valid, batch_size)"
      ],
      "execution_count": null,
      "outputs": []
    },
    {
      "cell_type": "code",
      "source": [
        "train_data.element_spec"
      ],
      "metadata": {
        "colab": {
          "base_uri": "https://localhost:8080/"
        },
        "id": "5j6ONawhLNFO",
        "outputId": "6c71e3c3-8d66-419e-e3aa-eef233a41d03"
      },
      "execution_count": null,
      "outputs": [
        {
          "output_type": "execute_result",
          "data": {
            "text/plain": [
              "(TensorSpec(shape=(32, 499), dtype=tf.int32, name=None),\n",
              " TensorSpec(shape=(32, 499), dtype=tf.int32, name=None))"
            ]
          },
          "metadata": {},
          "execution_count": 42
        }
      ]
    },
    {
      "cell_type": "markdown",
      "metadata": {
        "id": "IKfaWcCCRfTf"
      },
      "source": [
        "#### Build the recurrent neural network model"
      ]
    },
    {
      "cell_type": "markdown",
      "metadata": {
        "id": "KcPyteqDRfTh"
      },
      "source": [
        "You are now ready to build your RNN character-level language model. You should write the following function to build the model; the function takes arguments for the batch size and vocabulary size (number of tokens). Using the Sequential API, your function should build your model according to the following specifications:\n",
        "\n",
        "* The first layer should be an Embedding layer with an embedding dimension of 256 and set the vocabulary size to `vocab_size` from the function argument.\n",
        "* The Embedding layer should also mask the zero padding in the input sequences.\n",
        "* The Embedding layer should also set the `batch_input_shape` to `(batch_size, None)` (a fixed batch size is required for stateful RNNs).\n",
        "* The next layer should be a (uni-directional) GRU layer with 1024 units, set to be a stateful RNN layer.\n",
        "* The GRU layer should return the full sequence, instead of just the output state at the final time step.\n",
        "* The final layer should be a Dense layer with `vocab_size` units and no activation function.\n",
        "\n",
        "In total, the network should have 3 layers."
      ]
    },
    {
      "cell_type": "code",
      "metadata": {
        "id": "oauekqOSRfTi"
      },
      "source": [
        "#### GRADED CELL ####\n",
        "\n",
        "# Complete the following function.\n",
        "# Make sure not to change the function name or arguments.\n",
        "\n",
        "def get_model(vocab_size, batch_size):\n",
        "    \"\"\"\n",
        "    This function takes a vocabulary size and batch size, and builds and returns a\n",
        "    Sequential model according to the above specification.\n",
        "    \"\"\"\n",
        "    model = tf.keras.Sequential([\n",
        "    tf.keras.layers.Embedding(input_dim=vocab_size ,output_dim=256 ,mask_zero=True, batch_input_shape=[batch_size,None]),\n",
        "    tf.keras.layers.GRU(units=1024,stateful=True,return_sequences= True),\n",
        "    tf.keras.layers.Dense(units=vocab_size)\n",
        "    ])\n",
        "    return model\n",
        "\n",
        ""
      ],
      "execution_count": null,
      "outputs": []
    },
    {
      "cell_type": "code",
      "metadata": {
        "id": "AmmEfYo-RfTl",
        "colab": {
          "base_uri": "https://localhost:8080/"
        },
        "outputId": "7fb841d5-5874-4e3f-efce-f0e1325f9419"
      },
      "source": [
        "# Build the model and print the model summary\n",
        "\n",
        "model = get_model(len(tokenizer.word_index) + 1, batch_size)\n",
        "model.summary()"
      ],
      "execution_count": null,
      "outputs": [
        {
          "output_type": "stream",
          "name": "stdout",
          "text": [
            "Model: \"sequential\"\n",
            "_________________________________________________________________\n",
            " Layer (type)                Output Shape              Param #   \n",
            "=================================================================\n",
            " embedding (Embedding)       (32, None, 256)           3234048   \n",
            "                                                                 \n",
            " gru (GRU)                   (32, None, 1024)          3938304   \n",
            "                                                                 \n",
            " dense (Dense)               (32, None, 12633)         12948825  \n",
            "                                                                 \n",
            "=================================================================\n",
            "Total params: 20,121,177\n",
            "Trainable params: 20,121,177\n",
            "Non-trainable params: 0\n",
            "_________________________________________________________________\n"
          ]
        }
      ]
    },
    {
      "cell_type": "markdown",
      "metadata": {
        "id": "4PJ4cU0YRfTo"
      },
      "source": [
        "#### Compile and train the model\n",
        "\n",
        "You are now ready to compile and train the model. For this model and dataset, the training time is very long. Therefore for this assignment it is not a requirement to train the model. We have pre-trained a model for you (using the code below) and saved the model weights, which can be loaded to get the model predictions.\n",
        "\n",
        "It is recommended to use accelerator hardware (e.g. using Colab) when training this model. It would also be beneficial to increase the size of the model, e.g. by stacking extra recurrent layers."
      ]
    },
    {
      "cell_type": "code",
      "metadata": {
        "id": "62k8AD8eRfTp"
      },
      "source": [
        "# Choose whether to train a new model or load the pre-trained model\n",
        "\n",
        "skip_training = True"
      ],
      "execution_count": null,
      "outputs": []
    },
    {
      "cell_type": "code",
      "metadata": {
        "id": "DJhnIUHSRfTt"
      },
      "source": [
        "# Compile and train the model, or load pre-trained weights\n",
        "\n",
        "if not skip_training:\n",
        "    checkpoint_callback=tf.keras.callbacks.ModelCheckpoint(filepath='./models/ckpt',\n",
        "                                                           save_weights_only=True,\n",
        "                                                           save_best_only=True)\n",
        "    model.compile(optimizer='adam', loss=tf.keras.losses.SparseCategoricalCrossentropy(from_logits=True),\n",
        "                  metrics=['sparse_categorical_accuracy'])\n",
        "    history = model.fit(train_data, epochs=15, validation_data=valid_data,\n",
        "                        validation_steps=50, callbacks=[checkpoint_callback])"
      ],
      "execution_count": null,
      "outputs": []
    },
    {
      "cell_type": "code",
      "metadata": {
        "id": "yqjTlQyoRfTx",
        "colab": {
          "base_uri": "https://localhost:8080/",
          "height": 226
        },
        "outputId": "439301c1-2987-4348-b03d-5e9455dca40e"
      },
      "source": [
        "# Save model history as a json file, or load it if using pre-trained weights\n",
        "\n",
        "if not skip_training:\n",
        "    history_dict = dict()\n",
        "    for k, v in history.history.items():\n",
        "        history_dict[k] = [float(val) for val in history.history[k]]\n",
        "    with open('models/history.json', 'w+') as json_file:\n",
        "        json.dump(history_dict, json_file, sort_keys=True, indent=4)\n",
        "else:\n",
        "    with open('models/history.json', 'r') as json_file:\n",
        "        history_dict = json.load(json_file)"
      ],
      "execution_count": null,
      "outputs": [
        {
          "output_type": "error",
          "ename": "FileNotFoundError",
          "evalue": "ignored",
          "traceback": [
            "\u001b[0;31m---------------------------------------------------------------------------\u001b[0m",
            "\u001b[0;31mFileNotFoundError\u001b[0m                         Traceback (most recent call last)",
            "\u001b[0;32m<ipython-input-47-c8d88e85219c>\u001b[0m in \u001b[0;36m<cell line: 3>\u001b[0;34m()\u001b[0m\n\u001b[1;32m      8\u001b[0m         \u001b[0mjson\u001b[0m\u001b[0;34m.\u001b[0m\u001b[0mdump\u001b[0m\u001b[0;34m(\u001b[0m\u001b[0mhistory_dict\u001b[0m\u001b[0;34m,\u001b[0m \u001b[0mjson_file\u001b[0m\u001b[0;34m,\u001b[0m \u001b[0msort_keys\u001b[0m\u001b[0;34m=\u001b[0m\u001b[0;32mTrue\u001b[0m\u001b[0;34m,\u001b[0m \u001b[0mindent\u001b[0m\u001b[0;34m=\u001b[0m\u001b[0;36m4\u001b[0m\u001b[0;34m)\u001b[0m\u001b[0;34m\u001b[0m\u001b[0;34m\u001b[0m\u001b[0m\n\u001b[1;32m      9\u001b[0m \u001b[0;32melse\u001b[0m\u001b[0;34m:\u001b[0m\u001b[0;34m\u001b[0m\u001b[0;34m\u001b[0m\u001b[0m\n\u001b[0;32m---> 10\u001b[0;31m     \u001b[0;32mwith\u001b[0m \u001b[0mopen\u001b[0m\u001b[0;34m(\u001b[0m\u001b[0;34m'models/history.json'\u001b[0m\u001b[0;34m,\u001b[0m \u001b[0;34m'r'\u001b[0m\u001b[0;34m)\u001b[0m \u001b[0;32mas\u001b[0m \u001b[0mjson_file\u001b[0m\u001b[0;34m:\u001b[0m\u001b[0;34m\u001b[0m\u001b[0;34m\u001b[0m\u001b[0m\n\u001b[0m\u001b[1;32m     11\u001b[0m         \u001b[0mhistory_dict\u001b[0m \u001b[0;34m=\u001b[0m \u001b[0mjson\u001b[0m\u001b[0;34m.\u001b[0m\u001b[0mload\u001b[0m\u001b[0;34m(\u001b[0m\u001b[0mjson_file\u001b[0m\u001b[0;34m)\u001b[0m\u001b[0;34m\u001b[0m\u001b[0;34m\u001b[0m\u001b[0m\n",
            "\u001b[0;31mFileNotFoundError\u001b[0m: [Errno 2] No such file or directory: 'models/history.json'"
          ]
        }
      ]
    },
    {
      "cell_type": "markdown",
      "metadata": {
        "id": "upDpsmf9RfT2"
      },
      "source": [
        "#### Plot the learning curves"
      ]
    },
    {
      "cell_type": "code",
      "metadata": {
        "id": "gGpPk5bbRfT3",
        "colab": {
          "base_uri": "https://localhost:8080/",
          "height": 678
        },
        "outputId": "6811b850-8e46-4df3-8a39-dc7d77ebab9f"
      },
      "source": [
        "# Run this cell to plot accuracy vs epoch and loss vs epoch\n",
        "\n",
        "plt.figure(figsize=(15,5))\n",
        "plt.subplot(121)\n",
        "plt.plot(history_dict['sparse_categorical_accuracy'])\n",
        "plt.plot(history_dict['val_sparse_categorical_accuracy'])\n",
        "plt.title('Accuracy vs. epochs')\n",
        "plt.ylabel('Accuracy')\n",
        "plt.xlabel('Epoch')\n",
        "plt.xticks(np.arange(len(history_dict['sparse_categorical_accuracy'])))\n",
        "ax = plt.gca()\n",
        "ax.set_xticklabels(1 + np.arange(len(history_dict['sparse_categorical_accuracy'])))\n",
        "plt.legend(['Training', 'Validation'], loc='lower right')\n",
        "\n",
        "plt.subplot(122)\n",
        "plt.plot(history_dict['loss'])\n",
        "plt.plot(history_dict['val_loss'])\n",
        "plt.title('Loss vs. epochs')\n",
        "plt.ylabel('Loss')\n",
        "plt.xlabel('Epoch')\n",
        "plt.xticks(np.arange(len(history_dict['sparse_categorical_accuracy'])))\n",
        "ax = plt.gca()\n",
        "ax.set_xticklabels(1 + np.arange(len(history_dict['sparse_categorical_accuracy'])))\n",
        "plt.legend(['Training', 'Validation'], loc='upper right')\n",
        "plt.show()"
      ],
      "execution_count": null,
      "outputs": [
        {
          "output_type": "error",
          "ename": "NameError",
          "evalue": "ignored",
          "traceback": [
            "\u001b[0;31m---------------------------------------------------------------------------\u001b[0m",
            "\u001b[0;31mNameError\u001b[0m                                 Traceback (most recent call last)",
            "\u001b[0;32m<ipython-input-48-dd14d573509d>\u001b[0m in \u001b[0;36m<cell line: 5>\u001b[0;34m()\u001b[0m\n\u001b[1;32m      3\u001b[0m \u001b[0mplt\u001b[0m\u001b[0;34m.\u001b[0m\u001b[0mfigure\u001b[0m\u001b[0;34m(\u001b[0m\u001b[0mfigsize\u001b[0m\u001b[0;34m=\u001b[0m\u001b[0;34m(\u001b[0m\u001b[0;36m15\u001b[0m\u001b[0;34m,\u001b[0m\u001b[0;36m5\u001b[0m\u001b[0;34m)\u001b[0m\u001b[0;34m)\u001b[0m\u001b[0;34m\u001b[0m\u001b[0;34m\u001b[0m\u001b[0m\n\u001b[1;32m      4\u001b[0m \u001b[0mplt\u001b[0m\u001b[0;34m.\u001b[0m\u001b[0msubplot\u001b[0m\u001b[0;34m(\u001b[0m\u001b[0;36m121\u001b[0m\u001b[0;34m)\u001b[0m\u001b[0;34m\u001b[0m\u001b[0;34m\u001b[0m\u001b[0m\n\u001b[0;32m----> 5\u001b[0;31m \u001b[0mplt\u001b[0m\u001b[0;34m.\u001b[0m\u001b[0mplot\u001b[0m\u001b[0;34m(\u001b[0m\u001b[0mhistory_dict\u001b[0m\u001b[0;34m[\u001b[0m\u001b[0;34m'sparse_categorical_accuracy'\u001b[0m\u001b[0;34m]\u001b[0m\u001b[0;34m)\u001b[0m\u001b[0;34m\u001b[0m\u001b[0;34m\u001b[0m\u001b[0m\n\u001b[0m\u001b[1;32m      6\u001b[0m \u001b[0mplt\u001b[0m\u001b[0;34m.\u001b[0m\u001b[0mplot\u001b[0m\u001b[0;34m(\u001b[0m\u001b[0mhistory_dict\u001b[0m\u001b[0;34m[\u001b[0m\u001b[0;34m'val_sparse_categorical_accuracy'\u001b[0m\u001b[0;34m]\u001b[0m\u001b[0;34m)\u001b[0m\u001b[0;34m\u001b[0m\u001b[0;34m\u001b[0m\u001b[0m\n\u001b[1;32m      7\u001b[0m \u001b[0mplt\u001b[0m\u001b[0;34m.\u001b[0m\u001b[0mtitle\u001b[0m\u001b[0;34m(\u001b[0m\u001b[0;34m'Accuracy vs. epochs'\u001b[0m\u001b[0;34m)\u001b[0m\u001b[0;34m\u001b[0m\u001b[0;34m\u001b[0m\u001b[0m\n",
            "\u001b[0;31mNameError\u001b[0m: name 'history_dict' is not defined"
          ]
        },
        {
          "output_type": "display_data",
          "data": {
            "text/plain": [
              "<Figure size 1500x500 with 1 Axes>"
            ],
            "image/png": "[encoded data removed]"
          },
          "metadata": {}
        }
      ]
    },
    {
      "cell_type": "markdown",
      "metadata": {
        "id": "2msBeLSoRfT7"
      },
      "source": [
        "#### Write a text generation algorithm\n",
        "\n",
        "You can now use the model to generate text! In order to generate a single text sequence, the model needs to be rebuilt with a batch size of 1."
      ]
    },
    {
      "cell_type": "code",
      "metadata": {
        "id": "zzQW69qxRfT_",
        "colab": {
          "base_uri": "https://localhost:8080/",
          "height": 360
        },
        "outputId": "266503b2-ec13-456d-a1ad-6b7456990954"
      },
      "source": [
        "# Re-build the model and load the saved weights\n",
        "\n",
        "model = get_model(len(tokenizer.word_index) + 1, batch_size=1)\n",
        "model.load_weights(tf.train.latest_checkpoint('./models/'))"
      ],
      "execution_count": null,
      "outputs": [
        {
          "output_type": "error",
          "ename": "AttributeError",
          "evalue": "ignored",
          "traceback": [
            "\u001b[0;31m---------------------------------------------------------------------------\u001b[0m",
            "\u001b[0;31mAttributeError\u001b[0m                            Traceback (most recent call last)",
            "\u001b[0;32m<ipython-input-49-4806f848032b>\u001b[0m in \u001b[0;36m<cell line: 4>\u001b[0;34m()\u001b[0m\n\u001b[1;32m      2\u001b[0m \u001b[0;34m\u001b[0m\u001b[0m\n\u001b[1;32m      3\u001b[0m \u001b[0mmodel\u001b[0m \u001b[0;34m=\u001b[0m \u001b[0mget_model\u001b[0m\u001b[0;34m(\u001b[0m\u001b[0mlen\u001b[0m\u001b[0;34m(\u001b[0m\u001b[0mtokenizer\u001b[0m\u001b[0;34m.\u001b[0m\u001b[0mword_index\u001b[0m\u001b[0;34m)\u001b[0m \u001b[0;34m+\u001b[0m \u001b[0;36m1\u001b[0m\u001b[0;34m,\u001b[0m \u001b[0mbatch_size\u001b[0m\u001b[0;34m=\u001b[0m\u001b[0;36m1\u001b[0m\u001b[0;34m)\u001b[0m\u001b[0;34m\u001b[0m\u001b[0;34m\u001b[0m\u001b[0m\n\u001b[0;32m----> 4\u001b[0;31m \u001b[0mmodel\u001b[0m\u001b[0;34m.\u001b[0m\u001b[0mload_weights\u001b[0m\u001b[0;34m(\u001b[0m\u001b[0mtf\u001b[0m\u001b[0;34m.\u001b[0m\u001b[0mtrain\u001b[0m\u001b[0;34m.\u001b[0m\u001b[0mlatest_checkpoint\u001b[0m\u001b[0;34m(\u001b[0m\u001b[0;34m'./models/'\u001b[0m\u001b[0;34m)\u001b[0m\u001b[0;34m)\u001b[0m\u001b[0;34m\u001b[0m\u001b[0;34m\u001b[0m\u001b[0m\n\u001b[0m",
            "\u001b[0;32m/usr/local/lib/python3.10/dist-packages/keras/utils/traceback_utils.py\u001b[0m in \u001b[0;36merror_handler\u001b[0;34m(*args, **kwargs)\u001b[0m\n\u001b[1;32m     68\u001b[0m             \u001b[0;31m# To get the full stack trace, call:\u001b[0m\u001b[0;34m\u001b[0m\u001b[0;34m\u001b[0m\u001b[0m\n\u001b[1;32m     69\u001b[0m             \u001b[0;31m# `tf.debugging.disable_traceback_filtering()`\u001b[0m\u001b[0;34m\u001b[0m\u001b[0;34m\u001b[0m\u001b[0m\n\u001b[0;32m---> 70\u001b[0;31m             \u001b[0;32mraise\u001b[0m \u001b[0me\u001b[0m\u001b[0;34m.\u001b[0m\u001b[0mwith_traceback\u001b[0m\u001b[0;34m(\u001b[0m\u001b[0mfiltered_tb\u001b[0m\u001b[0;34m)\u001b[0m \u001b[0;32mfrom\u001b[0m \u001b[0;32mNone\u001b[0m\u001b[0;34m\u001b[0m\u001b[0;34m\u001b[0m\u001b[0m\n\u001b[0m\u001b[1;32m     71\u001b[0m         \u001b[0;32mfinally\u001b[0m\u001b[0;34m:\u001b[0m\u001b[0;34m\u001b[0m\u001b[0;34m\u001b[0m\u001b[0m\n\u001b[1;32m     72\u001b[0m             \u001b[0;32mdel\u001b[0m \u001b[0mfiltered_tb\u001b[0m\u001b[0;34m\u001b[0m\u001b[0;34m\u001b[0m\u001b[0m\n",
            "\u001b[0;32m/usr/local/lib/python3.10/dist-packages/keras/saving/legacy/saving_utils.py\u001b[0m in \u001b[0;36mis_hdf5_filepath\u001b[0;34m(filepath)\u001b[0m\n\u001b[1;32m    366\u001b[0m \u001b[0;32mdef\u001b[0m \u001b[0mis_hdf5_filepath\u001b[0m\u001b[0;34m(\u001b[0m\u001b[0mfilepath\u001b[0m\u001b[0;34m)\u001b[0m\u001b[0;34m:\u001b[0m\u001b[0;34m\u001b[0m\u001b[0;34m\u001b[0m\u001b[0m\n\u001b[1;32m    367\u001b[0m     return (\n\u001b[0;32m--> 368\u001b[0;31m         \u001b[0mfilepath\u001b[0m\u001b[0;34m.\u001b[0m\u001b[0mendswith\u001b[0m\u001b[0;34m(\u001b[0m\u001b[0;34m\".h5\"\u001b[0m\u001b[0;34m)\u001b[0m\u001b[0;34m\u001b[0m\u001b[0;34m\u001b[0m\u001b[0m\n\u001b[0m\u001b[1;32m    369\u001b[0m         \u001b[0;32mor\u001b[0m \u001b[0mfilepath\u001b[0m\u001b[0;34m.\u001b[0m\u001b[0mendswith\u001b[0m\u001b[0;34m(\u001b[0m\u001b[0;34m\".keras\"\u001b[0m\u001b[0;34m)\u001b[0m\u001b[0;34m\u001b[0m\u001b[0;34m\u001b[0m\u001b[0m\n\u001b[1;32m    370\u001b[0m         \u001b[0;32mor\u001b[0m \u001b[0mfilepath\u001b[0m\u001b[0;34m.\u001b[0m\u001b[0mendswith\u001b[0m\u001b[0;34m(\u001b[0m\u001b[0;34m\".hdf5\"\u001b[0m\u001b[0;34m)\u001b[0m\u001b[0;34m\u001b[0m\u001b[0;34m\u001b[0m\u001b[0m\n",
            "\u001b[0;31mAttributeError\u001b[0m: 'NoneType' object has no attribute 'endswith'"
          ]
        }
      ]
    },
    {
      "cell_type": "markdown",
      "metadata": {
        "id": "TM3LHQAgRfUD"
      },
      "source": [
        "An algorithm to generate text is as follows:\n",
        "\n",
        "1. Specify a seed string (e.g. `'ROMEO:'`) to get the network started, and a define number of characters for the model to generate, `num_generation_steps`.\n",
        "2. Tokenize this sentence to obtain a list containing one list of the integer tokens.\n",
        "3. Reset the initial state of the network.\n",
        "4. Convert the token list into a Tensor (or numpy array) and pass it to your model as a batch of size one.\n",
        "5. Get the model prediction (logits) for the last time step and extract the state of the recurrent layer.\n",
        "6. Use the logits to construct a categorical distribution and sample a token from it.\n",
        "7. Repeat the following for `num_generation_steps - 1` steps:\n",
        "\n",
        "    1. Use the saved state of the recurrent layer and the last sampled token to get new logit predictions\n",
        "    2. Use the logits to construct a new categorical distribution and sample a token from it.\n",
        "    3. Save the updated state of the recurrent layer.    \n",
        "\n",
        "8. Take the final list of tokens and convert to text using the Tokenizer.\n",
        "\n",
        "Note that the internal state of the recurrent layer can be accessed using the `states` property. For the GRU layer, it is a list of one variable:"
      ]
    },
    {
      "cell_type": "code",
      "metadata": {
        "id": "DDbzdt0LRfUE",
        "colab": {
          "base_uri": "https://localhost:8080/"
        },
        "outputId": "393799b8-1b90-4b45-baa1-9b2723d8d880"
      },
      "source": [
        "# Inspect the model's current recurrent state\n",
        "\n",
        "model.layers[1].states"
      ],
      "execution_count": null,
      "outputs": [
        {
          "output_type": "execute_result",
          "data": {
            "text/plain": [
              "[<tf.Variable 'gru_1/Variable:0' shape=(1, 1024) dtype=float32, numpy=array([[0., 0., 0., ..., 0., 0., 0.]], dtype=float32)>]"
            ]
          },
          "metadata": {},
          "execution_count": 50
        }
      ]
    },
    {
      "cell_type": "markdown",
      "metadata": {
        "id": "2KvmtkvrRfUI"
      },
      "source": [
        "We will break the algorithm down into two steps. First, you should now complete the following function that takes a sequence of tokens of any length and returns the model's prediction (the logits) for the last time step. The specification is as follows:\n",
        "\n",
        "* The token sequence will be a python list, containing one list of integer tokens, e.g. `[[1, 2, 3, 4]]`\n",
        "* The function should convert the list into a 2D Tensor or numpy array\n",
        "* If the function argument `initial_state` is `None`, then the function should reset the state of the recurrent layer to zeros.\n",
        "* Otherwise, if the function argument `initial_state` is a 2D Tensor or numpy array, assign the value of the internal state of the GRU layer to this argument.\n",
        "* Get the model's prediction (logits) for the last time step only.\n",
        "\n",
        "The function should then return the logits as a 2D numpy array, where the first dimension is equal to 1 (batch size).\n",
        "\n",
        "**Hint:** the internal state of the recurrent can be reset to zeros using the `reset_states` method."
      ]
    },
    {
      "cell_type": "code",
      "metadata": {
        "id": "3aHg6y44RfUJ"
      },
      "source": [
        "#### GRADED CELL ####\n",
        "\n",
        "# Complete the following function.\n",
        "# Make sure not to change the function name or arguments.\n",
        "\n",
        "def get_logits(model, token_sequence, initial_state=None):\n",
        "    \"\"\"\n",
        "    This function takes a model object, a token sequence and an optional initial\n",
        "    state for the recurrent layer. The function should return the logits prediction\n",
        "    for the final time step as a 2D numpy array.\n",
        "    \"\"\"\n",
        "    if initial_state is None:\n",
        "        model.layers[1].reset_states()\n",
        "    else:\n",
        "        model.layers[1].reset_states(states=initial_state)\n",
        "        # model.layers[1].initial_state = initial_state\n",
        "    token_sequence = np.array(token_sequence)\n",
        "    predicted = model.predict(token_sequence) # (1, 4, 65)\n",
        "    # shape should be 2D\n",
        "    pred = np.expand_dims(predicted[0,-1,:], 0) # (1, 65)\n",
        "    print(pred.shape)\n",
        "    return pred\n",
        "\n",
        ""
      ],
      "execution_count": null,
      "outputs": []
    },
    {
      "cell_type": "code",
      "metadata": {
        "id": "La2CNRzqRfUN",
        "colab": {
          "base_uri": "https://localhost:8080/",
          "height": 798
        },
        "outputId": "96000668-9925-4d49-a1e3-b70b59440427"
      },
      "source": [
        "# Test the get_logits function by passing a dummy token sequence\n",
        "\n",
        "dummy_initial_state = tf.random.normal(model.layers[1].states[0].shape)\n",
        "get_logits(model, [[1, 2, 3, 4]], initial_state=dummy_initial_state)"
      ],
      "execution_count": null,
      "outputs": [
        {
          "output_type": "error",
          "ename": "ValueError",
          "evalue": "ignored",
          "traceback": [
            "\u001b[0;31m---------------------------------------------------------------------------\u001b[0m",
            "\u001b[0;31mValueError\u001b[0m                                Traceback (most recent call last)",
            "\u001b[0;32m<ipython-input-52-8d0b63431cde>\u001b[0m in \u001b[0;36m<cell line: 4>\u001b[0;34m()\u001b[0m\n\u001b[1;32m      2\u001b[0m \u001b[0;34m\u001b[0m\u001b[0m\n\u001b[1;32m      3\u001b[0m \u001b[0mdummy_initial_state\u001b[0m \u001b[0;34m=\u001b[0m \u001b[0mtf\u001b[0m\u001b[0;34m.\u001b[0m\u001b[0mrandom\u001b[0m\u001b[0;34m.\u001b[0m\u001b[0mnormal\u001b[0m\u001b[0;34m(\u001b[0m\u001b[0mmodel\u001b[0m\u001b[0;34m.\u001b[0m\u001b[0mlayers\u001b[0m\u001b[0;34m[\u001b[0m\u001b[0;36m1\u001b[0m\u001b[0;34m]\u001b[0m\u001b[0;34m.\u001b[0m\u001b[0mstates\u001b[0m\u001b[0;34m[\u001b[0m\u001b[0;36m0\u001b[0m\u001b[0;34m]\u001b[0m\u001b[0;34m.\u001b[0m\u001b[0mshape\u001b[0m\u001b[0;34m)\u001b[0m\u001b[0;34m\u001b[0m\u001b[0;34m\u001b[0m\u001b[0m\n\u001b[0;32m----> 4\u001b[0;31m \u001b[0mget_logits\u001b[0m\u001b[0;34m(\u001b[0m\u001b[0mmodel\u001b[0m\u001b[0;34m,\u001b[0m \u001b[0;34m[\u001b[0m\u001b[0;34m[\u001b[0m\u001b[0;36m1\u001b[0m\u001b[0;34m,\u001b[0m \u001b[0;36m2\u001b[0m\u001b[0;34m,\u001b[0m \u001b[0;36m3\u001b[0m\u001b[0;34m,\u001b[0m \u001b[0;36m4\u001b[0m\u001b[0;34m]\u001b[0m\u001b[0;34m]\u001b[0m\u001b[0;34m,\u001b[0m \u001b[0minitial_state\u001b[0m\u001b[0;34m=\u001b[0m\u001b[0mdummy_initial_state\u001b[0m\u001b[0;34m)\u001b[0m\u001b[0;34m\u001b[0m\u001b[0;34m\u001b[0m\u001b[0m\n\u001b[0m",
            "\u001b[0;32m<ipython-input-51-4ccc6a2f0424>\u001b[0m in \u001b[0;36mget_logits\u001b[0;34m(model, token_sequence, initial_state)\u001b[0m\n\u001b[1;32m     16\u001b[0m         \u001b[0;31m# model.layers[1].initial_state = initial_state\u001b[0m\u001b[0;34m\u001b[0m\u001b[0;34m\u001b[0m\u001b[0m\n\u001b[1;32m     17\u001b[0m     \u001b[0mtoken_sequence\u001b[0m \u001b[0;34m=\u001b[0m \u001b[0mnp\u001b[0m\u001b[0;34m.\u001b[0m\u001b[0marray\u001b[0m\u001b[0;34m(\u001b[0m\u001b[0mtoken_sequence\u001b[0m\u001b[0;34m)\u001b[0m\u001b[0;34m\u001b[0m\u001b[0;34m\u001b[0m\u001b[0m\n\u001b[0;32m---> 18\u001b[0;31m     \u001b[0mpredicted\u001b[0m \u001b[0;34m=\u001b[0m \u001b[0mmodel\u001b[0m\u001b[0;34m.\u001b[0m\u001b[0mpredict\u001b[0m\u001b[0;34m(\u001b[0m\u001b[0mtoken_sequence\u001b[0m\u001b[0;34m)\u001b[0m \u001b[0;31m# (1, 4, 65)\u001b[0m\u001b[0;34m\u001b[0m\u001b[0;34m\u001b[0m\u001b[0m\n\u001b[0m\u001b[1;32m     19\u001b[0m     \u001b[0;31m# shape should be 2D\u001b[0m\u001b[0;34m\u001b[0m\u001b[0;34m\u001b[0m\u001b[0m\n\u001b[1;32m     20\u001b[0m     \u001b[0mpred\u001b[0m \u001b[0;34m=\u001b[0m \u001b[0mnp\u001b[0m\u001b[0;34m.\u001b[0m\u001b[0mexpand_dims\u001b[0m\u001b[0;34m(\u001b[0m\u001b[0mpredicted\u001b[0m\u001b[0;34m[\u001b[0m\u001b[0;36m0\u001b[0m\u001b[0;34m,\u001b[0m\u001b[0;34m-\u001b[0m\u001b[0;36m1\u001b[0m\u001b[0;34m,\u001b[0m\u001b[0;34m:\u001b[0m\u001b[0;34m]\u001b[0m\u001b[0;34m,\u001b[0m \u001b[0;36m0\u001b[0m\u001b[0;34m)\u001b[0m \u001b[0;31m# (1, 65)\u001b[0m\u001b[0;34m\u001b[0m\u001b[0;34m\u001b[0m\u001b[0m\n",
            "\u001b[0;32m/usr/local/lib/python3.10/dist-packages/keras/utils/traceback_utils.py\u001b[0m in \u001b[0;36merror_handler\u001b[0;34m(*args, **kwargs)\u001b[0m\n\u001b[1;32m     68\u001b[0m             \u001b[0;31m# To get the full stack trace, call:\u001b[0m\u001b[0;34m\u001b[0m\u001b[0;34m\u001b[0m\u001b[0m\n\u001b[1;32m     69\u001b[0m             \u001b[0;31m# `tf.debugging.disable_traceback_filtering()`\u001b[0m\u001b[0;34m\u001b[0m\u001b[0;34m\u001b[0m\u001b[0m\n\u001b[0;32m---> 70\u001b[0;31m             \u001b[0;32mraise\u001b[0m \u001b[0me\u001b[0m\u001b[0;34m.\u001b[0m\u001b[0mwith_traceback\u001b[0m\u001b[0;34m(\u001b[0m\u001b[0mfiltered_tb\u001b[0m\u001b[0;34m)\u001b[0m \u001b[0;32mfrom\u001b[0m \u001b[0;32mNone\u001b[0m\u001b[0;34m\u001b[0m\u001b[0;34m\u001b[0m\u001b[0m\n\u001b[0m\u001b[1;32m     71\u001b[0m         \u001b[0;32mfinally\u001b[0m\u001b[0;34m:\u001b[0m\u001b[0;34m\u001b[0m\u001b[0;34m\u001b[0m\u001b[0m\n\u001b[1;32m     72\u001b[0m             \u001b[0;32mdel\u001b[0m \u001b[0mfiltered_tb\u001b[0m\u001b[0;34m\u001b[0m\u001b[0;34m\u001b[0m\u001b[0m\n",
            "\u001b[0;32m/usr/local/lib/python3.10/dist-packages/keras/engine/training.py\u001b[0m in \u001b[0;36mtf__predict_function\u001b[0;34m(iterator)\u001b[0m\n\u001b[1;32m     13\u001b[0m                 \u001b[0;32mtry\u001b[0m\u001b[0;34m:\u001b[0m\u001b[0;34m\u001b[0m\u001b[0;34m\u001b[0m\u001b[0m\n\u001b[1;32m     14\u001b[0m                     \u001b[0mdo_return\u001b[0m \u001b[0;34m=\u001b[0m \u001b[0;32mTrue\u001b[0m\u001b[0;34m\u001b[0m\u001b[0;34m\u001b[0m\u001b[0m\n\u001b[0;32m---> 15\u001b[0;31m                     \u001b[0mretval_\u001b[0m \u001b[0;34m=\u001b[0m \u001b[0mag__\u001b[0m\u001b[0;34m.\u001b[0m\u001b[0mconverted_call\u001b[0m\u001b[0;34m(\u001b[0m\u001b[0mag__\u001b[0m\u001b[0;34m.\u001b[0m\u001b[0mld\u001b[0m\u001b[0;34m(\u001b[0m\u001b[0mstep_function\u001b[0m\u001b[0;34m)\u001b[0m\u001b[0;34m,\u001b[0m \u001b[0;34m(\u001b[0m\u001b[0mag__\u001b[0m\u001b[0;34m.\u001b[0m\u001b[0mld\u001b[0m\u001b[0;34m(\u001b[0m\u001b[0mself\u001b[0m\u001b[0;34m)\u001b[0m\u001b[0;34m,\u001b[0m \u001b[0mag__\u001b[0m\u001b[0;34m.\u001b[0m\u001b[0mld\u001b[0m\u001b[0;34m(\u001b[0m\u001b[0miterator\u001b[0m\u001b[0;34m)\u001b[0m\u001b[0;34m)\u001b[0m\u001b[0;34m,\u001b[0m \u001b[0;32mNone\u001b[0m\u001b[0;34m,\u001b[0m \u001b[0mfscope\u001b[0m\u001b[0;34m)\u001b[0m\u001b[0;34m\u001b[0m\u001b[0;34m\u001b[0m\u001b[0m\n\u001b[0m\u001b[1;32m     16\u001b[0m                 \u001b[0;32mexcept\u001b[0m\u001b[0;34m:\u001b[0m\u001b[0;34m\u001b[0m\u001b[0;34m\u001b[0m\u001b[0m\n\u001b[1;32m     17\u001b[0m                     \u001b[0mdo_return\u001b[0m \u001b[0;34m=\u001b[0m \u001b[0;32mFalse\u001b[0m\u001b[0;34m\u001b[0m\u001b[0;34m\u001b[0m\u001b[0m\n",
            "\u001b[0;31mValueError\u001b[0m: in user code:\n\n    File \"/usr/local/lib/python3.10/dist-packages/keras/engine/training.py\", line 2169, in predict_function  *\n        return step_function(self, iterator)\n    File \"/usr/local/lib/python3.10/dist-packages/keras/engine/training.py\", line 2155, in step_function  **\n        outputs = model.distribute_strategy.run(run_step, args=(data,))\n    File \"/usr/local/lib/python3.10/dist-packages/keras/engine/training.py\", line 2143, in run_step  **\n        outputs = model.predict_step(data)\n    File \"/usr/local/lib/python3.10/dist-packages/keras/engine/training.py\", line 2111, in predict_step\n        return self(x, training=False)\n    File \"/usr/local/lib/python3.10/dist-packages/keras/utils/traceback_utils.py\", line 70, in error_handler\n        raise e.with_traceback(filtered_tb) from None\n    File \"/usr/local/lib/python3.10/dist-packages/keras/backend.py\", line 5126, in rnn\n        final_outputs = tf.compat.v1.while_loop(\n\n    ValueError: Exception encountered when calling layer 'gru_1' (type GRU).\n    \n    Input tensor `init_h:0` enters the loop with shape (1, 1024), but has shape (None, 1024) after one iteration. To allow the shape to vary across iterations, use the `shape_invariants` argument of tf.while_loop to specify a less-specific shape.\n    \n    Call arguments received by layer 'gru_1' (type GRU):\n      • inputs=tf.Tensor(shape=(None, 4, 256), dtype=float32)\n      • mask=tf.Tensor(shape=(None, 4), dtype=bool)\n      • training=False\n      • initial_state=None\n"
          ]
        }
      ]
    },
    {
      "cell_type": "markdown",
      "metadata": {
        "id": "KcMB8Yv5RfUQ"
      },
      "source": [
        "You should now write a function that takes a logits prediction similar to the above, uses it to create a categorical distribution, and samples a token from this distribution. The following function takes a 2D numpy array `logits` as an argument, and should return a single integer prediction that is sampled from the categorical distribution.\n",
        "\n",
        "**Hint:** you might find the `tf.random.categorical` function useful for this; see the documentation [here](https://www.tensorflow.org/api_docs/python/tf/random/categorical)."
      ]
    },
    {
      "cell_type": "code",
      "metadata": {
        "id": "LObVBMdzRfUS"
      },
      "source": [
        "#### GRADED CELL ####\n",
        "\n",
        "# Complete the following function.\n",
        "# Make sure not to change the function name or arguments.\n",
        "\n",
        "def sample_token(logits):\n",
        "    \"\"\"\n",
        "    This function takes a 2D numpy array as an input, and constructs a\n",
        "    categorical distribution using it. It should then sample from this\n",
        "    distribution and return the sample as a single integer.\n",
        "    \"\"\"\n",
        "    sampled_indices = tf.random.categorical(logits, num_samples=1)\n",
        "    sampled_indices = tf.squeeze(sampled_indices,axis=-1).numpy()\n",
        "\n",
        "    return sampled_indices[0]\n",
        "\n",
        ""
      ],
      "execution_count": null,
      "outputs": []
    },
    {
      "cell_type": "code",
      "metadata": {
        "id": "MrgPsuOYRfUV",
        "colab": {
          "base_uri": "https://localhost:8080/",
          "height": 816
        },
        "outputId": "5abfaf02-31ee-4097-c5c5-446ceca94418"
      },
      "source": [
        "# Test the sample_token function by passing dummy logits\n",
        "\n",
        "dummy_initial_state = tf.random.normal(model.layers[1].states[0].shape)\n",
        "dummy_logits = get_logits(model, [[1, 2, 3, 4]], initial_state=dummy_initial_state)\n",
        "sample_token(dummy_logits)"
      ],
      "execution_count": null,
      "outputs": [
        {
          "output_type": "error",
          "ename": "ValueError",
          "evalue": "ignored",
          "traceback": [
            "\u001b[0;31m---------------------------------------------------------------------------\u001b[0m",
            "\u001b[0;31mValueError\u001b[0m                                Traceback (most recent call last)",
            "\u001b[0;32m<ipython-input-54-b1c4256278c9>\u001b[0m in \u001b[0;36m<cell line: 4>\u001b[0;34m()\u001b[0m\n\u001b[1;32m      2\u001b[0m \u001b[0;34m\u001b[0m\u001b[0m\n\u001b[1;32m      3\u001b[0m \u001b[0mdummy_initial_state\u001b[0m \u001b[0;34m=\u001b[0m \u001b[0mtf\u001b[0m\u001b[0;34m.\u001b[0m\u001b[0mrandom\u001b[0m\u001b[0;34m.\u001b[0m\u001b[0mnormal\u001b[0m\u001b[0;34m(\u001b[0m\u001b[0mmodel\u001b[0m\u001b[0;34m.\u001b[0m\u001b[0mlayers\u001b[0m\u001b[0;34m[\u001b[0m\u001b[0;36m1\u001b[0m\u001b[0;34m]\u001b[0m\u001b[0;34m.\u001b[0m\u001b[0mstates\u001b[0m\u001b[0;34m[\u001b[0m\u001b[0;36m0\u001b[0m\u001b[0;34m]\u001b[0m\u001b[0;34m.\u001b[0m\u001b[0mshape\u001b[0m\u001b[0;34m)\u001b[0m\u001b[0;34m\u001b[0m\u001b[0;34m\u001b[0m\u001b[0m\n\u001b[0;32m----> 4\u001b[0;31m \u001b[0mdummy_logits\u001b[0m \u001b[0;34m=\u001b[0m \u001b[0mget_logits\u001b[0m\u001b[0;34m(\u001b[0m\u001b[0mmodel\u001b[0m\u001b[0;34m,\u001b[0m \u001b[0;34m[\u001b[0m\u001b[0;34m[\u001b[0m\u001b[0;36m1\u001b[0m\u001b[0;34m,\u001b[0m \u001b[0;36m2\u001b[0m\u001b[0;34m,\u001b[0m \u001b[0;36m3\u001b[0m\u001b[0;34m,\u001b[0m \u001b[0;36m4\u001b[0m\u001b[0;34m]\u001b[0m\u001b[0;34m]\u001b[0m\u001b[0;34m,\u001b[0m \u001b[0minitial_state\u001b[0m\u001b[0;34m=\u001b[0m\u001b[0mdummy_initial_state\u001b[0m\u001b[0;34m)\u001b[0m\u001b[0;34m\u001b[0m\u001b[0;34m\u001b[0m\u001b[0m\n\u001b[0m\u001b[1;32m      5\u001b[0m \u001b[0msample_token\u001b[0m\u001b[0;34m(\u001b[0m\u001b[0mdummy_logits\u001b[0m\u001b[0;34m)\u001b[0m\u001b[0;34m\u001b[0m\u001b[0;34m\u001b[0m\u001b[0m\n",
            "\u001b[0;32m<ipython-input-51-4ccc6a2f0424>\u001b[0m in \u001b[0;36mget_logits\u001b[0;34m(model, token_sequence, initial_state)\u001b[0m\n\u001b[1;32m     16\u001b[0m         \u001b[0;31m# model.layers[1].initial_state = initial_state\u001b[0m\u001b[0;34m\u001b[0m\u001b[0;34m\u001b[0m\u001b[0m\n\u001b[1;32m     17\u001b[0m     \u001b[0mtoken_sequence\u001b[0m \u001b[0;34m=\u001b[0m \u001b[0mnp\u001b[0m\u001b[0;34m.\u001b[0m\u001b[0marray\u001b[0m\u001b[0;34m(\u001b[0m\u001b[0mtoken_sequence\u001b[0m\u001b[0;34m)\u001b[0m\u001b[0;34m\u001b[0m\u001b[0;34m\u001b[0m\u001b[0m\n\u001b[0;32m---> 18\u001b[0;31m     \u001b[0mpredicted\u001b[0m \u001b[0;34m=\u001b[0m \u001b[0mmodel\u001b[0m\u001b[0;34m.\u001b[0m\u001b[0mpredict\u001b[0m\u001b[0;34m(\u001b[0m\u001b[0mtoken_sequence\u001b[0m\u001b[0;34m)\u001b[0m \u001b[0;31m# (1, 4, 65)\u001b[0m\u001b[0;34m\u001b[0m\u001b[0;34m\u001b[0m\u001b[0m\n\u001b[0m\u001b[1;32m     19\u001b[0m     \u001b[0;31m# shape should be 2D\u001b[0m\u001b[0;34m\u001b[0m\u001b[0;34m\u001b[0m\u001b[0m\n\u001b[1;32m     20\u001b[0m     \u001b[0mpred\u001b[0m \u001b[0;34m=\u001b[0m \u001b[0mnp\u001b[0m\u001b[0;34m.\u001b[0m\u001b[0mexpand_dims\u001b[0m\u001b[0;34m(\u001b[0m\u001b[0mpredicted\u001b[0m\u001b[0;34m[\u001b[0m\u001b[0;36m0\u001b[0m\u001b[0;34m,\u001b[0m\u001b[0;34m-\u001b[0m\u001b[0;36m1\u001b[0m\u001b[0;34m,\u001b[0m\u001b[0;34m:\u001b[0m\u001b[0;34m]\u001b[0m\u001b[0;34m,\u001b[0m \u001b[0;36m0\u001b[0m\u001b[0;34m)\u001b[0m \u001b[0;31m# (1, 65)\u001b[0m\u001b[0;34m\u001b[0m\u001b[0;34m\u001b[0m\u001b[0m\n",
            "\u001b[0;32m/usr/local/lib/python3.10/dist-packages/keras/utils/traceback_utils.py\u001b[0m in \u001b[0;36merror_handler\u001b[0;34m(*args, **kwargs)\u001b[0m\n\u001b[1;32m     68\u001b[0m             \u001b[0;31m# To get the full stack trace, call:\u001b[0m\u001b[0;34m\u001b[0m\u001b[0;34m\u001b[0m\u001b[0m\n\u001b[1;32m     69\u001b[0m             \u001b[0;31m# `tf.debugging.disable_traceback_filtering()`\u001b[0m\u001b[0;34m\u001b[0m\u001b[0;34m\u001b[0m\u001b[0m\n\u001b[0;32m---> 70\u001b[0;31m             \u001b[0;32mraise\u001b[0m \u001b[0me\u001b[0m\u001b[0;34m.\u001b[0m\u001b[0mwith_traceback\u001b[0m\u001b[0;34m(\u001b[0m\u001b[0mfiltered_tb\u001b[0m\u001b[0;34m)\u001b[0m \u001b[0;32mfrom\u001b[0m \u001b[0;32mNone\u001b[0m\u001b[0;34m\u001b[0m\u001b[0;34m\u001b[0m\u001b[0m\n\u001b[0m\u001b[1;32m     71\u001b[0m         \u001b[0;32mfinally\u001b[0m\u001b[0;34m:\u001b[0m\u001b[0;34m\u001b[0m\u001b[0;34m\u001b[0m\u001b[0m\n\u001b[1;32m     72\u001b[0m             \u001b[0;32mdel\u001b[0m \u001b[0mfiltered_tb\u001b[0m\u001b[0;34m\u001b[0m\u001b[0;34m\u001b[0m\u001b[0m\n",
            "\u001b[0;32m/usr/local/lib/python3.10/dist-packages/keras/engine/training.py\u001b[0m in \u001b[0;36mtf__predict_function\u001b[0;34m(iterator)\u001b[0m\n\u001b[1;32m     13\u001b[0m                 \u001b[0;32mtry\u001b[0m\u001b[0;34m:\u001b[0m\u001b[0;34m\u001b[0m\u001b[0;34m\u001b[0m\u001b[0m\n\u001b[1;32m     14\u001b[0m                     \u001b[0mdo_return\u001b[0m \u001b[0;34m=\u001b[0m \u001b[0;32mTrue\u001b[0m\u001b[0;34m\u001b[0m\u001b[0;34m\u001b[0m\u001b[0m\n\u001b[0;32m---> 15\u001b[0;31m                     \u001b[0mretval_\u001b[0m \u001b[0;34m=\u001b[0m \u001b[0mag__\u001b[0m\u001b[0;34m.\u001b[0m\u001b[0mconverted_call\u001b[0m\u001b[0;34m(\u001b[0m\u001b[0mag__\u001b[0m\u001b[0;34m.\u001b[0m\u001b[0mld\u001b[0m\u001b[0;34m(\u001b[0m\u001b[0mstep_function\u001b[0m\u001b[0;34m)\u001b[0m\u001b[0;34m,\u001b[0m \u001b[0;34m(\u001b[0m\u001b[0mag__\u001b[0m\u001b[0;34m.\u001b[0m\u001b[0mld\u001b[0m\u001b[0;34m(\u001b[0m\u001b[0mself\u001b[0m\u001b[0;34m)\u001b[0m\u001b[0;34m,\u001b[0m \u001b[0mag__\u001b[0m\u001b[0;34m.\u001b[0m\u001b[0mld\u001b[0m\u001b[0;34m(\u001b[0m\u001b[0miterator\u001b[0m\u001b[0;34m)\u001b[0m\u001b[0;34m)\u001b[0m\u001b[0;34m,\u001b[0m \u001b[0;32mNone\u001b[0m\u001b[0;34m,\u001b[0m \u001b[0mfscope\u001b[0m\u001b[0;34m)\u001b[0m\u001b[0;34m\u001b[0m\u001b[0;34m\u001b[0m\u001b[0m\n\u001b[0m\u001b[1;32m     16\u001b[0m                 \u001b[0;32mexcept\u001b[0m\u001b[0;34m:\u001b[0m\u001b[0;34m\u001b[0m\u001b[0;34m\u001b[0m\u001b[0m\n\u001b[1;32m     17\u001b[0m                     \u001b[0mdo_return\u001b[0m \u001b[0;34m=\u001b[0m \u001b[0;32mFalse\u001b[0m\u001b[0;34m\u001b[0m\u001b[0;34m\u001b[0m\u001b[0m\n",
            "\u001b[0;31mValueError\u001b[0m: in user code:\n\n    File \"/usr/local/lib/python3.10/dist-packages/keras/engine/training.py\", line 2169, in predict_function  *\n        return step_function(self, iterator)\n    File \"/usr/local/lib/python3.10/dist-packages/keras/engine/training.py\", line 2155, in step_function  **\n        outputs = model.distribute_strategy.run(run_step, args=(data,))\n    File \"/usr/local/lib/python3.10/dist-packages/keras/engine/training.py\", line 2143, in run_step  **\n        outputs = model.predict_step(data)\n    File \"/usr/local/lib/python3.10/dist-packages/keras/engine/training.py\", line 2111, in predict_step\n        return self(x, training=False)\n    File \"/usr/local/lib/python3.10/dist-packages/keras/utils/traceback_utils.py\", line 70, in error_handler\n        raise e.with_traceback(filtered_tb) from None\n    File \"/usr/local/lib/python3.10/dist-packages/keras/backend.py\", line 5126, in rnn\n        final_outputs = tf.compat.v1.while_loop(\n\n    ValueError: Exception encountered when calling layer 'gru_1' (type GRU).\n    \n    Input tensor `init_h:0` enters the loop with shape (1, 1024), but has shape (None, 1024) after one iteration. To allow the shape to vary across iterations, use the `shape_invariants` argument of tf.while_loop to specify a less-specific shape.\n    \n    Call arguments received by layer 'gru_1' (type GRU):\n      • inputs=tf.Tensor(shape=(None, 4, 256), dtype=float32)\n      • mask=tf.Tensor(shape=(None, 4), dtype=bool)\n      • training=False\n      • initial_state=None\n"
          ]
        }
      ]
    },
    {
      "cell_type": "code",
      "metadata": {
        "id": "Q23e4MNpRfUY"
      },
      "source": [
        "logits_size = dummy_logits.shape[1]\n",
        "dummy_logits = -np.inf*np.ones((1, logits_size))\n",
        "dummy_logits[0, 20] = 0\n",
        "sample_token(dummy_logits)\n",
        "random_inx = np.random.choice(logits_size, 2, replace=False)\n",
        "random_inx1, random_inx2 = random_inx[0], random_inx[1]\n",
        "print(random_inx1, random_inx2)\n",
        "dummy_logits = -np.inf*np.ones((1, logits_size))\n",
        "dummy_logits[0, random_inx1] = 0\n",
        "dummy_logits[0, random_inx2] = 0\n",
        "sampled_token = []\n",
        "for _ in range(100):\n",
        "    sampled_token.append(sample_token(dummy_logits))\n",
        "\n",
        "l_tokens, l_counts = np.unique(np.array(sampled_token), return_counts=True)\n",
        "len(l_tokens) == 2"
      ],
      "execution_count": null,
      "outputs": []
    },
    {
      "cell_type": "markdown",
      "metadata": {
        "id": "7A0FOxOTRfUc"
      },
      "source": [
        "#### Generate text from the model\n",
        "\n",
        "You are now ready to generate text from the model!"
      ]
    },
    {
      "cell_type": "code",
      "metadata": {
        "id": "KgXNTiaYRfUd"
      },
      "source": [
        "# Create a seed string and number of generation steps\n",
        "\n",
        "init_string = 'ROMEO:'\n",
        "num_generation_steps = 1000"
      ],
      "execution_count": null,
      "outputs": []
    },
    {
      "cell_type": "code",
      "metadata": {
        "id": "6jm4JeyyRfUf"
      },
      "source": [
        "# Use the model to generate a token sequence\n",
        "\n",
        "token_sequence = tokenizer.texts_to_sequences([init_string])\n",
        "initial_state = None\n",
        "input_sequence = token_sequence\n",
        "\n",
        "for _ in range(num_generation_steps):\n",
        "    logits = get_logits(model, input_sequence, initial_state=initial_state)\n",
        "    sampled_token = sample_token(logits)\n",
        "    token_sequence[0].append(sampled_token)\n",
        "    input_sequence = [[sampled_token]]\n",
        "    initial_state = model.layers[1].states[0].numpy()\n",
        "\n",
        "print(tokenizer.sequences_to_texts(token_sequence)[0][::2])"
      ],
      "execution_count": null,
      "outputs": []
    },
    {
      "cell_type": "markdown",
      "metadata": {
        "id": "O9mUfLUyRfUl"
      },
      "source": [
        "Congratulations for completing this programming assignment! In the next week of the course we will see how to build customised models and layers, and make custom training loops."
      ]
    }
  ]
}