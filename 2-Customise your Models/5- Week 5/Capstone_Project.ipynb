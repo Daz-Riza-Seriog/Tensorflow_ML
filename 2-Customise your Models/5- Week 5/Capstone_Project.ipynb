{
  "nbformat": 4,
  "nbformat_minor": 0,
  "metadata": {
    "kernelspec": {
      "display_name": "feedforward",
      "language": "python",
      "name": "feedforward"
    },
    "language_info": {
      "codemirror_mode": {
        "name": "ipython",
        "version": 3
      },
      "file_extension": ".py",
      "mimetype": "text/x-python",
      "name": "python",
      "nbconvert_exporter": "python",
      "pygments_lexer": "ipython3",
      "version": "3.6.9"
    },
    "colab": {
      "provenance": [],
      "gpuType": "T4",
      "include_colab_link": true
    },
    "accelerator": "GPU"
  },
  "cells": [
    {
      "cell_type": "markdown",
      "metadata": {
        "id": "view-in-github",
        "colab_type": "text"
      },
      "source": [
        "<a href=\"https://colab.research.google.com/github/Daz-Riza-Seriog/Tensorflow_ML/blob/main/2-Customise%20your%20Models/5-%20Week%205/Capstone_Project.ipynb\" target=\"_parent\"><img src=\"https://colab.research.google.com/assets/colab-badge.svg\" alt=\"Open In Colab\"/></a>"
      ]
    },
    {
      "cell_type": "markdown",
      "metadata": {
        "id": "vsX0L1sG1iZj"
      },
      "source": [
        "# Capstone Project\n",
        "## Neural translation model\n",
        "### Instructions\n",
        "\n",
        "In this notebook, you will create a neural network that translates from English to German. You will use concepts from throughout this course, including building more flexible model architectures, freezing layers, data processing pipeline and sequence modelling.\n",
        "\n",
        "This project is peer-assessed. Within this notebook you will find instructions in each section for how to complete the project. Pay close attention to the instructions as the peer review will be carried out according to a grading rubric that checks key parts of the project instructions. Feel free to add extra cells into the notebook as required.\n",
        "\n",
        "### How to submit\n",
        "\n",
        "When you have completed the Capstone project notebook, you will submit a pdf of the notebook for peer review. First ensure that the notebook has been fully executed from beginning to end, and all of the cell outputs are visible. This is important, as the grading rubric depends on the reviewer being able to view the outputs of your notebook. Save the notebook as a pdf (you could download the notebook with File -> Download .ipynb, open the notebook locally, and then File -> Download as -> PDF via LaTeX), and then submit this pdf for review.\n",
        "\n",
        "### Let's get started!\n",
        "\n",
        "We'll start by running some imports, and loading the dataset. For this project you are free to make further imports throughout the notebook as you wish."
      ]
    },
    {
      "cell_type": "code",
      "metadata": {
        "id": "2VyTvxPN1iZn"
      },
      "source": [
        "import tensorflow as tf\n",
        "import tensorflow_hub as hub\n",
        "import unicodedata\n",
        "import re\n",
        "from IPython.display import Image"
      ],
      "execution_count": null,
      "outputs": []
    },
    {
      "cell_type": "markdown",
      "metadata": {
        "id": "wuIi4lAR1iZt"
      },
      "source": [
        "For the capstone project, you will use a language dataset from http://www.manythings.org/anki/ to build a neural translation model. This dataset consists of over 200,000 pairs of sentences in English and German. In order to make the training quicker, we will restrict to our dataset to 20,000 pairs. Feel free to change this if you wish - the size of the dataset used is not part of the grading rubric.\n",
        "\n",
        "Your goal is to develop a neural translation model from English to German, making use of a pre-trained English word embedding module."
      ]
    },
    {
      "cell_type": "markdown",
      "metadata": {
        "id": "pi9Dq6vv3FVO"
      },
      "source": [
        "#### Import the data\n",
        "\n",
        "The dataset is available for download as a zip file at the following link:\n",
        "\n",
        "https://drive.google.com/open?id=1KczOciG7sYY7SB9UlBeRP1T9659b121Q\n",
        "\n",
        "You should store the unzipped folder in Drive for use in this Colab notebook."
      ]
    },
    {
      "cell_type": "code",
      "source": [
        "!gdown --id 1KczOciG7sYY7SB9UlBeRP1T9659b121Q"
      ],
      "metadata": {
        "id": "1WbTlKVwlZtA",
        "outputId": "e7d038a0-fa21-4072-aac9-3c3b080fdf89",
        "colab": {
          "base_uri": "https://localhost:8080/"
        }
      },
      "execution_count": null,
      "outputs": [
        {
          "output_type": "stream",
          "name": "stdout",
          "text": [
            "/usr/local/lib/python3.10/dist-packages/gdown/cli.py:121: FutureWarning: Option `--id` was deprecated in version 4.3.1 and will be removed in 5.0. You don't need to pass it anymore to use a file ID.\n",
            "  warnings.warn(\n",
            "Downloading...\n",
            "From: https://drive.google.com/uc?id=1KczOciG7sYY7SB9UlBeRP1T9659b121Q\n",
            "To: /content/deu.txt\n",
            "100% 31.4M/31.4M [00:00<00:00, 40.0MB/s]\n"
          ]
        }
      ]
    },
    {
      "cell_type": "code",
      "metadata": {
        "id": "Nw99tEEQ3bKL",
        "colab": {
          "base_uri": "https://localhost:8080/"
        },
        "outputId": "f6faa8cd-73b4-4557-edad-8bfa6578b287"
      },
      "source": [
        "# Run this cell to connect to your Drive folder\n",
        "\n",
        "from google.colab import drive\n",
        "drive.mount('/content/gdrive')"
      ],
      "execution_count": null,
      "outputs": [
        {
          "output_type": "stream",
          "name": "stdout",
          "text": [
            "Mounted at /content/gdrive\n"
          ]
        }
      ]
    },
    {
      "cell_type": "code",
      "metadata": {
        "id": "o8PetPpw1iZu"
      },
      "source": [
        "# Run this cell to load the dataset\n",
        "\n",
        "NUM_EXAMPLES = 20000\n",
        "data_examples = []\n",
        "with open('/content/deu.txt', 'r', encoding='utf8') as f:\n",
        "    for line in f.readlines():\n",
        "        if len(data_examples) < NUM_EXAMPLES:\n",
        "            data_examples.append(line)\n",
        "        else:\n",
        "            break"
      ],
      "execution_count": null,
      "outputs": []
    },
    {
      "cell_type": "code",
      "metadata": {
        "id": "JumLjJ631iZy"
      },
      "source": [
        "# These functions preprocess English and German sentences\n",
        "\n",
        "def unicode_to_ascii(s):\n",
        "    return ''.join(c for c in unicodedata.normalize('NFD', s) if unicodedata.category(c) != 'Mn')\n",
        "\n",
        "def preprocess_sentence(sentence):\n",
        "    sentence = sentence.lower().strip()\n",
        "    sentence = re.sub(r\"ü\", 'ue', sentence)\n",
        "    sentence = re.sub(r\"ä\", 'ae', sentence)\n",
        "    sentence = re.sub(r\"ö\", 'oe', sentence)\n",
        "    sentence = re.sub(r'ß', 'ss', sentence)\n",
        "\n",
        "    sentence = unicode_to_ascii(sentence)\n",
        "    sentence = re.sub(r\"([?.!,])\", r\" \\1 \", sentence)\n",
        "    sentence = re.sub(r\"[^a-z?.!,']+\", \" \", sentence)\n",
        "    sentence = re.sub(r'[\" \"]+', \" \", sentence)\n",
        "\n",
        "    return sentence.strip()"
      ],
      "execution_count": null,
      "outputs": []
    },
    {
      "cell_type": "markdown",
      "metadata": {
        "id": "XFJap-TW1iZ2"
      },
      "source": [
        "#### The custom translation model\n",
        "The following is a schematic of the custom translation model architecture you will develop in this project."
      ]
    },
    {
      "cell_type": "code",
      "metadata": {
        "id": "gBF1K2JN4RFJ",
        "colab": {
          "base_uri": "https://localhost:8080/",
          "height": 648
        },
        "outputId": "d501988c-c41a-47e7-cf45-c8ada0512ca5"
      },
      "source": [
        "# Run this cell to download and view a schematic diagram for the neural translation model\n",
        "\n",
        "!wget -q -O neural_translation_model.png --no-check-certificate \"https://docs.google.com/uc?export=download&id=1XsS1VlXoaEo-RbYNilJ9jcscNZvsSPmd\"\n",
        "Image(\"neural_translation_model.png\")"
      ],
      "execution_count": null,
      "outputs": [
        {
          "output_type": "execute_result",
          "data": {
            "image/png": "[encoded data removed]",
            "text/plain": [
              "<IPython.core.display.Image object>"
            ]
          },
          "metadata": {},
          "execution_count": 6
        }
      ]
    },
    {
      "cell_type": "markdown",
      "metadata": {
        "id": "0fP7P-yK4RS7"
      },
      "source": [
        "The custom model consists of an encoder RNN and a decoder RNN. The encoder takes words of an English sentence as input, and uses a pre-trained word embedding to embed the words into a 128-dimensional space. To indicate the end of the input sentence, a special end token (in the same 128-dimensional space) is passed in as an input. This token is a TensorFlow Variable that is learned in the training phase (unlike the pre-trained word embedding, which is frozen).\n",
        "\n",
        "The decoder RNN takes the internal state of the encoder network as its initial state. A start token is passed in as the first input, which is embedded using a learned German word embedding. The decoder RNN then makes a prediction for the next German word, which during inference is then passed in as the following input, and this process is repeated until the special `<end>` token is emitted from the decoder."
      ]
    },
    {
      "cell_type": "markdown",
      "metadata": {
        "id": "z70nu6_01iZ3"
      },
      "source": [
        "## 1. Text preprocessing\n",
        "* Create separate lists of English and German sentences, and preprocess them using the `preprocess_sentence` function provided for you above.\n",
        "* Add a special `\"<start>\"` and `\"<end>\"` token to the beginning and end of every German sentence.\n",
        "* Use the Tokenizer class from the `tf.keras.preprocessing.text` module to tokenize the German sentences, ensuring that no character filters are applied. _Hint: use the Tokenizer's \"filter\" keyword argument._\n",
        "* Print out at least 5 randomly chosen examples of (preprocessed) English and German sentence pairs. For the German sentence, print out the text (with start and end tokens) as well as the tokenized sequence.\n",
        "* Pad the end of the tokenized German sequences with zeros, and batch the complete set of sequences into one numpy array."
      ]
    },
    {
      "cell_type": "code",
      "metadata": {
        "scrolled": true,
        "id": "9G20C4bk1iZ4"
      },
      "source": [
        "english_sentences = []\n",
        "german_sentences = []\n",
        "for line in data_examples:\n",
        "    sentence = re.split(\"CC-BY\", line)[0]\n",
        "    sentence_prepeocess = preprocess_sentence(sentence)\n",
        "    pos = re.search(\"[?!.]\", sentence_prepeocess).span()[1]\n",
        "\n",
        "    english = sentence_prepeocess[:pos]\n",
        "    german = sentence_prepeocess[pos:]\n",
        "    german = \"<start>\" + german + \" <end>\"\n",
        "    english_sentences.append(english)\n",
        "    german_sentences.append(german)"
      ],
      "execution_count": null,
      "outputs": []
    },
    {
      "cell_type": "code",
      "metadata": {
        "id": "Sxwl-1rB1iZ8"
      },
      "source": [
        "def get_sequences(sentences):\n",
        "    tokenizer = tf.keras.preprocessing.text.Tokenizer(filters=\"\")\n",
        "    tokenizer.fit_on_texts(sentences)\n",
        "    sequences = tokenizer.texts_to_sequences(sentences)\n",
        "    return sequences"
      ],
      "execution_count": null,
      "outputs": []
    },
    {
      "cell_type": "code",
      "metadata": {
        "id": "WnIdqZFk1iaA",
        "colab": {
          "base_uri": "https://localhost:8080/"
        },
        "outputId": "cca8af11-6004-4f7d-9df6-e8c3a8e9decf"
      },
      "source": [
        "german_sentences_sequences = get_sequences(german_sentences)\n",
        "german_sentences_sequences"
      ],
      "execution_count": null,
      "outputs": [
        {
          "output_type": "execute_result",
          "data": {
            "text/plain": [
              "[[1, 405, 9, 2],\n",
              " [1, 3158, 662, 9, 2],\n",
              " [1, 975, 9, 2],\n",
              " [1, 3159, 9, 2],\n",
              " [1, 3160, 9, 2],\n",
              " [1, 1077, 9, 2],\n",
              " [1, 283, 9, 2],\n",
              " [1, 20, 3161, 9, 2],\n",
              " [1, 2261, 9, 2],\n",
              " [1, 335, 9, 2],\n",
              " [1, 79, 126, 3, 2],\n",
              " [1, 405, 9, 2],\n",
              " [1, 4, 359, 3, 2],\n",
              " [1, 4, 336, 3, 2],\n",
              " [1, 3162, 3, 2],\n",
              " [1, 4, 1225, 10, 3, 2],\n",
              " [1, 4, 284, 224, 9, 2],\n",
              " [1, 4, 18, 224, 9, 2],\n",
              " [1, 875, 9, 2],\n",
              " [1, 198, 442, 9, 2],\n",
              " [1, 721, 29, 3, 2],\n",
              " [1, 103, 2262, 9, 2],\n",
              " [1, 3163, 9, 2],\n",
              " [1, 2263, 7, 2],\n",
              " [1, 722, 7, 2],\n",
              " [1, 486, 7, 2],\n",
              " [1, 14, 359, 3, 2],\n",
              " [1, 14, 663, 3, 2],\n",
              " [1, 79, 55, 9, 2],\n",
              " [1, 1226, 22, 9, 2],\n",
              " [1, 159, 22, 46, 53, 297, 9, 2],\n",
              " [1, 2264, 22, 9, 2],\n",
              " [1, 4, 664, 3, 2],\n",
              " [1, 4, 664, 205, 3, 2],\n",
              " [1, 4, 1765, 3, 2],\n",
              " [1, 4, 15, 3164, 3, 2],\n",
              " [1, 4, 15, 3165, 3, 2],\n",
              " [1, 4, 84, 3, 2],\n",
              " [1, 4, 18, 512, 3, 2],\n",
              " [1, 4, 18, 142, 3, 2],\n",
              " [1, 4, 18, 443, 3, 2],\n",
              " [1, 4, 2265, 3, 2],\n",
              " [1, 4, 876, 3, 2],\n",
              " [1, 4, 1078, 3, 2],\n",
              " [1, 4, 15, 540, 179, 3, 2],\n",
              " [1, 4, 15, 3, 2],\n",
              " [1, 21, 444, 49, 3, 2],\n",
              " [1, 10, 59, 21, 49, 3, 2],\n",
              " [1, 4, 15, 360, 3, 2],\n",
              " [1, 4, 15, 29, 3, 2],\n",
              " [1, 1447, 9, 2],\n",
              " [1, 11, 120, 12, 46, 541, 9, 2],\n",
              " [1, 11, 229, 183, 211, 12, 9, 2],\n",
              " [1, 3166, 9, 2],\n",
              " [1, 46, 3167, 542, 9, 2],\n",
              " [1, 285, 7, 2],\n",
              " [1, 723, 7, 2],\n",
              " [1, 104, 247, 7, 2],\n",
              " [1, 785, 9, 2],\n",
              " [1, 373, 183, 9, 2],\n",
              " [1, 17, 175, 10, 3, 2],\n",
              " [1, 17, 35, 224, 3, 2],\n",
              " [1, 95, 4, 7, 2],\n",
              " [1, 374, 5, 9, 2],\n",
              " [1, 319, 8, 5, 9, 2],\n",
              " [1, 976, 5, 9, 2],\n",
              " [1, 1448, 9, 2],\n",
              " [1, 1449, 28, 9, 2],\n",
              " [1, 130, 12, 611, 9, 2],\n",
              " [1, 130, 724, 9, 2],\n",
              " [1, 130, 237, 9, 2],\n",
              " [1, 264, 8, 237, 9, 2],\n",
              " [1, 89, 102, 9, 2],\n",
              " [1, 1079, 125, 9, 2],\n",
              " [1, 877, 9, 2],\n",
              " [1, 1227, 9, 2],\n",
              " [1, 79, 28, 445, 9, 2],\n",
              " [1, 421, 786, 9, 2],\n",
              " [1, 79, 28, 576, 1228, 9, 2],\n",
              " [1, 878, 28, 9, 2],\n",
              " [1, 1229, 28, 9, 2],\n",
              " [1, 1230, 28, 9, 2],\n",
              " [1, 1231, 125, 9, 2],\n",
              " [1, 1080, 28, 9, 2],\n",
              " [1, 79, 1232, 1081, 9, 2],\n",
              " [1, 1233, 125, 9, 2],\n",
              " [1, 79, 26, 1234, 9, 2],\n",
              " [1, 725, 28, 102, 9, 2],\n",
              " [1, 725, 28, 445, 9, 2],\n",
              " [1, 406, 22, 36, 3, 2],\n",
              " [1, 74, 265, 3, 2],\n",
              " [1, 265, 9, 2],\n",
              " [1, 74, 9, 2],\n",
              " [1, 120, 9, 2],\n",
              " [1, 79, 96, 9, 2],\n",
              " [1, 111, 96, 9, 2],\n",
              " [1, 74, 96, 9, 2],\n",
              " [1, 320, 5, 3, 2],\n",
              " [1, 286, 9, 2],\n",
              " [1, 59, 286, 9, 2],\n",
              " [1, 89, 286, 3, 2],\n",
              " [1, 59, 286, 9, 2],\n",
              " [1, 89, 102, 9, 2],\n",
              " [1, 1079, 125, 9, 2],\n",
              " [1, 877, 9, 2],\n",
              " [1, 1227, 9, 2],\n",
              " [1, 79, 28, 445, 9, 2],\n",
              " [1, 421, 786, 9, 2],\n",
              " [1, 79, 28, 576, 1228, 9, 2],\n",
              " [1, 878, 28, 9, 2],\n",
              " [1, 1229, 28, 9, 2],\n",
              " [1, 1230, 28, 9, 2],\n",
              " [1, 1231, 125, 9, 2],\n",
              " [1, 1080, 28, 9, 2],\n",
              " [1, 79, 1232, 1081, 9, 2],\n",
              " [1, 1233, 125, 9, 2],\n",
              " [1, 79, 26, 1234, 9, 2],\n",
              " [1, 725, 28, 102, 9, 2],\n",
              " [1, 725, 28, 445, 9, 2],\n",
              " [1, 89, 102, 9, 2],\n",
              " [1, 1766, 28, 9, 2],\n",
              " [1, 1079, 125, 9, 2],\n",
              " [1, 877, 9, 2],\n",
              " [1, 1227, 9, 2],\n",
              " [1, 79, 28, 445, 9, 2],\n",
              " [1, 421, 786, 9, 2],\n",
              " [1, 79, 28, 576, 1228, 9, 2],\n",
              " [1, 878, 28, 9, 2],\n",
              " [1, 1229, 28, 9, 2],\n",
              " [1, 1230, 28, 9, 2],\n",
              " [1, 1231, 125, 9, 2],\n",
              " [1, 1080, 28, 9, 2],\n",
              " [1, 79, 1232, 1081, 9, 2],\n",
              " [1, 1233, 125, 9, 2],\n",
              " [1, 79, 26, 1234, 9, 2],\n",
              " [1, 725, 28, 102, 9, 2],\n",
              " [1, 725, 28, 445, 9, 2],\n",
              " [1, 45, 8, 102, 3, 2],\n",
              " [1, 89, 65, 75, 3, 2],\n",
              " [1, 89, 879, 3, 2],\n",
              " [1, 29, 1235, 9, 2],\n",
              " [1, 3168, 442, 9, 2],\n",
              " [1, 3169, 9, 2],\n",
              " [1, 12, 1767, 9, 2],\n",
              " [1, 14, 136, 3, 2],\n",
              " [1, 14, 726, 3, 2],\n",
              " [1, 14, 387, 3, 2],\n",
              " [1, 543, 21, 3, 2],\n",
              " [1, 543, 31, 9, 2],\n",
              " [1, 2266, 31, 9, 2],\n",
              " [1, 90, 8, 31, 9, 2],\n",
              " [1, 405, 25, 5, 9, 2],\n",
              " [1, 1768, 5, 9, 2],\n",
              " [1, 3170, 5, 9, 2],\n",
              " [1, 1082, 8, 5, 9, 2],\n",
              " [1, 206, 8, 388, 9, 2],\n",
              " [1, 2264, 5, 9, 2],\n",
              " [1, 1450, 8, 5, 9, 2],\n",
              " [1, 880, 5, 9, 2],\n",
              " [1, 1769, 5, 9, 2],\n",
              " [1, 3171, 8, 5, 9, 2],\n",
              " [1, 1226, 5, 9, 2],\n",
              " [1, 4, 15, 486, 3, 2],\n",
              " [1, 4, 446, 3, 2],\n",
              " [1, 4, 18, 544, 3, 2],\n",
              " [1, 4, 2267, 3, 2],\n",
              " [1, 4, 133, 3, 2],\n",
              " [1, 4, 15, 257, 3, 2],\n",
              " [1, 4, 15, 977, 3, 2],\n",
              " [1, 4, 15, 447, 3, 2],\n",
              " [1, 4, 68, 346, 9, 2],\n",
              " [1, 4, 15, 258, 3, 2],\n",
              " [1, 4, 15, 179, 3, 2],\n",
              " [1, 4, 15, 321, 3, 2],\n",
              " [1, 4, 15, 337, 3, 2],\n",
              " [1, 4, 15, 665, 3, 2],\n",
              " [1, 10, 6, 46, 225, 3, 2],\n",
              " [1, 4, 1770, 3, 2],\n",
              " [1, 4, 1770, 3, 2],\n",
              " [1, 787, 10, 9, 2],\n",
              " [1, 787, 44, 9, 2],\n",
              " [1, 787, 8, 9, 2],\n",
              " [1, 306, 8, 44, 9, 2],\n",
              " [1, 306, 8, 8, 9, 2],\n",
              " [1, 306, 8, 10, 9, 2],\n",
              " [1, 1083, 44, 9, 2],\n",
              " [1, 1083, 8, 9, 2],\n",
              " [1, 1083, 10, 9, 2],\n",
              " [1, 2268, 22, 3, 2],\n",
              " [1, 612, 10, 125, 3, 2],\n",
              " [1, 1236, 8, 125, 3, 2],\n",
              " [1, 612, 44, 125, 3, 2],\n",
              " [1, 422, 9, 2],\n",
              " [1, 421, 338, 3, 2],\n",
              " [1, 1226, 1237, 3, 2],\n",
              " [1, 17, 114, 31, 3, 2],\n",
              " [1, 1771, 21, 9, 2],\n",
              " [1, 3172, 3173, 9, 2],\n",
              " [1, 577, 613, 9, 2],\n",
              " [1, 153, 29, 3, 2],\n",
              " [1, 159, 10, 3, 2],\n",
              " [1, 614, 10, 3, 2],\n",
              " [1, 216, 8, 10, 3, 2],\n",
              " [1, 5, 788, 3, 2],\n",
              " [1, 5, 16, 217, 3, 2],\n",
              " [1, 5, 359, 3, 2],\n",
              " [1, 5, 6, 1451, 3, 2],\n",
              " [1, 5, 16, 224, 3, 2],\n",
              " [1, 335, 76, 9, 2],\n",
              " [1, 206, 8, 76, 9, 2],\n",
              " [1, 615, 76, 9, 2],\n",
              " [1, 360, 29, 9, 2],\n",
              " [1, 2269, 8, 29, 9, 2],\n",
              " [1, 360, 29, 9, 2],\n",
              " [1, 2269, 8, 29, 9, 2],\n",
              " [1, 17, 35, 142, 3, 2],\n",
              " [1, 1238, 9, 2],\n",
              " [1, 43, 16, 217, 7, 2],\n",
              " [1, 43, 788, 7, 2],\n",
              " [1, 43, 359, 7, 2],\n",
              " [1, 43, 6, 1451, 7, 2],\n",
              " [1, 13, 3174, 3, 2],\n",
              " [1, 8, 307, 3, 2],\n",
              " [1, 13, 58, 224, 3, 2],\n",
              " [1, 15, 4, 447, 7, 2],\n",
              " [1, 374, 8, 3, 2],\n",
              " [1, 74, 12, 727, 9, 2],\n",
              " [1, 130, 19, 193, 9, 2],\n",
              " [1, 130, 881, 9, 2],\n",
              " [1, 264, 8, 881, 9, 2],\n",
              " [1, 73, 881, 9, 2],\n",
              " [1, 1084, 8, 34, 388, 3, 2],\n",
              " [1, 616, 28, 388, 3, 2],\n",
              " [1, 1452, 57, 388, 3, 2],\n",
              " [1, 406, 5, 36, 9, 2],\n",
              " [1, 666, 5, 36, 9, 2],\n",
              " [1, 389, 8, 5, 36, 9, 2],\n",
              " [1, 728, 5, 36, 9, 2],\n",
              " [1, 30, 4, 45, 7, 2],\n",
              " [1, 729, 789, 9, 2],\n",
              " [1, 2270, 28, 125, 9, 2],\n",
              " [1, 1239, 123, 2271, 36, 3, 2],\n",
              " [1, 617, 8, 123, 2271, 36, 3, 2],\n",
              " [1, 89, 12, 3, 2],\n",
              " [1, 790, 5, 3, 2],\n",
              " [1, 1453, 5, 3, 2],\n",
              " [1, 339, 8, 5, 3, 2],\n",
              " [1, 3175, 8, 11, 3, 2],\n",
              " [1, 3176, 11, 3, 2],\n",
              " [1, 1454, 11, 3, 2],\n",
              " [1, 1240, 8, 11, 3, 2],\n",
              " [1, 89, 102, 9, 2],\n",
              " [1, 1766, 28, 9, 2],\n",
              " [1, 1079, 125, 9, 2],\n",
              " [1, 877, 9, 2],\n",
              " [1, 1227, 9, 2],\n",
              " [1, 79, 28, 445, 9, 2],\n",
              " [1, 421, 786, 9, 2],\n",
              " [1, 79, 28, 576, 1228, 9, 2],\n",
              " [1, 878, 28, 9, 2],\n",
              " [1, 1229, 28, 9, 2],\n",
              " [1, 1230, 28, 9, 2],\n",
              " [1, 1231, 125, 9, 2],\n",
              " [1, 1080, 28, 9, 2],\n",
              " [1, 79, 1232, 1081, 9, 2],\n",
              " [1, 1233, 125, 9, 2],\n",
              " [1, 79, 26, 1234, 9, 2],\n",
              " [1, 725, 28, 102, 9, 2],\n",
              " [1, 725, 28, 445, 9, 2],\n",
              " [1, 618, 9, 2],\n",
              " [1, 3177, 9, 2],\n",
              " [1, 46, 1241, 9, 2],\n",
              " [1, 74, 618, 3, 2],\n",
              " [1, 92, 8, 618, 3, 2],\n",
              " [1, 89, 102, 9, 2],\n",
              " [1, 1766, 28, 9, 2],\n",
              " [1, 1079, 125, 9, 2],\n",
              " [1, 877, 9, 2],\n",
              " [1, 1227, 9, 2],\n",
              " [1, 79, 28, 445, 9, 2],\n",
              " [1, 421, 786, 9, 2],\n",
              " [1, 79, 28, 576, 1228, 9, 2],\n",
              " [1, 878, 28, 9, 2],\n",
              " [1, 1229, 28, 9, 2],\n",
              " [1, 1230, 28, 9, 2],\n",
              " [1, 1231, 125, 9, 2],\n",
              " [1, 1080, 28, 9, 2],\n",
              " [1, 79, 1232, 1081, 9, 2],\n",
              " [1, 1233, 125, 9, 2],\n",
              " [1, 79, 26, 1234, 9, 2],\n",
              " [1, 725, 28, 102, 9, 2],\n",
              " [1, 725, 28, 445, 9, 2],\n",
              " [1, 61, 76, 1772, 9, 2],\n",
              " [1, 160, 20, 9, 2],\n",
              " [1, 79, 126, 9, 2],\n",
              " [1, 320, 5, 3, 2],\n",
              " [1, 3178, 44, 52, 9, 2],\n",
              " [1, 115, 2272, 9, 2],\n",
              " [1, 115, 170, 9, 2],\n",
              " [1, 2273, 322, 9, 2],\n",
              " [1, 14, 448, 3, 2],\n",
              " [1, 14, 275, 10, 3, 2],\n",
              " [1, 543, 5, 9, 2],\n",
              " [1, 2266, 5, 9, 2],\n",
              " [1, 90, 8, 5, 9, 2],\n",
              " [1, 38, 6, 11, 12, 361, 9, 2],\n",
              " [1, 42, 361, 9, 2],\n",
              " [1, 42, 1085, 7, 2],\n",
              " [1, 42, 322, 9, 2],\n",
              " [1, 266, 21, 53, 218, 3, 2],\n",
              " [1, 91, 8, 21, 53, 218, 3, 2],\n",
              " [1, 882, 28, 9, 2],\n",
              " [1, 882, 28, 3, 2],\n",
              " [1, 79, 205, 9, 2],\n",
              " [1, 4, 15, 447, 3, 2],\n",
              " [1, 4, 30, 45, 3, 2],\n",
              " [1, 4, 18, 10, 487, 3, 2],\n",
              " [1, 4, 1773, 101, 3, 2],\n",
              " [1, 4, 180, 513, 3, 2],\n",
              " [1, 4, 180, 1774, 3, 2],\n",
              " [1, 4, 180, 488, 26, 3179, 3, 2],\n",
              " [1, 4, 336, 3, 2],\n",
              " [1, 4, 18, 10, 722, 3, 2],\n",
              " [1, 4, 18, 10, 347, 3, 2],\n",
              " [1, 4, 1773, 3, 2],\n",
              " [1, 4, 791, 3, 2],\n",
              " [1, 4, 18, 449, 3, 2],\n",
              " [1, 4, 15, 1775, 3, 2],\n",
              " [1, 4, 2274, 22, 3, 2],\n",
              " [1, 4, 3180, 147, 3, 2],\n",
              " [1, 4, 2275, 22, 3, 2],\n",
              " [1, 4, 18, 22, 1776, 3, 2],\n",
              " [1, 4, 423, 3, 2],\n",
              " [1, 4, 323, 3, 2],\n",
              " [1, 4, 15, 3181, 3, 2],\n",
              " [1, 4, 1086, 10, 3, 2],\n",
              " [1, 4, 18, 1777, 3, 2],\n",
              " [1, 4, 2276, 3, 2],\n",
              " [1, 4, 18, 3182, 3, 2],\n",
              " [1, 4, 39, 883, 3, 2],\n",
              " [1, 4, 39, 10, 175, 3, 2],\n",
              " [1, 4, 15, 145, 62, 3, 2],\n",
              " [1, 4, 15, 3183, 3, 2],\n",
              " [1, 4, 18, 37, 1087, 3, 2],\n",
              " [1, 4, 15, 98, 3, 2],\n",
              " [1, 4, 18, 20, 91, 3, 2],\n",
              " [1, 4, 15, 1455, 3, 2],\n",
              " [1, 4, 15, 884, 3, 2],\n",
              " [1, 21, 444, 49, 3, 2],\n",
              " [1, 21, 59, 10, 49, 3, 2],\n",
              " [1, 10, 59, 21, 49, 3, 2],\n",
              " [1, 4, 15, 259, 3, 2],\n",
              " [1, 4, 15, 1778, 3, 2],\n",
              " [1, 4, 15, 375, 3, 2],\n",
              " [1, 4, 230, 55, 3, 2],\n",
              " [1, 21, 444, 49, 3, 2],\n",
              " [1, 4, 15, 33, 3, 2],\n",
              " [1, 4, 15, 20, 75, 3, 2],\n",
              " [1, 4, 180, 20, 219, 3, 2],\n",
              " [1, 4, 18, 22, 792, 3, 2],\n",
              " [1, 4, 15, 578, 3, 2],\n",
              " [1, 4, 15, 47, 1456, 3, 2],\n",
              " [1, 10, 59, 21, 49, 3, 2],\n",
              " [1, 4, 15, 238, 3, 2],\n",
              " [1, 4, 15, 138, 3, 2],\n",
              " [1, 4, 15, 171, 9, 2],\n",
              " [1, 4, 15, 138, 3, 2],\n",
              " [1, 4, 15, 167, 3, 2],\n",
              " [1, 4, 15, 619, 3, 2],\n",
              " [1, 4, 15, 978, 3, 2],\n",
              " [1, 4, 15, 667, 3, 2],\n",
              " [1, 4, 15, 489, 3, 2],\n",
              " [1, 21, 59, 10, 49, 3, 2],\n",
              " [1, 11, 545, 3, 2],\n",
              " [1, 10, 150, 181, 3, 2],\n",
              " [1, 10, 1088, 3, 2],\n",
              " [1, 10, 1089, 3, 2],\n",
              " [1, 10, 298, 3, 2],\n",
              " [1, 10, 6, 5, 3, 2],\n",
              " [1, 10, 6, 2277, 3, 2],\n",
              " [1, 10, 6, 187, 3, 2],\n",
              " [1, 8, 6, 187, 3, 2],\n",
              " [1, 14, 6, 187, 3, 2],\n",
              " [1, 10, 6, 258, 3, 2],\n",
              " [1, 10, 6, 321, 3, 2],\n",
              " [1, 2278, 2279, 9, 2],\n",
              " [1, 74, 12, 265, 3, 2],\n",
              " [1, 71, 3184, 3, 2],\n",
              " [1, 3185, 5, 9, 2],\n",
              " [1, 730, 8, 5, 9, 2],\n",
              " [1, 2268, 5, 9, 2],\n",
              " [1, 89, 102, 9, 2],\n",
              " [1, 45, 8, 102, 3, 2],\n",
              " [1, 63, 31, 139, 3, 2],\n",
              " [1, 131, 8, 31, 139, 3, 2],\n",
              " [1, 63, 31, 45, 9, 2],\n",
              " [1, 29, 444, 9, 2],\n",
              " [1, 45, 17, 9, 2],\n",
              " [1, 137, 31, 45, 3, 2],\n",
              " [1, 63, 31, 1779, 3, 2],\n",
              " [1, 137, 31, 1779, 3, 2],\n",
              " [1, 29, 25, 29, 9, 2],\n",
              " [1, 1457, 9, 2],\n",
              " [1, 3186, 22, 3, 2],\n",
              " [1, 134, 4, 45, 7, 2],\n",
              " [1, 2280, 5, 9, 2],\n",
              " [1, 3187, 5, 9, 2],\n",
              " [1, 1242, 8, 5, 9, 2],\n",
              " [1, 8, 136, 3, 2],\n",
              " [1, 8, 1243, 3, 2],\n",
              " [1, 8, 726, 3, 2],\n",
              " [1, 340, 28, 9, 2],\n",
              " [1, 579, 8, 34, 9, 2],\n",
              " [1, 340, 28, 9, 2],\n",
              " [1, 450, 885, 9, 2],\n",
              " [1, 407, 8, 29, 9, 2],\n",
              " [1, 287, 29, 9, 2],\n",
              " [1, 580, 29, 9, 2],\n",
              " [1, 288, 5, 29, 9, 2],\n",
              " [1, 546, 8, 5, 29, 9, 2],\n",
              " [1, 793, 5, 29, 9, 2],\n",
              " [1, 159, 5, 3, 2],\n",
              " [1, 620, 10, 76, 3, 2],\n",
              " [1, 239, 10, 5, 3, 2],\n",
              " [1, 220, 8, 10, 5, 3, 2],\n",
              " [1, 1090, 10, 5, 3, 2],\n",
              " [1, 1244, 8, 5, 376, 3, 2],\n",
              " [1, 451, 10, 5, 3, 2],\n",
              " [1, 2281, 9, 2],\n",
              " [1, 2282, 9, 2],\n",
              " [1, 886, 9, 2],\n",
              " [1, 8, 35, 224, 3, 2],\n",
              " [1, 5, 136, 3, 2],\n",
              " [1, 5, 6, 276, 3, 2],\n",
              " [1, 5, 6, 324, 3, 2],\n",
              " [1, 5, 514, 3, 2],\n",
              " [1, 5, 664, 3, 2],\n",
              " [1, 5, 6, 218, 3, 2],\n",
              " [1, 5, 277, 10, 3, 2],\n",
              " [1, 5, 16, 10, 794, 3, 2],\n",
              " [1, 5, 277, 668, 3, 2],\n",
              " [1, 5, 6, 162, 3, 2],\n",
              " [1, 5, 105, 3, 2],\n",
              " [1, 5, 1243, 3, 2],\n",
              " [1, 5, 424, 3, 2],\n",
              " [1, 5, 16, 142, 3, 2],\n",
              " [1, 5, 16, 3188, 3, 2],\n",
              " [1, 5, 16, 979, 3, 2],\n",
              " [1, 5, 1780, 3, 2],\n",
              " [1, 5, 6, 1245, 3, 2],\n",
              " [1, 5, 446, 3, 2],\n",
              " [1, 5, 6, 29, 3, 2],\n",
              " [1, 20, 219, 3, 2],\n",
              " [1, 616, 10, 36, 3, 2],\n",
              " [1, 795, 21, 3, 2],\n",
              " [1, 452, 21, 9, 2],\n",
              " [1, 408, 8, 21, 9, 2],\n",
              " [1, 373, 10, 980, 9, 2],\n",
              " [1, 159, 11, 33, 9, 2],\n",
              " [1, 981, 8, 5, 3, 2],\n",
              " [1, 3189, 5, 3, 2],\n",
              " [1, 184, 21, 20, 3, 2],\n",
              " [1, 1091, 31, 3, 2],\n",
              " [1, 1246, 8, 31, 3, 2],\n",
              " [1, 184, 31, 20, 3, 2],\n",
              " [1, 621, 31, 20, 3, 2],\n",
              " [1, 796, 8, 31, 20, 3, 2],\n",
              " [1, 982, 31, 3, 2],\n",
              " [1, 17, 983, 20, 3, 2],\n",
              " [1, 17, 23, 486, 3, 2],\n",
              " [1, 17, 35, 10, 275, 3, 2],\n",
              " [1, 17, 2283, 10, 3, 2],\n",
              " [1, 17, 69, 45, 3, 2],\n",
              " [1, 17, 23, 46, 225, 3, 2],\n",
              " [1, 1247, 7, 2],\n",
              " [1, 38, 77, 19, 170, 9, 2],\n",
              " [1, 43, 15, 4, 7, 2],\n",
              " [1, 43, 6, 276, 7, 2],\n",
              " [1, 43, 136, 7, 2],\n",
              " [1, 43, 6, 324, 7, 2],\n",
              " [1, 43, 664, 7, 2],\n",
              " [1, 43, 6, 218, 7, 2],\n",
              " [1, 43, 16, 979, 7, 2],\n",
              " [1, 43, 6, 3190, 7, 2],\n",
              " [1, 43, 1780, 7, 2],\n",
              " [1, 43, 6, 1245, 7, 2],\n",
              " [1, 43, 6, 14, 7, 2],\n",
              " [1, 984, 21, 9, 2],\n",
              " [1, 622, 8, 21, 9, 2],\n",
              " [1, 731, 21, 9, 2],\n",
              " [1, 8, 35, 142, 3, 2],\n",
              " [1, 13, 58, 142, 3, 2],\n",
              " [1, 27, 140, 142, 3, 2],\n",
              " [1, 3191, 9, 2284, 3, 1077, 9, 2],\n",
              " [1, 15, 4, 20, 219, 7, 2],\n",
              " [1, 797, 8, 21, 3, 2],\n",
              " [1, 798, 669, 3, 2],\n",
              " [1, 2285, 3, 2],\n",
              " [1, 406, 409, 36, 9, 2],\n",
              " [1, 389, 8, 409, 36, 9, 2],\n",
              " [1, 1248, 28, 9, 2],\n",
              " [1, 1248, 28, 9, 2],\n",
              " [1, 1781, 8, 34, 9, 2],\n",
              " [1, 1781, 8, 34, 3, 2],\n",
              " [1, 30, 4, 154, 7, 2],\n",
              " [1, 81, 17, 45, 7, 2],\n",
              " [1, 581, 5, 9, 2],\n",
              " [1, 3192, 5, 9, 2],\n",
              " [1, 453, 8, 5, 9, 2],\n",
              " [1, 1782, 5, 9, 2],\n",
              " [1, 1449, 28, 3, 2],\n",
              " [1, 74, 145, 9, 2],\n",
              " [1, 74, 582, 3, 2],\n",
              " [1, 74, 212, 9, 2],\n",
              " [1, 120, 879, 9, 2],\n",
              " [1, 74, 879, 9, 2],\n",
              " [1, 74, 582, 9, 2],\n",
              " [1, 74, 212, 9, 2],\n",
              " [1, 74, 377, 3, 2],\n",
              " [1, 92, 8, 377, 3, 2],\n",
              " [1, 1248, 28, 9, 2],\n",
              " [1, 18, 4, 224, 7, 2],\n",
              " [1, 79, 10, 61, 9, 2],\n",
              " [1, 362, 2286, 3, 2],\n",
              " [1, 374, 12, 3, 2],\n",
              " [1, 887, 12, 9, 2],\n",
              " [1, 799, 12, 3, 2],\n",
              " [1, 196, 8, 12, 3, 2],\n",
              " [1, 196, 8, 12, 9, 2],\n",
              " [1, 799, 12, 9, 2],\n",
              " [1, 1458, 12, 9, 2],\n",
              " [1, 888, 12, 3, 2],\n",
              " [1, 975, 12, 3, 2],\n",
              " [1, 10, 150, 21, 289, 3, 2],\n",
              " [1, 1459, 9, 2],\n",
              " [1, 1459, 3, 2],\n",
              " [1, 1783, 8, 9, 2],\n",
              " [1, 1448, 9, 2],\n",
              " [1, 194, 732, 9, 2],\n",
              " [1, 3193, 76, 3, 2],\n",
              " [1, 889, 21, 3, 2],\n",
              " [1, 670, 10, 9, 2],\n",
              " [1, 2287, 48, 108, 3, 2],\n",
              " [1, 670, 10, 3, 2],\n",
              " [1, 11, 109, 13, 2288, 3, 2],\n",
              " [1, 160, 20, 9, 2],\n",
              " [1, 454, 10, 3, 2],\n",
              " [1, 3194, 52, 9, 2],\n",
              " [1, 89, 226, 9, 2],\n",
              " [1, 74, 226, 3, 2],\n",
              " [1, 89, 260, 9, 2],\n",
              " [1, 89, 341, 299, 9, 2],\n",
              " [1, 59, 341, 299, 9, 2],\n",
              " [1, 1460, 57, 260, 9, 2],\n",
              " [1, 800, 102, 9, 2],\n",
              " [1, 159, 52, 376, 3, 2],\n",
              " [1, 216, 8, 376, 3, 2],\n",
              " [1, 14, 6, 171, 3, 2],\n",
              " [1, 14, 6, 179, 3, 2],\n",
              " [1, 14, 423, 3, 2],\n",
              " [1, 14, 6, 1784, 3, 2],\n",
              " [1, 14, 6, 3195, 3, 2],\n",
              " [1, 14, 6, 127, 3, 2],\n",
              " [1, 14, 6, 49, 3, 2],\n",
              " [1, 14, 6, 1785, 3, 2],\n",
              " [1, 14, 6, 238, 3, 2],\n",
              " [1, 33, 15, 4, 3, 2],\n",
              " [1, 33, 23, 1249, 985, 3, 2],\n",
              " [1, 12, 671, 9, 2],\n",
              " [1, 672, 11, 9, 2],\n",
              " [1, 672, 11, 76, 3, 2],\n",
              " [1, 546, 8, 11, 9, 2],\n",
              " [1, 793, 11, 9, 2],\n",
              " [1, 623, 9, 2],\n",
              " [1, 42, 6, 26, 1461, 7, 2],\n",
              " [1, 42, 624, 9, 2],\n",
              " [1, 63, 5, 211, 455, 2289, 3, 2],\n",
              " [1, 137, 5, 211, 455, 2289, 3, 2],\n",
              " [1, 4, 15, 98, 3, 2],\n",
              " [1, 4, 18, 20, 91, 3, 2],\n",
              " [1, 21, 59, 10, 49, 3, 2],\n",
              " [1, 10, 59, 21, 49, 3, 2],\n",
              " [1, 4, 15, 33, 3, 2],\n",
              " [1, 10, 59, 21, 49, 3, 2],\n",
              " [1, 4, 15, 138, 3, 2],\n",
              " [1, 4, 15, 167, 3, 2],\n",
              " [1, 4, 15, 489, 3, 2],\n",
              " [1, 21, 59, 10, 49, 3, 2],\n",
              " [1, 10, 59, 21, 49, 3, 2],\n",
              " [1, 4, 30, 669, 3, 2],\n",
              " [1, 4, 30, 307, 3, 2],\n",
              " [1, 4, 30, 410, 3, 2],\n",
              " [1, 4, 30, 801, 185, 3, 2],\n",
              " [1, 4, 30, 227, 3, 2],\n",
              " [1, 4, 18, 986, 3, 2],\n",
              " [1, 4, 68, 890, 3, 2],\n",
              " [1, 4, 664, 46, 1250, 3, 2],\n",
              " [1, 4, 1251, 25, 221, 3, 2],\n",
              " [1, 4, 18, 1462, 3, 2],\n",
              " [1, 4, 308, 29, 3, 2],\n",
              " [1, 4, 336, 25, 38, 13, 1463, 3, 2],\n",
              " [1, 4, 1464, 3, 2],\n",
              " [1, 4, 673, 65, 3, 2],\n",
              " [1, 4, 2290, 22, 3, 2],\n",
              " [1, 4, 68, 240, 3, 2],\n",
              " [1, 4, 68, 363, 3, 2],\n",
              " [1, 4, 87, 170, 3, 2],\n",
              " [1, 4, 18, 22, 891, 3, 2],\n",
              " [1, 4, 18, 5, 390, 3, 2],\n",
              " [1, 11, 278, 4, 3, 2],\n",
              " [1, 4, 278, 10, 3, 2],\n",
              " [1, 4, 18, 2291, 3, 2],\n",
              " [1, 4, 277, 10, 3, 2],\n",
              " [1, 4, 277, 11, 3, 2],\n",
              " [1, 4, 802, 3, 2],\n",
              " [1, 11, 248, 21, 3, 2],\n",
              " [1, 4, 18, 44, 142, 3, 2],\n",
              " [1, 4, 64, 10, 9, 2],\n",
              " [1, 4, 64, 10, 3, 2],\n",
              " [1, 4, 18, 10, 101, 3, 2],\n",
              " [1, 4, 18, 10, 487, 3, 2],\n",
              " [1, 195, 1092, 4, 3, 2],\n",
              " [1, 4, 60, 10, 70, 9, 2],\n",
              " [1, 4, 60, 10, 247, 9, 2],\n",
              " [1, 4, 60, 10, 247, 3, 2],\n",
              " [1, 10, 6, 247, 674, 151, 21, 3, 2],\n",
              " [1, 4, 18, 5, 346, 3, 2],\n",
              " [1, 4, 1465, 5, 3, 2],\n",
              " [1, 4, 15, 5, 2292, 3, 2],\n",
              " [1, 4, 18, 44, 346, 3, 2],\n",
              " [1, 4, 364, 10, 3, 2],\n",
              " [1, 10, 425, 21, 3, 2],\n",
              " [1, 4, 3196, 3, 2],\n",
              " [1, 4, 3197, 10, 3, 2],\n",
              " [1, 4, 241, 325, 3, 2],\n",
              " [1, 4, 18, 5, 88, 3, 2],\n",
              " [1, 4, 18, 44, 88, 3, 2],\n",
              " [1, 4, 18, 40, 88, 3, 2],\n",
              " [1, 4, 18, 28, 88, 3, 2],\n",
              " [1, 4, 18, 57, 88, 3, 2],\n",
              " [1, 4, 267, 5, 3, 2],\n",
              " [1, 4, 456, 10, 3, 2],\n",
              " [1, 4, 18, 10, 892, 3, 2],\n",
              " [1, 4, 172, 10, 3, 2],\n",
              " [1, 4, 66, 10, 3, 2],\n",
              " [1, 4, 24, 258, 3, 2],\n",
              " [1, 4, 24, 337, 3, 2],\n",
              " [1, 4, 133, 3, 2],\n",
              " [1, 4, 39, 45, 3, 2],\n",
              " [1, 4, 1786, 29, 3, 2],\n",
              " [1, 4, 209, 10, 91, 3, 2],\n",
              " [1, 4, 209, 45, 3, 2],\n",
              " [1, 4, 39, 583, 3, 2],\n",
              " [1, 4, 39, 92, 3, 2],\n",
              " [1, 4, 39, 426, 3, 2],\n",
              " [1, 4, 893, 3, 2],\n",
              " [1, 4, 39, 152, 3, 2],\n",
              " [1, 4, 39, 987, 3, 2],\n",
              " [1, 4, 39, 290, 3, 2],\n",
              " [1, 4, 39, 2293, 3, 2],\n",
              " [1, 4, 39, 309, 3, 2],\n",
              " [1, 4, 39, 222, 3, 2],\n",
              " [1, 4, 39, 290, 3, 2],\n",
              " [1, 4, 39, 365, 3, 2],\n",
              " [1, 4, 39, 206, 3, 2],\n",
              " [1, 4, 133, 20, 310, 3, 2],\n",
              " [1, 4, 15, 19, 193, 3, 2],\n",
              " [1, 4, 15, 733, 3, 2],\n",
              " [1, 4, 15, 360, 3, 2],\n",
              " [1, 4, 15, 894, 3, 2],\n",
              " [1, 4, 15, 734, 3, 2],\n",
              " [1, 21, 6, 457, 3, 2],\n",
              " [1, 4, 15, 1787, 186, 3198, 3, 2],\n",
              " [1, 4, 15, 803, 3, 2],\n",
              " [1, 4, 15, 3199, 3, 2],\n",
              " [1, 4, 15, 291, 3, 2],\n",
              " [1, 4, 15, 490, 3, 2],\n",
              " [1, 4, 39, 377, 199, 3, 2],\n",
              " [1, 4, 15, 391, 338, 3, 2],\n",
              " [1, 4, 15, 1252, 3, 2],\n",
              " [1, 4, 15, 1466, 3, 2],\n",
              " [1, 4, 133, 61, 3, 2],\n",
              " [1, 4, 15, 128, 3, 2],\n",
              " [1, 4, 15, 804, 3, 2],\n",
              " [1, 4, 888, 3, 2],\n",
              " [1, 4, 15, 2294, 3, 2],\n",
              " [1, 4, 15, 977, 3, 2],\n",
              " [1, 4, 15, 988, 9, 2],\n",
              " [1, 4, 15, 988, 3, 2],\n",
              " [1, 4, 15, 70, 342, 3, 2],\n",
              " [1, 4, 18, 200, 3, 2],\n",
              " [1, 4, 18, 200, 3, 2],\n",
              " [1, 4, 15, 1788, 3, 2],\n",
              " [1, 10, 150, 21, 289, 3, 2],\n",
              " [1, 1459, 9, 2],\n",
              " [1, 4, 2295, 735, 3, 2],\n",
              " [1, 4, 15, 157, 9, 2],\n",
              " [1, 4, 15, 157, 3, 2],\n",
              " [1, 4, 15, 1093, 3, 2],\n",
              " [1, 4, 15, 268, 3, 2],\n",
              " [1, 4, 15, 411, 3, 2],\n",
              " [1, 4, 1789, 52, 3, 2],\n",
              " [1, 4, 18, 142, 3, 2],\n",
              " [1, 2296, 10, 1094, 12, 9, 2],\n",
              " [1, 2297, 8, 10, 1094, 12, 9, 2],\n",
              " [1, 6, 5, 231, 7, 2],\n",
              " [1, 6, 5, 62, 7, 2],\n",
              " [1, 6, 14, 5, 7, 2],\n",
              " [1, 6, 10, 1253, 7, 2],\n",
              " [1, 6, 11, 342, 7, 2],\n",
              " [1, 6, 10, 187, 7, 2],\n",
              " [1, 6, 10, 258, 7, 2],\n",
              " [1, 10, 3200, 3, 2],\n",
              " [1, 10, 3201, 3, 2],\n",
              " [1, 10, 16, 1467, 3, 2],\n",
              " [1, 10, 16, 1790, 3, 2],\n",
              " [1, 11, 16, 298, 3, 2],\n",
              " [1, 10, 6, 2298, 1791, 3, 2],\n",
              " [1, 10, 6, 269, 3, 2],\n",
              " [1, 10, 6, 895, 269, 3202, 3, 2],\n",
              " [1, 10, 6, 269, 3, 2],\n",
              " [1, 10, 6, 1468, 65, 3203, 3, 2],\n",
              " [1, 10, 6, 3, 269, 3, 2],\n",
              " [1, 11, 6, 19, 427, 3, 2],\n",
              " [1, 10, 6, 232, 3, 2],\n",
              " [1, 10, 6, 3204, 3, 2],\n",
              " [1, 10, 6, 625, 3, 2],\n",
              " [1, 11, 6, 100, 3, 2],\n",
              " [1, 10, 6, 100, 3, 2],\n",
              " [1, 10, 6, 884, 3, 2],\n",
              " [1, 10, 6, 259, 3, 2],\n",
              " [1, 11, 6, 458, 3, 2],\n",
              " [1, 10, 6, 33, 3, 2],\n",
              " [1, 10, 6, 219, 3, 2],\n",
              " [1, 10, 6, 584, 3, 2],\n",
              " [1, 8, 148, 21, 3, 2],\n",
              " [1, 14, 148, 21, 3, 2],\n",
              " [1, 10, 6, 46, 225, 3, 2],\n",
              " [1, 10, 6, 2299, 3, 2],\n",
              " [1, 10, 6, 3205, 3, 2],\n",
              " [1, 10, 6, 300, 3, 2],\n",
              " [1, 10, 6, 1792, 3, 2],\n",
              " [1, 10, 6, 348, 3, 2],\n",
              " [1, 10, 6, 163, 3, 2],\n",
              " [1, 11, 6, 60, 163, 3, 2],\n",
              " [1, 1469, 618, 9, 2],\n",
              " [1, 270, 102, 3, 2],\n",
              " [1, 626, 102, 3, 2],\n",
              " [1, 222, 8, 102, 3, 2],\n",
              " [1, 222, 8, 147, 3, 2],\n",
              " [1, 270, 805, 9, 2],\n",
              " [1, 787, 183, 9, 2],\n",
              " [1, 1793, 8, 3, 2],\n",
              " [1, 306, 8, 8, 3, 2],\n",
              " [1, 1083, 8, 3, 2],\n",
              " [1, 787, 8, 9, 2],\n",
              " [1, 672, 28, 675, 3, 2],\n",
              " [1, 793, 57, 675, 3, 2],\n",
              " [1, 546, 8, 34, 675, 3, 2],\n",
              " [1, 1254, 5, 3, 2],\n",
              " [1, 491, 8, 5, 3, 2],\n",
              " [1, 89, 61, 9, 2],\n",
              " [1, 59, 61, 9, 2],\n",
              " [1, 63, 10, 54, 3, 2],\n",
              " [1, 63, 10, 222, 3, 2],\n",
              " [1, 63, 22, 46, 378, 3, 2],\n",
              " [1, 131, 8, 22, 45, 9, 2],\n",
              " [1, 63, 22, 45, 9, 2],\n",
              " [1, 63, 22, 265, 3, 2],\n",
              " [1, 63, 31, 45, 3, 2],\n",
              " [1, 131, 8, 31, 45, 3, 2],\n",
              " [1, 154, 17, 121, 9, 2],\n",
              " [1, 796, 17, 76, 3, 2],\n",
              " [1, 137, 10, 31, 175, 9, 2],\n",
              " [1, 63, 10, 31, 175, 9, 2],\n",
              " [1, 63, 10, 31, 1095, 9, 2],\n",
              " [1, 3206, 326, 161, 1794, 28, 12, 3, 2],\n",
              " [1, 153, 20, 3, 2],\n",
              " [1, 184, 65, 3207, 9, 2],\n",
              " [1, 1470, 618, 3, 2],\n",
              " [1, 184, 33, 3, 2],\n",
              " [1, 184, 212, 3, 2],\n",
              " [1, 1255, 10, 29, 3, 2],\n",
              " [1, 79, 28, 2300, 9, 2],\n",
              " [1, 3208, 76, 19, 2301, 9, 2],\n",
              " [1, 515, 1471, 9, 2],\n",
              " [1, 2302, 9, 2],\n",
              " [1, 3209, 9, 2],\n",
              " [1, 29, 896, 989, 9, 2],\n",
              " [1, 990, 513, 9, 2],\n",
              " [1, 897, 138, 211, 9, 2],\n",
              " [1, 67, 89, 3, 2],\n",
              " [1, 67, 59, 3, 2],\n",
              " [1, 67, 45, 8, 3, 2],\n",
              " [1, 340, 10, 29, 3, 2],\n",
              " [1, 266, 10, 1237, 3, 2],\n",
              " [1, 340, 44, 29, 3, 2],\n",
              " [1, 421, 8, 36, 3, 2],\n",
              " [1, 340, 8, 29, 3, 2],\n",
              " [1, 340, 8, 52, 29, 3, 2],\n",
              " [1, 421, 8, 52, 36, 3, 2],\n",
              " [1, 340, 44, 52, 29, 3, 2],\n",
              " [1, 676, 11, 33, 3, 2],\n",
              " [1, 239, 3210, 9, 2],\n",
              " [1, 239, 405, 3, 2],\n",
              " [1, 3211, 677, 3, 2],\n",
              " [1, 616, 44, 9, 2],\n",
              " [1, 1084, 8, 44, 9, 2],\n",
              " [1, 1452, 44, 9, 2],\n",
              " [1, 285, 7, 2],\n",
              " [1, 723, 7, 2],\n",
              " [1, 1772, 7, 2],\n",
              " [1, 104, 247, 7, 2],\n",
              " [1, 8, 446, 3, 2],\n",
              " [1, 8, 2303, 275, 3, 2],\n",
              " [1, 8, 59, 3, 2],\n",
              " [1, 8, 59, 20, 310, 3, 2],\n",
              " [1, 3212, 33, 3, 2],\n",
              " [1, 806, 8, 33, 3, 2],\n",
              " [1, 806, 8, 11, 3, 2],\n",
              " [1, 3213, 11, 3, 2],\n",
              " [1, 340, 28, 20, 21, 9, 2],\n",
              " [1, 1795, 326, 3, 2],\n",
              " [1, 1256, 8, 326, 3, 2],\n",
              " [1, 340, 28, 1257, 3, 2],\n",
              " [1, 3214, 41, 9, 2],\n",
              " [1, 736, 8, 61, 3, 2],\n",
              " [1, 581, 61, 36, 3, 2],\n",
              " [1, 222, 8, 102, 3, 2],\n",
              " [1, 626, 147, 9, 2],\n",
              " [1, 270, 188, 3, 2],\n",
              " [1, 222, 8, 188, 3, 2],\n",
              " [1, 270, 188, 3, 2],\n",
              " [1, 626, 188, 3, 2],\n",
              " [1, 222, 8, 188, 3, 2],\n",
              " [1, 270, 585, 3, 2],\n",
              " [1, 626, 585, 3, 2],\n",
              " [1, 270, 677, 9, 2],\n",
              " [1, 270, 677, 9, 2],\n",
              " [1, 222, 8, 619, 3, 2],\n",
              " [1, 270, 619, 3, 2],\n",
              " [1, 1096, 147, 9, 2],\n",
              " [1, 153, 33, 29, 3, 2],\n",
              " [1, 288, 33, 3, 2],\n",
              " [1, 288, 33, 36, 3, 2],\n",
              " [1, 270, 33, 407, 3, 2],\n",
              " [1, 63, 11, 9, 2],\n",
              " [1, 153, 29, 392, 9, 2],\n",
              " [1, 153, 76, 29, 9, 2],\n",
              " [1, 153, 76, 29, 392, 9, 2],\n",
              " [1, 2261, 8, 3, 2],\n",
              " [1, 627, 8, 8, 3, 2],\n",
              " [1, 807, 29, 28, 29, 9, 2],\n",
              " [1, 1472, 49, 3, 2],\n",
              " [1, 159, 584, 3, 2],\n",
              " [1, 159, 60, 3, 2],\n",
              " [1, 159, 176, 3, 2],\n",
              " [1, 614, 584, 3, 2],\n",
              " [1, 614, 60, 3, 2],\n",
              " [1, 614, 176, 3, 2],\n",
              " [1, 216, 8, 584, 3, 2],\n",
              " [1, 216, 8, 176, 3, 2],\n",
              " [1, 216, 8, 60, 3, 2],\n",
              " [1, 1796, 13, 3, 2],\n",
              " [1, 3215, 27, 3, 2],\n",
              " [1, 1097, 8, 3, 2],\n",
              " [1, 159, 11, 3, 2],\n",
              " [1, 785, 9, 2],\n",
              " [1, 11, 6, 2304, 3, 3216, 3, 2],\n",
              " [1, 11, 3217, 3, 2],\n",
              " [1, 11, 15, 4, 9, 2],\n",
              " [1, 4, 15, 61, 189, 3, 2],\n",
              " [1, 990, 161, 7, 2],\n",
              " [1, 8, 3218, 3, 2],\n",
              " [1, 8, 3219, 3, 2],\n",
              " [1, 8, 35, 512, 3, 2],\n",
              " [1, 8, 142, 3, 2],\n",
              " [1, 8, 35, 142, 3, 2],\n",
              " [1, 8, 3220, 3, 2],\n",
              " [1, 26, 143, 6, 135, 3, 2],\n",
              " [1, 5, 3221, 34, 3, 2],\n",
              " [1, 5, 446, 3, 2],\n",
              " [1, 5, 2305, 3, 2],\n",
              " [1, 5, 586, 3, 2],\n",
              " [1, 5, 3222, 3, 2],\n",
              " [1, 5, 6, 46, 225, 3, 2],\n",
              " [1, 5, 6, 33, 3, 2],\n",
              " [1, 5, 6, 29, 3, 2],\n",
              " [1, 5, 3223, 3, 2],\n",
              " [1, 5, 84, 10, 3, 2],\n",
              " [1, 5, 1473, 34, 3, 2],\n",
              " [1, 5, 587, 3, 2],\n",
              " [1, 5, 16, 898, 3, 2],\n",
              " [1, 5, 448, 3, 2],\n",
              " [1, 5, 737, 3, 2],\n",
              " [1, 5, 1258, 10, 3, 2],\n",
              " [1, 5, 16, 10, 275, 3, 2],\n",
              " [1, 5, 275, 10, 3, 2],\n",
              " [1, 5, 16, 899, 3, 2],\n",
              " [1, 5, 1797, 3, 2],\n",
              " [1, 5, 59, 20, 310, 3, 2],\n",
              " [1, 5, 2306, 3, 2],\n",
              " [1, 5, 459, 3, 2],\n",
              " [1, 5, 48, 45, 3, 2],\n",
              " [1, 5, 6, 447, 3, 2],\n",
              " [1, 5, 6, 240, 3, 2],\n",
              " [1, 5, 6, 321, 3, 2],\n",
              " [1, 5, 6, 337, 3, 2],\n",
              " [1, 795, 5, 9, 2],\n",
              " [1, 408, 8, 5, 9, 2],\n",
              " [1, 452, 5, 9, 2],\n",
              " [1, 175, 8, 10, 72, 301, 3, 2],\n",
              " [1, 373, 10, 72, 301, 3, 2],\n",
              " [1, 275, 10, 72, 76, 3, 2],\n",
              " [1, 620, 10, 36, 9, 2],\n",
              " [1, 620, 8, 36, 9, 2],\n",
              " [1, 620, 44, 36, 9, 2],\n",
              " [1, 612, 10, 29, 3, 2],\n",
              " [1, 3224, 10, 3, 2],\n",
              " [1, 412, 5, 20, 9, 2],\n",
              " [1, 114, 8, 5, 20, 9, 2],\n",
              " [1, 1474, 5, 20, 9, 2],\n",
              " [1, 17, 228, 31, 2307, 3, 2],\n",
              " [1, 17, 3225, 20, 3, 2],\n",
              " [1, 17, 81, 45, 3, 2],\n",
              " [1, 17, 1259, 10, 3, 2],\n",
              " [1, 17, 35, 10, 88, 3, 2],\n",
              " [1, 17, 35, 31, 2308, 3, 2],\n",
              " [1, 17, 1475, 3, 2],\n",
              " [1, 17, 69, 114, 3, 2],\n",
              " [1, 17, 69, 10, 175, 3, 2],\n",
              " [1, 17, 69, 1260, 3, 2],\n",
              " [1, 31, 6, 187, 3, 2],\n",
              " [1, 17, 23, 321, 3, 2],\n",
              " [1, 17, 23, 337, 3, 2],\n",
              " [1, 17, 35, 224, 9, 2],\n",
              " [1, 38, 6, 207, 7, 2],\n",
              " [1, 38, 6, 207, 7, 2],\n",
              " [1, 990, 25, 42, 444, 7, 2],\n",
              " [1, 460, 1476, 183, 7, 2],\n",
              " [1, 460, 1476, 11, 96, 7, 2],\n",
              " [1, 43, 6, 14, 7, 2],\n",
              " [1, 43, 16, 898, 7, 2],\n",
              " [1, 43, 448, 7, 2],\n",
              " [1, 43, 311, 7, 2],\n",
              " [1, 43, 59, 7, 2],\n",
              " [1, 43, 48, 45, 7, 2],\n",
              " [1, 43, 6, 8, 7, 2],\n",
              " [1, 886, 9, 2],\n",
              " [1, 3226, 9, 2],\n",
              " [1, 1261, 5, 9, 2],\n",
              " [1, 622, 8, 5, 9, 2],\n",
              " [1, 731, 5, 9, 2],\n",
              " [1, 13, 3227, 3, 2],\n",
              " [1, 8, 185, 3, 2],\n",
              " [1, 13, 900, 9, 2],\n",
              " [1, 13, 3228, 36, 3, 2],\n",
              " [1, 13, 3229, 3, 2],\n",
              " [1, 27, 2309, 3, 2],\n",
              " [1, 8, 2310, 3, 2],\n",
              " [1, 13, 3230, 275, 3, 2],\n",
              " [1, 13, 32, 231, 3, 2],\n",
              " [1, 1798, 1799, 9, 2],\n",
              " [1, 2284, 8, 1799, 9, 2],\n",
              " [1, 3231, 1799, 9, 2],\n",
              " [1, 78, 193, 36, 1098, 9, 2],\n",
              " [1, 1477, 4, 7, 2],\n",
              " [1, 15, 4, 391, 338, 7, 2],\n",
              " [1, 15, 4, 808, 7, 2],\n",
              " [1, 15, 4, 901, 7, 2],\n",
              " [1, 18, 4, 200, 7, 2],\n",
              " [1, 1478, 4, 980, 7, 2],\n",
              " [1, 15, 4, 547, 7, 2],\n",
              " [1, 284, 4, 12, 200, 7, 2],\n",
              " [1, 1099, 4, 22, 7, 2],\n",
              " [1, 1800, 5, 9, 2],\n",
              " [1, 797, 8, 5, 9, 2],\n",
              " [1, 3232, 5, 9, 2],\n",
              " [1, 32, 13, 7, 2],\n",
              " [1, 59, 10, 52, 49, 7, 2],\n",
              " [1, 59, 10, 57, 49, 7, 2],\n",
              " [1, 59, 10, 124, 49, 7, 2],\n",
              " [1, 32, 13, 375, 7, 2],\n",
              " [1, 32, 13, 29, 7, 2],\n",
              " [1, 374, 2311, 9, 2],\n",
              " [1, 374, 991, 3, 2],\n",
              " [1, 319, 8, 991, 3, 2],\n",
              " [1, 976, 991, 3, 2],\n",
              " [1, 130, 461, 9, 2],\n",
              " [1, 412, 28, 164, 9, 2],\n",
              " [1, 93, 3233, 9, 2],\n",
              " [1, 93, 1262, 9, 2],\n",
              " [1, 93, 1262, 9, 2],\n",
              " [1, 130, 902, 9, 2],\n",
              " [1, 270, 76, 29, 118, 903, 47, 1801, 9, 2],\n",
              " [1, 798, 309, 3, 2],\n",
              " [1, 393, 394, 3, 2],\n",
              " [1, 30, 4, 92, 7, 2],\n",
              " [1, 134, 4, 92, 7, 2],\n",
              " [1, 30, 4, 90, 7, 2],\n",
              " ...]"
            ]
          },
          "metadata": {},
          "execution_count": 9
        }
      ]
    },
    {
      "cell_type": "code",
      "metadata": {
        "id": "fqiO7HuQ1iaL"
      },
      "source": [
        "import numpy as np"
      ],
      "execution_count": null,
      "outputs": []
    },
    {
      "cell_type": "code",
      "source": [
        "indx = np.random.choice(len(english_sentences), 5)\n",
        "for i in indx:\n",
        "    print(english_sentences[i])\n",
        "    print(german_sentences[i])\n",
        "    print(german_sentences_sequences[i])"
      ],
      "metadata": {
        "id": "lSAhhIwFl5JP",
        "outputId": "495cd990-4fbc-4b4d-fe6e-2c1995a0b0e1",
        "colab": {
          "base_uri": "https://localhost:8080/"
        }
      },
      "execution_count": null,
      "outputs": [
        {
          "output_type": "stream",
          "name": "stdout",
          "text": [
            "i know his name .\n",
            "<start> ich kenne seinen namen . <end>\n",
            "[1, 4, 177, 455, 660, 3, 2]\n",
            "do come in .\n",
            "<start> komm doch rein ! <end>\n",
            "[1, 74, 211, 226, 9, 2]\n",
            "tom is obedient .\n",
            "<start> tom ist gehorsam . <end>\n",
            "[1, 5, 6, 2946, 3, 2]\n",
            "we kept in touch .\n",
            "<start> wir blieben in kontakt . <end>\n",
            "[1, 17, 3005, 46, 1988, 3, 2]\n",
            "rain is unlikely .\n",
            "<start> regen ist eher unwahrscheinlich . <end>\n",
            "[1, 1162, 6, 5048, 1983, 3, 2]\n"
          ]
        }
      ]
    },
    {
      "cell_type": "code",
      "source": [
        "german_sentences_sequences_pad = tf.keras.preprocessing.sequence.pad_sequences(sequences=german_sentences_sequences,\n",
        "                                                                              padding=\"post\",\n",
        "                                                                              value=0)"
      ],
      "metadata": {
        "id": "Icg7c7vTl77J"
      },
      "execution_count": null,
      "outputs": []
    },
    {
      "cell_type": "code",
      "source": [
        "german_sentences_sequences_pad"
      ],
      "metadata": {
        "id": "Kdgjx7XJmFP_",
        "outputId": "e192df7f-50dc-430f-9b39-90d005ff63df",
        "colab": {
          "base_uri": "https://localhost:8080/"
        }
      },
      "execution_count": null,
      "outputs": [
        {
          "output_type": "execute_result",
          "data": {
            "text/plain": [
              "array([[   1,  405,    9, ...,    0,    0,    0],\n",
              "       [   1, 3158,  662, ...,    0,    0,    0],\n",
              "       [   1,  975,    9, ...,    0,    0,    0],\n",
              "       ...,\n",
              "       [   1,    4,   15, ...,    0,    0,    0],\n",
              "       [   1,    4,   18, ...,    0,    0,    0],\n",
              "       [   1,    4,   18, ...,    0,    0,    0]], dtype=int32)"
            ]
          },
          "metadata": {},
          "execution_count": 13
        }
      ]
    },
    {
      "cell_type": "markdown",
      "metadata": {
        "id": "foL7Ihs21iaP"
      },
      "source": [
        "## 2. Prepare the data"
      ]
    },
    {
      "cell_type": "markdown",
      "metadata": {
        "id": "-9rCEE4z1iaQ"
      },
      "source": [
        "#### Load the embedding layer\n",
        "As part of the dataset preproceessing for this project, you will use a pre-trained English word embedding module from TensorFlow Hub. The URL for the module is https://tfhub.dev/google/tf2-preview/nnlm-en-dim128-with-normalization/1.\n",
        "\n",
        "This embedding takes a batch of text tokens in a 1-D tensor of strings as input. It then embeds the separate tokens into a 128-dimensional space.\n",
        "\n",
        "The code to load and test the embedding layer is provided for you below.\n",
        "\n",
        "**NB:** this model can also be used as a sentence embedding module. The module will process each token by removing punctuation and splitting on spaces. It then averages the word embeddings over a sentence to give a single embedding vector. However, we will use it only as a word embedding module, and will pass each word in the input sentence as a separate token."
      ]
    },
    {
      "cell_type": "code",
      "metadata": {
        "id": "ywZgobCh1iaR"
      },
      "source": [
        "# Load embedding module from Tensorflow Hub\n",
        "\n",
        "embedding_layer = hub.KerasLayer(\"https://tfhub.dev/google/tf2-preview/nnlm-en-dim128/1\",\n",
        "                                 output_shape=[128], input_shape=[], dtype=tf.string)"
      ],
      "execution_count": null,
      "outputs": []
    },
    {
      "cell_type": "code",
      "metadata": {
        "id": "TiY8QEDp1iaV",
        "colab": {
          "base_uri": "https://localhost:8080/"
        },
        "outputId": "1012e23b-2acf-4f36-d622-6df991d976ea"
      },
      "source": [
        "# Test the layer\n",
        "\n",
        "embedding_layer(tf.constant([\"these\", \"aren't\", \"the\", \"droids\", \"you're\", \"looking\", \"for\"])).shape"
      ],
      "execution_count": null,
      "outputs": [
        {
          "output_type": "execute_result",
          "data": {
            "text/plain": [
              "TensorShape([7, 128])"
            ]
          },
          "metadata": {},
          "execution_count": 15
        }
      ]
    },
    {
      "cell_type": "markdown",
      "metadata": {
        "id": "KjuzXc-z1iaY"
      },
      "source": [
        "You should now prepare the training and validation Datasets.\n",
        "\n",
        "* Create a random training and validation set split of the data, reserving e.g. 20% of the data for validation (NB: each English dataset example is a single sentence string, and each German dataset example is a sequence of padded integer tokens).\n",
        "* Load the training and validation sets into a tf.data.Dataset object, passing in a tuple of English and German data for both training and validation sets.\n",
        "* Create a function to map over the datasets that splits each English sentence at spaces. Apply this function to both Dataset objects using the map method. _Hint: look at the tf.strings.split function._\n",
        "* Create a function to map over the datasets that embeds each sequence of English words using the loaded embedding layer/model. Apply this function to both Dataset objects using the map method.\n",
        "* Create a function to filter out dataset examples where the English sentence is greater than or equal to than 13 (embedded) tokens in length. Apply this function to both Dataset objects using the filter method.\n",
        "* Create a function to map over the datasets that pads each English sequence of embeddings with some distinct padding value before the sequence, so that each sequence is length 13. Apply this function to both Dataset objects using the map method. _Hint: look at the tf.pad function. You can extract a Tensor shape using tf.shape; you might also find the tf.math.maximum function useful._\n",
        "* Batch both training and validation Datasets with a batch size of 16.\n",
        "* Print the `element_spec` property for the training and validation Datasets.\n",
        "* Using the Dataset `.take(1)` method, print the shape of the English data example from the training Dataset.\n",
        "* Using the Dataset `.take(1)` method, print the German data example Tensor from the validation Dataset."
      ]
    },
    {
      "cell_type": "code",
      "metadata": {
        "id": "Q-BUJOl_1iaZ"
      },
      "source": [
        "from sklearn.model_selection import train_test_split\n",
        "train_english, val_english, train_german, val_german = train_test_split(english_sentences, german_sentences_sequences_pad, test_size=0.2)"
      ],
      "execution_count": null,
      "outputs": []
    },
    {
      "cell_type": "code",
      "metadata": {
        "id": "4w6rM8Bl1iad"
      },
      "source": [
        "train_dataset = tf.data.Dataset.from_tensor_slices((train_english, train_german))\n",
        "val_dataset = tf.data.Dataset.from_tensor_slices((val_english, val_german))"
      ],
      "execution_count": null,
      "outputs": []
    },
    {
      "cell_type": "code",
      "metadata": {
        "id": "D7bn3mRs1iaj"
      },
      "source": [
        "# split english at space\n",
        "def map_split_aux(english,german):\n",
        "    return tf.strings.split(english,sep=\" \"), german\n",
        "train_dataset_split = train_dataset.map(map_split_aux)\n",
        "val_dataset_split = val_dataset.map(map_split_aux)"
      ],
      "execution_count": null,
      "outputs": []
    },
    {
      "cell_type": "code",
      "metadata": {
        "id": "q0Fdso381ian"
      },
      "source": [
        "def map_embed_aux(english, german):\n",
        "    return embedding_layer(english), german\n",
        "train_dataset_embed = train_dataset_split.map(map_embed_aux)\n",
        "val_dataset_embed = val_dataset_split.map(map_embed_aux)"
      ],
      "execution_count": null,
      "outputs": []
    },
    {
      "cell_type": "code",
      "metadata": {
        "id": "bGqlxuqZ1ias"
      },
      "source": [
        "def filter_len_aux(english, german):\n",
        "    return tf.shape(english).shape[0] <= 13\n",
        "train_dataset_len = train_dataset_embed.filter(filter_len_aux)\n",
        "val_dataset_len = val_dataset_embed.filter(filter_len_aux)"
      ],
      "execution_count": null,
      "outputs": []
    },
    {
      "cell_type": "code",
      "metadata": {
        "id": "MdqSXEoX1iav"
      },
      "source": [
        "def map_pad_aux(english, german):\n",
        "    paddings = tf.constant([[13,0],[0, 0]])\n",
        "    new_english = tf.pad(english, paddings)\n",
        "    return new_english[-13:,:], german\n",
        "train_dataset_pad = train_dataset_len.map(map_pad_aux)\n",
        "val_dataset_pad = train_dataset_len.map(map_pad_aux)"
      ],
      "execution_count": null,
      "outputs": []
    },
    {
      "cell_type": "code",
      "source": [
        "train_dataset_pad.element_spec[0]"
      ],
      "metadata": {
        "id": "jp8i8urqmilu",
        "outputId": "1012eb2d-be5a-4345-d4e5-7292d3b80868",
        "colab": {
          "base_uri": "https://localhost:8080/"
        }
      },
      "execution_count": null,
      "outputs": [
        {
          "output_type": "execute_result",
          "data": {
            "text/plain": [
              "TensorSpec(shape=(None, 128), dtype=tf.float32, name=None)"
            ]
          },
          "metadata": {},
          "execution_count": 22
        }
      ]
    },
    {
      "cell_type": "code",
      "source": [
        "train_dataset_batch = train_dataset_pad.batch(16)\n",
        "val_dataset_batch = val_dataset_pad.batch(16)"
      ],
      "metadata": {
        "id": "tGA4NalBmkmy"
      },
      "execution_count": null,
      "outputs": []
    },
    {
      "cell_type": "code",
      "source": [
        "temp = train_dataset_batch.take(1)\n",
        "temp = list(temp)[0]\n",
        "english_1 = temp[0]\n",
        "\n",
        "temp = val_dataset_batch.take(1)\n",
        "temp = list(temp)[0]\n",
        "german_1 = temp[1]\n",
        "print(english_1.shape)\n",
        "print(german_1)"
      ],
      "metadata": {
        "id": "0TWLN9M_mnHY",
        "outputId": "37858f5d-62df-4d97-dc5f-9e68ad5bc220",
        "colab": {
          "base_uri": "https://localhost:8080/"
        }
      },
      "execution_count": null,
      "outputs": [
        {
          "output_type": "stream",
          "name": "stdout",
          "text": [
            "(16, 13, 128)\n",
            "tf.Tensor(\n",
            "[[   1   14   24  840  104  501    3    2    0    0    0    0    0    0]\n",
            " [   1    4   15   70  447    3    2    0    0    0    0    0    0    0]\n",
            " [   1    4   18  334 2241    3    2    0    0    0    0    0    0    0]\n",
            " [   1  109   13   10 2804    7    2    0    0    0    0    0    0    0]\n",
            " [   1  659   31   12    9    2    0    0    0    0    0    0    0    0]\n",
            " [   1   89   72   12    9    2    0    0    0    0    0    0    0    0]\n",
            " [   1    4   15 5725    3    2    0    0    0    0    0    0    0    0]\n",
            " [   1  679   11    9    2    0    0    0    0    0    0    0    0    0]\n",
            " [   1    4   18   40 4957    3    2    0    0    0    0    0    0    0]\n",
            " [   1    4   30  108  494    3    2    0    0    0    0    0    0    0]\n",
            " [   1   17  522 3297  170    3    2    0    0    0    0    0    0    0]\n",
            " [   1  796   17   76    3    2    0    0    0    0    0    0    0    0]\n",
            " [   1   17   23  371  964    3    2    0    0    0    0    0    0    0]\n",
            " [   1   77   38    6   11    7    2    0    0    0    0    0    0    0]\n",
            " [   1   14    6 5538    3    2    0    0    0    0    0    0    0    0]\n",
            " [   1   32   13  186    5    7    2    0    0    0    0    0    0    0]], shape=(16, 14), dtype=int32)\n"
          ]
        }
      ]
    },
    {
      "cell_type": "code",
      "source": [
        "train_dataset_batch.element_spec"
      ],
      "metadata": {
        "id": "-7IvPqOWmuRz",
        "outputId": "323aeb4e-a5ac-49ac-dcc8-ee19a4126074",
        "colab": {
          "base_uri": "https://localhost:8080/"
        }
      },
      "execution_count": null,
      "outputs": [
        {
          "output_type": "execute_result",
          "data": {
            "text/plain": [
              "(TensorSpec(shape=(None, None, 128), dtype=tf.float32, name=None),\n",
              " TensorSpec(shape=(None, 14), dtype=tf.int32, name=None))"
            ]
          },
          "metadata": {},
          "execution_count": 25
        }
      ]
    },
    {
      "cell_type": "markdown",
      "metadata": {
        "id": "isIYhjq01iay"
      },
      "source": [
        "## 3. Create the custom layer\n",
        "You will now create a custom layer to add the learned end token embedding to the encoder model:"
      ]
    },
    {
      "cell_type": "code",
      "metadata": {
        "id": "e22f1Xyh6xvE",
        "colab": {
          "base_uri": "https://localhost:8080/",
          "height": 423
        },
        "outputId": "0459c797-ce8c-496f-ef45-9800bbcfc6be"
      },
      "source": [
        "# Run this cell to download and view a schematic diagram for the encoder model\n",
        "\n",
        "!wget -q -O neural_translation_model.png --no-check-certificate \"https://docs.google.com/uc?export=download&id=1JrtNOzUJDaOWrK4C-xv-4wUuZaI12sQI\"\n",
        "Image(\"neural_translation_model.png\")"
      ],
      "execution_count": null,
      "outputs": [
        {
          "output_type": "execute_result",
          "data": {
            "image/png": "[encoded data removed]",
            "text/plain": [
              "<IPython.core.display.Image object>"
            ]
          },
          "metadata": {},
          "execution_count": 26
        }
      ]
    },
    {
      "cell_type": "markdown",
      "metadata": {
        "id": "M6gLIHG81iaz"
      },
      "source": [
        "You should now build the custom layer.\n",
        "* Using layer subclassing, create a custom layer that takes a batch of English data examples from one of the Datasets, and adds a learned embedded ‘end’ token to the end of each sequence.\n",
        "* This layer should create a TensorFlow Variable (that will be learned during training) that is 128-dimensional (the size of the embedding space). _Hint: you may find it helpful in the call method to use the tf.tile function to replicate the end token embedding across every element in the batch._\n",
        "* Using the Dataset `.take(1)` method, extract a batch of English data examples from the training Dataset and print the shape. Test the custom layer by calling the layer on the English data batch Tensor and print the resulting Tensor shape (the layer should increase the sequence length by one)."
      ]
    },
    {
      "cell_type": "code",
      "metadata": {
        "id": "yg9hjZz11ia0"
      },
      "source": [
        "from tensorflow.keras.layers import Layer"
      ],
      "execution_count": null,
      "outputs": []
    },
    {
      "cell_type": "code",
      "metadata": {
        "id": "4PwI32O11ia3"
      },
      "source": [
        "class EndTokenLayer(Layer):\n",
        "    def __init__(self, embedding_dim=128, **kwargs):\n",
        "        super(EndTokenLayer,self).__init__(**kwargs)\n",
        "        self.end_token_embedding = self.add_weight(shape=(embedding_dim,),\n",
        "                                                  initializer=\"random_uniform\",\n",
        "                                                  trainable=True)\n",
        "    def call(self, inputs):\n",
        "        end_token = tf.tile(tf.reshape(self.end_token_embedding, shape=(1, 1, self.end_token_embedding.shape[0])), [tf.shape(inputs)[0],1,1])\n",
        "        return tf.keras.layers.concatenate([inputs, end_token], axis=1)"
      ],
      "execution_count": null,
      "outputs": []
    },
    {
      "cell_type": "code",
      "metadata": {
        "id": "ebjK8PmL1ia6",
        "colab": {
          "base_uri": "https://localhost:8080/"
        },
        "outputId": "8c6f327f-2e67-41d9-9af2-ed6fe7709d5d"
      },
      "source": [
        "temp = train_dataset_batch.take(1)\n",
        "for x, y in temp:\n",
        "    print(x.shape)\n",
        "    print(y.shape)"
      ],
      "execution_count": null,
      "outputs": [
        {
          "output_type": "stream",
          "name": "stdout",
          "text": [
            "(16, 13, 128)\n",
            "(16, 14)\n"
          ]
        }
      ]
    },
    {
      "cell_type": "code",
      "source": [
        "layer = EndTokenLayer(128)\n",
        "output = layer(list(temp)[0][0])"
      ],
      "metadata": {
        "id": "rn8upcGxnBBU"
      },
      "execution_count": null,
      "outputs": []
    },
    {
      "cell_type": "code",
      "source": [
        "output.shape"
      ],
      "metadata": {
        "id": "gAzsHL9AnEMz",
        "outputId": "7a3044e6-68d5-4c19-cbab-c06199d9ce65",
        "colab": {
          "base_uri": "https://localhost:8080/"
        }
      },
      "execution_count": null,
      "outputs": [
        {
          "output_type": "execute_result",
          "data": {
            "text/plain": [
              "TensorShape([16, 14, 128])"
            ]
          },
          "metadata": {},
          "execution_count": 31
        }
      ]
    },
    {
      "cell_type": "markdown",
      "metadata": {
        "id": "OAd3i4_y1ia-"
      },
      "source": [
        "## 4. Build the encoder network\n",
        "The encoder network follows the schematic diagram above. You should now build the RNN encoder model.\n",
        "* Using the functional API, build the encoder network according to the following spec:\n",
        "    * The model will take a batch of sequences of embedded English words as input, as given by the Dataset objects.\n",
        "    * The next layer in the encoder will be the custom layer you created previously, to add a learned end token embedding to the end of the English sequence.\n",
        "    * This is followed by a Masking layer, with the `mask_value` set to the distinct padding value you used when you padded the English sequences with the Dataset preprocessing above.\n",
        "    * The final layer is an LSTM layer with 512 units, which also returns the hidden and cell states.\n",
        "    * The encoder is a multi-output model. There should be two output Tensors of this model: the hidden state and cell states of the LSTM layer. The output of the LSTM layer is unused.\n",
        "* Using the Dataset `.take(1)` method, extract a batch of English data examples from the training Dataset and test the encoder model by calling it on the English data Tensor, and print the shape of the resulting Tensor outputs.\n",
        "* Print the model summary for the encoder network."
      ]
    },
    {
      "cell_type": "code",
      "metadata": {
        "id": "6R2LqbfV1ia_"
      },
      "source": [
        "from tensorflow.keras.models import Model"
      ],
      "execution_count": null,
      "outputs": []
    },
    {
      "cell_type": "code",
      "metadata": {
        "id": "e5XW6NxL1ibC"
      },
      "source": [
        "def get_encoder(input_shape):\n",
        "    inputs = tf.keras.layers.Input(shape=input_shape)\n",
        "    x = EndTokenLayer(128)(inputs)\n",
        "    x = tf.keras.layers.Masking(mask_value=0)(x)\n",
        "    sequence, hidden, cell = tf.keras.layers.LSTM(units=512, return_state=True)(x)\n",
        "    model = Model(inputs=inputs, outputs=[hidden, cell])\n",
        "    return model"
      ],
      "execution_count": null,
      "outputs": []
    },
    {
      "cell_type": "code",
      "metadata": {
        "id": "jEk9ikVh1ibL"
      },
      "source": [
        "temp = train_dataset_batch.take(1)\n",
        "temp = list(temp)[0][0]\n",
        "encoder_model = get_encoder((13, 128))"
      ],
      "execution_count": null,
      "outputs": []
    },
    {
      "cell_type": "code",
      "source": [
        "encoder_model.summary()"
      ],
      "metadata": {
        "id": "3qujzPwgnO4Z",
        "outputId": "dec09e06-89d2-4fca-ff0c-cbb052cc72d5",
        "colab": {
          "base_uri": "https://localhost:8080/"
        }
      },
      "execution_count": null,
      "outputs": [
        {
          "output_type": "stream",
          "name": "stdout",
          "text": [
            "Model: \"model\"\n",
            "_________________________________________________________________\n",
            " Layer (type)                Output Shape              Param #   \n",
            "=================================================================\n",
            " input_1 (InputLayer)        [(None, 13, 128)]         0         \n",
            "                                                                 \n",
            " end_token_layer_1 (EndToken  (None, 14, 128)          128       \n",
            " Layer)                                                          \n",
            "                                                                 \n",
            " masking (Masking)           (None, 14, 128)           0         \n",
            "                                                                 \n",
            " lstm (LSTM)                 [(None, 512),             1312768   \n",
            "                              (None, 512),                       \n",
            "                              (None, 512)]                       \n",
            "                                                                 \n",
            "=================================================================\n",
            "Total params: 1,312,896\n",
            "Trainable params: 1,312,896\n",
            "Non-trainable params: 0\n",
            "_________________________________________________________________\n"
          ]
        }
      ]
    },
    {
      "cell_type": "code",
      "source": [
        "hidden_state, cell_state = encoder_model(temp)"
      ],
      "metadata": {
        "id": "DdM8luZmnS09"
      },
      "execution_count": null,
      "outputs": []
    },
    {
      "cell_type": "code",
      "source": [
        "print(hidden_state)\n",
        "print(cell_state)"
      ],
      "metadata": {
        "id": "DOLbkz_jnV6B",
        "outputId": "6e213739-0ab9-4164-9070-0846d10f0430",
        "colab": {
          "base_uri": "https://localhost:8080/"
        }
      },
      "execution_count": null,
      "outputs": [
        {
          "output_type": "stream",
          "name": "stdout",
          "text": [
            "tf.Tensor(\n",
            "[[-0.01272512  0.00260128  0.01630834 ... -0.00514633  0.01413137\n",
            "   0.00125786]\n",
            " [-0.01925953  0.00381704  0.00492556 ... -0.01024901  0.01469464\n",
            "  -0.00163979]\n",
            " [-0.01303577  0.01417128  0.00503455 ... -0.01217079  0.01017233\n",
            "   0.00011924]\n",
            " ...\n",
            " [ 0.00147195 -0.00274019  0.01119471 ... -0.01037133 -0.00224303\n",
            "  -0.00321349]\n",
            " [-0.01253932 -0.00048188  0.01550667 ... -0.00030818  0.01515196\n",
            "   0.00911908]\n",
            " [-0.01912153  0.00661092  0.02333961 ... -0.00400534  0.02498636\n",
            "   0.00328084]], shape=(16, 512), dtype=float32)\n",
            "tf.Tensor(\n",
            "[[-0.02534373  0.00520372  0.03252061 ... -0.01025551  0.02817508\n",
            "   0.00250039]\n",
            " [-0.03825849  0.00762433  0.00979323 ... -0.02032761  0.02917769\n",
            "  -0.00327301]\n",
            " [-0.0260295   0.02832063  0.01002604 ... -0.02421604  0.02016108\n",
            "   0.00023782]\n",
            " ...\n",
            " [ 0.00292766 -0.00547321  0.02234726 ... -0.02064715 -0.00446118\n",
            "  -0.00639819]\n",
            " [-0.02494873 -0.00096102  0.03086353 ... -0.00061522  0.0301601\n",
            "   0.01815368]\n",
            " [-0.03815777  0.01321843  0.04651914 ... -0.00796263  0.0496821\n",
            "   0.00654212]], shape=(16, 512), dtype=float32)\n"
          ]
        }
      ]
    },
    {
      "cell_type": "markdown",
      "metadata": {
        "id": "KvkzpCeZ1ibR"
      },
      "source": [
        "## 5. Build the decoder network\n",
        "The decoder network follows the schematic diagram below."
      ]
    },
    {
      "cell_type": "code",
      "metadata": {
        "id": "yOjEb7cH7Y4S",
        "colab": {
          "base_uri": "https://localhost:8080/",
          "height": 501
        },
        "outputId": "c6db2419-1a3b-4566-ce08-d884ecd88ed1"
      },
      "source": [
        "# Run this cell to download and view a schematic diagram for the decoder model\n",
        "\n",
        "!wget -q -O neural_translation_model.png --no-check-certificate \"https://docs.google.com/uc?export=download&id=1DTeaXD8tA8RjkpVrB2mr9csSBOY4LQiW\"\n",
        "Image(\"neural_translation_model.png\")"
      ],
      "execution_count": null,
      "outputs": [
        {
          "output_type": "execute_result",
          "data": {
            "image/png": "[encoded data removed]",
            "text/plain": [
              "<IPython.core.display.Image object>"
            ]
          },
          "metadata": {},
          "execution_count": 38
        }
      ]
    },
    {
      "cell_type": "markdown",
      "metadata": {
        "id": "VPBK8WGL1ibS"
      },
      "source": [
        "You should now build the RNN decoder model.\n",
        "* Using Model subclassing, build the decoder network according to the following spec:\n",
        "    * The initializer should create the following layers:\n",
        "        * An Embedding layer with vocabulary size set to the number of unique German tokens, embedding dimension 128, and set to mask zero values in the input.\n",
        "        * An LSTM layer with 512 units, that returns its hidden and cell states, and also returns sequences.\n",
        "        * A Dense layer with number of units equal to the number of unique German tokens, and no activation function.\n",
        "    * The call method should include the usual `inputs` argument, as well as the additional keyword arguments `hidden_state` and `cell_state`. The default value for these keyword arguments should be `None`.\n",
        "    * The call method should pass the inputs through the Embedding layer, and then through the LSTM layer. If the `hidden_state` and `cell_state` arguments are provided, these should be used for the initial state of the LSTM layer. _Hint: use the_ `initial_state` _keyword argument when calling the LSTM layer on its input._\n",
        "    * The call method should pass the LSTM output sequence through the Dense layer, and return the resulting Tensor, along with the hidden and cell states of the LSTM layer.\n",
        "* Using the Dataset `.take(1)` method, extract a batch of English and German data examples from the training Dataset. Test the decoder model by first calling the encoder model on the English data Tensor to get the hidden and cell states, and then call the decoder model on the German data Tensor and hidden and cell states, and print the shape of the resulting decoder Tensor outputs.\n",
        "* Print the model summary for the decoder network."
      ]
    },
    {
      "cell_type": "code",
      "metadata": {
        "id": "l50qhnXD1ibT"
      },
      "source": [
        "tokenizer = tf.keras.preprocessing.text.Tokenizer(filters=\"\")\n",
        "tokenizer.fit_on_texts(german_sentences)\n",
        "max_index = len(tokenizer.word_index)"
      ],
      "execution_count": null,
      "outputs": []
    },
    {
      "cell_type": "code",
      "metadata": {
        "id": "vG5CRIXV1ibi"
      },
      "source": [
        "class get_decoder_model(Model):\n",
        "    def __init__(self):\n",
        "        super(get_decoder_model, self).__init__()\n",
        "        self.embedding = tf.keras.layers.Embedding(input_dim=max_index+1, output_dim=128,mask_zero=True)\n",
        "        self.lstm = tf.keras.layers.LSTM(units=512, return_sequences=True, return_state=True)\n",
        "        self.dense = tf.keras.layers.Dense(units=max_index+1)\n",
        "\n",
        "    def call(self, inputs, hidden_status=None, cell_status=None):\n",
        "        x = self.embedding(inputs)\n",
        "        sequences,hidden,cell = self.lstm(x,initial_state=[hidden_status, cell_status])\n",
        "        output = self.dense(sequences)\n",
        "        return output, hidden, cell"
      ],
      "execution_count": null,
      "outputs": []
    },
    {
      "cell_type": "code",
      "metadata": {
        "id": "SvqqT_ET1ibl"
      },
      "source": [
        "decoder_model = get_decoder_model()"
      ],
      "execution_count": null,
      "outputs": []
    },
    {
      "cell_type": "code",
      "source": [
        "temp = train_dataset_batch.take(1)\n",
        "\n",
        "dataset_english = list(temp)[0][0]\n",
        "dataset_german = list(temp)[0][1]\n",
        "dataset_english.shape"
      ],
      "metadata": {
        "id": "rIxwy7tzngSD",
        "outputId": "a32a4305-ecb7-49ad-f929-3670d793cd54",
        "colab": {
          "base_uri": "https://localhost:8080/"
        }
      },
      "execution_count": null,
      "outputs": [
        {
          "output_type": "execute_result",
          "data": {
            "text/plain": [
              "TensorShape([16, 13, 128])"
            ]
          },
          "metadata": {},
          "execution_count": 42
        }
      ]
    },
    {
      "cell_type": "code",
      "source": [
        "dataset_german.shape"
      ],
      "metadata": {
        "id": "4_u_FX_mnie_",
        "outputId": "0f2de6c7-a8f9-4593-eb65-6aa339097732",
        "colab": {
          "base_uri": "https://localhost:8080/"
        }
      },
      "execution_count": null,
      "outputs": [
        {
          "output_type": "execute_result",
          "data": {
            "text/plain": [
              "TensorShape([16, 14])"
            ]
          },
          "metadata": {},
          "execution_count": 43
        }
      ]
    },
    {
      "cell_type": "code",
      "source": [
        "hidden_states, cell_states = encoder_model(dataset_english)\n",
        "output, hidden, cell = decoder_model(inputs=dataset_german, hidden_status=hidden_states, cell_status=cell_states)"
      ],
      "metadata": {
        "id": "J3QZql5ZnnIM"
      },
      "execution_count": null,
      "outputs": []
    },
    {
      "cell_type": "code",
      "source": [
        "print(output.shape)"
      ],
      "metadata": {
        "id": "1qyUmADMnp0I",
        "outputId": "585f752f-563b-446b-d1c0-daf481b772c3",
        "colab": {
          "base_uri": "https://localhost:8080/"
        }
      },
      "execution_count": null,
      "outputs": [
        {
          "output_type": "stream",
          "name": "stdout",
          "text": [
            "(16, 14, 5751)\n"
          ]
        }
      ]
    },
    {
      "cell_type": "code",
      "source": [
        "decoder_model.summary()"
      ],
      "metadata": {
        "id": "PQQscFuHntCV",
        "outputId": "fb45145a-8a3e-4075-9ea1-7942e1206bf3",
        "colab": {
          "base_uri": "https://localhost:8080/"
        }
      },
      "execution_count": null,
      "outputs": [
        {
          "output_type": "stream",
          "name": "stdout",
          "text": [
            "Model: \"get_decoder_model\"\n",
            "_________________________________________________________________\n",
            " Layer (type)                Output Shape              Param #   \n",
            "=================================================================\n",
            " embedding (Embedding)       multiple                  736128    \n",
            "                                                                 \n",
            " lstm_1 (LSTM)               multiple                  1312768   \n",
            "                                                                 \n",
            " dense (Dense)               multiple                  2950263   \n",
            "                                                                 \n",
            "=================================================================\n",
            "Total params: 4,999,159\n",
            "Trainable params: 4,999,159\n",
            "Non-trainable params: 0\n",
            "_________________________________________________________________\n"
          ]
        }
      ]
    },
    {
      "cell_type": "markdown",
      "metadata": {
        "id": "pST9XGJ81ibo"
      },
      "source": [
        "## 6. Make a custom training loop\n",
        "You should now write a custom training loop to train your custom neural translation model.\n",
        "* Define a function that takes a Tensor batch of German data (as extracted from the training Dataset), and returns a tuple containing German inputs and outputs for the decoder model (refer to schematic diagram above).\n",
        "* Define a function that computes the forward and backward pass for your translation model. This function should take an English input, German input and German output as arguments, and should do the following:\n",
        "    * Pass the English input into the encoder, to get the hidden and cell states of the encoder LSTM.\n",
        "    * These hidden and cell states are then passed into the decoder, along with the German inputs, which returns a sequence of outputs (the hidden and cell state outputs of the decoder LSTM are unused in this function).\n",
        "    * The loss should then be computed between the decoder outputs and the German output function argument.\n",
        "    * The function returns the loss and gradients with respect to the encoder and decoder’s trainable variables.\n",
        "    * Decorate the function with `@tf.function`\n",
        "* Define and run a custom training loop for a number of epochs (for you to choose) that does the following:\n",
        "    * Iterates through the training dataset, and creates decoder inputs and outputs from the German sequences.\n",
        "    * Updates the parameters of the translation model using the gradients of the function above and an optimizer object.\n",
        "    * Every epoch, compute the validation loss on a number of batches from the validation and save the epoch training and validation losses.\n",
        "* Plot the learning curves for loss vs epoch for both training and validation sets.\n",
        "\n",
        "_Hint: This model is computationally demanding to train. The quality of the model or length of training is not a factor in the grading rubric. However, to obtain a better model we recommend using the GPU accelerator hardware on Colab._"
      ]
    },
    {
      "cell_type": "code",
      "metadata": {
        "id": "7hJHbWqs1ibr"
      },
      "source": [
        "def get_german_decoder(german_inputs):\n",
        "    return german_inputs[:,:-1], german_inputs[:,1:]"
      ],
      "execution_count": null,
      "outputs": []
    },
    {
      "cell_type": "code",
      "metadata": {
        "id": "Jvu4J4-u1ibu"
      },
      "source": [
        "@tf.function\n",
        "def forward_backwark_pass(english_inputs, german_inputs, german_outputs):\n",
        "\n",
        "    with tf.GradientTape() as tape:\n",
        "        hidden_states, cell_states = encoder_model(english_inputs)\n",
        "        decoder_outputs, _, _ = decoder_model(german_inputs, hidden_states, cell_states)\n",
        "        loss_value = tf.keras.losses.sparse_categorical_crossentropy(y_true=german_outputs, y_pred=decoder_outputs,from_logits=True)\n",
        "    return loss_value, tape.gradient(loss_value, encoder_model.trainable_variables+ decoder_model.trainable_variables)"
      ],
      "execution_count": null,
      "outputs": []
    },
    {
      "cell_type": "code",
      "metadata": {
        "id": "Vl5H06811ibx"
      },
      "source": [
        "def train_model(epochs):\n",
        "  training_loss = []\n",
        "  val_loss = []\n",
        "  training_accuracy = []\n",
        "  val_accuracy = []\n",
        "  optimizer = tf.keras.optimizers.Adam()\n",
        "  for epoch in range(epochs):\n",
        "      epoch_train_loss_avg = tf.keras.metrics.Mean()\n",
        "      epoch_train_accuracy_avg = tf.keras.metrics.CategoricalAccuracy()\n",
        "      epoch_val_loss_avg = tf.keras.metrics.Mean()\n",
        "      epoch_val_accuracy_avg = tf.keras.metrics.CategoricalAccuracy()\n",
        "\n",
        "      for english, german in train_dataset_batch:\n",
        "          german_inputs, german_outputs = get_german_decoder(german)\n",
        "          loss_value, grads = forward_backwark_pass(english, german_inputs, german_outputs)\n",
        "          epoch_train_loss_avg(loss_value)\n",
        "          #epoch_train_accuracy_avg(german_outputs,decoder_outputs)\n",
        "          optimizer.apply_gradients(zip(grads, encoder_model.trainable_variables+ decoder_model.trainable_variables))\n",
        "\n",
        "      for english, german in val_dataset_batch.take(20):\n",
        "          german_inputs, german_outputs = get_german_decoder(german)\n",
        "          loss_value, _  = forward_backwark_pass(english, german_inputs, german_outputs)\n",
        "          epoch_val_loss_avg(loss_value)\n",
        "          #epoch_val_accuracy_avg(german_outputs,decoder_outputs)\n",
        "\n",
        "      print(\"Epoch: {:03d},  loss:{:.3f},  va_loss:{:.3f}\".format(epoch, epoch_train_loss_avg.result(),epoch_val_loss_avg.result()))\n",
        "      training_loss.append(epoch_train_loss_avg.result())\n",
        "      #training_accuracy.append(epoch_train_accuracy_avg.result())\n",
        "      val_loss.append(epoch_val_loss_avg.result())\n",
        "      #val_accuracy.append(epoch_val_accuracy_avg())\n",
        "  return training_loss, val_loss"
      ],
      "execution_count": null,
      "outputs": []
    },
    {
      "cell_type": "code",
      "metadata": {
        "id": "MVWOYJ3l1ib1",
        "colab": {
          "base_uri": "https://localhost:8080/"
        },
        "outputId": "e1ab417e-d615-4b22-96e5-8ccb89f58844"
      },
      "source": [
        "training_loss, val_loss = train_model(10)"
      ],
      "execution_count": null,
      "outputs": [
        {
          "output_type": "stream",
          "name": "stderr",
          "text": [
            "WARNING:tensorflow:5 out of the last 5 calls to <function _BaseOptimizer._update_step_xla at 0x7f7e17d0d3f0> triggered tf.function retracing. Tracing is expensive and the excessive number of tracings could be due to (1) creating @tf.function repeatedly in a loop, (2) passing tensors with different shapes, (3) passing Python objects instead of tensors. For (1), please define your @tf.function outside of the loop. For (2), @tf.function has reduce_retracing=True option that can avoid unnecessary retracing. For (3), please refer to https://www.tensorflow.org/guide/function#controlling_retracing and https://www.tensorflow.org/api_docs/python/tf/function for  more details.\n",
            "WARNING:tensorflow:6 out of the last 6 calls to <function _BaseOptimizer._update_step_xla at 0x7f7e17d0d3f0> triggered tf.function retracing. Tracing is expensive and the excessive number of tracings could be due to (1) creating @tf.function repeatedly in a loop, (2) passing tensors with different shapes, (3) passing Python objects instead of tensors. For (1), please define your @tf.function outside of the loop. For (2), @tf.function has reduce_retracing=True option that can avoid unnecessary retracing. For (3), please refer to https://www.tensorflow.org/guide/function#controlling_retracing and https://www.tensorflow.org/api_docs/python/tf/function for  more details.\n"
          ]
        },
        {
          "output_type": "stream",
          "name": "stdout",
          "text": [
            "Epoch: 000,  loss:5.451,  va_loss:4.767\n",
            "Epoch: 001,  loss:4.284,  va_loss:3.828\n",
            "Epoch: 002,  loss:3.384,  va_loss:2.979\n",
            "Epoch: 003,  loss:2.559,  va_loss:2.191\n",
            "Epoch: 004,  loss:1.808,  va_loss:1.608\n",
            "Epoch: 005,  loss:1.181,  va_loss:0.965\n",
            "Epoch: 006,  loss:0.741,  va_loss:0.627\n",
            "Epoch: 007,  loss:0.479,  va_loss:0.444\n",
            "Epoch: 008,  loss:0.331,  va_loss:0.331\n",
            "Epoch: 009,  loss:0.242,  va_loss:0.258\n"
          ]
        }
      ]
    },
    {
      "cell_type": "code",
      "metadata": {
        "id": "6VSmBdwT1ib4",
        "colab": {
          "base_uri": "https://localhost:8080/",
          "height": 467
        },
        "outputId": "20911a70-b639-4132-8f35-c3bdf0edaf8a"
      },
      "source": [
        "import matplotlib.pyplot as plt\n",
        "plt.plot(training_loss, label=\"training\")\n",
        "plt.plot(val_loss, label=\"validation\")\n",
        "plt.legend()\n",
        "plt.xlabel(\"Epochs\")\n",
        "plt.ylabel(\"Loss\")"
      ],
      "execution_count": null,
      "outputs": [
        {
          "output_type": "execute_result",
          "data": {
            "text/plain": [
              "Text(0, 0.5, 'Loss')"
            ]
          },
          "metadata": {},
          "execution_count": 51
        },
        {
          "output_type": "display_data",
          "data": {
            "text/plain": [
              "<Figure size 640x480 with 1 Axes>"
            ],
            "image/png": "[encoded data removed]"
          },
          "metadata": {}
        }
      ]
    },
    {
      "cell_type": "markdown",
      "metadata": {
        "id": "xM2gvBM11ib-"
      },
      "source": [
        "## 7. Use the model to translate\n",
        "Now it's time to put your model into practice! You should run your translation for five randomly sampled English sentences from the dataset. For each sentence, the process is as follows:\n",
        "* Preprocess and embed the English sentence according to the model requirements.\n",
        "* Pass the embedded sentence through the encoder to get the encoder hidden and cell states.\n",
        "* Starting with the special  `\"<start>\"` token, use this token and the final encoder hidden and cell states to get the one-step prediction from the decoder, as well as the decoder’s updated hidden and cell states.\n",
        "* Create a loop to get the next step prediction and updated hidden and cell states from the decoder, using the most recent hidden and cell states. Terminate the loop when the `\"<end>\"` token is emitted, or when the sentence has reached a maximum length.\n",
        "* Decode the output token sequence into German text and print the English text and the model's German translation."
      ]
    },
    {
      "cell_type": "code",
      "metadata": {
        "id": "bGnQtE7L1icA"
      },
      "source": [
        "test_sentences = [\"What's the weather ?\"]"
      ],
      "execution_count": null,
      "outputs": []
    },
    {
      "cell_type": "code",
      "metadata": {
        "id": "ohleJRcJ1icD",
        "colab": {
          "base_uri": "https://localhost:8080/"
        },
        "outputId": "580a18b0-aa56-4d71-9501-146f2c42a0d7"
      },
      "source": [
        "tokenizer = tf.keras.preprocessing.text.Tokenizer(filters=\"\")\n",
        "tokenizer.fit_on_texts(german_sentences)\n",
        "first_token = tokenizer.texts_to_sequences([[\"<start>\"]])\n",
        "end_token = tokenizer.texts_to_sequences([[\"<end>\"]])[0][0]\n",
        "first_token_sequence = tf.convert_to_tensor(first_token)\n",
        "first_token_sequence\n",
        "for i in np.random.choice(len(english_sentences), 5):\n",
        "  output_sequences = []\n",
        "  max_num = 15\n",
        "  print(\"---- example #\", i, sep=\"\")\n",
        "  test_english = english_sentences[i]\n",
        "  print(test_english)\n",
        "  test_english_split = tf.strings.split(test_english, sep=\" \")\n",
        "  #print(test_english_split)\n",
        "  test_english_embed = embedding_layer(test_english_split)\n",
        "  #print(test_english_embed.shape)\n",
        "  test_english_embed_padd = tf.pad(test_english_embed,[[13,0],[0,0]])[-13:,:]\n",
        "  #print(test_english_embed_padd.shape)\n",
        "  hidden, cell = encoder_model(test_english_embed_padd[None,...])\n",
        "  outputs, hidden, cell = decoder_model(first_token_sequence, hidden, cell)\n",
        "\n",
        "  outputs_token = tf.argmax(outputs[0][0]).numpy()\n",
        "  num = 1\n",
        "\n",
        "  while (outputs_token != end_token and num < max_num):\n",
        "    output_sequences.append(outputs_token)\n",
        "    outputs = tf.convert_to_tensor([[outputs_token]])\n",
        "    outputs, hidden, cell = decoder_model(outputs, hidden, cell)\n",
        "    outputs_token = tf.argmax(outputs[0][0]).numpy()\n",
        "    num += 1\n",
        "  print(output_sequences)\n",
        "  print(tokenizer.sequences_to_texts([output_sequences]))"
      ],
      "execution_count": null,
      "outputs": [
        {
          "output_type": "stream",
          "name": "stdout",
          "text": [
            "---- example #11718\n",
            "the baby's fine .\n",
            "[47, 1373, 59, 10, 49, 3]\n",
            "['der baby geht es gut .']\n",
            "---- example #4282\n",
            "we're trying .\n",
            "[17, 69, 143, 3]\n",
            "['wir werden zeit .']\n",
            "---- example #18645\n",
            "have you gone mad ?\n",
            "[58, 13, 29, 597, 7]\n",
            "['hast du auf geschlafen ?']\n",
            "---- example #9089\n",
            "tom's out cold .\n",
            "[5, 59, 10, 49, 3]\n",
            "['tom geht es gut .']\n",
            "---- example #12449\n",
            "tom looked pale .\n",
            "[5, 909, 240, 3]\n",
            "['tom schaute wuetend .']\n"
          ]
        }
      ]
    }
  ]
}