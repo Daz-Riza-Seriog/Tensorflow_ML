{
  "nbformat": 4,
  "nbformat_minor": 0,
  "metadata": {
    "coursera": {
      "course_slug": "tensor-flow-2-2",
      "graded_item_id": "3hWzU",
      "launcher_item_id": "AStQh"
    },
    "kernelspec": {
      "display_name": "Python 3",
      "language": "python",
      "name": "python3"
    },
    "language_info": {
      "codemirror_mode": {
        "name": "ipython",
        "version": 3
      },
      "file_extension": ".py",
      "mimetype": "text/x-python",
      "name": "python",
      "nbconvert_exporter": "python",
      "pygments_lexer": "ipython3",
      "version": "3.7.1"
    },
    "colab": {
      "provenance": [],
      "collapsed_sections": [
        "TKL9-eQ6O72H",
        "4sUbhpdSO72I",
        "lS47LWTVO72J",
        "g_Sp1mE3O72J",
        "p1_OlwQ7O72J",
        "NR45hVhlO72K",
        "yDRTggGVO72L",
        "oV1qGGD1O72L",
        "ruRWCIOjO72L",
        "3VSWGv5dO72M",
        "DKcxDvs8O72M",
        "eytP4pysO72N",
        "MDChq5kQO72O",
        "jge1QwxPO72O"
      ],
      "include_colab_link": true
    }
  },
  "cells": [
    {
      "cell_type": "markdown",
      "metadata": {
        "id": "view-in-github",
        "colab_type": "text"
      },
      "source": [
        "<a href=\"https://colab.research.google.com/github/Daz-Riza-Seriog/Tensorflow_ML/blob/main/2-Customise%20your%20Models/2-%20Week%202/9-Assigment/Week_2_Programming_Assignment.ipynb\" target=\"_parent\"><img src=\"https://colab.research.google.com/assets/colab-badge.svg\" alt=\"Open In Colab\"/></a>"
      ]
    },
    {
      "cell_type": "markdown",
      "metadata": {
        "id": "bUOJBzKfO717"
      },
      "source": [
        "# Programming Assignment"
      ]
    },
    {
      "cell_type": "markdown",
      "metadata": {
        "id": "Ax6wHDAOO71_"
      },
      "source": [
        "## Data pipeline with Keras and tf.data"
      ]
    },
    {
      "cell_type": "markdown",
      "metadata": {
        "id": "UwNhTBxXO72A"
      },
      "source": [
        "### Instructions\n",
        "\n",
        "In this notebook, you will implement a data processing pipeline using tools from both Keras and the tf.data module. You will use the `ImageDataGenerator` class in the tf.keras module to feed a network with training and test images from a local directory containing a subset of the LSUN dataset, and train the model both with and without data augmentation. You will then use the `map` and `filter` functions of the `Dataset` class with the CIFAR-100 dataset to train a network to classify a processed subset of the images.\n",
        "\n",
        "Some code cells are provided you in the notebook. You should avoid editing provided code, and make sure to execute the cells in order to avoid unexpected errors. Some cells begin with the line:\n",
        "\n",
        "`#### GRADED CELL ####`\n",
        "\n",
        "Don't move or edit this first line - this is what the automatic grader looks for to recognise graded cells. These cells require you to write your own code to complete them, and are automatically graded when you submit the notebook. Don't edit the function name or signature provided in these cells, otherwise the automatic grader might not function properly. Inside these graded cells, you can use any functions or classes that are imported below, but make sure you don't use any variables that are outside the scope of the function.\n",
        "\n",
        "### How to submit\n",
        "\n",
        "Complete all the tasks you are asked for in the worksheet. When you have finished and are happy with your code, press the **Submit Assignment** button at the top of this notebook.\n",
        "\n",
        "### Let's get started!\n",
        "\n",
        "We'll start running some imports, and loading the dataset. Do not edit the existing imports in the following cell. If you would like to make further Tensorflow imports, you should add them here."
      ]
    },
    {
      "cell_type": "code",
      "metadata": {
        "id": "w_XIub2wO72A"
      },
      "source": [
        "#### PACKAGE IMPORTS ####\n",
        "\n",
        "# Run this cell first to import all required packages. Do not make any imports elsewhere in the notebook\n",
        "\n",
        "import tensorflow as tf\n",
        "from tensorflow.keras.datasets import cifar100\n",
        "import numpy as np\n",
        "import matplotlib.pyplot as plt\n",
        "import json\n",
        "%matplotlib inline\n",
        "\n",
        "# If you would like to make further imports from tensorflow, add them here\n",
        "\n",
        "from tensorflow.keras.models import Model\n",
        "from tensorflow.keras.layers import Input, Conv2D, MaxPool2D, Flatten, Dense, BatchNormalization, Dropout"
      ],
      "execution_count": null,
      "outputs": []
    },
    {
      "cell_type": "markdown",
      "metadata": {
        "id": "PbvSkKrJO72B"
      },
      "source": [
        "### Part 1: tf.keras\n",
        "\n",
        "#### The LSUN Dataset\n",
        "\n",
        "In the first part of this assignment, you will use a subset of the [LSUN dataset](https://www.yf.io/p/lsun). This is a large-scale image dataset with 10 scene and 20 object categories. A subset of the LSUN dataset has been provided, and has already been split into training and test sets. The three classes included in the subset are `church_outdoor`, `classroom` and `conference_room`.\n",
        "\n",
        "* F. Yu, A. Seff, Y. Zhang, S. Song, T. Funkhouser and J. Xia. \"LSUN: Construction of a Large-scale Image Dataset using Deep Learning with Humans in the Loop\". arXiv:1506.03365, 10 Jun 2015\n",
        "\n",
        "Your goal is to use the Keras preprocessing tools to construct a data ingestion and augmentation pipeline to train a neural network to classify the images into the three classes."
      ]
    },
    {
      "cell_type": "markdown",
      "metadata": {
        "id": "dtoG0_wSPcvJ"
      },
      "source": [
        "#### Import the data\n",
        "\n",
        "The dataset is available for download as a zip file at the following link:\n",
        "\n",
        "https://drive.google.com/open?id=1T4jFYYLHSuG5zjo1dF3btCLzgS2R2AU-\n",
        "\n",
        "You should store the unzipped folder in Drive for use in this Colab notebook."
      ]
    },
    {
      "cell_type": "code",
      "execution_count": null,
      "metadata": {
        "id": "dJoD3fDewDfI"
      },
      "outputs": [],
      "source": [
        "# # Install the PyDrive wrapper & import libraries.\n",
        "# from pydrive.auth import GoogleAuth\n",
        "# from pydrive.drive import GoogleDrive\n",
        "# from google.colab import auth\n",
        "# from oauth2client.client import GoogleCredentials\n",
        "\n",
        "# #Authenticate and create the PyDrive client.\n",
        "# auth.authenticate_user()\n",
        "# gauth = GoogleAuth()\n",
        "# gauth.credentials = GoogleCredentials.get_application_default()\n",
        "# drive = GoogleDrive(gauth)"
      ]
    },
    {
      "cell_type": "code",
      "execution_count": null,
      "metadata": {
        "id": "m4wu2dM0wgFQ"
      },
      "outputs": [],
      "source": [
        "# urls = [\"1T4jFYYLHSuG5zjo1dF3btCLzgS2R2AU-\"]\n",
        "# output = [\"Isun.zip\"]\n",
        "\n",
        "# for i in np.arange(len(urls)):\n",
        "#   file_id = urls[i]\n",
        "#   downloaded = drive.CreateFile({'id':file_id})\n",
        "#   downloaded.GetContentFile(output[i])"
      ]
    },
    {
      "cell_type": "code",
      "execution_count": null,
      "metadata": {
        "id": "Qa1_On4kFkuk"
      },
      "outputs": [],
      "source": [
        "# # Unzip the file\n",
        "# import zipfile\n",
        "\n",
        "# with zipfile.ZipFile('Isun.zip', 'r') as zip_ref:\n",
        "#     zip_ref.extractall('unzip')"
      ]
    },
    {
      "cell_type": "code",
      "metadata": {
        "id": "tJf1FYZdO72B"
      },
      "source": [
        "# Save the directory locations for the training, validation and test sets\n",
        "# Please replace the paths below with the appropriate paths in your drive\n",
        "\n",
        "# train_dir = '/content/unzip/lsun/train'\n",
        "# valid_dir = '/content/unzip/lsun/valid'\n",
        "# test_dir = '/content/unzip/lsun/test'\n",
        "\n",
        "train_dir = 'data/lsun/train'\n",
        "valid_dir = 'data/lsun/valid'\n",
        "test_dir = 'data/lsun/test'"
      ],
      "execution_count": null,
      "outputs": []
    },
    {
      "cell_type": "markdown",
      "metadata": {
        "id": "wUYMRpPhO72C"
      },
      "source": [
        "#### Create a data generator using the ImageDataGenerator class"
      ]
    },
    {
      "cell_type": "markdown",
      "metadata": {
        "id": "CAcVci0jO72C"
      },
      "source": [
        "You should first write a function that creates an `ImageDataGenerator` object, which rescales the image pixel values by a factor of 1/255."
      ]
    },
    {
      "cell_type": "code",
      "metadata": {
        "id": "7J70CHf9O72C"
      },
      "source": [
        "#### GRADED CELL ####\n",
        "\n",
        "# Complete the following function.\n",
        "# Make sure to not change the function name or arguments.\n",
        "\n",
        "def get_ImageDataGenerator():\n",
        "    \"\"\"\n",
        "    This function should return an instance of the ImageDataGenerator class.\n",
        "    This instance should be set up to rescale the data with the above scaling factor.\n",
        "    \"\"\"\n",
        "    image_gen = tf.keras.preprocessing.image.ImageDataGenerator(rescale=1./255)\n",
        "    return image_gen\n",
        ""
      ],
      "execution_count": null,
      "outputs": []
    },
    {
      "cell_type": "code",
      "metadata": {
        "id": "99Q18UmQO72C"
      },
      "source": [
        "# Call the function to get an ImageDataGenerator as specified\n",
        "\n",
        "image_gen = get_ImageDataGenerator()"
      ],
      "execution_count": null,
      "outputs": []
    },
    {
      "cell_type": "markdown",
      "metadata": {
        "id": "fUPa9At1O72C"
      },
      "source": [
        "You should now write a function that returns a generator object that will yield batches of images and labels from the training and test set directories. The generators should:\n",
        "\n",
        "* Generate batches of size 20.\n",
        "* Resize the images to 64 x 64 x 3.\n",
        "* Return one-hot vectors for labels. These should be encoded as follows:\n",
        "    * `classroom` $\\rightarrow$ `[1., 0., 0.]`\n",
        "    * `conference_room` $\\rightarrow$ `[0., 1., 0.]`\n",
        "    * `church_outdoor` $\\rightarrow$ `[0., 0., 1.]`\n",
        "* Pass in an optional random `seed` for shuffling (this should be passed into the `flow_from_directory` method).\n",
        "\n",
        "**Hint:** you may need to refer to the [documentation](https://keras.io/preprocessing/image/#imagedatagenerator-class) for the `ImageDataGenerator`."
      ]
    },
    {
      "cell_type": "code",
      "metadata": {
        "id": "IDr6_3RpO72D"
      },
      "source": [
        "#### GRADED CELL ####\n",
        "\n",
        "# Complete the following function.\n",
        "# Make sure not to change the function name or arguments.\n",
        "\n",
        "def get_generator(image_data_generator, directory, seed=None):\n",
        "    \"\"\"\n",
        "    This function takes an ImageDataGenerator object in the first argument and a\n",
        "    directory path in the second argument.\n",
        "    It should use the ImageDataGenerator to return a generator object according\n",
        "    to the above specifications.\n",
        "    The seed argument should be passed to the flow_from_directory method.\n",
        "    \"\"\"\n",
        "    imagen_gen = image_data_generator.flow_from_directory(directory=directory, target_size=(64,64),\n",
        "                                                          batch_size = 20,seed=seed,class_mode=\"categorical\")\n",
        "    yield image_gen\n",
        ""
      ],
      "execution_count": null,
      "outputs": []
    },
    {
      "cell_type": "code",
      "metadata": {
        "scrolled": true,
        "id": "hs8aHMOXO72D"
      },
      "source": [
        "# Run this cell to define training and validation generators\n",
        "\n",
        "train_generator = get_generator(image_gen, train_dir)\n",
        "valid_generator = get_generator(image_gen, valid_dir)"
      ],
      "execution_count": null,
      "outputs": []
    },
    {
      "cell_type": "markdown",
      "metadata": {
        "id": "BfCxjPj1O72D"
      },
      "source": [
        "We are using a small subset of the dataset for demonstrative purposes in this assignment."
      ]
    },
    {
      "cell_type": "markdown",
      "metadata": {
        "id": "QwHpze6nO72E"
      },
      "source": [
        "#### Display sample images and labels from the training set\n",
        "\n",
        "The following cell depends on your function `get_generator` to be implemented correctly. If it raises an error, go back and check the function specifications carefully."
      ]
    },
    {
      "cell_type": "code",
      "metadata": {
        "scrolled": false,
        "id": "YsZjG0TXO72E",
        "colab": {
          "base_uri": "https://localhost:8080/",
          "height": 253
        },
        "outputId": "90ea50fb-eb71-45be-a4b1-9718824ea88e"
      },
      "source": [
        "# Display a few images and labels from the training set\n",
        "\n",
        "batch = next(train_generator)\n",
        "batch_images = np.array(batch[0])\n",
        "batch_labels = np.array(batch[1])\n",
        "lsun_classes = ['classroom', 'conference_room', 'church_outdoor']\n",
        "\n",
        "plt.figure(figsize=(16,10))\n",
        "for i in range(20):\n",
        "    ax = plt.subplot(4, 5, i+1)\n",
        "    plt.imshow(batch_images[i])\n",
        "    plt.title(lsun_classes[np.where(batch_labels[i] == 1.)[0][0]])\n",
        "    plt.axis('off')"
      ],
      "execution_count": null,
      "outputs": [
        {
          "output_type": "stream",
          "name": "stdout",
          "text": [
            "Found 300 images belonging to 3 classes.\n"
          ]
        },
        {
          "output_type": "error",
          "ename": "TypeError",
          "evalue": "ignored",
          "traceback": [
            "\u001b[0;31m---------------------------------------------------------------------------\u001b[0m",
            "\u001b[0;31mTypeError\u001b[0m                                 Traceback (most recent call last)",
            "\u001b[0;32m<ipython-input-54-c5a26ec383d7>\u001b[0m in \u001b[0;36m<cell line: 4>\u001b[0;34m()\u001b[0m\n\u001b[1;32m      2\u001b[0m \u001b[0;34m\u001b[0m\u001b[0m\n\u001b[1;32m      3\u001b[0m \u001b[0mbatch\u001b[0m \u001b[0;34m=\u001b[0m \u001b[0mnext\u001b[0m\u001b[0;34m(\u001b[0m\u001b[0mtrain_generator\u001b[0m\u001b[0;34m)\u001b[0m\u001b[0;34m\u001b[0m\u001b[0;34m\u001b[0m\u001b[0m\n\u001b[0;32m----> 4\u001b[0;31m \u001b[0mbatch_images\u001b[0m \u001b[0;34m=\u001b[0m \u001b[0mnp\u001b[0m\u001b[0;34m.\u001b[0m\u001b[0marray\u001b[0m\u001b[0;34m(\u001b[0m\u001b[0mbatch\u001b[0m\u001b[0;34m[\u001b[0m\u001b[0;36m0\u001b[0m\u001b[0;34m]\u001b[0m\u001b[0;34m)\u001b[0m\u001b[0;34m\u001b[0m\u001b[0;34m\u001b[0m\u001b[0m\n\u001b[0m\u001b[1;32m      5\u001b[0m \u001b[0mbatch_labels\u001b[0m \u001b[0;34m=\u001b[0m \u001b[0mnp\u001b[0m\u001b[0;34m.\u001b[0m\u001b[0marray\u001b[0m\u001b[0;34m(\u001b[0m\u001b[0mbatch\u001b[0m\u001b[0;34m[\u001b[0m\u001b[0;36m1\u001b[0m\u001b[0;34m]\u001b[0m\u001b[0;34m)\u001b[0m\u001b[0;34m\u001b[0m\u001b[0;34m\u001b[0m\u001b[0m\n\u001b[1;32m      6\u001b[0m \u001b[0mlsun_classes\u001b[0m \u001b[0;34m=\u001b[0m \u001b[0;34m[\u001b[0m\u001b[0;34m'classroom'\u001b[0m\u001b[0;34m,\u001b[0m \u001b[0;34m'conference_room'\u001b[0m\u001b[0;34m,\u001b[0m \u001b[0;34m'church_outdoor'\u001b[0m\u001b[0;34m]\u001b[0m\u001b[0;34m\u001b[0m\u001b[0;34m\u001b[0m\u001b[0m\n",
            "\u001b[0;31mTypeError\u001b[0m: 'ImageDataGenerator' object is not subscriptable"
          ]
        }
      ]
    },
    {
      "cell_type": "code",
      "metadata": {
        "id": "x1-JDgjmO72E",
        "colab": {
          "base_uri": "https://localhost:8080/"
        },
        "outputId": "4a1de8bf-e11d-4c2c-b515-2fa8d011c94c"
      },
      "source": [
        "# Reset the training generator\n",
        "\n",
        "train_generator = get_generator(image_gen, train_dir)"
      ],
      "execution_count": null,
      "outputs": [
        {
          "output_type": "stream",
          "name": "stdout",
          "text": [
            "Found 300 images belonging to 3 classes.\n"
          ]
        }
      ]
    },
    {
      "cell_type": "markdown",
      "metadata": {
        "id": "33G4nxp9O72E"
      },
      "source": [
        "#### Build the neural network model\n",
        "\n",
        "You will now build and compile a convolutional neural network classifier. Using the functional API, build your model according to the following specifications:\n",
        "\n",
        "* The model should use the `input_shape` in the function argument to define the Input layer.\n",
        "* The first hidden layer should be a Conv2D layer with 8 filters, a 8x8 kernel size.\n",
        "* The second hidden layer should be a MaxPooling2D layer with a 2x2 pooling window size.\n",
        "* The third hidden layer should be a Conv2D layer with 4 filters, a 4x4 kernel size.\n",
        "* The fourth hidden layer should be a MaxPooling2D layer with a 2x2 pooling window size.\n",
        "* This should be followed by a Flatten layer, and then a Dense layer with 16 units and ReLU activation.\n",
        "* The final layer should be a Dense layer with 3 units and softmax activation.\n",
        "* All Conv2D layers should use `\"SAME\"` padding and a ReLU activation function.\n",
        "\n",
        "In total, the network should have 8 layers. The model should then be compiled with the Adam optimizer with learning rate 0.0005, categorical cross entropy loss, and the 'accuracy' metric."
      ]
    },
    {
      "cell_type": "code",
      "metadata": {
        "id": "KeKf69IlO72E"
      },
      "source": [
        "#### GRADED CELL ####\n",
        "\n",
        "# Complete the following function.\n",
        "# Make sure not to change the function name or arguments.\n",
        "\n",
        "def get_model(input_shape):\n",
        "    \"\"\"\n",
        "    This function should build and compile a CNN model according to the above specification,\n",
        "    using the functional API. Your function should return the model.\n",
        "    \"\"\"\n",
        "    inputs = Input(shape=input_shape)\n",
        "    x = Conv2D(filters=8, kernel_size=(8,8), padding=\"same\", activation=\"relu\")(inputs)\n",
        "    x = MaxPool2D(pool_size=(2, 2))(x)\n",
        "    x = Conv2D(filters=4, kernel_size=(4,4), padding=\"same\", activation=\"relu\")(x)\n",
        "    x = MaxPool2D(pool_size=(2, 2))(x)\n",
        "    x = Flatten()(x)\n",
        "    x = Dense(units=16, activation=\"relu\")(x)\n",
        "    output = Dense(units=3,activation=\"softmax\")(x)\n",
        "\n",
        "    model = Model(inputs=inputs, outputs=output)\n",
        "    model.compile(optimizer=tf.keras.optimizers.Adam(0.0005), loss=\"categorical_crossentropy\", metrics=[\"accuracy\"])\n",
        "    return model\n",
        "\n",
        ""
      ],
      "execution_count": null,
      "outputs": []
    },
    {
      "cell_type": "code",
      "metadata": {
        "id": "l85pM8UkO72F",
        "colab": {
          "base_uri": "https://localhost:8080/"
        },
        "outputId": "2396fd24-2a64-4aa5-ea18-46858e3bffbc"
      },
      "source": [
        "# Build and compile the model, print the model summary\n",
        "\n",
        "lsun_model = get_model((64, 64, 3))\n",
        "lsun_model.summary()"
      ],
      "execution_count": null,
      "outputs": [
        {
          "output_type": "stream",
          "name": "stdout",
          "text": [
            "Model: \"model\"\n",
            "_________________________________________________________________\n",
            " Layer (type)                Output Shape              Param #   \n",
            "=================================================================\n",
            " input_1 (InputLayer)        [(None, 64, 64, 3)]       0         \n",
            "                                                                 \n",
            " conv2d (Conv2D)             (None, 64, 64, 8)         1544      \n",
            "                                                                 \n",
            " max_pooling2d (MaxPooling2D  (None, 32, 32, 8)        0         \n",
            " )                                                               \n",
            "                                                                 \n",
            " conv2d_1 (Conv2D)           (None, 32, 32, 4)         516       \n",
            "                                                                 \n",
            " max_pooling2d_1 (MaxPooling  (None, 16, 16, 4)        0         \n",
            " 2D)                                                             \n",
            "                                                                 \n",
            " flatten (Flatten)           (None, 1024)              0         \n",
            "                                                                 \n",
            " dense (Dense)               (None, 16)                16400     \n",
            "                                                                 \n",
            " dense_1 (Dense)             (None, 3)                 51        \n",
            "                                                                 \n",
            "=================================================================\n",
            "Total params: 18,511\n",
            "Trainable params: 18,511\n",
            "Non-trainable params: 0\n",
            "_________________________________________________________________\n"
          ]
        }
      ]
    },
    {
      "cell_type": "markdown",
      "metadata": {
        "id": "8GrMgiT3O72F"
      },
      "source": [
        "#### Train the neural network model\n",
        "\n",
        "You should now write a function to train the model for a specified number of epochs (specified in the `epochs` argument). The function takes a `model` argument, as well as `train_gen` and `valid_gen` arguments for the training and validation generators respectively, which you should use for training and validation data in the training run. You should also use the following callbacks:\n",
        "\n",
        "* An `EarlyStopping` callback that monitors the validation accuracy and has patience set to 10.\n",
        "* A `ReduceLROnPlateau` callback that monitors the validation loss and has the factor set to 0.5 and minimum learning set to 0.0001\n",
        "\n",
        "Your function should return the training history."
      ]
    },
    {
      "cell_type": "code",
      "metadata": {
        "scrolled": true,
        "id": "vvnSAs5eO72F"
      },
      "source": [
        "#### GRADED CELL ####\n",
        "\n",
        "# Complete the following function.\n",
        "# Make sure not to change the function name or arguments.\n",
        "\n",
        "def train_model(model, train_gen, valid_gen, epochs):\n",
        "    \"\"\"\n",
        "    This function should define the callback objects specified above, and then use the\n",
        "    train_gen and valid_gen generator object arguments to train the model for the (maximum)\n",
        "    number of epochs specified in the function argument, using the defined callbacks.\n",
        "    The function should return the training history.\n",
        "    \"\"\"\n",
        "\n",
        "    earlystopping = tf.keras.callbacks.EarlyStopping(monitor=\"val_accuracy\", patience=10)\n",
        "    reduce_ = tf.keras.callbacks.ReduceLROnPlateau(monitor=\"val_loss\", factor=0.5, min_lr=0.0001)\n",
        "    history = model.fit(train_gen, validation_data=valid_gen, epochs=epochs,callbacks=[earlystopping, reduce_])\n",
        "    return history\n",
        "\n",
        ""
      ],
      "execution_count": null,
      "outputs": []
    },
    {
      "cell_type": "code",
      "metadata": {
        "scrolled": true,
        "id": "ACyL_W0SO72H",
        "colab": {
          "base_uri": "https://localhost:8080/",
          "height": 374
        },
        "outputId": "f6592d2d-6b73-41c8-dfcc-cafaec2705f1"
      },
      "source": [
        "# Train the model for (maximum) 50 epochs\n",
        "\n",
        "history = train_model(lsun_model, train_generator, valid_generator, epochs=50)"
      ],
      "execution_count": null,
      "outputs": [
        {
          "output_type": "error",
          "ename": "TypeError",
          "evalue": "ignored",
          "traceback": [
            "\u001b[0;31m---------------------------------------------------------------------------\u001b[0m",
            "\u001b[0;31mTypeError\u001b[0m                                 Traceback (most recent call last)",
            "\u001b[0;32m<ipython-input-39-e1cf4e87f5f2>\u001b[0m in \u001b[0;36m<cell line: 3>\u001b[0;34m()\u001b[0m\n\u001b[1;32m      1\u001b[0m \u001b[0;31m# Train the model for (maximum) 50 epochs\u001b[0m\u001b[0;34m\u001b[0m\u001b[0;34m\u001b[0m\u001b[0m\n\u001b[1;32m      2\u001b[0m \u001b[0;34m\u001b[0m\u001b[0m\n\u001b[0;32m----> 3\u001b[0;31m \u001b[0mhistory\u001b[0m \u001b[0;34m=\u001b[0m \u001b[0mtrain_model\u001b[0m\u001b[0;34m(\u001b[0m\u001b[0mlsun_model\u001b[0m\u001b[0;34m,\u001b[0m \u001b[0mtrain_generator\u001b[0m\u001b[0;34m,\u001b[0m \u001b[0mvalid_generator\u001b[0m\u001b[0;34m,\u001b[0m \u001b[0mepochs\u001b[0m\u001b[0;34m=\u001b[0m\u001b[0;36m50\u001b[0m\u001b[0;34m)\u001b[0m\u001b[0;34m\u001b[0m\u001b[0;34m\u001b[0m\u001b[0m\n\u001b[0m",
            "\u001b[0;32m<ipython-input-38-3bc30629a4c3>\u001b[0m in \u001b[0;36mtrain_model\u001b[0;34m(model, train_gen, valid_gen, epochs)\u001b[0m\n\u001b[1;32m     14\u001b[0m     \u001b[0mearlystopping\u001b[0m \u001b[0;34m=\u001b[0m \u001b[0mtf\u001b[0m\u001b[0;34m.\u001b[0m\u001b[0mkeras\u001b[0m\u001b[0;34m.\u001b[0m\u001b[0mcallbacks\u001b[0m\u001b[0;34m.\u001b[0m\u001b[0mEarlyStopping\u001b[0m\u001b[0;34m(\u001b[0m\u001b[0mmonitor\u001b[0m\u001b[0;34m=\u001b[0m\u001b[0;34m\"val_accuracy\"\u001b[0m\u001b[0;34m,\u001b[0m \u001b[0mpatience\u001b[0m\u001b[0;34m=\u001b[0m\u001b[0;36m10\u001b[0m\u001b[0;34m)\u001b[0m\u001b[0;34m\u001b[0m\u001b[0;34m\u001b[0m\u001b[0m\n\u001b[1;32m     15\u001b[0m     \u001b[0mreduce\u001b[0m \u001b[0;34m=\u001b[0m \u001b[0mtf\u001b[0m\u001b[0;34m.\u001b[0m\u001b[0mkeras\u001b[0m\u001b[0;34m.\u001b[0m\u001b[0mcallbacks\u001b[0m\u001b[0;34m.\u001b[0m\u001b[0mReduceLROnPlateau\u001b[0m\u001b[0;34m(\u001b[0m\u001b[0mmonitor\u001b[0m\u001b[0;34m=\u001b[0m\u001b[0;34m\"val_loss\"\u001b[0m\u001b[0;34m,\u001b[0m \u001b[0mfactor\u001b[0m\u001b[0;34m=\u001b[0m\u001b[0;36m0.5\u001b[0m\u001b[0;34m,\u001b[0m \u001b[0mmin_lr\u001b[0m\u001b[0;34m=\u001b[0m\u001b[0;36m0.0001\u001b[0m\u001b[0;34m)\u001b[0m\u001b[0;34m\u001b[0m\u001b[0;34m\u001b[0m\u001b[0m\n\u001b[0;32m---> 16\u001b[0;31m     \u001b[0mhistory\u001b[0m \u001b[0;34m=\u001b[0m \u001b[0mmodel\u001b[0m\u001b[0;34m.\u001b[0m\u001b[0mfit\u001b[0m\u001b[0;34m(\u001b[0m\u001b[0mtrain_gen\u001b[0m\u001b[0;34m(\u001b[0m\u001b[0;34m)\u001b[0m\u001b[0;34m,\u001b[0m \u001b[0mvalidation_data\u001b[0m\u001b[0;34m=\u001b[0m\u001b[0mvalid_gen\u001b[0m\u001b[0;34m(\u001b[0m\u001b[0;34m)\u001b[0m\u001b[0;34m,\u001b[0m \u001b[0mepochs\u001b[0m\u001b[0;34m=\u001b[0m\u001b[0mepochs\u001b[0m\u001b[0;34m)\u001b[0m\u001b[0;34m\u001b[0m\u001b[0;34m\u001b[0m\u001b[0m\n\u001b[0m\u001b[1;32m     17\u001b[0m     \u001b[0;32mreturn\u001b[0m \u001b[0mhistory\u001b[0m\u001b[0;34m\u001b[0m\u001b[0;34m\u001b[0m\u001b[0m\n\u001b[1;32m     18\u001b[0m \u001b[0;34m\u001b[0m\u001b[0m\n",
            "\u001b[0;31mTypeError\u001b[0m: 'ImageDataGenerator' object is not callable"
          ]
        }
      ]
    },
    {
      "cell_type": "markdown",
      "metadata": {
        "id": "TKL9-eQ6O72H"
      },
      "source": [
        "#### Plot the learning curves"
      ]
    },
    {
      "cell_type": "code",
      "metadata": {
        "id": "r1_wS4LaO72H"
      },
      "source": [
        "# Run this cell to plot accuracy vs epoch and loss vs epoch\n",
        "\n",
        "plt.figure(figsize=(15,5))\n",
        "plt.subplot(121)\n",
        "try:\n",
        "    plt.plot(history.history['accuracy'])\n",
        "    plt.plot(history.history['val_accuracy'])\n",
        "except KeyError:\n",
        "    try:\n",
        "        plt.plot(history.history['acc'])\n",
        "        plt.plot(history.history['val_acc'])\n",
        "    except KeyError:\n",
        "        plt.plot(history.history['categorical_accuracy'])\n",
        "        plt.plot(history.history['val_categorical_accuracy'])\n",
        "plt.title('Accuracy vs. epochs')\n",
        "plt.ylabel('Accuracy')\n",
        "plt.xlabel('Epoch')\n",
        "plt.legend(['Training', 'Validation'], loc='lower right')\n",
        "\n",
        "plt.subplot(122)\n",
        "plt.plot(history.history['loss'])\n",
        "plt.plot(history.history['val_loss'])\n",
        "plt.title('Loss vs. epochs')\n",
        "plt.ylabel('Loss')\n",
        "plt.xlabel('Epoch')\n",
        "plt.legend(['Training', 'Validation'], loc='upper right')\n",
        "plt.show()"
      ],
      "execution_count": null,
      "outputs": []
    },
    {
      "cell_type": "markdown",
      "metadata": {
        "id": "d5JEFvkmO72I"
      },
      "source": [
        "You may notice overfitting in the above plots, through a growing discrepancy between the training and validation loss and accuracy. We will aim to mitigate this using data augmentation. Given our limited dataset, we may be able to improve the performance by applying random modifications to the images in the training data, effectively increasing the size of the dataset."
      ]
    },
    {
      "cell_type": "markdown",
      "metadata": {
        "id": "4sUbhpdSO72I"
      },
      "source": [
        "#### Create a new data generator with data augmentation\n",
        "\n",
        "You should now write a function to create a new `ImageDataGenerator` object, which performs the following data preprocessing and augmentation:\n",
        "\n",
        "* Scales the image pixel values by a factor of 1/255.\n",
        "* Randomly rotates images by up to 30 degrees\n",
        "* Randomly alters the brightness (picks a brightness shift value) from the range (0.5, 1.5)\n",
        "* Randomly flips images horizontally\n",
        "\n",
        "Hint: you may need to refer to the [documentation](https://keras.io/preprocessing/image/#imagedatagenerator-class) for the `ImageDataGenerator`."
      ]
    },
    {
      "cell_type": "code",
      "metadata": {
        "id": "AkvsvI0JO72I"
      },
      "source": [
        "#### GRADED CELL ####\n",
        "\n",
        "# Complete the following function.\n",
        "# Make sure to not change the function name or arguments.\n",
        "\n",
        "def get_ImageDataGenerator_augmented():\n",
        "    \"\"\"\n",
        "    This function should return an instance of the ImageDataGenerator class\n",
        "    with the above specifications.\n",
        "    \"\"\"\n",
        "    image_gen = tf.keras.preprocessing.image.ImageDataGenerator(rescale=1./255, rotation_range=30,brightness_range=(0.5, 1.5),\n",
        "                                                                horizontal_flip=True)\n",
        "    return image_gen\n",
        "\n",
        ""
      ],
      "execution_count": null,
      "outputs": []
    },
    {
      "cell_type": "code",
      "metadata": {
        "id": "whid-BChO72I"
      },
      "source": [
        "# Call the function to get an ImageDataGenerator as specified\n",
        "\n",
        "image_gen_aug = get_ImageDataGenerator_augmented()"
      ],
      "execution_count": null,
      "outputs": []
    },
    {
      "cell_type": "code",
      "metadata": {
        "id": "G6fLfAERO72I",
        "colab": {
          "base_uri": "https://localhost:8080/"
        },
        "outputId": "d24573f7-9659-48c0-aaa7-ab54c307ffa9"
      },
      "source": [
        "# Run this cell to define training and validation generators\n",
        "\n",
        "valid_generator_aug = get_generator(image_gen_aug, valid_dir)\n",
        "train_generator_aug = get_generator(image_gen_aug, train_dir, seed=10)"
      ],
      "execution_count": null,
      "outputs": [
        {
          "output_type": "stream",
          "name": "stdout",
          "text": [
            "Found 120 images belonging to 3 classes.\n",
            "Found 300 images belonging to 3 classes.\n"
          ]
        }
      ]
    },
    {
      "cell_type": "code",
      "metadata": {
        "id": "ev3O7k4qO72I",
        "colab": {
          "base_uri": "https://localhost:8080/"
        },
        "outputId": "0fe4ac50-d74c-4456-e5c4-f734ab15761c"
      },
      "source": [
        "# Reset the original train_generator with the same random seed\n",
        "\n",
        "train_generator = get_generator(image_gen, train_dir, seed=10)"
      ],
      "execution_count": null,
      "outputs": [
        {
          "output_type": "stream",
          "name": "stdout",
          "text": [
            "Found 300 images belonging to 3 classes.\n"
          ]
        }
      ]
    },
    {
      "cell_type": "markdown",
      "metadata": {
        "id": "lS47LWTVO72J"
      },
      "source": [
        "#### Display sample augmented images and labels from the training set\n",
        "\n",
        "The following cell depends on your function `get_generator` to be implemented correctly. If it raises an error, go back and check the function specifications carefully.\n",
        "\n",
        "The cell will display augmented and non-augmented images (and labels) from the training dataset, using the `train_generator_aug` and `train_generator` objects defined above (if the images do not correspond to each other, check you have implemented the `seed` argument correctly)."
      ]
    },
    {
      "cell_type": "code",
      "metadata": {
        "scrolled": false,
        "id": "03l0b0GnO72J",
        "colab": {
          "base_uri": "https://localhost:8080/",
          "height": 253
        },
        "outputId": "fa198588-214d-40ac-e614-35c3e2437af8"
      },
      "source": [
        "# Display a few images and labels from the non-augmented and augmented generators\n",
        "\n",
        "batch = next(train_generator)\n",
        "batch_images = np.array(batch[0])\n",
        "batch_labels = np.array(batch[1])\n",
        "\n",
        "aug_batch = next(train_generator_aug)\n",
        "aug_batch_images = np.array(aug_batch[0])\n",
        "aug_batch_labels = np.array(aug_batch[1])\n",
        "\n",
        "plt.figure(figsize=(16,5))\n",
        "plt.suptitle(\"Unaugmented images\", fontsize=16)\n",
        "for n, i in enumerate(np.arange(10)):\n",
        "    ax = plt.subplot(2, 5, n+1)\n",
        "    plt.imshow(batch_images[i])\n",
        "    plt.title(lsun_classes[np.where(batch_labels[i] == 1.)[0][0]])\n",
        "    plt.axis('off')\n",
        "plt.figure(figsize=(16,5))\n",
        "plt.suptitle(\"Augmented images\", fontsize=16)\n",
        "for n, i in enumerate(np.arange(10)):\n",
        "    ax = plt.subplot(2, 5, n+1)\n",
        "    plt.imshow(aug_batch_images[i])\n",
        "    plt.title(lsun_classes[np.where(aug_batch_labels[i] == 1.)[0][0]])\n",
        "    plt.axis('off')"
      ],
      "execution_count": null,
      "outputs": [
        {
          "output_type": "error",
          "ename": "TypeError",
          "evalue": "ignored",
          "traceback": [
            "\u001b[0;31m---------------------------------------------------------------------------\u001b[0m",
            "\u001b[0;31mTypeError\u001b[0m                                 Traceback (most recent call last)",
            "\u001b[0;32m<ipython-input-45-7074a069fec6>\u001b[0m in \u001b[0;36m<cell line: 3>\u001b[0;34m()\u001b[0m\n\u001b[1;32m      1\u001b[0m \u001b[0;31m# Display a few images and labels from the non-augmented and augmented generators\u001b[0m\u001b[0;34m\u001b[0m\u001b[0;34m\u001b[0m\u001b[0m\n\u001b[1;32m      2\u001b[0m \u001b[0;34m\u001b[0m\u001b[0m\n\u001b[0;32m----> 3\u001b[0;31m \u001b[0mbatch\u001b[0m \u001b[0;34m=\u001b[0m \u001b[0mnext\u001b[0m\u001b[0;34m(\u001b[0m\u001b[0mtrain_generator\u001b[0m\u001b[0;34m)\u001b[0m\u001b[0;34m\u001b[0m\u001b[0;34m\u001b[0m\u001b[0m\n\u001b[0m\u001b[1;32m      4\u001b[0m \u001b[0mbatch_images\u001b[0m \u001b[0;34m=\u001b[0m \u001b[0mnp\u001b[0m\u001b[0;34m.\u001b[0m\u001b[0marray\u001b[0m\u001b[0;34m(\u001b[0m\u001b[0mbatch\u001b[0m\u001b[0;34m[\u001b[0m\u001b[0;36m0\u001b[0m\u001b[0;34m]\u001b[0m\u001b[0;34m)\u001b[0m\u001b[0;34m\u001b[0m\u001b[0;34m\u001b[0m\u001b[0m\n\u001b[1;32m      5\u001b[0m \u001b[0mbatch_labels\u001b[0m \u001b[0;34m=\u001b[0m \u001b[0mnp\u001b[0m\u001b[0;34m.\u001b[0m\u001b[0marray\u001b[0m\u001b[0;34m(\u001b[0m\u001b[0mbatch\u001b[0m\u001b[0;34m[\u001b[0m\u001b[0;36m1\u001b[0m\u001b[0;34m]\u001b[0m\u001b[0;34m)\u001b[0m\u001b[0;34m\u001b[0m\u001b[0;34m\u001b[0m\u001b[0m\n",
            "\u001b[0;31mTypeError\u001b[0m: 'ImageDataGenerator' object is not an iterator"
          ]
        }
      ]
    },
    {
      "cell_type": "code",
      "metadata": {
        "id": "fAtykdCQO72J",
        "colab": {
          "base_uri": "https://localhost:8080/"
        },
        "outputId": "a3c775f9-15fe-4af4-c93f-3095436c7088"
      },
      "source": [
        "# Reset the augmented data generator\n",
        "\n",
        "train_generator_aug = get_generator(image_gen_aug, train_dir)"
      ],
      "execution_count": null,
      "outputs": [
        {
          "output_type": "stream",
          "name": "stdout",
          "text": [
            "Found 300 images belonging to 3 classes.\n"
          ]
        }
      ]
    },
    {
      "cell_type": "markdown",
      "metadata": {
        "id": "g_Sp1mE3O72J"
      },
      "source": [
        "#### Train a new model on the augmented dataset"
      ]
    },
    {
      "cell_type": "code",
      "metadata": {
        "id": "X12xb4KoO72J"
      },
      "source": [
        "# Build and compile a new model\n",
        "\n",
        "lsun_new_model = get_model((64, 64, 3))"
      ],
      "execution_count": null,
      "outputs": []
    },
    {
      "cell_type": "code",
      "metadata": {
        "scrolled": true,
        "id": "oETzF9H8O72J",
        "colab": {
          "base_uri": "https://localhost:8080/",
          "height": 392
        },
        "outputId": "91bad2e6-2bd3-431c-e6b7-e32d28badd18"
      },
      "source": [
        "# Train the model\n",
        "\n",
        "history_augmented = train_model(lsun_new_model, train_generator_aug, valid_generator_aug, epochs=50)"
      ],
      "execution_count": null,
      "outputs": [
        {
          "output_type": "error",
          "ename": "TypeError",
          "evalue": "ignored",
          "traceback": [
            "\u001b[0;31m---------------------------------------------------------------------------\u001b[0m",
            "\u001b[0;31mTypeError\u001b[0m                                 Traceback (most recent call last)",
            "\u001b[0;32m<ipython-input-48-d6872dc44aef>\u001b[0m in \u001b[0;36m<cell line: 3>\u001b[0;34m()\u001b[0m\n\u001b[1;32m      1\u001b[0m \u001b[0;31m# Train the model\u001b[0m\u001b[0;34m\u001b[0m\u001b[0;34m\u001b[0m\u001b[0m\n\u001b[1;32m      2\u001b[0m \u001b[0;34m\u001b[0m\u001b[0m\n\u001b[0;32m----> 3\u001b[0;31m \u001b[0mhistory_augmented\u001b[0m \u001b[0;34m=\u001b[0m \u001b[0mtrain_model\u001b[0m\u001b[0;34m(\u001b[0m\u001b[0mlsun_new_model\u001b[0m\u001b[0;34m,\u001b[0m \u001b[0mtrain_generator_aug\u001b[0m\u001b[0;34m,\u001b[0m \u001b[0mvalid_generator_aug\u001b[0m\u001b[0;34m,\u001b[0m \u001b[0mepochs\u001b[0m\u001b[0;34m=\u001b[0m\u001b[0;36m50\u001b[0m\u001b[0;34m)\u001b[0m\u001b[0;34m\u001b[0m\u001b[0;34m\u001b[0m\u001b[0m\n\u001b[0m",
            "\u001b[0;32m<ipython-input-38-3bc30629a4c3>\u001b[0m in \u001b[0;36mtrain_model\u001b[0;34m(model, train_gen, valid_gen, epochs)\u001b[0m\n\u001b[1;32m     14\u001b[0m     \u001b[0mearlystopping\u001b[0m \u001b[0;34m=\u001b[0m \u001b[0mtf\u001b[0m\u001b[0;34m.\u001b[0m\u001b[0mkeras\u001b[0m\u001b[0;34m.\u001b[0m\u001b[0mcallbacks\u001b[0m\u001b[0;34m.\u001b[0m\u001b[0mEarlyStopping\u001b[0m\u001b[0;34m(\u001b[0m\u001b[0mmonitor\u001b[0m\u001b[0;34m=\u001b[0m\u001b[0;34m\"val_accuracy\"\u001b[0m\u001b[0;34m,\u001b[0m \u001b[0mpatience\u001b[0m\u001b[0;34m=\u001b[0m\u001b[0;36m10\u001b[0m\u001b[0;34m)\u001b[0m\u001b[0;34m\u001b[0m\u001b[0;34m\u001b[0m\u001b[0m\n\u001b[1;32m     15\u001b[0m     \u001b[0mreduce\u001b[0m \u001b[0;34m=\u001b[0m \u001b[0mtf\u001b[0m\u001b[0;34m.\u001b[0m\u001b[0mkeras\u001b[0m\u001b[0;34m.\u001b[0m\u001b[0mcallbacks\u001b[0m\u001b[0;34m.\u001b[0m\u001b[0mReduceLROnPlateau\u001b[0m\u001b[0;34m(\u001b[0m\u001b[0mmonitor\u001b[0m\u001b[0;34m=\u001b[0m\u001b[0;34m\"val_loss\"\u001b[0m\u001b[0;34m,\u001b[0m \u001b[0mfactor\u001b[0m\u001b[0;34m=\u001b[0m\u001b[0;36m0.5\u001b[0m\u001b[0;34m,\u001b[0m \u001b[0mmin_lr\u001b[0m\u001b[0;34m=\u001b[0m\u001b[0;36m0.0001\u001b[0m\u001b[0;34m)\u001b[0m\u001b[0;34m\u001b[0m\u001b[0;34m\u001b[0m\u001b[0m\n\u001b[0;32m---> 16\u001b[0;31m     \u001b[0mhistory\u001b[0m \u001b[0;34m=\u001b[0m \u001b[0mmodel\u001b[0m\u001b[0;34m.\u001b[0m\u001b[0mfit\u001b[0m\u001b[0;34m(\u001b[0m\u001b[0mtrain_gen\u001b[0m\u001b[0;34m(\u001b[0m\u001b[0;34m)\u001b[0m\u001b[0;34m,\u001b[0m \u001b[0mvalidation_data\u001b[0m\u001b[0;34m=\u001b[0m\u001b[0mvalid_gen\u001b[0m\u001b[0;34m(\u001b[0m\u001b[0;34m)\u001b[0m\u001b[0;34m,\u001b[0m \u001b[0mepochs\u001b[0m\u001b[0;34m=\u001b[0m\u001b[0mepochs\u001b[0m\u001b[0;34m)\u001b[0m\u001b[0;34m\u001b[0m\u001b[0;34m\u001b[0m\u001b[0m\n\u001b[0m\u001b[1;32m     17\u001b[0m     \u001b[0;32mreturn\u001b[0m \u001b[0mhistory\u001b[0m\u001b[0;34m\u001b[0m\u001b[0;34m\u001b[0m\u001b[0m\n\u001b[1;32m     18\u001b[0m \u001b[0;34m\u001b[0m\u001b[0m\n",
            "\u001b[0;31mTypeError\u001b[0m: 'ImageDataGenerator' object is not callable"
          ]
        }
      ]
    },
    {
      "cell_type": "markdown",
      "metadata": {
        "id": "p1_OlwQ7O72J"
      },
      "source": [
        "#### Plot the learning curves"
      ]
    },
    {
      "cell_type": "code",
      "metadata": {
        "scrolled": true,
        "id": "HABDqcINO72K",
        "colab": {
          "base_uri": "https://localhost:8080/",
          "height": 670
        },
        "outputId": "158635b7-633f-4d85-9f40-c13c4d2303f6"
      },
      "source": [
        "# Run this cell to plot accuracy vs epoch and loss vs epoch\n",
        "\n",
        "plt.figure(figsize=(15,5))\n",
        "plt.subplot(121)\n",
        "try:\n",
        "    plt.plot(history_augmented.history['accuracy'])\n",
        "    plt.plot(history_augmented.history['val_accuracy'])\n",
        "except KeyError:\n",
        "    try:\n",
        "        plt.plot(history_augmented.history['acc'])\n",
        "        plt.plot(history_augmented.history['val_acc'])\n",
        "    except KeyError:\n",
        "        plt.plot(history_augmented.history['categorical_accuracy'])\n",
        "        plt.plot(history_augmented.history['val_categorical_accuracy'])\n",
        "plt.title('Accuracy vs. epochs')\n",
        "plt.ylabel('Accuracy')\n",
        "plt.xlabel('Epoch')\n",
        "plt.legend(['Training', 'Validation'], loc='lower right')\n",
        "\n",
        "plt.subplot(122)\n",
        "plt.plot(history_augmented.history['loss'])\n",
        "plt.plot(history_augmented.history['val_loss'])\n",
        "plt.title('Loss vs. epochs')\n",
        "plt.ylabel('Loss')\n",
        "plt.xlabel('Epoch')\n",
        "plt.legend(['Training', 'Validation'], loc='upper right')\n",
        "plt.show()"
      ],
      "execution_count": null,
      "outputs": [
        {
          "output_type": "error",
          "ename": "NameError",
          "evalue": "ignored",
          "traceback": [
            "\u001b[0;31m---------------------------------------------------------------------------\u001b[0m",
            "\u001b[0;31mNameError\u001b[0m                                 Traceback (most recent call last)",
            "\u001b[0;32m<ipython-input-49-433479eb9f19>\u001b[0m in \u001b[0;36m<cell line: 5>\u001b[0;34m()\u001b[0m\n\u001b[1;32m      4\u001b[0m \u001b[0mplt\u001b[0m\u001b[0;34m.\u001b[0m\u001b[0msubplot\u001b[0m\u001b[0;34m(\u001b[0m\u001b[0;36m121\u001b[0m\u001b[0;34m)\u001b[0m\u001b[0;34m\u001b[0m\u001b[0;34m\u001b[0m\u001b[0m\n\u001b[1;32m      5\u001b[0m \u001b[0;32mtry\u001b[0m\u001b[0;34m:\u001b[0m\u001b[0;34m\u001b[0m\u001b[0;34m\u001b[0m\u001b[0m\n\u001b[0;32m----> 6\u001b[0;31m     \u001b[0mplt\u001b[0m\u001b[0;34m.\u001b[0m\u001b[0mplot\u001b[0m\u001b[0;34m(\u001b[0m\u001b[0mhistory_augmented\u001b[0m\u001b[0;34m.\u001b[0m\u001b[0mhistory\u001b[0m\u001b[0;34m[\u001b[0m\u001b[0;34m'accuracy'\u001b[0m\u001b[0;34m]\u001b[0m\u001b[0;34m)\u001b[0m\u001b[0;34m\u001b[0m\u001b[0;34m\u001b[0m\u001b[0m\n\u001b[0m\u001b[1;32m      7\u001b[0m     \u001b[0mplt\u001b[0m\u001b[0;34m.\u001b[0m\u001b[0mplot\u001b[0m\u001b[0;34m(\u001b[0m\u001b[0mhistory_augmented\u001b[0m\u001b[0;34m.\u001b[0m\u001b[0mhistory\u001b[0m\u001b[0;34m[\u001b[0m\u001b[0;34m'val_accuracy'\u001b[0m\u001b[0;34m]\u001b[0m\u001b[0;34m)\u001b[0m\u001b[0;34m\u001b[0m\u001b[0;34m\u001b[0m\u001b[0m\n\u001b[1;32m      8\u001b[0m \u001b[0;32mexcept\u001b[0m \u001b[0mKeyError\u001b[0m\u001b[0;34m:\u001b[0m\u001b[0;34m\u001b[0m\u001b[0;34m\u001b[0m\u001b[0m\n",
            "\u001b[0;31mNameError\u001b[0m: name 'history_augmented' is not defined"
          ]
        },
        {
          "output_type": "display_data",
          "data": {
            "text/plain": [
              "<Figure size 1500x500 with 1 Axes>"
            ],
            "image/png": "[encoded data removed]"
          },
          "metadata": {}
        }
      ]
    },
    {
      "cell_type": "markdown",
      "metadata": {
        "id": "rEf2Ujc0O72K"
      },
      "source": [
        "Do you see an improvement in the overfitting? This will of course vary based on your particular run and whether you have altered the hyperparameters."
      ]
    },
    {
      "cell_type": "markdown",
      "metadata": {
        "id": "NR45hVhlO72K"
      },
      "source": [
        "#### Get predictions using the trained model"
      ]
    },
    {
      "cell_type": "code",
      "metadata": {
        "id": "yi7mc3GMO72K",
        "colab": {
          "base_uri": "https://localhost:8080/",
          "height": 488
        },
        "outputId": "843bc364-26af-4d22-fdba-75b50dde423d"
      },
      "source": [
        "# Get model predictions for the first 3 batches of test data\n",
        "\n",
        "num_batches = 3\n",
        "seed = 25\n",
        "test_generator = get_generator(image_gen_aug, test_dir, seed=seed)\n",
        "predictions = lsun_new_model.predict_generator(test_generator, steps=num_batches)"
      ],
      "execution_count": null,
      "outputs": [
        {
          "output_type": "stream",
          "name": "stdout",
          "text": [
            "Found 300 images belonging to 3 classes.\n"
          ]
        },
        {
          "output_type": "stream",
          "name": "stderr",
          "text": [
            "<ipython-input-50-c3328993e8e7>:6: UserWarning: `Model.predict_generator` is deprecated and will be removed in a future version. Please use `Model.predict`, which supports generators.\n",
            "  predictions = lsun_new_model.predict_generator(test_generator, steps=num_batches)\n"
          ]
        },
        {
          "output_type": "error",
          "ename": "ValueError",
          "evalue": "ignored",
          "traceback": [
            "\u001b[0;31m---------------------------------------------------------------------------\u001b[0m",
            "\u001b[0;31mValueError\u001b[0m                                Traceback (most recent call last)",
            "\u001b[0;32m<ipython-input-50-c3328993e8e7>\u001b[0m in \u001b[0;36m<cell line: 6>\u001b[0;34m()\u001b[0m\n\u001b[1;32m      4\u001b[0m \u001b[0mseed\u001b[0m \u001b[0;34m=\u001b[0m \u001b[0;36m25\u001b[0m\u001b[0;34m\u001b[0m\u001b[0;34m\u001b[0m\u001b[0m\n\u001b[1;32m      5\u001b[0m \u001b[0mtest_generator\u001b[0m \u001b[0;34m=\u001b[0m \u001b[0mget_generator\u001b[0m\u001b[0;34m(\u001b[0m\u001b[0mimage_gen_aug\u001b[0m\u001b[0;34m,\u001b[0m \u001b[0mtest_dir\u001b[0m\u001b[0;34m,\u001b[0m \u001b[0mseed\u001b[0m\u001b[0;34m=\u001b[0m\u001b[0mseed\u001b[0m\u001b[0;34m)\u001b[0m\u001b[0;34m\u001b[0m\u001b[0;34m\u001b[0m\u001b[0m\n\u001b[0;32m----> 6\u001b[0;31m \u001b[0mpredictions\u001b[0m \u001b[0;34m=\u001b[0m \u001b[0mlsun_new_model\u001b[0m\u001b[0;34m.\u001b[0m\u001b[0mpredict_generator\u001b[0m\u001b[0;34m(\u001b[0m\u001b[0mtest_generator\u001b[0m\u001b[0;34m,\u001b[0m \u001b[0msteps\u001b[0m\u001b[0;34m=\u001b[0m\u001b[0mnum_batches\u001b[0m\u001b[0;34m)\u001b[0m\u001b[0;34m\u001b[0m\u001b[0;34m\u001b[0m\u001b[0m\n\u001b[0m",
            "\u001b[0;32m/usr/local/lib/python3.9/dist-packages/keras/engine/training.py\u001b[0m in \u001b[0;36mpredict_generator\u001b[0;34m(self, generator, steps, callbacks, max_queue_size, workers, use_multiprocessing, verbose)\u001b[0m\n\u001b[1;32m   2709\u001b[0m             \u001b[0mstacklevel\u001b[0m\u001b[0;34m=\u001b[0m\u001b[0;36m2\u001b[0m\u001b[0;34m,\u001b[0m\u001b[0;34m\u001b[0m\u001b[0;34m\u001b[0m\u001b[0m\n\u001b[1;32m   2710\u001b[0m         )\n\u001b[0;32m-> 2711\u001b[0;31m         return self.predict(\n\u001b[0m\u001b[1;32m   2712\u001b[0m             \u001b[0mgenerator\u001b[0m\u001b[0;34m,\u001b[0m\u001b[0;34m\u001b[0m\u001b[0;34m\u001b[0m\u001b[0m\n\u001b[1;32m   2713\u001b[0m             \u001b[0msteps\u001b[0m\u001b[0;34m=\u001b[0m\u001b[0msteps\u001b[0m\u001b[0;34m,\u001b[0m\u001b[0;34m\u001b[0m\u001b[0;34m\u001b[0m\u001b[0m\n",
            "\u001b[0;32m/usr/local/lib/python3.9/dist-packages/keras/utils/traceback_utils.py\u001b[0m in \u001b[0;36merror_handler\u001b[0;34m(*args, **kwargs)\u001b[0m\n\u001b[1;32m     68\u001b[0m             \u001b[0;31m# To get the full stack trace, call:\u001b[0m\u001b[0;34m\u001b[0m\u001b[0;34m\u001b[0m\u001b[0m\n\u001b[1;32m     69\u001b[0m             \u001b[0;31m# `tf.debugging.disable_traceback_filtering()`\u001b[0m\u001b[0;34m\u001b[0m\u001b[0;34m\u001b[0m\u001b[0m\n\u001b[0;32m---> 70\u001b[0;31m             \u001b[0;32mraise\u001b[0m \u001b[0me\u001b[0m\u001b[0;34m.\u001b[0m\u001b[0mwith_traceback\u001b[0m\u001b[0;34m(\u001b[0m\u001b[0mfiltered_tb\u001b[0m\u001b[0;34m)\u001b[0m \u001b[0;32mfrom\u001b[0m \u001b[0;32mNone\u001b[0m\u001b[0;34m\u001b[0m\u001b[0;34m\u001b[0m\u001b[0m\n\u001b[0m\u001b[1;32m     71\u001b[0m         \u001b[0;32mfinally\u001b[0m\u001b[0;34m:\u001b[0m\u001b[0;34m\u001b[0m\u001b[0;34m\u001b[0m\u001b[0m\n\u001b[1;32m     72\u001b[0m             \u001b[0;32mdel\u001b[0m \u001b[0mfiltered_tb\u001b[0m\u001b[0;34m\u001b[0m\u001b[0;34m\u001b[0m\u001b[0m\n",
            "\u001b[0;32m/usr/local/lib/python3.9/dist-packages/keras/engine/data_adapter.py\u001b[0m in \u001b[0;36mselect_data_adapter\u001b[0;34m(x, y)\u001b[0m\n\u001b[1;32m   1080\u001b[0m     \u001b[0;32mif\u001b[0m \u001b[0;32mnot\u001b[0m \u001b[0madapter_cls\u001b[0m\u001b[0;34m:\u001b[0m\u001b[0;34m\u001b[0m\u001b[0;34m\u001b[0m\u001b[0m\n\u001b[1;32m   1081\u001b[0m         \u001b[0;31m# TODO(scottzhu): This should be a less implementation-specific error.\u001b[0m\u001b[0;34m\u001b[0m\u001b[0;34m\u001b[0m\u001b[0m\n\u001b[0;32m-> 1082\u001b[0;31m         raise ValueError(\n\u001b[0m\u001b[1;32m   1083\u001b[0m             \"Failed to find data adapter that can handle input: {}, {}\".format(\n\u001b[1;32m   1084\u001b[0m                 \u001b[0m_type_name\u001b[0m\u001b[0;34m(\u001b[0m\u001b[0mx\u001b[0m\u001b[0;34m)\u001b[0m\u001b[0;34m,\u001b[0m \u001b[0m_type_name\u001b[0m\u001b[0;34m(\u001b[0m\u001b[0my\u001b[0m\u001b[0;34m)\u001b[0m\u001b[0;34m\u001b[0m\u001b[0;34m\u001b[0m\u001b[0m\n",
            "\u001b[0;31mValueError\u001b[0m: Failed to find data adapter that can handle input: <class 'keras.preprocessing.image.ImageDataGenerator'>, <class 'NoneType'>"
          ]
        }
      ]
    },
    {
      "cell_type": "code",
      "metadata": {
        "id": "ihxAKbZuO72K",
        "colab": {
          "base_uri": "https://localhost:8080/",
          "height": 253
        },
        "outputId": "3d7c607a-1e96-4f32-b5cc-9db449e3ae49"
      },
      "source": [
        "# Run this cell to view randomly selected images and model predictions\n",
        "\n",
        "# Get images and ground truth labels\n",
        "test_generator = get_generator(image_gen_aug, test_dir, seed=seed)\n",
        "batches = []\n",
        "for i in range(num_batches):\n",
        "    batches.append(next(test_generator))\n",
        "\n",
        "batch_images = np.vstack([b[0] for b in batches])\n",
        "batch_labels = np.concatenate([b[1].astype(np.int32) for b in batches])\n",
        "\n",
        "# Randomly select images from the batch\n",
        "inx = np.random.choice(predictions.shape[0], 4, replace=False)\n",
        "print(inx)\n",
        "\n",
        "fig, axes = plt.subplots(4, 2, figsize=(16, 12))\n",
        "fig.subplots_adjust(hspace=0.4, wspace=-0.2)\n",
        "\n",
        "for n, i in enumerate(inx):\n",
        "    axes[n, 0].imshow(batch_images[i])\n",
        "    axes[n, 0].get_xaxis().set_visible(False)\n",
        "    axes[n, 0].get_yaxis().set_visible(False)\n",
        "    axes[n, 0].text(30., -3.5, lsun_classes[np.where(batch_labels[i] == 1.)[0][0]],\n",
        "                    horizontalalignment='center')\n",
        "    axes[n, 1].bar(np.arange(len(predictions[i])), predictions[i])\n",
        "    axes[n, 1].set_xticks(np.arange(len(predictions[i])))\n",
        "    axes[n, 1].set_xticklabels(lsun_classes)\n",
        "    axes[n, 1].set_title(f\"Categorical distribution. Model prediction: {lsun_classes[np.argmax(predictions[i])]}\")\n",
        "\n",
        "plt.show()"
      ],
      "execution_count": null,
      "outputs": [
        {
          "output_type": "stream",
          "name": "stdout",
          "text": [
            "Found 300 images belonging to 3 classes.\n"
          ]
        },
        {
          "output_type": "error",
          "ename": "TypeError",
          "evalue": "ignored",
          "traceback": [
            "\u001b[0;31m---------------------------------------------------------------------------\u001b[0m",
            "\u001b[0;31mTypeError\u001b[0m                                 Traceback (most recent call last)",
            "\u001b[0;32m<ipython-input-51-ad69f81c8699>\u001b[0m in \u001b[0;36m<cell line: 6>\u001b[0;34m()\u001b[0m\n\u001b[1;32m      5\u001b[0m \u001b[0mbatches\u001b[0m \u001b[0;34m=\u001b[0m \u001b[0;34m[\u001b[0m\u001b[0;34m]\u001b[0m\u001b[0;34m\u001b[0m\u001b[0;34m\u001b[0m\u001b[0m\n\u001b[1;32m      6\u001b[0m \u001b[0;32mfor\u001b[0m \u001b[0mi\u001b[0m \u001b[0;32min\u001b[0m \u001b[0mrange\u001b[0m\u001b[0;34m(\u001b[0m\u001b[0mnum_batches\u001b[0m\u001b[0;34m)\u001b[0m\u001b[0;34m:\u001b[0m\u001b[0;34m\u001b[0m\u001b[0;34m\u001b[0m\u001b[0m\n\u001b[0;32m----> 7\u001b[0;31m     \u001b[0mbatches\u001b[0m\u001b[0;34m.\u001b[0m\u001b[0mappend\u001b[0m\u001b[0;34m(\u001b[0m\u001b[0mnext\u001b[0m\u001b[0;34m(\u001b[0m\u001b[0mtest_generator\u001b[0m\u001b[0;34m)\u001b[0m\u001b[0;34m)\u001b[0m\u001b[0;34m\u001b[0m\u001b[0;34m\u001b[0m\u001b[0m\n\u001b[0m\u001b[1;32m      8\u001b[0m \u001b[0;34m\u001b[0m\u001b[0m\n\u001b[1;32m      9\u001b[0m \u001b[0mbatch_images\u001b[0m \u001b[0;34m=\u001b[0m \u001b[0mnp\u001b[0m\u001b[0;34m.\u001b[0m\u001b[0mvstack\u001b[0m\u001b[0;34m(\u001b[0m\u001b[0;34m[\u001b[0m\u001b[0mb\u001b[0m\u001b[0;34m[\u001b[0m\u001b[0;36m0\u001b[0m\u001b[0;34m]\u001b[0m \u001b[0;32mfor\u001b[0m \u001b[0mb\u001b[0m \u001b[0;32min\u001b[0m \u001b[0mbatches\u001b[0m\u001b[0;34m]\u001b[0m\u001b[0;34m)\u001b[0m\u001b[0;34m\u001b[0m\u001b[0;34m\u001b[0m\u001b[0m\n",
            "\u001b[0;31mTypeError\u001b[0m: 'ImageDataGenerator' object is not an iterator"
          ]
        }
      ]
    },
    {
      "cell_type": "markdown",
      "metadata": {
        "id": "bK8fEFraO72K"
      },
      "source": [
        "Congratulations! This completes the first part of the programming assignment using the tf.keras image data processing tools."
      ]
    },
    {
      "cell_type": "markdown",
      "metadata": {
        "id": "qRWEdW5xO72K"
      },
      "source": [
        "### Part 2: tf.data\n",
        "\n",
        "![CIFAR-100 overview image](data/cifar100/cifar100.png)\n",
        "\n",
        "#### The CIFAR-100 Dataset"
      ]
    },
    {
      "cell_type": "markdown",
      "metadata": {
        "id": "fCRi7OnpO72L"
      },
      "source": [
        "In the second part of this assignment, you will use the [CIFAR-100 dataset](https://www.cs.toronto.edu/~kriz/cifar.html). This image dataset has 100 classes with 500 training images and 100 test images per class.\n",
        "\n",
        "* A. Krizhevsky. \"Learning Multiple Layers of Features from Tiny Images\". April 2009\n",
        "\n",
        "Your goal is to use the tf.data module preprocessing tools to construct a data ingestion pipeline including filtering and function mapping over the dataset to train a neural network to classify the images."
      ]
    },
    {
      "cell_type": "markdown",
      "metadata": {
        "id": "yDRTggGVO72L"
      },
      "source": [
        "#### Load the dataset"
      ]
    },
    {
      "cell_type": "code",
      "metadata": {
        "id": "x6DlI-D7O72L"
      },
      "source": [
        "# Load the data, along with the labels\n",
        "\n",
        "(train_data, train_labels), (test_data, test_labels) = cifar100.load_data(label_mode='fine')\n",
        "with open('data/cifar100/cifar100_labels.json', 'r') as j:\n",
        "    cifar_labels = json.load(j)"
      ],
      "execution_count": null,
      "outputs": []
    },
    {
      "cell_type": "markdown",
      "metadata": {
        "id": "oV1qGGD1O72L"
      },
      "source": [
        "#### Display sample images and labels from the training set"
      ]
    },
    {
      "cell_type": "code",
      "metadata": {
        "scrolled": false,
        "id": "lhIpjHpHO72L"
      },
      "source": [
        "# Display a few images and labels\n",
        "\n",
        "plt.figure(figsize=(15,8))\n",
        "inx = np.random.choice(train_data.shape[0], 32, replace=False)\n",
        "for n, i in enumerate(inx):\n",
        "    ax = plt.subplot(4, 8, n+1)\n",
        "    plt.imshow(train_data[i])\n",
        "    plt.title(cifar_labels[int(train_labels[i])])\n",
        "    plt.axis('off')"
      ],
      "execution_count": null,
      "outputs": []
    },
    {
      "cell_type": "markdown",
      "metadata": {
        "id": "ruRWCIOjO72L"
      },
      "source": [
        "#### Create Dataset objects for the train and test images\n",
        "\n",
        "You should now write a function to create a `tf.data.Dataset` object for each of the training and test images and labels. This function should take a numpy array of images in the first argument and a numpy array of labels in the second argument, and create a `Dataset` object.\n",
        "\n",
        "Your function should then return the `Dataset` object. Do not batch or shuffle the `Dataset` (this will be done later)."
      ]
    },
    {
      "cell_type": "code",
      "metadata": {
        "id": "4J39-8dGO72L"
      },
      "source": [
        "#### GRADED CELL ####\n",
        "\n",
        "# Complete the following function.\n",
        "# Make sure to not change the function name or arguments.\n",
        "\n",
        "def create_dataset(data, labels):\n",
        "    \"\"\"\n",
        "    This function takes a numpy array batch of images in the first argument, and\n",
        "    a corresponding array containing the labels in the second argument.\n",
        "    The function should then create a tf.data.Dataset object with these inputs\n",
        "    and outputs, and return it.\n",
        "    \"\"\"\n",
        "    dataset = tf.data.Dataset.from_tensor_slices((data, labels))\n",
        "    return dataset\n",
        "\n",
        ""
      ],
      "execution_count": null,
      "outputs": []
    },
    {
      "cell_type": "code",
      "metadata": {
        "id": "c0n8E8YwO72L"
      },
      "source": [
        "# Run the below cell to convert the training and test data and labels into datasets\n",
        "\n",
        "train_dataset = create_dataset(train_data, train_labels)\n",
        "test_dataset = create_dataset(test_data, test_labels)"
      ],
      "execution_count": null,
      "outputs": []
    },
    {
      "cell_type": "code",
      "metadata": {
        "id": "uMTYgry4O72M"
      },
      "source": [
        "# Check the element_spec of your datasets\n",
        "\n",
        "print(train_dataset.element_spec)\n",
        "print(test_dataset.element_spec)"
      ],
      "execution_count": null,
      "outputs": []
    },
    {
      "cell_type": "markdown",
      "metadata": {
        "id": "3VSWGv5dO72M"
      },
      "source": [
        "#### Filter the Dataset\n",
        "\n",
        "Write a function to filter the train and test datasets so that they only generate images that belong to a specified set of classes.\n",
        "\n",
        "The function should take a `Dataset` object in the first argument, and a list of integer class indices in the second argument. Inside your function you should define an auxiliary function that you will use with the `filter` method of the `Dataset` object. This auxiliary function should take image and label arguments (as in the `element_spec`) for a single element in the batch, and return a boolean indicating if the label is one of the allowed classes.\n",
        "\n",
        "Your function should then return the filtered dataset.\n",
        "\n",
        "**Hint:** you may need to use the [`tf.equal`](https://www.tensorflow.org/api_docs/python/tf/math/equal), [`tf.cast`](https://www.tensorflow.org/api_docs/python/tf/dtypes/cast) and [`tf.math.reduce_any`](https://www.tensorflow.org/api_docs/python/tf/math/reduce_any) functions in your auxiliary function."
      ]
    },
    {
      "cell_type": "code",
      "metadata": {
        "id": "3zHoH8rlO72M"
      },
      "source": [
        "#### GRADED CELL ####\n",
        "\n",
        "# Complete the following function.\n",
        "# Make sure to not change the function name or arguments.\n",
        "\n",
        "def filter_classes(dataset, classes):\n",
        "    \"\"\"\n",
        "    This function should filter the dataset by only retaining dataset elements whose\n",
        "    label belongs to one of the integers in the classes list.\n",
        "    The function should then return the filtered Dataset object.\n",
        "    \"\"\"\n",
        "    def filter_aux(image, label):\n",
        "        return tf.math.reduce_any(tf.equal(label, classes))\n",
        "\n",
        "    return dataset.filter(filter_aux)\n",
        "\n",
        ""
      ],
      "execution_count": null,
      "outputs": []
    },
    {
      "cell_type": "code",
      "metadata": {
        "id": "2E_GBUJWO72M"
      },
      "source": [
        "# Run the below cell to filter the datasets using your function\n",
        "\n",
        "cifar_classes = [0, 29, 99] # Your datasets should contain only classes in this list\n",
        "\n",
        "train_dataset = filter_classes(train_dataset, cifar_classes)\n",
        "test_dataset = filter_classes(test_dataset, cifar_classes)"
      ],
      "execution_count": null,
      "outputs": []
    },
    {
      "cell_type": "markdown",
      "metadata": {
        "id": "DKcxDvs8O72M"
      },
      "source": [
        "#### Apply map functions to the Dataset\n",
        "\n",
        "You should now write two functions that use the `map` method to process the images and labels in the filtered dataset.\n",
        "\n",
        "The first function should one-hot encode the remaining labels so that we can train the network using a categorical cross entropy loss.\n",
        "\n",
        "The function should take a `Dataset` object as an argument. Inside your function you should define an auxiliary function that you will use with the `map` method of the `Dataset` object. This auxiliary function should take image and label arguments (as in the `element_spec`) for a single element in the batch, and return a tuple of two elements, with the unmodified image in the first element, and a one-hot vector in the second element. The labels should be encoded according to the following:\n",
        "\n",
        "* Class 0 maps to `[1., 0., 0.]`\n",
        "* Class 29 maps to `[0., 1., 0.]`\n",
        "* Class 99 maps to `[0., 0., 1.]`\n",
        "\n",
        "Your function should then return the mapped dataset."
      ]
    },
    {
      "cell_type": "code",
      "metadata": {
        "id": "gvTNKKHiO72M"
      },
      "source": [
        "#### GRADED CELL ####\n",
        "\n",
        "# Complete the following function.\n",
        "# Make sure to not change the function name or arguments.\n",
        "\n",
        "def map_labels(dataset):\n",
        "    \"\"\"\n",
        "    This function should map over the dataset to convert the label to a\n",
        "    one-hot vector. The encoding should be done according to the above specification.\n",
        "    The function should then return the mapped Dataset object.\n",
        "    \"\"\"\n",
        "    def map_aux(image, label):\n",
        "        if label == 0:\n",
        "            return image, tf.constant([1., 0., 0.])\n",
        "        elif label == 29:\n",
        "            return image, tf.constant([0., 1., 0.])\n",
        "        else:\n",
        "            return image, tf.constant([0., 0., 1.])\n",
        "    return dataset.map(map_aux)\n",
        "\n",
        ""
      ],
      "execution_count": null,
      "outputs": []
    },
    {
      "cell_type": "code",
      "metadata": {
        "id": "zBQ-UYGAO72M"
      },
      "source": [
        "# Run the below cell to one-hot encode the training and test labels.\n",
        "\n",
        "train_dataset = map_labels(train_dataset)\n",
        "test_dataset = map_labels(test_dataset)"
      ],
      "execution_count": null,
      "outputs": []
    },
    {
      "cell_type": "markdown",
      "metadata": {
        "id": "lrhwv0usO72N"
      },
      "source": [
        "The second function should process the images according to the following specification:\n",
        "\n",
        "* Rescale the image pixel values by a factor of 1/255.\n",
        "* Convert the colour images (3 channels) to black and white images (single channel) by computing the average pixel value across all channels.\n",
        "\n",
        "The function should take a `Dataset` object as an argument. Inside your function you should again define an auxiliary function that you will use with the `map` method of the `Dataset` object. This auxiliary function should take image and label arguments (as in the `element_spec`) for a single element in the batch, and return a tuple of two elements, with the processed image in the first element, and the unmodified label in the second argument.\n",
        "\n",
        "Your function should then return the mapped dataset.\n",
        "\n",
        "**Hint:** you may find it useful to use [`tf.reduce_mean`](https://www.tensorflow.org/api_docs/python/tf/math/reduce_mean?version=stable) since the black and white image is the colour-average of the colour images. You can also use the `keepdims` keyword in `tf.reduce_mean` to retain the single colour channel."
      ]
    },
    {
      "cell_type": "code",
      "metadata": {
        "id": "RDJDX-ibO72N"
      },
      "source": [
        "#### GRADED CELL ####\n",
        "\n",
        "# Complete the following function.\n",
        "# Make sure to not change the function name or arguments.\n",
        "\n",
        "def map_images(dataset):\n",
        "    \"\"\"\n",
        "    This function should map over the dataset to process the image according to the\n",
        "    above specification. The function should then return the mapped Dataset object.\n",
        "    \"\"\"\n",
        "    def map_aux(image, label):\n",
        "        image = image / 255\n",
        "        image = tf.reduce_mean(image, axis=2,keepdims=True)\n",
        "        return image, label\n",
        "    return dataset.map(map_aux)\n",
        "\n",
        ""
      ],
      "execution_count": null,
      "outputs": []
    },
    {
      "cell_type": "code",
      "metadata": {
        "id": "3tKnhrkJO72N"
      },
      "source": [
        "# Run the below cell to apply your mapping function to the datasets\n",
        "\n",
        "train_dataset_bw = map_images(train_dataset)\n",
        "test_dataset_bw = map_images(test_dataset)"
      ],
      "execution_count": null,
      "outputs": []
    },
    {
      "cell_type": "markdown",
      "metadata": {
        "id": "eytP4pysO72N"
      },
      "source": [
        "#### Display a batch of processed images"
      ]
    },
    {
      "cell_type": "code",
      "metadata": {
        "id": "f1--OcwSO72N"
      },
      "source": [
        "# Run this cell to view a selection of images before and after processing\n",
        "\n",
        "plt.figure(figsize=(16,5))\n",
        "plt.suptitle(\"Unprocessed images\", fontsize=16)\n",
        "for n, elem in enumerate(train_dataset.take(10)):\n",
        "    images, labels = elem\n",
        "    ax = plt.subplot(2, 5, n+1)\n",
        "    plt.title(cifar_labels[cifar_classes[np.where(labels == 1.)[0][0]]])\n",
        "    plt.imshow(np.squeeze(images), cmap='gray')\n",
        "    plt.axis('off')\n",
        "\n",
        "plt.figure(figsize=(16,5))\n",
        "plt.suptitle(\"Processed images\", fontsize=16)\n",
        "for n, elem in enumerate(train_dataset_bw.take(10)):\n",
        "    images_bw, labels_bw = elem\n",
        "    ax = plt.subplot(2, 5, n+1)\n",
        "    plt.title(cifar_labels[cifar_classes[np.where(labels_bw == 1.)[0][0]]])\n",
        "    plt.imshow(np.squeeze(images_bw), cmap='gray')\n",
        "    plt.axis('off')"
      ],
      "execution_count": null,
      "outputs": []
    },
    {
      "cell_type": "markdown",
      "metadata": {
        "id": "lerTBxn5O72N"
      },
      "source": [
        "We will now batch and shuffle the Dataset objects."
      ]
    },
    {
      "cell_type": "code",
      "metadata": {
        "id": "WB2ju1eeO72N"
      },
      "source": [
        "# Run the below cell to batch the training dataset and expand the final dimensinos\n",
        "\n",
        "train_dataset_bw = train_dataset_bw.batch(10)\n",
        "train_dataset_bw = train_dataset_bw.shuffle(100)\n",
        "\n",
        "test_dataset_bw = test_dataset_bw.batch(10)\n",
        "test_dataset_bw = test_dataset_bw.shuffle(100)"
      ],
      "execution_count": null,
      "outputs": []
    },
    {
      "cell_type": "markdown",
      "metadata": {
        "id": "MDChq5kQO72O"
      },
      "source": [
        "#### Train a neural network model\n",
        "\n",
        "Now we will train a model using the `Dataset` objects. We will use the model specification and function from the first part of this assignment, only modifying the size of the input images."
      ]
    },
    {
      "cell_type": "code",
      "metadata": {
        "id": "T_jAHVk4O72O"
      },
      "source": [
        "# Build and compile a new model with our original spec, using the new image size\n",
        "\n",
        "cifar_model = get_model((32, 32, 1))"
      ],
      "execution_count": null,
      "outputs": []
    },
    {
      "cell_type": "code",
      "metadata": {
        "scrolled": true,
        "id": "8zTkEYZ_O72O"
      },
      "source": [
        "# Train the model for 15 epochs\n",
        "\n",
        "history = cifar_model.fit(train_dataset_bw, validation_data=test_dataset_bw, epochs=15)"
      ],
      "execution_count": null,
      "outputs": []
    },
    {
      "cell_type": "markdown",
      "metadata": {
        "id": "jge1QwxPO72O"
      },
      "source": [
        "#### Plot the learning curves"
      ]
    },
    {
      "cell_type": "code",
      "metadata": {
        "id": "zVdTQp2kO72O"
      },
      "source": [
        "# Run this cell to plot accuracy vs epoch and loss vs epoch\n",
        "\n",
        "plt.figure(figsize=(15,5))\n",
        "plt.subplot(121)\n",
        "try:\n",
        "    plt.plot(history.history['accuracy'])\n",
        "    plt.plot(history.history['val_accuracy'])\n",
        "except KeyError:\n",
        "    try:\n",
        "        plt.plot(history.history['acc'])\n",
        "        plt.plot(history.history['val_acc'])\n",
        "    except KeyError:\n",
        "        plt.plot(history.history['categorical_accuracy'])\n",
        "        plt.plot(history.history['val_categorical_accuracy'])\n",
        "plt.title('Accuracy vs. epochs')\n",
        "plt.ylabel('Accuracy')\n",
        "plt.xlabel('Epoch')\n",
        "plt.legend(['Training', 'Validation'], loc='lower right')\n",
        "\n",
        "plt.subplot(122)\n",
        "plt.plot(history.history['loss'])\n",
        "plt.plot(history.history['val_loss'])\n",
        "plt.title('Loss vs. epochs')\n",
        "plt.ylabel('Loss')\n",
        "plt.xlabel('Epoch')\n",
        "plt.legend(['Training', 'Validation'], loc='upper right')\n",
        "plt.show()"
      ],
      "execution_count": null,
      "outputs": []
    },
    {
      "cell_type": "code",
      "metadata": {
        "id": "Go7_po-oO72O"
      },
      "source": [
        "# Create an iterable from the batched test dataset\n",
        "\n",
        "test_dataset = test_dataset.batch(10)\n",
        "iter_test_dataset = iter(test_dataset)"
      ],
      "execution_count": null,
      "outputs": []
    },
    {
      "cell_type": "code",
      "metadata": {
        "id": "HBhTSnD1O72O"
      },
      "source": [
        "# Display model predictions for a sample of test images\n",
        "\n",
        "plt.figure(figsize=(15,8))\n",
        "inx = np.random.choice(test_data.shape[0], 18, replace=False)\n",
        "images, labels = next(iter_test_dataset)\n",
        "probs = cifar_model(tf.reduce_mean(tf.cast(images, tf.float32), axis=-1, keepdims=True) / 255.)\n",
        "preds = np.argmax(probs, axis=1)\n",
        "for n in range(10):\n",
        "    ax = plt.subplot(2, 5, n+1)\n",
        "    plt.imshow(images[n])\n",
        "    plt.title(cifar_labels[cifar_classes[np.where(labels[n].numpy() == 1.0)[0][0]]])\n",
        "    plt.text(0, 35, \"Model prediction: {}\".format(cifar_labels[cifar_classes[preds[n]]]))\n",
        "    plt.axis('off')"
      ],
      "execution_count": null,
      "outputs": []
    },
    {
      "cell_type": "markdown",
      "metadata": {
        "id": "MI_HeZqcO72O"
      },
      "source": [
        "Congratulations for completing this programming assignment! In the next week of the course we will learn to develop models for sequential data."
      ]
    }
  ]
}