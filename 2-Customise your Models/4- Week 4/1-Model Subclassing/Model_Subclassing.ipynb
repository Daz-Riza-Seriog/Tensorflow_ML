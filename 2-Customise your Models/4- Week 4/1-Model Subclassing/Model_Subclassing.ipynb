{
  "cells": [
    {
      "cell_type": "markdown",
      "metadata": {
        "id": "view-in-github",
        "colab_type": "text"
      },
      "source": [
        "<a href=\"https://colab.research.google.com/github/Daz-Riza-Seriog/Tensorflow_ML/blob/main/2-Customise%20your%20Models/4-%20Week%204/1-Model%20Subclassing/Model_Subclassing.ipynb\" target=\"_parent\"><img src=\"https://colab.research.google.com/assets/colab-badge.svg\" alt=\"Open In Colab\"/></a>"
      ]
    },
    {
      "cell_type": "code",
      "execution_count": null,
      "metadata": {
        "id": "23CFA-A4xgcj",
        "colab": {
          "base_uri": "https://localhost:8080/"
        },
        "outputId": "c47a23d2-6be6-48dd-e1fb-8c64a71463d8"
      },
      "outputs": [
        {
          "output_type": "stream",
          "name": "stdout",
          "text": [
            "2.12.0\n"
          ]
        }
      ],
      "source": [
        "import tensorflow as tf\n",
        "print(tf.__version__)"
      ]
    },
    {
      "cell_type": "markdown",
      "metadata": {
        "id": "hGIbeD1lxgcm"
      },
      "source": [
        "# Model subclassing and custom training loops"
      ]
    },
    {
      "cell_type": "markdown",
      "metadata": {
        "id": "d8hAxw5_xgcn"
      },
      "source": [
        " ## Coding tutorials\n",
        " #### [1. Model subclassing](#coding_tutorial_1)\n",
        " #### [2. Custom layers](#coding_tutorial_2)\n",
        " #### [3. Automatic differentiation](#coding_tutorial_3)\n",
        " #### [4. Custom training loops](#coding_tutorial_4)\n",
        " #### [5. tf.function decorator](#coding_tutorial_5)"
      ]
    },
    {
      "cell_type": "markdown",
      "metadata": {
        "id": "eYmBcEHBxgco"
      },
      "source": [
        "***\n",
        "<a id=\"coding_tutorial_1\"></a>\n",
        "## Model subclassing"
      ]
    },
    {
      "cell_type": "code",
      "execution_count": null,
      "metadata": {
        "id": "R85E3Sg1xgco"
      },
      "outputs": [],
      "source": [
        "from tensorflow.keras.models import Model\n",
        "from tensorflow.keras.layers import Dense, Dropout, Softmax, concatenate"
      ]
    },
    {
      "cell_type": "markdown",
      "metadata": {
        "id": "zkgVxKbSxgcp"
      },
      "source": [
        "#### Create a simple model using the model subclassing API"
      ]
    },
    {
      "cell_type": "code",
      "execution_count": null,
      "metadata": {
        "id": "2GrqWGMCxgcp"
      },
      "outputs": [],
      "source": [
        "# Build the model\n",
        "\n",
        "class Mymodel(Model):\n",
        "\n",
        "  def __init__(self):\n",
        "    super(Mymodel, self).__init__()\n",
        "    self.dense_1 = Dense(units=64, activation=\"relu\")\n",
        "    self.dense_2 = Dense(units=10)\n",
        "    self.dropout = Dropout(0.4)\n",
        "\n",
        "  def call(self, inputs, training=True):\n",
        "    x = self.dense_1(inputs)\n",
        "    if training:\n",
        "      x = self.dropout(x)\n",
        "    return self.dense_2(x)"
      ]
    },
    {
      "cell_type": "code",
      "execution_count": null,
      "metadata": {
        "id": "UIdgNVtsxgcp",
        "colab": {
          "base_uri": "https://localhost:8080/"
        },
        "outputId": "1c25dcde-8f87-4c4b-a6f2-6d3d6fc5b783"
      },
      "outputs": [
        {
          "output_type": "stream",
          "name": "stdout",
          "text": [
            "Model: \"mymodel_1\"\n",
            "_________________________________________________________________\n",
            " Layer (type)                Output Shape              Param #   \n",
            "=================================================================\n",
            " dense_2 (Dense)             multiple                  704       \n",
            "                                                                 \n",
            " dense_3 (Dense)             multiple                  650       \n",
            "                                                                 \n",
            " dropout (Dropout)           multiple                  0         \n",
            "                                                                 \n",
            "=================================================================\n",
            "Total params: 1,354\n",
            "Trainable params: 1,354\n",
            "Non-trainable params: 0\n",
            "_________________________________________________________________\n"
          ]
        }
      ],
      "source": [
        "# Print the model summary\n",
        "\n",
        "model = Mymodel()\n",
        "model(tf.random.uniform([3,10]))\n",
        "model.summary()"
      ]
    },
    {
      "cell_type": "code",
      "source": [
        "# Build the model concatenate\n",
        "\n",
        "class Mymodel2(Model):\n",
        "\n",
        "  def __init__(self):\n",
        "    super(Mymodel2, self).__init__()\n",
        "    self.dense_1 = Dense(units=64, activation=\"relu\")\n",
        "    self.dense_2 = Dense(units=10)\n",
        "    self.dense_3 = Dense(units=5)\n",
        "    self.Softmax = Softmax()\n",
        "\n",
        "\n",
        "  def call(self, inputs, training=True):\n",
        "    x = self.dense_1(inputs)\n",
        "    y1 = self.dense_2(inputs)\n",
        "    y2 = self.dense_3(y1)\n",
        "    concat = concatenate([x,y2])\n",
        "    return self.Softmax(concat)"
      ],
      "metadata": {
        "id": "RotSYQuw27Gi"
      },
      "execution_count": null,
      "outputs": []
    },
    {
      "cell_type": "code",
      "source": [
        "# Print the model summary\n",
        "\n",
        "model = Mymodel2()\n",
        "model(tf.random.uniform([3,10]))\n",
        "model.summary()"
      ],
      "metadata": {
        "colab": {
          "base_uri": "https://localhost:8080/"
        },
        "id": "9CSkrhia3wzi",
        "outputId": "1ed31554-2ff8-4fe3-a1e2-94ac75fceb17"
      },
      "execution_count": null,
      "outputs": [
        {
          "output_type": "stream",
          "name": "stdout",
          "text": [
            "Model: \"mymodel2\"\n",
            "_________________________________________________________________\n",
            " Layer (type)                Output Shape              Param #   \n",
            "=================================================================\n",
            " dense_4 (Dense)             multiple                  704       \n",
            "                                                                 \n",
            " dense_5 (Dense)             multiple                  110       \n",
            "                                                                 \n",
            " dense_6 (Dense)             multiple                  55        \n",
            "                                                                 \n",
            " softmax (Softmax)           multiple                  0         \n",
            "                                                                 \n",
            "=================================================================\n",
            "Total params: 869\n",
            "Trainable params: 869\n",
            "Non-trainable params: 0\n",
            "_________________________________________________________________\n"
          ]
        }
      ]
    },
    {
      "cell_type": "code",
      "source": [
        "# Build the model concatenate Multiple Inputs\n",
        "\n",
        "class Mymodel2(Model):\n",
        "\n",
        "  def __init__(self):\n",
        "    super(Mymodel2, self).__init__()\n",
        "    self.dense_1 = Dense(units=64, activation=\"relu\")\n",
        "    self.dense_2 = Dense(units=10)\n",
        "    self.dense_3 = Dense(units=5)\n",
        "    self.Softmax = Softmax()\n",
        "\n",
        "\n",
        "  def call(self, input1, input2):\n",
        "    x = self.dense_1(input1)\n",
        "    y1 = self.dense_2(input2)\n",
        "    y2 = self.dense_3(y1)\n",
        "    concat = concatenate([x,y2])\n",
        "    return self.Softmax(concat)"
      ],
      "metadata": {
        "id": "HbAixExa4ZXs"
      },
      "execution_count": null,
      "outputs": []
    },
    {
      "cell_type": "code",
      "source": [
        "# Print the model summary\n",
        "\n",
        "model = Mymodel2()\n",
        "inputs = [tf.random.uniform([3,15]),tf.random.uniform([3,12])]\n",
        "model(inputs[0],inputs[1])\n",
        "model.summary()"
      ],
      "metadata": {
        "colab": {
          "base_uri": "https://localhost:8080/"
        },
        "id": "-ICrSxF25Jda",
        "outputId": "c765a72c-2e75-43cf-ca7e-50385d3c2bcb"
      },
      "execution_count": null,
      "outputs": [
        {
          "output_type": "stream",
          "name": "stdout",
          "text": [
            "Model: \"mymodel2_5\"\n",
            "_________________________________________________________________\n",
            " Layer (type)                Output Shape              Param #   \n",
            "=================================================================\n",
            " dense_19 (Dense)            multiple                  1024      \n",
            "                                                                 \n",
            " dense_20 (Dense)            multiple                  130       \n",
            "                                                                 \n",
            " dense_21 (Dense)            multiple                  55        \n",
            "                                                                 \n",
            " softmax_5 (Softmax)         multiple                  0         \n",
            "                                                                 \n",
            "=================================================================\n",
            "Total params: 1,209\n",
            "Trainable params: 1,209\n",
            "Non-trainable params: 0\n",
            "_________________________________________________________________\n"
          ]
        }
      ]
    },
    {
      "cell_type": "code",
      "source": [],
      "metadata": {
        "id": "IqZsl6_Z5mpP"
      },
      "execution_count": null,
      "outputs": []
    }
  ],
  "metadata": {
    "kernelspec": {
      "display_name": "Python 3",
      "language": "python",
      "name": "python3"
    },
    "language_info": {
      "codemirror_mode": {
        "name": "ipython",
        "version": 3
      },
      "file_extension": ".py",
      "mimetype": "text/x-python",
      "name": "python",
      "nbconvert_exporter": "python",
      "pygments_lexer": "ipython3",
      "version": "3.7.1"
    },
    "colab": {
      "provenance": [],
      "include_colab_link": true
    }
  },
  "nbformat": 4,
  "nbformat_minor": 0
}