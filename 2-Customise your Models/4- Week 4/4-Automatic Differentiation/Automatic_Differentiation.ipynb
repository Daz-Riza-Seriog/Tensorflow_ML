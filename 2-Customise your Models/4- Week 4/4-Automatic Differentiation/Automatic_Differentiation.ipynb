{
  "cells": [
    {
      "cell_type": "markdown",
      "metadata": {
        "id": "view-in-github",
        "colab_type": "text"
      },
      "source": [
        "<a href=\"https://colab.research.google.com/github/Daz-Riza-Seriog/Tensorflow_ML/blob/main/2-Customise%20your%20Models/4-%20Week%204/4-Automatic%20Differentiation/Automatic_Differentiation.ipynb\" target=\"_parent\"><img src=\"https://colab.research.google.com/assets/colab-badge.svg\" alt=\"Open In Colab\"/></a>"
      ]
    },
    {
      "cell_type": "code",
      "execution_count": null,
      "metadata": {
        "id": "A62OoPhxN7cz",
        "colab": {
          "base_uri": "https://localhost:8080/"
        },
        "outputId": "ce9bb4d5-2c88-4c60-bd83-fff0c5a0ccae"
      },
      "outputs": [
        {
          "output_type": "stream",
          "name": "stdout",
          "text": [
            "2.12.0\n"
          ]
        }
      ],
      "source": [
        "import tensorflow as tf\n",
        "print(tf.__version__)"
      ]
    },
    {
      "cell_type": "markdown",
      "metadata": {
        "id": "zz2dR_L9N7dA"
      },
      "source": [
        "# Model subclassing and custom training loops"
      ]
    },
    {
      "cell_type": "markdown",
      "metadata": {
        "id": "-VQb78J-N7dG"
      },
      "source": [
        " ## Coding tutorials\n",
        " #### [1. Model subclassing](#coding_tutorial_1)\n",
        " #### [2. Custom layers](#coding_tutorial_2)\n",
        " #### [3. Automatic differentiation](#coding_tutorial_3)\n",
        " #### [4. Custom training loops](#coding_tutorial_4)\n",
        " #### [5. tf.function decorator](#coding_tutorial_5)"
      ]
    },
    {
      "cell_type": "markdown",
      "metadata": {
        "id": "LHMg4qbrN7dp"
      },
      "source": [
        "***\n",
        "<a id=\"coding_tutorial_3\"></a>\n",
        "## Automatic differentiation"
      ]
    },
    {
      "cell_type": "code",
      "execution_count": null,
      "metadata": {
        "id": "nDZ0619HN7dq"
      },
      "outputs": [],
      "source": [
        "import numpy as np\n",
        "import matplotlib.pyplot as plt"
      ]
    },
    {
      "cell_type": "markdown",
      "metadata": {
        "id": "zAmxpaw6N7dt"
      },
      "source": [
        "#### Create synthetic data"
      ]
    },
    {
      "cell_type": "code",
      "execution_count": null,
      "metadata": {
        "id": "Sydnf6C2N7dt",
        "colab": {
          "base_uri": "https://localhost:8080/",
          "height": 448
        },
        "outputId": "9f9b0b7e-d12a-4000-82b7-ec7247c87c1c"
      },
      "outputs": [
        {
          "output_type": "execute_result",
          "data": {
            "text/plain": [
              "[<matplotlib.lines.Line2D at 0x7f7937346b60>]"
            ]
          },
          "metadata": {},
          "execution_count": 3
        },
        {
          "output_type": "display_data",
          "data": {
            "text/plain": [
              "<Figure size 640x480 with 1 Axes>"
            ],
            "image/png": "[encoded data removed]"
          },
          "metadata": {}
        }
      ],
      "source": [
        "# Create data from a noise contaminated linear model\n",
        "\n",
        "def MakeNoisyData(m, b, n=20):\n",
        "    x = tf.random.uniform(shape=(n,))\n",
        "    noise = tf.random.normal(shape=(len(x),), stddev=0.1)\n",
        "    y = m * x + b + noise\n",
        "    return x, y\n",
        "\n",
        "m=1\n",
        "b=2\n",
        "x_train, y_train = MakeNoisyData(m,b)\n",
        "plt.plot(x_train, y_train, 'b.')"
      ]
    },
    {
      "cell_type": "markdown",
      "metadata": {
        "id": "ES5uGrFfN7du"
      },
      "source": [
        "#### Define a linear regression model"
      ]
    },
    {
      "cell_type": "code",
      "execution_count": null,
      "metadata": {
        "id": "Vhzkna0tN7dv"
      },
      "outputs": [],
      "source": [
        "from tensorflow.keras.layers import Layer"
      ]
    },
    {
      "cell_type": "code",
      "execution_count": null,
      "metadata": {
        "id": "fgU4h_uuN7dx",
        "colab": {
          "base_uri": "https://localhost:8080/"
        },
        "outputId": "e9732d58-e613-48c8-8a9b-6739ce74048d"
      },
      "outputs": [
        {
          "output_type": "stream",
          "name": "stdout",
          "text": [
            "tf.Tensor(\n",
            "[6.4541805e-03 6.0908118e-04 8.3013047e-03 3.4034851e-03 6.8841567e-03\n",
            " 4.9886424e-03 3.5969787e-03 9.1838949e-05 8.1027625e-03 7.0365099e-03\n",
            " 6.1680041e-03 1.8218845e-03 2.2988457e-03 2.9142729e-03 9.0083852e-03\n",
            " 3.9497293e-03 6.9625112e-03 8.8003920e-03 5.1063821e-03 6.3937763e-03], shape=(20,), dtype=float32)\n",
            "[<tf.Variable ':0' shape=() dtype=float32, numpy=0.009118682>, <tf.Variable ':0' shape=() dtype=float32, numpy=0.0>]\n"
          ]
        }
      ],
      "source": [
        "# Build a custom layer for the linear regression model\n",
        "\n",
        "class LinearLayer(Layer):\n",
        "\n",
        "  def __init__(self):\n",
        "    super(LinearLayer, self).__init__()\n",
        "    self.m = self.add_weight(np.shape(1,),\n",
        "                             initializer=\"random_normal\")\n",
        "    self.b = self.add_weight(np.shape(1,),\n",
        "                             initializer=\"zeros\")\n",
        "\n",
        "  def call(self,inputs):\n",
        "    return self.m*inputs+self.b\n",
        "\n",
        "linear_regression = LinearLayer()\n",
        "\n",
        "print(linear_regression(x_train))\n",
        "print(linear_regression.weights)"
      ]
    },
    {
      "cell_type": "markdown",
      "metadata": {
        "id": "sEUEjQQPN7dy"
      },
      "source": [
        "#### Define the loss function"
      ]
    },
    {
      "cell_type": "code",
      "execution_count": null,
      "metadata": {
        "id": "sK-izk78N7dz",
        "colab": {
          "base_uri": "https://localhost:8080/"
        },
        "outputId": "a6f00405-dd4c-45c0-9dc1-d1edf117f4f3"
      },
      "outputs": [
        {
          "output_type": "stream",
          "name": "stdout",
          "text": [
            "Starting loss 6.6129036\n"
          ]
        }
      ],
      "source": [
        "# Define the mean squared error loss function\n",
        "\n",
        "def SquaredError(y_pred, y_true):\n",
        "    return tf.reduce_mean(tf.square(y_pred - y_true))\n",
        "\n",
        "starting_loss = SquaredError(linear_regression(x_train), y_train)\n",
        "print(\"Starting loss\", starting_loss.numpy())"
      ]
    },
    {
      "cell_type": "markdown",
      "metadata": {
        "id": "RYYaTGSgN7d0"
      },
      "source": [
        "#### Train and plot the model"
      ]
    },
    {
      "cell_type": "code",
      "execution_count": null,
      "metadata": {
        "id": "Fltlv5vBN7d2",
        "colab": {
          "base_uri": "https://localhost:8080/"
        },
        "outputId": "a10ed464-1245-4cce-9bd0-de4d3739a9dc"
      },
      "outputs": [
        {
          "output_type": "stream",
          "name": "stdout",
          "text": [
            "Step 0, Loss 6.612904\n",
            "Step 1, Loss 4.963023\n",
            "Step 2, Loss 3.725503\n",
            "Step 3, Loss 2.797279\n",
            "Step 4, Loss 2.101046\n",
            "Step 5, Loss 1.578821\n",
            "Step 6, Loss 1.187112\n",
            "Step 7, Loss 0.893300\n",
            "Step 8, Loss 0.672915\n",
            "Step 9, Loss 0.507606\n",
            "Step 10, Loss 0.383608\n",
            "Step 11, Loss 0.290594\n",
            "Step 12, Loss 0.220822\n",
            "Step 13, Loss 0.168482\n",
            "Step 14, Loss 0.129218\n",
            "Step 15, Loss 0.099761\n",
            "Step 16, Loss 0.077660\n",
            "Step 17, Loss 0.061077\n",
            "Step 18, Loss 0.048632\n",
            "Step 19, Loss 0.039292\n",
            "Step 20, Loss 0.032281\n",
            "Step 21, Loss 0.027016\n",
            "Step 22, Loss 0.023061\n",
            "Step 23, Loss 0.020089\n",
            "Step 24, Loss 0.017854\n"
          ]
        }
      ],
      "source": [
        "# Implement a gradient descent training loop for the linear regression model\n",
        "\n",
        "learning_rate = 0.05\n",
        "steps = 25\n",
        "\n",
        "for i in range(steps):\n",
        "\n",
        "  with tf.GradientTape() as tape:\n",
        "    predictions = linear_regression(x_train)\n",
        "    loss = SquaredError(predictions, y_train)\n",
        "\n",
        "  gradients = tape.gradient(loss, linear_regression.trainable_variables)\n",
        "\n",
        "  linear_regression.m.assign_sub(learning_rate * gradients[0])\n",
        "  linear_regression.b.assign_sub(learning_rate * gradients[1])\n",
        "\n",
        "  print(\"Step %d, Loss %f\"%(i,loss.numpy()))\n",
        "\n"
      ]
    },
    {
      "cell_type": "code",
      "execution_count": null,
      "metadata": {
        "id": "s57Zp1UtN7d2",
        "colab": {
          "base_uri": "https://localhost:8080/",
          "height": 485
        },
        "outputId": "b6d2018c-7d45-4bb4-b592-744dc638b3f0"
      },
      "outputs": [
        {
          "output_type": "stream",
          "name": "stdout",
          "text": [
            "m:1,  trained m:1.0972137451171875\n",
            "b:2,  trained b:1.8650282621383667\n"
          ]
        },
        {
          "output_type": "execute_result",
          "data": {
            "text/plain": [
              "[<matplotlib.lines.Line2D at 0x7f7898953bb0>]"
            ]
          },
          "metadata": {},
          "execution_count": 9
        },
        {
          "output_type": "display_data",
          "data": {
            "text/plain": [
              "<Figure size 640x480 with 1 Axes>"
            ],
            "image/png": "[encoded data removed]"
          },
          "metadata": {}
        }
      ],
      "source": [
        "# Plot the learned regression model\n",
        "\n",
        "print(\"m:{},  trained m:{}\".format(m,linear_regression.m.numpy()))\n",
        "print(\"b:{},  trained b:{}\".format(b,linear_regression.b.numpy()))\n",
        "\n",
        "plt.plot(x_train, y_train, 'b.')\n",
        "\n",
        "x_linear_regression=np.linspace(min(x_train), max(x_train),50)\n",
        "plt.plot(x_linear_regression, linear_regression.m*x_linear_regression+linear_regression.b, 'r.')"
      ]
    },
    {
      "cell_type": "code",
      "source": [],
      "metadata": {
        "id": "xE_j6eFTAjLg"
      },
      "execution_count": null,
      "outputs": []
    }
  ],
  "metadata": {
    "kernelspec": {
      "display_name": "Python 3",
      "language": "python",
      "name": "python3"
    },
    "language_info": {
      "codemirror_mode": {
        "name": "ipython",
        "version": 3
      },
      "file_extension": ".py",
      "mimetype": "text/x-python",
      "name": "python",
      "nbconvert_exporter": "python",
      "pygments_lexer": "ipython3",
      "version": "3.7.1"
    },
    "colab": {
      "provenance": [],
      "include_colab_link": true
    }
  },
  "nbformat": 4,
  "nbformat_minor": 0
}