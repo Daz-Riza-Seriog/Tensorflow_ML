{
  "cells": [
    {
      "cell_type": "markdown",
      "metadata": {
        "id": "view-in-github",
        "colab_type": "text"
      },
      "source": [
        "<a href=\"https://colab.research.google.com/github/Daz-Riza-Seriog/Tensorflow_ML/blob/main/2-Customise%20your%20Models/4-%20Week%204/3-Build%20Method/The_build_method.ipynb\" target=\"_parent\"><img src=\"https://colab.research.google.com/assets/colab-badge.svg\" alt=\"Open In Colab\"/></a>"
      ]
    },
    {
      "cell_type": "markdown",
      "metadata": {
        "id": "7cSSPxCcTKbo"
      },
      "source": [
        "# Flexible input shapes for custom layers\n",
        "In this reading you will learn how to use the build method to allow custom layers to work with flexible sized inputs."
      ]
    },
    {
      "cell_type": "code",
      "execution_count": null,
      "metadata": {
        "id": "YiNpJv8FTKbr",
        "outputId": "2829d24b-f487-4eab-c483-8e0798e61bd5",
        "colab": {
          "base_uri": "https://localhost:8080/"
        }
      },
      "outputs": [
        {
          "output_type": "stream",
          "name": "stdout",
          "text": [
            "2.12.0\n"
          ]
        }
      ],
      "source": [
        "import tensorflow as tf\n",
        "print(tf.__version__)"
      ]
    },
    {
      "cell_type": "markdown",
      "metadata": {
        "id": "4C_-YAVUTKbs"
      },
      "source": [
        "## Fix the input shape in the custom layer"
      ]
    },
    {
      "cell_type": "markdown",
      "metadata": {
        "id": "bJxUioiaTKbs"
      },
      "source": [
        "Previously, you have created custom layers by initialising all variables in the `__init__` method. For instance, you defined a dense layer called `MyLayer` as follows:"
      ]
    },
    {
      "cell_type": "code",
      "execution_count": null,
      "metadata": {
        "id": "ATI39HJvTKbs"
      },
      "outputs": [],
      "source": [
        "# Create a custom layer\n",
        "\n",
        "from tensorflow.keras.layers import Layer\n",
        "\n",
        "class MyLayer(Layer):\n",
        "\n",
        "    def __init__(self, units, input_dim, **kwargs):\n",
        "        super(MyLayer, self).__init__(**kwargs)\n",
        "        self.w = self.add_weight(shape=(input_dim, units),\n",
        "                             initializer='random_normal')\n",
        "        self.b = self.add_weight(shape=(units,),\n",
        "                             initializer='zeros')\n",
        "\n",
        "    def call(self, inputs):\n",
        "        return tf.matmul(inputs, self.w)+self.b"
      ]
    },
    {
      "cell_type": "markdown",
      "metadata": {
        "id": "qgINVjEzTKbt"
      },
      "source": [
        "Notice that the required arguments for the `__init__` method are the number of units in the dense layer (`units`) and the input size (`input_dim`). This means that you need to fix these two arguments when you instantiate the layer."
      ]
    },
    {
      "cell_type": "code",
      "execution_count": null,
      "metadata": {
        "id": "9Nsc7NjdTKbt"
      },
      "outputs": [],
      "source": [
        "#  Create a custom layer with 3 units and input dimension of 5\n",
        "\n",
        "dense_layer = MyLayer(3, 5)"
      ]
    },
    {
      "cell_type": "markdown",
      "metadata": {
        "id": "aOnztCudTKbt"
      },
      "source": [
        "Since the input size has been fixed to be 5, this custom layer can only take inputs of that size. For example, we can call the layer as follows:"
      ]
    },
    {
      "cell_type": "code",
      "execution_count": null,
      "metadata": {
        "id": "9_aiog9jTKbt",
        "outputId": "4a8d27a0-e874-4b30-812c-d45d496f7358",
        "colab": {
          "base_uri": "https://localhost:8080/"
        }
      },
      "outputs": [
        {
          "output_type": "stream",
          "name": "stdout",
          "text": [
            "tf.Tensor([[-0.1107793   0.15720963  0.09960566]], shape=(1, 3), dtype=float32)\n"
          ]
        }
      ],
      "source": [
        "# Call the custom layer on a Tensor input of ones\n",
        "\n",
        "x = tf.ones((1,5))\n",
        "print(dense_layer(x))"
      ]
    },
    {
      "cell_type": "markdown",
      "metadata": {
        "id": "avw7ScVKTKbu"
      },
      "source": [
        "However, forcing the input shape (and therefore the shape of the weights) to be fixed when the layer is instantiated is unnecessary, and it may be more convenient to only do this later on, after the model has been defined.\n",
        "\n",
        "For example, in some cases you may not know the input shape at the model building time. We have come across this concept before when building models with the Sequential API. If the `input_shape` argument is omitted, the weights will only be created when an input is passed into the model."
      ]
    },
    {
      "cell_type": "markdown",
      "metadata": {
        "id": "8S39XIbhTKbu"
      },
      "source": [
        "## Allow a flexible input shape in the custom layer"
      ]
    },
    {
      "cell_type": "markdown",
      "metadata": {
        "id": "wL6nRvVlTKbu"
      },
      "source": [
        "You can delay the weight creation by using the `build` method to define the weights. The `build` method is executed when the `__call__` method is called, meaning the weights are only created only the layer is called with a specific input.\n",
        "\n",
        "The `build` method has a required argument `input_shape`, which can be used to define the shapes of the layer weights."
      ]
    },
    {
      "cell_type": "code",
      "execution_count": null,
      "metadata": {
        "id": "z4yaICATTKbu"
      },
      "outputs": [],
      "source": [
        "# Rewrite the custom layer with lazy weight creation\n",
        "\n",
        "class MyLayer(Layer):\n",
        "\n",
        "    def __init__(self, units, **kwargs):\n",
        "        super(MyLayer, self).__init__(**kwargs)\n",
        "        self.units = units\n",
        "\n",
        "    def build(self, input_shape):\n",
        "        self.w = self.add_weight(shape=(input_shape[-1], self.units),\n",
        "                                 initializer='random_normal')\n",
        "        self.b = self.add_weight(shape=(self.units,),\n",
        "                                 initializer='zeros')\n",
        "    def call(self, inputs):\n",
        "        return tf.matmul(inputs, self.w)+self.b"
      ]
    },
    {
      "cell_type": "markdown",
      "metadata": {
        "id": "v0h1AtYLTKbu"
      },
      "source": [
        "Now, when you instantiate the layer, you only need to specify the number of units in the dense layer (`units`), and not the input size (`input_dim`)."
      ]
    },
    {
      "cell_type": "markdown",
      "metadata": {
        "id": "W3kMnclcTKbv"
      },
      "source": [
        "### Create a custom layer with flexible input size"
      ]
    },
    {
      "cell_type": "code",
      "execution_count": null,
      "metadata": {
        "id": "YX6qrHU3TKbv"
      },
      "outputs": [],
      "source": [
        "#  Create a custom layer with 3 units\n",
        "\n",
        "dense_layer = MyLayer(3)"
      ]
    },
    {
      "cell_type": "markdown",
      "metadata": {
        "id": "37EXwuxATKbv"
      },
      "source": [
        "This layer can now be called on an input of any size, at which point the layer weights will be created and the input size will be fixed."
      ]
    },
    {
      "cell_type": "code",
      "execution_count": null,
      "metadata": {
        "id": "X-4y2TMZTKbv",
        "outputId": "3b3d1d04-0ca5-4fb2-f0c6-2b77f156e2b9",
        "colab": {
          "base_uri": "https://localhost:8080/"
        }
      },
      "outputs": [
        {
          "output_type": "stream",
          "name": "stdout",
          "text": [
            "tf.Tensor([[ 0.11251339  0.06089286 -0.20361258]], shape=(1, 3), dtype=float32)\n"
          ]
        }
      ],
      "source": [
        "# Call the custom layer on a Tensor input of ones of size 5\n",
        "\n",
        "x = tf.ones((1,5))\n",
        "print(dense_layer(x))"
      ]
    },
    {
      "cell_type": "code",
      "execution_count": null,
      "metadata": {
        "id": "KqWObE4zTKbv",
        "outputId": "4f75c146-83b8-4b1f-e019-1fbf30190556",
        "colab": {
          "base_uri": "https://localhost:8080/"
        }
      },
      "outputs": [
        {
          "output_type": "execute_result",
          "data": {
            "text/plain": [
              "[<tf.Variable 'my_layer_1/Variable:0' shape=(5, 3) dtype=float32, numpy=\n",
              " array([[ 0.08374923, -0.03188305, -0.06915089],\n",
              "        [ 0.00527879, -0.11714102, -0.09691948],\n",
              "        [ 0.04515772,  0.06716963, -0.01055141],\n",
              "        [ 0.01676506,  0.10013079, -0.02415935],\n",
              "        [-0.0384374 ,  0.04261651, -0.00283146]], dtype=float32)>,\n",
              " <tf.Variable 'my_layer_1/Variable:0' shape=(3,) dtype=float32, numpy=array([0., 0., 0.], dtype=float32)>]"
            ]
          },
          "metadata": {},
          "execution_count": 8
        }
      ],
      "source": [
        "# Print the layer weights\n",
        "\n",
        "dense_layer.weights"
      ]
    },
    {
      "cell_type": "markdown",
      "metadata": {
        "id": "OKO-M2AdTKbv"
      },
      "source": [
        "### Create a new custom layer and pass in a different sized input"
      ]
    },
    {
      "cell_type": "code",
      "execution_count": null,
      "metadata": {
        "id": "hxdZ6pJ8TKbv"
      },
      "outputs": [],
      "source": [
        "#  Create a new custom layer with 3 units\n",
        "\n",
        "dense_layer = MyLayer(3)"
      ]
    },
    {
      "cell_type": "code",
      "execution_count": null,
      "metadata": {
        "id": "k61jEPW8TKbv",
        "outputId": "85f41832-00bd-4462-c48a-3afec12ed35f",
        "colab": {
          "base_uri": "https://localhost:8080/"
        }
      },
      "outputs": [
        {
          "output_type": "stream",
          "name": "stdout",
          "text": [
            "tf.Tensor([[ 0.06900468 -0.0851754  -0.24505536]], shape=(1, 3), dtype=float32)\n"
          ]
        }
      ],
      "source": [
        "# Call the custom layer on a Tensor input of ones of size 4\n",
        "\n",
        "x = tf.ones((1,4))\n",
        "print(dense_layer(x))"
      ]
    },
    {
      "cell_type": "code",
      "execution_count": null,
      "metadata": {
        "id": "elZZk53rTKbw",
        "outputId": "47715fe1-1a40-42b0-8490-2e1e0cb74006",
        "colab": {
          "base_uri": "https://localhost:8080/"
        }
      },
      "outputs": [
        {
          "output_type": "execute_result",
          "data": {
            "text/plain": [
              "[<tf.Variable 'my_layer_2/Variable:0' shape=(4, 3) dtype=float32, numpy=\n",
              " array([[ 0.00227785, -0.07719674, -0.06588534],\n",
              "        [ 0.01442935,  0.01116227, -0.1150944 ],\n",
              "        [-0.02201432,  0.0257023 , -0.03733436],\n",
              "        [ 0.07431182, -0.04484323, -0.02674126]], dtype=float32)>,\n",
              " <tf.Variable 'my_layer_2/Variable:0' shape=(3,) dtype=float32, numpy=array([0., 0., 0.], dtype=float32)>]"
            ]
          },
          "metadata": {},
          "execution_count": 11
        }
      ],
      "source": [
        "# Print the layer weights\n",
        "\n",
        "dense_layer.weights"
      ]
    },
    {
      "cell_type": "markdown",
      "metadata": {
        "id": "s5Y6o_sLTKbw"
      },
      "source": [
        "Note that the code for creating a custom layer object is identical, but the shape of the weights in the layer depend on the size of the input passed to the layer."
      ]
    },
    {
      "cell_type": "markdown",
      "metadata": {
        "id": "hFW_RBlTTKbw"
      },
      "source": [
        "## Flexible input shapes in models"
      ]
    },
    {
      "cell_type": "markdown",
      "metadata": {
        "id": "htvtyIdvTKbw"
      },
      "source": [
        "Deferring the weight creation until the layer is called is also useful when using the custom layer as an intermediate layer inside a larger model. In this case you may want to create several custom layer objects in the model, and it is tedious to keep track of the input shape that each of the custom layers needs.\n",
        "\n",
        "By deferring the weight creation as above, the input shape can be inferred from the output of the previous layer."
      ]
    },
    {
      "cell_type": "code",
      "execution_count": null,
      "metadata": {
        "id": "bTWkDOe2TKbw"
      },
      "outputs": [],
      "source": [
        "# Create a model using the custom layer\n",
        "\n",
        "from tensorflow.keras.models import Model\n",
        "from tensorflow.keras.layers import Softmax\n",
        "\n",
        "class MyModel(Model):\n",
        "\n",
        "    def __init__(self, units_1, units_2, **kwargs):\n",
        "        super(MyModel, self).__init__(**kwargs)\n",
        "        self.layer_1 = MyLayer(units_1)\n",
        "        self.layer_2 = MyLayer(units_2)\n",
        "\n",
        "    def call(self, inputs):\n",
        "        x = self.layer_1(inputs)\n",
        "        x = tf.nn.relu(x)\n",
        "        x = self.layer_2(x)\n",
        "        return Softmax()(x)"
      ]
    },
    {
      "cell_type": "markdown",
      "metadata": {
        "id": "7eS-DSgxTKbw"
      },
      "source": [
        "In the above model definition, the custom layer `MyLayer` is used twice. Notice that each instance of the custom layer object can have a different input size, depending on the arguments used to create the model and the inputs passed into the model"
      ]
    },
    {
      "cell_type": "code",
      "execution_count": null,
      "metadata": {
        "id": "rIrNm8VqTKbw"
      },
      "outputs": [],
      "source": [
        "# Create a custom model object\n",
        "\n",
        "model = MyModel(units_1=32, units_2=10)"
      ]
    },
    {
      "cell_type": "markdown",
      "metadata": {
        "id": "z_eqr3ArTKbw"
      },
      "source": [
        "We can create and initialise all of the weights of the model by passing in an example Tensor input."
      ]
    },
    {
      "cell_type": "code",
      "execution_count": null,
      "metadata": {
        "id": "2mgAzmdqTKbx"
      },
      "outputs": [],
      "source": [
        "# Create and initialize all of the model weights\n",
        "\n",
        "_ = model(tf.ones((1, 100)))"
      ]
    },
    {
      "cell_type": "code",
      "execution_count": null,
      "metadata": {
        "id": "kShkFhEFTKbx",
        "outputId": "b54fe13b-e887-4a4c-a133-8ca20bd56515",
        "colab": {
          "base_uri": "https://localhost:8080/"
        }
      },
      "outputs": [
        {
          "output_type": "stream",
          "name": "stdout",
          "text": [
            "Model: \"my_model\"\n",
            "_________________________________________________________________\n",
            " Layer (type)                Output Shape              Param #   \n",
            "=================================================================\n",
            " my_layer_3 (MyLayer)        multiple                  3232      \n",
            "                                                                 \n",
            " my_layer_4 (MyLayer)        multiple                  330       \n",
            "                                                                 \n",
            "=================================================================\n",
            "Total params: 3,562\n",
            "Trainable params: 3,562\n",
            "Non-trainable params: 0\n",
            "_________________________________________________________________\n"
          ]
        }
      ],
      "source": [
        "# Print the model summary\n",
        "\n",
        "model.summary()"
      ]
    },
    {
      "cell_type": "markdown",
      "metadata": {
        "id": "uCMylY4_TKbx"
      },
      "source": [
        "## Further reading and resources\n",
        "* https://www.tensorflow.org/guide/keras/custom_layers_and_models#best_practice_deferring_weight_creation_until_the_shape_of_the_inputs_is_known"
      ]
    }
  ],
  "metadata": {
    "kernelspec": {
      "display_name": "Python 3",
      "language": "python",
      "name": "python3"
    },
    "language_info": {
      "codemirror_mode": {
        "name": "ipython",
        "version": 3
      },
      "file_extension": ".py",
      "mimetype": "text/x-python",
      "name": "python",
      "nbconvert_exporter": "python",
      "pygments_lexer": "ipython3",
      "version": "3.7.1"
    },
    "colab": {
      "provenance": [],
      "include_colab_link": true
    }
  },
  "nbformat": 4,
  "nbformat_minor": 0
}