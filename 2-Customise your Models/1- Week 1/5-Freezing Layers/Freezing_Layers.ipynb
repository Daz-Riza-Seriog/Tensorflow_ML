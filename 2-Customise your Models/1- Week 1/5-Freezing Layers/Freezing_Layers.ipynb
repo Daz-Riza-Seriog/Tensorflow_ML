{
  "nbformat": 4,
  "nbformat_minor": 0,
  "metadata": {
    "kernelspec": {
      "display_name": "Python 3",
      "language": "python",
      "name": "python3"
    },
    "language_info": {
      "codemirror_mode": {
        "name": "ipython",
        "version": 3
      },
      "file_extension": ".py",
      "mimetype": "text/x-python",
      "name": "python",
      "nbconvert_exporter": "python",
      "pygments_lexer": "ipython3",
      "version": "3.7.1"
    },
    "colab": {
      "provenance": [],
      "include_colab_link": true
    }
  },
  "cells": [
    {
      "cell_type": "markdown",
      "metadata": {
        "id": "view-in-github",
        "colab_type": "text"
      },
      "source": [
        "<a href=\"https://colab.research.google.com/github/Daz-Riza-Seriog/Tensorflow_ML/blob/main/2-Customise%20your%20Models/1-%20Week%201/5-Freezing%20Layers/Freezing_Layers.ipynb\" target=\"_parent\"><img src=\"https://colab.research.google.com/assets/colab-badge.svg\" alt=\"Open In Colab\"/></a>"
      ]
    },
    {
      "cell_type": "code",
      "metadata": {
        "scrolled": false,
        "id": "teOpfw0hKUQh"
      },
      "source": [
        "import tensorflow as tf\n",
        "print(tf.__version__)"
      ],
      "execution_count": null,
      "outputs": []
    },
    {
      "cell_type": "markdown",
      "metadata": {
        "id": "2U6iIpalKUQr"
      },
      "source": [
        "# The Keras functional API"
      ]
    },
    {
      "cell_type": "markdown",
      "metadata": {
        "id": "jIoR--DrKUQs"
      },
      "source": [
        " ## Coding tutorials\n",
        " #### [1. Multiple inputs and outputs](#coding_tutorial_1)\n",
        " #### [2. Tensors and Variables](#coding_tutorial_2)\n",
        " #### [3. Accessing model layers](#coding_tutorial_3)\n",
        " #### [4. Freezing layers](#coding_tutorial_4)"
      ]
    },
    {
      "cell_type": "markdown",
      "metadata": {
        "id": "0FV766ybKUVS"
      },
      "source": [
        "***\n",
        "<a id=\"coding_tutorial_4\"></a>\n",
        "## Freezing layers"
      ]
    },
    {
      "cell_type": "code",
      "metadata": {
        "scrolled": false,
        "id": "qvMmt0s5KUVS"
      },
      "source": [
        "import numpy as np\n",
        "import matplotlib.pyplot as plt\n",
        "%matplotlib inline"
      ],
      "execution_count": null,
      "outputs": []
    },
    {
      "cell_type": "markdown",
      "metadata": {
        "id": "muJ3y73wKUVU"
      },
      "source": [
        "#### Build the model"
      ]
    },
    {
      "cell_type": "code",
      "metadata": {
        "scrolled": false,
        "id": "a7XUKYHpKUVU"
      },
      "source": [
        "# Build a small Sequential model\n",
        "\n",
        "from tensorflow.keras.models import Sequential\n",
        "from tensorflow.keras import layers\n",
        "\n",
        "model = Sequential([\n",
        "    layers.Dense(4, input_shape=(4,), activation='relu', kernel_initializer='random_uniform',\n",
        "                 bias_initializer='ones'),\n",
        "    layers.Dense(2, activation='relu', kernel_initializer='lecun_normal', bias_initializer='ones'),\n",
        "    layers.Dense(4, activation='softmax'),\n",
        "])"
      ],
      "execution_count": null,
      "outputs": []
    },
    {
      "cell_type": "code",
      "metadata": {
        "scrolled": false,
        "id": "cl9gvwc_KUVV",
        "colab": {
          "base_uri": "https://localhost:8080/"
        },
        "outputId": "4bf88c13-64d8-4faa-a5e0-3f482be27249"
      },
      "source": [
        "# Display the model summary\n",
        "\n",
        "model.summary()"
      ],
      "execution_count": null,
      "outputs": [
        {
          "output_type": "stream",
          "name": "stdout",
          "text": [
            "Model: \"sequential_1\"\n",
            "_________________________________________________________________\n",
            " Layer (type)                Output Shape              Param #   \n",
            "=================================================================\n",
            " dense_3 (Dense)             (None, 4)                 20        \n",
            "                                                                 \n",
            " dense_4 (Dense)             (None, 2)                 10        \n",
            "                                                                 \n",
            " dense_5 (Dense)             (None, 4)                 12        \n",
            "                                                                 \n",
            "=================================================================\n",
            "Total params: 42\n",
            "Trainable params: 42\n",
            "Non-trainable params: 0\n",
            "_________________________________________________________________\n"
          ]
        }
      ]
    },
    {
      "cell_type": "markdown",
      "metadata": {
        "id": "oLZVUklBKUVX"
      },
      "source": [
        "#### Examine the weight matrix variation over training"
      ]
    },
    {
      "cell_type": "code",
      "source": [
        "def get_weights(model):\n",
        "  return [e.weights[0].numpy() for e in model.layers]\n",
        "\n",
        "def get_biases(model):\n",
        "  return [e.bias.numpy() for e in model.layers]\n",
        "\n",
        "def plot_delta_weights(W0_layer,b0_layers,W1_layers,b1_layers):\n",
        "  plt.figure(figsize=(8,8))\n",
        "  for n in range(3):\n",
        "    delta_l = W1_layers[n] - W0_layers[n]\n",
        "    print('Layer '+str(n)+': bias variation: ', np.linalg.norm(b1_layers[n] - b0_layers[n]))\n",
        "    ax = plt.subplot(1,3,n+1)\n",
        "    plt.imshow(delta_l)\n",
        "    plt.title('Layer '+str(n))\n",
        "    plt.axis('off')\n",
        "  plt.colorbar()\n",
        "  plt.suptitle('Weight matrices variation')\n",
        ""
      ],
      "metadata": {
        "id": "q_RYKW8nO6FZ"
      },
      "execution_count": null,
      "outputs": []
    },
    {
      "cell_type": "code",
      "metadata": {
        "scrolled": false,
        "id": "kLSwnr6IKUVX"
      },
      "source": [
        "# Retrieve the weights and biases\n",
        "\n",
        "W0_layers = get_weights(model)\n",
        "b0_layers = get_biases(model)"
      ],
      "execution_count": null,
      "outputs": []
    },
    {
      "cell_type": "code",
      "metadata": {
        "scrolled": false,
        "id": "vpxvNkMnKUVa"
      },
      "source": [
        "# Construct a synthetic dataset\n",
        "\n",
        "x_train = np.random.random((100, 4))\n",
        "y_train = x_train\n",
        "\n",
        "x_test = np.random.random((20, 4))\n",
        "y_test = x_test"
      ],
      "execution_count": null,
      "outputs": []
    },
    {
      "cell_type": "code",
      "metadata": {
        "scrolled": false,
        "id": "ZTNGzE9-KUVc"
      },
      "source": [
        "# Compile and fit the model\n",
        "\n",
        "model.compile(optimizer='adam',\n",
        "              loss='mse',\n",
        "              metrics=['acc'])\n",
        "\n",
        "model.fit(x_train, y_train, epochs=50, verbose=False);"
      ],
      "execution_count": null,
      "outputs": []
    },
    {
      "cell_type": "code",
      "metadata": {
        "scrolled": false,
        "id": "jjY6rOOkKUVd"
      },
      "source": [
        "# Retrieve weights and biases\n",
        "\n",
        "W1_layers = get_weights(model)\n",
        "b1_layers = get_biases(model)"
      ],
      "execution_count": null,
      "outputs": []
    },
    {
      "cell_type": "code",
      "metadata": {
        "scrolled": false,
        "id": "1ZDHstynKUVe",
        "colab": {
          "base_uri": "https://localhost:8080/",
          "height": 555
        },
        "outputId": "b03e1ffb-ed04-4511-ce1a-ffca5678bdb2"
      },
      "source": [
        "# Plot the variation\n",
        "\n",
        "plot_delta_weights(W0_layers,b0_layers,W1_layers,b1_layers)"
      ],
      "execution_count": null,
      "outputs": [
        {
          "output_type": "stream",
          "name": "stdout",
          "text": [
            "Layer 0: bias variation:  0.07807502\n",
            "Layer 1: bias variation:  0.024987984\n",
            "Layer 2: bias variation:  0.12168843\n"
          ]
        },
        {
          "output_type": "display_data",
          "data": {
            "text/plain": [
              "<Figure size 576x576 with 4 Axes>"
            ],
            "image/png": "[encoded data removed]"
          },
          "metadata": {
            "needs_background": "light"
          }
        }
      ]
    },
    {
      "cell_type": "markdown",
      "metadata": {
        "id": "hrhsfqdwKUVg"
      },
      "source": [
        "#### Freeze layers at build time"
      ]
    },
    {
      "cell_type": "code",
      "metadata": {
        "scrolled": false,
        "id": "xlxrMUF5KUVg"
      },
      "source": [
        "# Count the trainable and non trainable variables before the freezing\n",
        "\n",
        "n_trainable_variables = len(model.trainable_variables)\n",
        "n_non_trainable_variables = len(model.non_trainable_variables)"
      ],
      "execution_count": null,
      "outputs": []
    },
    {
      "cell_type": "code",
      "metadata": {
        "id": "dNpfvfSXKUVi",
        "colab": {
          "base_uri": "https://localhost:8080/"
        },
        "outputId": "16592f1b-55c5-4934-bc7c-23279dc0c92d"
      },
      "source": [
        "# Display the number of trainable and non trainable variables before the freezing\n",
        "\n",
        "print(\"\\n Before freezing:\\n\\t Number of trainable variables: \", n_trainable_variables,\n",
        "                         \"\\n\\t Number of non trainable variables: \", n_non_trainable_variables)"
      ],
      "execution_count": null,
      "outputs": [
        {
          "output_type": "stream",
          "name": "stdout",
          "text": [
            "\n",
            " Before freezing:\n",
            "\t Number of trainable variables:  6 \n",
            "\t Number of non trainable variables:  0\n"
          ]
        }
      ]
    },
    {
      "cell_type": "code",
      "metadata": {
        "scrolled": false,
        "id": "AGpSC4ZAKUVn"
      },
      "source": [
        "# Build the model\n",
        "\n",
        "model = Sequential([\n",
        "    layers.Dense(4, input_shape=(4,), activation='relu', kernel_initializer='random_uniform',\n",
        "                 bias_initializer='ones',trainable=False),\n",
        "    layers.Dense(2, activation='relu', kernel_initializer='lecun_normal', bias_initializer='ones'),\n",
        "    layers.Dense(4, activation='softmax'),\n",
        "])"
      ],
      "execution_count": null,
      "outputs": []
    },
    {
      "cell_type": "code",
      "metadata": {
        "scrolled": false,
        "id": "lWmPkL-pKUVo"
      },
      "source": [
        "# Count the trainable and non trainable variables after the freezing\n",
        "\n",
        "n_trainable_variables = len(model.trainable_variables)\n",
        "n_non_trainable_variables = len(model.non_trainable_variables)"
      ],
      "execution_count": null,
      "outputs": []
    },
    {
      "cell_type": "code",
      "metadata": {
        "id": "_Bzhnsr7KUVp",
        "colab": {
          "base_uri": "https://localhost:8080/"
        },
        "outputId": "6845b1de-ab14-498d-aeb0-fa9e997f2a08"
      },
      "source": [
        "# Display the number of trainable and non trainable variables after the freezing\n",
        "\n",
        "print(\"\\n After freezing:\\n\\t Number of trainable variables: \", n_trainable_variables,\n",
        "                         \"\\n\\t Number of non trainable variables: \", n_non_trainable_variables)"
      ],
      "execution_count": null,
      "outputs": [
        {
          "output_type": "stream",
          "name": "stdout",
          "text": [
            "\n",
            " After freezing:\n",
            "\t Number of trainable variables:  4 \n",
            "\t Number of non trainable variables:  2\n"
          ]
        }
      ]
    },
    {
      "cell_type": "code",
      "metadata": {
        "scrolled": false,
        "id": "Kl6-nIeYKUVr"
      },
      "source": [
        "# Retrieve weights and biases\n",
        "\n",
        "W0_layers = get_weights(model)\n",
        "b0_layers = get_biases(model)"
      ],
      "execution_count": null,
      "outputs": []
    },
    {
      "cell_type": "code",
      "metadata": {
        "scrolled": false,
        "id": "aoOhSvdCKUVs"
      },
      "source": [
        "# Compile and fit the model\n",
        "\n",
        "model.compile(optimizer='adam',\n",
        "              loss='mse',\n",
        "              metrics=['acc'])\n",
        "\n",
        "model.fit(x_train, y_train, epochs=50, verbose=False);"
      ],
      "execution_count": null,
      "outputs": []
    },
    {
      "cell_type": "code",
      "metadata": {
        "scrolled": false,
        "id": "VW2Ij7rGKUVt"
      },
      "source": [
        "# Retrieve weights and biases\n",
        "\n",
        "\n",
        "W1_layers = get_weights(model)\n",
        "b1_layers = get_biases(model)"
      ],
      "execution_count": null,
      "outputs": []
    },
    {
      "cell_type": "code",
      "metadata": {
        "scrolled": false,
        "id": "SJv_yc34KUVv",
        "colab": {
          "base_uri": "https://localhost:8080/",
          "height": 555
        },
        "outputId": "174e2569-8ebe-4caf-fd6c-c349d50a95e9"
      },
      "source": [
        "# Plot the variation\n",
        "\n",
        "plot_delta_weights(W0_layers,b0_layers,W1_layers,b1_layers)"
      ],
      "execution_count": null,
      "outputs": [
        {
          "output_type": "stream",
          "name": "stdout",
          "text": [
            "Layer 0: bias variation:  0.22292915\n",
            "Layer 1: bias variation:  0.1511385\n",
            "Layer 2: bias variation:  0.25923675\n"
          ]
        },
        {
          "output_type": "display_data",
          "data": {
            "text/plain": [
              "<Figure size 576x576 with 4 Axes>"
            ],
            "image/png": "[encoded data removed]"
          },
          "metadata": {
            "needs_background": "light"
          }
        }
      ]
    },
    {
      "cell_type": "markdown",
      "metadata": {
        "id": "FkbrhuxUKUVw"
      },
      "source": [
        "#### Freeze layers of a pre-built model"
      ]
    },
    {
      "cell_type": "code",
      "metadata": {
        "scrolled": false,
        "id": "1EuSNnI1KUVx",
        "colab": {
          "base_uri": "https://localhost:8080/"
        },
        "outputId": "6ad6c4a9-4440-4ff4-bbf9-44c05c89e701"
      },
      "source": [
        "# Count the trainable and non trainable variables before the freezing\n",
        "\n",
        "print(\"\\n Before freezing:\\n\\t Number of trainable variables: \", len(model.trainable_variables),\n",
        "                         \"\\n\\t Number of non trainable variables: \", len(model.non_trainable_variables))"
      ],
      "execution_count": null,
      "outputs": [
        {
          "output_type": "stream",
          "name": "stdout",
          "text": [
            "\n",
            " Before freezing:\n",
            "\t Number of trainable variables:  4 \n",
            "\t Number of non trainable variables:  2\n"
          ]
        }
      ]
    },
    {
      "cell_type": "code",
      "metadata": {
        "scrolled": false,
        "id": "xKISfPTaKUVz"
      },
      "source": [
        "# Freeze the second layer\n",
        "\n",
        "model.layers[1].trainable = False"
      ],
      "execution_count": null,
      "outputs": []
    },
    {
      "cell_type": "code",
      "metadata": {
        "scrolled": false,
        "id": "lS1xI65tKUV0",
        "colab": {
          "base_uri": "https://localhost:8080/"
        },
        "outputId": "03dcb2e9-c8c1-4cd2-c226-6ecdfedfc2bf"
      },
      "source": [
        "# Count the trainable and non trainable variables after the freezing\n",
        "\n",
        "print(\"\\n After freezing:\\n\\t Number of trainable variables: \", len(model.trainable_variables),\n",
        "                        \"\\n\\t Number of non trainable variables: \", len(model.non_trainable_variables))"
      ],
      "execution_count": null,
      "outputs": [
        {
          "output_type": "stream",
          "name": "stdout",
          "text": [
            "\n",
            " After freezing:\n",
            "\t Number of trainable variables:  2 \n",
            "\t Number of non trainable variables:  4\n"
          ]
        }
      ]
    },
    {
      "cell_type": "code",
      "metadata": {
        "scrolled": false,
        "id": "e0yk7ZZoKUV3"
      },
      "source": [
        "# Compile and fit the model\n",
        "\n",
        "model.compile(optimizer='adam',\n",
        "              loss='mse',\n",
        "              metrics=['acc'])\n",
        "\n",
        "model.fit(x_train, y_train, epochs=50, verbose=False);"
      ],
      "execution_count": null,
      "outputs": []
    },
    {
      "cell_type": "code",
      "metadata": {
        "scrolled": false,
        "id": "2nlvj0k-KUV4"
      },
      "source": [
        "# Retrieve weights and biases\n",
        "\n",
        "W2_layers = get_weights(model)\n",
        "b2_layers = get_biases(model)"
      ],
      "execution_count": null,
      "outputs": []
    },
    {
      "cell_type": "code",
      "metadata": {
        "scrolled": false,
        "id": "O7LO4ZWvKUV5",
        "colab": {
          "base_uri": "https://localhost:8080/",
          "height": 560
        },
        "outputId": "ecce62a1-6133-49ad-f6d5-1ed393e863d3"
      },
      "source": [
        "# Plot the variation\n",
        "\n",
        "\n",
        "plot_delta_weights(W1_layers,b1_layers,W2_layers,b2_layers)"
      ],
      "execution_count": null,
      "outputs": [
        {
          "output_type": "stream",
          "name": "stdout",
          "text": [
            "Layer 0: bias variation:  0.22292915\n",
            "Layer 1: bias variation:  0.116707325\n",
            "Layer 2: bias variation:  0.33369955\n"
          ]
        },
        {
          "output_type": "display_data",
          "data": {
            "text/plain": [
              "<Figure size 576x576 with 4 Axes>"
            ],
            "image/png": "[encoded data removed]"
          },
          "metadata": {
            "needs_background": "light"
          }
        }
      ]
    }
  ]
}