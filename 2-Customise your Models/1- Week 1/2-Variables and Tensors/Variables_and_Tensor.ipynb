{
  "nbformat": 4,
  "nbformat_minor": 0,
  "metadata": {
    "kernelspec": {
      "display_name": "Python 3",
      "language": "python",
      "name": "python3"
    },
    "language_info": {
      "codemirror_mode": {
        "name": "ipython",
        "version": 3
      },
      "file_extension": ".py",
      "mimetype": "text/x-python",
      "name": "python",
      "nbconvert_exporter": "python",
      "pygments_lexer": "ipython3",
      "version": "3.7.1"
    },
    "colab": {
      "provenance": [],
      "include_colab_link": true
    }
  },
  "cells": [
    {
      "cell_type": "markdown",
      "metadata": {
        "id": "view-in-github",
        "colab_type": "text"
      },
      "source": [
        "<a href=\"https://colab.research.google.com/github/Daz-Riza-Seriog/Tensorflow_ML/blob/main/2-Customise%20your%20Models/1-%20Week%201/2-Variables%20and%20Tensors/Variables_and_Tensor.ipynb\" target=\"_parent\"><img src=\"https://colab.research.google.com/assets/colab-badge.svg\" alt=\"Open In Colab\"/></a>"
      ]
    },
    {
      "cell_type": "code",
      "metadata": {
        "scrolled": false,
        "id": "teOpfw0hKUQh",
        "colab": {
          "base_uri": "https://localhost:8080/"
        },
        "outputId": "7a1d5aef-740c-4bab-8209-b1e8b2c15996"
      },
      "source": [
        "import tensorflow as tf\n",
        "print(tf.__version__)"
      ],
      "execution_count": null,
      "outputs": [
        {
          "output_type": "stream",
          "name": "stdout",
          "text": [
            "2.11.0\n"
          ]
        }
      ]
    },
    {
      "cell_type": "markdown",
      "metadata": {
        "id": "2U6iIpalKUQr"
      },
      "source": [
        "# The Keras functional API"
      ]
    },
    {
      "cell_type": "markdown",
      "metadata": {
        "id": "jIoR--DrKUQs"
      },
      "source": [
        " ## Coding tutorials\n",
        " #### [1. Multiple inputs and outputs](#coding_tutorial_1)\n",
        " #### [2. Tensors and Variables](#coding_tutorial_2)\n",
        " #### [3. Accessing model layers](#coding_tutorial_3)\n",
        " #### [4. Freezing layers](#coding_tutorial_4)"
      ]
    },
    {
      "cell_type": "markdown",
      "metadata": {
        "id": "G5xxvVY3KUR8"
      },
      "source": [
        "***\n",
        "<a id=\"coding_tutorial_2\"></a>\n",
        "## Tensors and Variables"
      ]
    },
    {
      "cell_type": "code",
      "metadata": {
        "scrolled": false,
        "id": "fTIe7EbMKUR9"
      },
      "source": [
        "import numpy as np"
      ],
      "execution_count": null,
      "outputs": []
    },
    {
      "cell_type": "markdown",
      "metadata": {
        "id": "XEKAybugKUSD"
      },
      "source": [
        "#### Create Variable objects"
      ]
    },
    {
      "cell_type": "code",
      "metadata": {
        "scrolled": false,
        "id": "PQnCI7UPKUSF"
      },
      "source": [
        "# Create Variable objects of different type with tf.Variable\n",
        "\n",
        "strings = tf.Variable([\"Hello world!\"], tf.string)\n",
        "floats  = tf.Variable([3.14159, 2.71828], tf.float64)\n",
        "ints = tf.Variable([1, 2, 3], tf.int32)\n",
        "complexs = tf.Variable([25.9 - 7.39j, 1.23 - 4.91j], tf.complex128)"
      ],
      "execution_count": null,
      "outputs": []
    },
    {
      "cell_type": "code",
      "metadata": {
        "scrolled": false,
        "id": "8st30T0kKUSJ",
        "colab": {
          "base_uri": "https://localhost:8080/"
        },
        "outputId": "6dda65a6-d554-47d8-97ac-e68c3a1bad77"
      },
      "source": [
        "# Initialise a Variable value\n",
        "\n",
        "tf.Variable(tf.constant(4.2, shape=(3,3)))"
      ],
      "execution_count": null,
      "outputs": [
        {
          "output_type": "execute_result",
          "data": {
            "text/plain": [
              "<tf.Variable 'Variable:0' shape=(3, 3) dtype=float32, numpy=\n",
              "array([[4.2, 4.2, 4.2],\n",
              "       [4.2, 4.2, 4.2],\n",
              "       [4.2, 4.2, 4.2]], dtype=float32)>"
            ]
          },
          "metadata": {},
          "execution_count": 4
        }
      ]
    },
    {
      "cell_type": "markdown",
      "metadata": {
        "id": "9rOpqQVNKUSO"
      },
      "source": [
        "#### Use and modify Variable values"
      ]
    },
    {
      "cell_type": "code",
      "metadata": {
        "scrolled": false,
        "id": "BM_P9WM1KUSP",
        "colab": {
          "base_uri": "https://localhost:8080/"
        },
        "outputId": "0b6ebac3-4cc2-461a-8687-a01bf83e8602"
      },
      "source": [
        "# Use the value of a Variable\n",
        "\n",
        "v = tf.Variable(0.0)\n",
        "w = v + 1  # w is a tf.Tensor which is computed based on the value of v.\n",
        "\n",
        "print(type(w))\n",
        "print(w)"
      ],
      "execution_count": null,
      "outputs": [
        {
          "output_type": "stream",
          "name": "stdout",
          "text": [
            "<class 'tensorflow.python.framework.ops.EagerTensor'>\n",
            "tf.Tensor(1.0, shape=(), dtype=float32)\n"
          ]
        }
      ]
    },
    {
      "cell_type": "code",
      "metadata": {
        "scrolled": false,
        "id": "ZphqbA9bKUSV",
        "colab": {
          "base_uri": "https://localhost:8080/"
        },
        "outputId": "2f3db1bf-1c24-4f1b-c201-b81ac813d5fc"
      },
      "source": [
        "# Increment the value of a Variable\n",
        "\n",
        "v.assign_add(1)\n",
        "v"
      ],
      "execution_count": null,
      "outputs": [
        {
          "output_type": "execute_result",
          "data": {
            "text/plain": [
              "<tf.Variable 'Variable:0' shape=() dtype=float32, numpy=1.0>"
            ]
          },
          "metadata": {},
          "execution_count": 12
        }
      ]
    },
    {
      "cell_type": "code",
      "metadata": {
        "scrolled": false,
        "id": "bUTr5IMKKUSc",
        "colab": {
          "base_uri": "https://localhost:8080/"
        },
        "outputId": "c5e572d0-a8de-468f-a9ef-495df931ccc4"
      },
      "source": [
        "# Decrement the value of a Variable\n",
        "\n",
        "v.assign_sub(2)\n",
        "v"
      ],
      "execution_count": null,
      "outputs": [
        {
          "output_type": "execute_result",
          "data": {
            "text/plain": [
              "<tf.Variable 'Variable:0' shape=() dtype=float32, numpy=-1.0>"
            ]
          },
          "metadata": {},
          "execution_count": 13
        }
      ]
    },
    {
      "cell_type": "markdown",
      "metadata": {
        "id": "1fn43vXfKUSj"
      },
      "source": [
        "#### Create Tensor objects"
      ]
    },
    {
      "cell_type": "markdown",
      "metadata": {
        "id": "ydXIlRLVKUSk"
      },
      "source": [
        "Create a constant tensor and print its type as well as its shape:"
      ]
    },
    {
      "cell_type": "code",
      "metadata": {
        "scrolled": false,
        "id": "ynmKF5WBKUSn",
        "colab": {
          "base_uri": "https://localhost:8080/"
        },
        "outputId": "59dfb2cb-bc44-44a1-859c-f11371519618"
      },
      "source": [
        "# Create a constant Tensor\n",
        "\n",
        "x = tf.constant([[1, 2, 3], [4, 5, 6], [7, 8, 9]])\n",
        "print(x)\n",
        "print(\"dtype:\", x.dtype)\n",
        "print(\"shape:\", x.shape)"
      ],
      "execution_count": null,
      "outputs": [
        {
          "output_type": "stream",
          "name": "stdout",
          "text": [
            "tf.Tensor(\n",
            "[[1 2 3]\n",
            " [4 5 6]\n",
            " [7 8 9]], shape=(3, 3), dtype=int32)\n",
            "dtype: <dtype: 'int32'>\n",
            "shape: (3, 3)\n"
          ]
        }
      ]
    },
    {
      "cell_type": "code",
      "metadata": {
        "scrolled": false,
        "id": "ONzNFdvBKUSw",
        "colab": {
          "base_uri": "https://localhost:8080/"
        },
        "outputId": "10414360-8bda-4b04-cfd0-15347d20c7bf"
      },
      "source": [
        "# Obtain the value as a numpy array\n",
        "\n",
        "x.numpy()"
      ],
      "execution_count": null,
      "outputs": [
        {
          "output_type": "execute_result",
          "data": {
            "text/plain": [
              "array([[1, 2, 3],\n",
              "       [4, 5, 6],\n",
              "       [7, 8, 9]], dtype=int32)"
            ]
          },
          "metadata": {},
          "execution_count": 15
        }
      ]
    },
    {
      "cell_type": "code",
      "metadata": {
        "scrolled": false,
        "id": "Z_coR5e_KUS1",
        "colab": {
          "base_uri": "https://localhost:8080/"
        },
        "outputId": "b4a3fc2d-bee1-4576-cfcf-936ff10a5749"
      },
      "source": [
        "# Create a Tensor of type float32\n",
        "\n",
        "x = tf.constant([[1, 2, 3], [4, 5, 6], [7, 8, 9]], dtype=tf.float32)\n",
        "x.dtype"
      ],
      "execution_count": null,
      "outputs": [
        {
          "output_type": "execute_result",
          "data": {
            "text/plain": [
              "tf.float32"
            ]
          },
          "metadata": {},
          "execution_count": 16
        }
      ]
    },
    {
      "cell_type": "code",
      "metadata": {
        "scrolled": false,
        "id": "66vsJ2nDKUS6"
      },
      "source": [
        "# Create coefficients\n",
        "\n",
        "coeffs = np.arange(16)"
      ],
      "execution_count": null,
      "outputs": []
    },
    {
      "cell_type": "code",
      "metadata": {
        "id": "oklUSgBkKUS_"
      },
      "source": [
        "# Initialise shapes\n",
        "\n",
        "shape1 = [8,2]\n",
        "shape2 = [4,4]\n",
        "shape3 = [2,2,2,2]"
      ],
      "execution_count": null,
      "outputs": []
    },
    {
      "cell_type": "code",
      "metadata": {
        "id": "xDueGPOZKUTE",
        "colab": {
          "base_uri": "https://localhost:8080/"
        },
        "outputId": "e123dc63-eda8-45d6-9d83-2014fecdf2f9"
      },
      "source": [
        "# Create Tensors of different shape\n",
        "\n",
        "a = tf.constant(coeffs, shape=shape1)\n",
        "print(\"\\n a:\\n \", a)\n",
        "\n",
        "b = tf.constant(coeffs, shape=shape2)\n",
        "print(\"\\n b:\\n \", b)\n",
        "\n",
        "c = tf.constant(coeffs, shape=shape3)\n",
        "print(\"\\n c:\\n \", c)"
      ],
      "execution_count": null,
      "outputs": [
        {
          "output_type": "stream",
          "name": "stdout",
          "text": [
            "\n",
            " a:\n",
            "  tf.Tensor(\n",
            "[[ 0  1]\n",
            " [ 2  3]\n",
            " [ 4  5]\n",
            " [ 6  7]\n",
            " [ 8  9]\n",
            " [10 11]\n",
            " [12 13]\n",
            " [14 15]], shape=(8, 2), dtype=int64)\n",
            "\n",
            " b:\n",
            "  tf.Tensor(\n",
            "[[ 0  1  2  3]\n",
            " [ 4  5  6  7]\n",
            " [ 8  9 10 11]\n",
            " [12 13 14 15]], shape=(4, 4), dtype=int64)\n",
            "\n",
            " c:\n",
            "  tf.Tensor(\n",
            "[[[[ 0  1]\n",
            "   [ 2  3]]\n",
            "\n",
            "  [[ 4  5]\n",
            "   [ 6  7]]]\n",
            "\n",
            "\n",
            " [[[ 8  9]\n",
            "   [10 11]]\n",
            "\n",
            "  [[12 13]\n",
            "   [14 15]]]], shape=(2, 2, 2, 2), dtype=int64)\n"
          ]
        }
      ]
    },
    {
      "cell_type": "markdown",
      "metadata": {
        "id": "wQunv2imKUTH"
      },
      "source": [
        "#### Useful Tensor operations"
      ]
    },
    {
      "cell_type": "code",
      "metadata": {
        "scrolled": false,
        "id": "ckoPBCdeKUTI"
      },
      "source": [
        "# Create a constant Tensor\n",
        "\n",
        "t = tf.constant(np.arange(80), shape=[5,2,8])"
      ],
      "execution_count": null,
      "outputs": []
    },
    {
      "cell_type": "code",
      "metadata": {
        "id": "QIgKN6x_KUTN"
      },
      "source": [
        "# Get the rank of a Tensor\n",
        "\n",
        "rank = tf.rank(t)"
      ],
      "execution_count": null,
      "outputs": []
    },
    {
      "cell_type": "code",
      "metadata": {
        "id": "w1lcPqXbKUTU",
        "colab": {
          "base_uri": "https://localhost:8080/"
        },
        "outputId": "66d9d365-6468-4af1-e2df-a7ec3790aaf9"
      },
      "source": [
        "# Display the rank\n",
        "\n",
        "print(\"rank: \", rank)"
      ],
      "execution_count": null,
      "outputs": [
        {
          "output_type": "stream",
          "name": "stdout",
          "text": [
            "rank:  tf.Tensor(3, shape=(), dtype=int32)\n"
          ]
        }
      ]
    },
    {
      "cell_type": "code",
      "metadata": {
        "scrolled": false,
        "id": "bDZTFUpKKUTY"
      },
      "source": [
        "# Reshape a Tensor\n",
        "\n",
        "t2 = tf.reshape(t,[8,10])"
      ],
      "execution_count": null,
      "outputs": []
    },
    {
      "cell_type": "code",
      "metadata": {
        "id": "-Jh0xAmhKUTb",
        "colab": {
          "base_uri": "https://localhost:8080/"
        },
        "outputId": "0b0de75f-fe0b-4ec0-fffb-c07b1ca67725"
      },
      "source": [
        "# Display the new shape\n",
        "\n",
        "print(\"t2.shape: \", t2.shape)"
      ],
      "execution_count": null,
      "outputs": [
        {
          "output_type": "stream",
          "name": "stdout",
          "text": [
            "t2.shape:  (8, 10)\n"
          ]
        }
      ]
    },
    {
      "cell_type": "code",
      "metadata": {
        "scrolled": false,
        "id": "LLGauT00KUTd"
      },
      "source": [
        "# Create ones, zeros, identity and constant Tensors\n",
        "\n",
        "ones = tf.ones(shape=(2,3))\n",
        "zeros = tf.zeros(shape=(2,4))\n",
        "eye = tf.eye(3)\n",
        "tensor7 = tf.constant(7.0, shape=(2,2))"
      ],
      "execution_count": null,
      "outputs": []
    },
    {
      "cell_type": "code",
      "metadata": {
        "id": "rqVS1qx7KUTf",
        "colab": {
          "base_uri": "https://localhost:8080/"
        },
        "outputId": "1e679519-af8f-4307-c007-1e46c0849d3c"
      },
      "source": [
        "# Display the created tensors\n",
        "\n",
        "print(\"\\n Ones:\\n \", ones)\n",
        "print(\"\\n Zeros:\\n \", zeros)\n",
        "print(\"\\n Identity:\\n \", eye)\n",
        "print(\"\\n Tensor filled with 7: \", tensor7)"
      ],
      "execution_count": null,
      "outputs": [
        {
          "output_type": "stream",
          "name": "stdout",
          "text": [
            "\n",
            " Ones:\n",
            "  tf.Tensor(\n",
            "[[1. 1. 1.]\n",
            " [1. 1. 1.]], shape=(2, 3), dtype=float32)\n",
            "\n",
            " Zeros:\n",
            "  tf.Tensor(\n",
            "[[0. 0. 0. 0.]\n",
            " [0. 0. 0. 0.]], shape=(2, 4), dtype=float32)\n",
            "\n",
            " Identity:\n",
            "  tf.Tensor(\n",
            "[[1. 0. 0.]\n",
            " [0. 1. 0.]\n",
            " [0. 0. 1.]], shape=(3, 3), dtype=float32)\n",
            "\n",
            " Tensor filled with 7:  tf.Tensor(\n",
            "[[7. 7.]\n",
            " [7. 7.]], shape=(2, 2), dtype=float32)\n"
          ]
        }
      ]
    },
    {
      "cell_type": "code",
      "metadata": {
        "scrolled": false,
        "id": "HWrvSDxNKUTl"
      },
      "source": [
        "# Create a ones Tensor and a zeros Tensor\n",
        "\n",
        "t1 = tf.ones(shape=(2, 2))\n",
        "t2 = tf.zeros(shape=(2, 2))"
      ],
      "execution_count": null,
      "outputs": []
    },
    {
      "cell_type": "code",
      "metadata": {
        "scrolled": false,
        "id": "1j_bYOrhKUTq"
      },
      "source": [
        "# Concatentate two Tensors\n",
        "\n",
        "concat0 = tf.concat([t1,t2],0)\n",
        "concat1 = tf.concat([t1,t2],1)"
      ],
      "execution_count": null,
      "outputs": []
    },
    {
      "cell_type": "code",
      "metadata": {
        "id": "FtbFujr7KUTt",
        "colab": {
          "base_uri": "https://localhost:8080/"
        },
        "outputId": "c140352e-f52a-4d5e-aa35-556f9dee19b6"
      },
      "source": [
        "# Display the concatenated tensors\n",
        "\n",
        "print(concat0)\n",
        "print(concat1)"
      ],
      "execution_count": null,
      "outputs": [
        {
          "output_type": "stream",
          "name": "stdout",
          "text": [
            "tf.Tensor(\n",
            "[[1. 1.]\n",
            " [1. 1.]\n",
            " [0. 0.]\n",
            " [0. 0.]], shape=(4, 2), dtype=float32)\n",
            "tf.Tensor(\n",
            "[[1. 1. 0. 0.]\n",
            " [1. 1. 0. 0.]], shape=(2, 4), dtype=float32)\n"
          ]
        }
      ]
    },
    {
      "cell_type": "code",
      "metadata": {
        "scrolled": false,
        "id": "M-WVtu8DKUTw",
        "colab": {
          "base_uri": "https://localhost:8080/"
        },
        "outputId": "0fa020d1-cc2b-454b-9ca2-19bb9b710378"
      },
      "source": [
        "# Create a constant Tensor\n",
        "\n",
        "t = tf.constant(np.arange(24), shape=(3, 2, 4))\n",
        "print(\"\\n t shape: \", t.shape)"
      ],
      "execution_count": null,
      "outputs": [
        {
          "output_type": "stream",
          "name": "stdout",
          "text": [
            "\n",
            " t shape:  (3, 2, 4)\n"
          ]
        }
      ]
    },
    {
      "cell_type": "code",
      "metadata": {
        "scrolled": false,
        "id": "RrN4aMQWKUT2"
      },
      "source": [
        "# Expanding the rank of Tensors\n",
        "\n",
        "t1 = tf.expand_dims(t,0)\n",
        "t2 = tf.expand_dims(t,1)\n",
        "t3 = tf.expand_dims(t,3)"
      ],
      "execution_count": null,
      "outputs": []
    },
    {
      "cell_type": "code",
      "metadata": {
        "scrolled": false,
        "id": "kB-r55xiKUT5",
        "colab": {
          "base_uri": "https://localhost:8080/"
        },
        "outputId": "96ec67c9-8aba-4744-b126-86eebf77f250"
      },
      "source": [
        "# Display the shapes after tf.expand_dims\n",
        "\n",
        "print(\"\\n After expanding dims:\\n t1 shape: \", t1.shape, \"\\n t2 shape: \", t2.shape, \"\\n t3 shape: \", t3.shape)"
      ],
      "execution_count": null,
      "outputs": [
        {
          "output_type": "stream",
          "name": "stdout",
          "text": [
            "\n",
            " After expanding dims:\n",
            " t1 shape:  (1, 3, 2, 4) \n",
            " t2 shape:  (3, 1, 2, 4) \n",
            " t3 shape:  (3, 2, 4, 1)\n"
          ]
        }
      ]
    },
    {
      "cell_type": "code",
      "metadata": {
        "scrolled": false,
        "id": "q1zKORaAKUT9"
      },
      "source": [
        "# Squeezing redundant dimensions\n",
        "\n",
        "t1 = tf.squeeze(t1,0)\n",
        "t2 = tf.squeeze(t2,1)\n",
        "t3 = tf.squeeze(t3,3)"
      ],
      "execution_count": null,
      "outputs": []
    },
    {
      "cell_type": "code",
      "metadata": {
        "scrolled": false,
        "id": "94Uy3Y5GKUUB",
        "colab": {
          "base_uri": "https://localhost:8080/"
        },
        "outputId": "88e1c202-a562-4efb-a496-b3867de64860"
      },
      "source": [
        "# Display the shapes after tf.squeeze\n",
        "\n",
        "print(\"\\n After squeezing:\\n t1 shape: \", t1.shape, \"\\n t2 shape: \", t2.shape, \"\\n t3 shape: \", t3.shape)"
      ],
      "execution_count": null,
      "outputs": [
        {
          "output_type": "stream",
          "name": "stdout",
          "text": [
            "\n",
            " After squeezing:\n",
            " t1 shape:  (3, 2, 4) \n",
            " t2 shape:  (3, 2, 4) \n",
            " t3 shape:  (3, 2, 4)\n"
          ]
        }
      ]
    },
    {
      "cell_type": "code",
      "metadata": {
        "scrolled": false,
        "id": "bSnXwk3YKUUE",
        "colab": {
          "base_uri": "https://localhost:8080/"
        },
        "outputId": "26b96b59-6f1f-41d0-b2c0-f11a34fff54e"
      },
      "source": [
        "# Slicing a Tensor\n",
        "\n",
        "x= tf.constant([1,2,3,4,5,6,7])\n",
        "\n",
        "x[1:4]"
      ],
      "execution_count": null,
      "outputs": [
        {
          "output_type": "execute_result",
          "data": {
            "text/plain": [
              "<tf.Tensor: shape=(3,), dtype=int32, numpy=array([2, 3, 4], dtype=int32)>"
            ]
          },
          "metadata": {},
          "execution_count": 42
        }
      ]
    },
    {
      "cell_type": "markdown",
      "metadata": {
        "id": "lLnXno5vKUUH"
      },
      "source": [
        "#### Doing maths with Tensors"
      ]
    },
    {
      "cell_type": "code",
      "metadata": {
        "id": "8cvyLI90KUUH"
      },
      "source": [
        "# Create two constant Tensors\n",
        "\n",
        "c = tf.constant([[1.0, 2.0], [3.0, 4.0]])\n",
        "d = tf.constant([[1.0, 1.0], [0.0, 1.0]])"
      ],
      "execution_count": null,
      "outputs": []
    },
    {
      "cell_type": "code",
      "metadata": {
        "scrolled": false,
        "id": "zOr2CRcYKUUM"
      },
      "source": [
        "# Matrix multiplication\n",
        "\n",
        "matmul_cd = tf.matmul(c,d)"
      ],
      "execution_count": null,
      "outputs": []
    },
    {
      "cell_type": "code",
      "metadata": {
        "id": "MlBvG6UxKUUP",
        "colab": {
          "base_uri": "https://localhost:8080/"
        },
        "outputId": "5a204737-4e1c-4aae-bfb2-ffd5f56e6828"
      },
      "source": [
        "# Display the result\n",
        "\n",
        "print(\"\\n tf.matmul(c,d):\\n\", matmul_cd)"
      ],
      "execution_count": null,
      "outputs": [
        {
          "output_type": "stream",
          "name": "stdout",
          "text": [
            "\n",
            " tf.matmul(c,d):\n",
            " tf.Tensor(\n",
            "[[1. 3.]\n",
            " [3. 7.]], shape=(2, 2), dtype=float32)\n"
          ]
        }
      ]
    },
    {
      "cell_type": "code",
      "metadata": {
        "scrolled": false,
        "id": "lMJMXHoMKUUR"
      },
      "source": [
        "# Elementwise operations\n",
        "\n",
        "c_times_d = c*d\n",
        "c_plus_d = c+d\n",
        "c_minus_d = c-d\n",
        "c_div_c = c/c\n"
      ],
      "execution_count": null,
      "outputs": []
    },
    {
      "cell_type": "code",
      "metadata": {
        "id": "_eoHiulOKUUT",
        "colab": {
          "base_uri": "https://localhost:8080/"
        },
        "outputId": "8166c962-a77b-4e92-ac9a-a7efca6b697f"
      },
      "source": [
        "# Display the results\n",
        "\n",
        "print(\"\\n c*d:\\n\", c_times_d)\n",
        "print(\"\\n c+d:\\n\", c_plus_d)\n",
        "print(\"\\n c-d:\\n\", c_minus_d)\n",
        "print(\"\\n c/c:\\n\", c_div_c)"
      ],
      "execution_count": null,
      "outputs": [
        {
          "output_type": "stream",
          "name": "stdout",
          "text": [
            "\n",
            " c*d:\n",
            " tf.Tensor(\n",
            "[[1. 2.]\n",
            " [0. 4.]], shape=(2, 2), dtype=float32)\n",
            "\n",
            " c+d:\n",
            " tf.Tensor(\n",
            "[[2. 3.]\n",
            " [3. 5.]], shape=(2, 2), dtype=float32)\n",
            "\n",
            " c-d:\n",
            " tf.Tensor(\n",
            "[[0. 1.]\n",
            " [3. 3.]], shape=(2, 2), dtype=float32)\n",
            "\n",
            " c/c:\n",
            " tf.Tensor(\n",
            "[[1. 1.]\n",
            " [1. 1.]], shape=(2, 2), dtype=float32)\n"
          ]
        }
      ]
    },
    {
      "cell_type": "code",
      "metadata": {
        "scrolled": false,
        "id": "UTjk8RmQKUUV"
      },
      "source": [
        "# Create Tensors\n",
        "\n",
        "a = tf.constant([[2, 3], [3, 3]])\n",
        "b = tf.constant([[8, 7], [2, 3]])\n",
        "x = tf.constant([[-6.89 + 1.78j], [-2.54 + 2.15j]])"
      ],
      "execution_count": null,
      "outputs": []
    },
    {
      "cell_type": "code",
      "metadata": {
        "id": "5fKpXUAWKUUY"
      },
      "source": [
        "# Absolute value of a Tensor\n",
        "\n",
        "absx = tf.abs(x)"
      ],
      "execution_count": null,
      "outputs": []
    },
    {
      "cell_type": "code",
      "metadata": {
        "id": "8_slSXaBKUUa"
      },
      "source": [
        "# Power of a Tensor\n",
        "\n",
        "powab = tf.pow(a,b)\n",
        "powaa = tf.pow(a,a)"
      ],
      "execution_count": null,
      "outputs": []
    },
    {
      "cell_type": "code",
      "metadata": {
        "scrolled": false,
        "id": "-XlewNGEKUUc",
        "colab": {
          "base_uri": "https://localhost:8080/"
        },
        "outputId": "4ac2d7dc-9730-4bd4-d799-368a0d1bec8e"
      },
      "source": [
        "# Display the results\n",
        "\n",
        "print(\"\\n \", absx)\n",
        "print(\"\\n \", powab)\n",
        "print(\"\\n \", powaa)"
      ],
      "execution_count": null,
      "outputs": [
        {
          "output_type": "stream",
          "name": "stdout",
          "text": [
            "\n",
            "  tf.Tensor(\n",
            "[[7.11621388]\n",
            " [3.32777704]], shape=(2, 1), dtype=float64)\n",
            "\n",
            "  tf.Tensor(\n",
            "[[ 256 2187]\n",
            " [   9   27]], shape=(2, 2), dtype=int32)\n",
            "\n",
            "  tf.Tensor(\n",
            "[[ 4 27]\n",
            " [27 27]], shape=(2, 2), dtype=int32)\n"
          ]
        }
      ]
    },
    {
      "cell_type": "markdown",
      "metadata": {
        "id": "hT_nP5czKUUe"
      },
      "source": [
        "#### Randomly sampled constant tensors"
      ]
    },
    {
      "cell_type": "code",
      "metadata": {
        "scrolled": false,
        "id": "BCYaFEZpKUUe"
      },
      "source": [
        "# Create a Tensor with samples from a Normal distribution\n",
        "\n",
        "tn = tf.random.normal(shape=(2,2),mean=0,stddev=1.)"
      ],
      "execution_count": null,
      "outputs": []
    },
    {
      "cell_type": "code",
      "metadata": {
        "scrolled": false,
        "id": "TQuZhEUjKUUi"
      },
      "source": [
        "# Create a Tensor with samples from a Uniform distribution\n",
        "\n",
        "tu = tf.random.uniform(shape=(2,),minval=0,maxval=10,dtype=\"int32\")"
      ],
      "execution_count": null,
      "outputs": []
    },
    {
      "cell_type": "code",
      "metadata": {
        "scrolled": false,
        "id": "XJfvSj97KUUo"
      },
      "source": [
        "# Create a Tensor with samples from a Poisson distribution\n",
        "\n",
        "tp= tf.random.poisson((2,2),5)"
      ],
      "execution_count": null,
      "outputs": []
    },
    {
      "cell_type": "code",
      "metadata": {
        "scrolled": false,
        "id": "CdHl0f_AKUUq"
      },
      "source": [
        "# More maths operations\n",
        "\n",
        "d = tf.square(tn)\n",
        "e = tf.exp(d)\n",
        "f = tf.cos(c)"
      ],
      "execution_count": null,
      "outputs": []
    }
  ]
}